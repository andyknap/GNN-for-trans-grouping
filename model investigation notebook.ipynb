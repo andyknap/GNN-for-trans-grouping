{
 "cells": [
  {
   "cell_type": "code",
   "execution_count": 122,
   "metadata": {},
   "outputs": [],
   "source": [
    "%matplotlib inline\n",
    "\n",
    "import matplotlib\n",
    "import matplotlib.pyplot as plt\n",
    "\n",
    "import numpy as np\n",
    "import timeit\n",
    "import statistics\n",
    "import time"
   ]
  },
  {
   "cell_type": "code",
   "execution_count": 3,
   "metadata": {},
   "outputs": [],
   "source": [
    "from data_utils import synthetic_data"
   ]
  },
  {
   "cell_type": "code",
   "execution_count": 8,
   "metadata": {
    "collapsed": true
   },
   "outputs": [
    {
     "data": {
      "text/plain": [
       "([0,\n",
       "  14,\n",
       "  233,\n",
       "  240,\n",
       "  247,\n",
       "  254,\n",
       "  261,\n",
       "  268,\n",
       "  275,\n",
       "  282,\n",
       "  289,\n",
       "  296,\n",
       "  303,\n",
       "  310,\n",
       "  317,\n",
       "  324,\n",
       "  331,\n",
       "  338,\n",
       "  345,\n",
       "  352,\n",
       "  359,\n",
       "  366,\n",
       "  380,\n",
       "  387,\n",
       "  394,\n",
       "  401,\n",
       "  408,\n",
       "  415,\n",
       "  422,\n",
       "  429,\n",
       "  240,\n",
       "  247,\n",
       "  254,\n",
       "  261,\n",
       "  275,\n",
       "  282,\n",
       "  289,\n",
       "  296,\n",
       "  303,\n",
       "  310,\n",
       "  317,\n",
       "  324],\n",
       " [-326.7892855435035,\n",
       "  -261.2175253340799,\n",
       "  -643.9782811379109,\n",
       "  -643.9782811379109,\n",
       "  -643.6324006887982,\n",
       "  -643.9782811379109,\n",
       "  -643.9782811379109,\n",
       "  -643.9782811379109,\n",
       "  -643.9782811379109,\n",
       "  -643.9782811379109,\n",
       "  -643.9782811379109,\n",
       "  -643.9782811379109,\n",
       "  -643.9782811379109,\n",
       "  -643.9782811379109,\n",
       "  -643.9782811379109,\n",
       "  -643.9782811379109,\n",
       "  -643.9782811379109,\n",
       "  -643.9782811379109,\n",
       "  -643.9782811379109,\n",
       "  -643.9782811379109,\n",
       "  -643.9782811379109,\n",
       "  -643.9782811379109,\n",
       "  -643.9782811379109,\n",
       "  -643.9782811379109,\n",
       "  -515.1826249103287,\n",
       "  -515.1826249103287,\n",
       "  -515.1826249103287,\n",
       "  -515.1826249103287,\n",
       "  -515.1826249103287,\n",
       "  -515.1826249103287,\n",
       "  -538.9534286020474,\n",
       "  -538.3849731252053,\n",
       "  -538.1344846216101,\n",
       "  -541.4943252025512,\n",
       "  -428.71822976187616,\n",
       "  -428.65876958016764,\n",
       "  -429.25559916936135,\n",
       "  -430.7655020709922,\n",
       "  -427.4309235359803,\n",
       "  -432.308595059738,\n",
       "  -427.15213525223845,\n",
       "  -437.15213525223845],\n",
       " [0,\n",
       "  0,\n",
       "  1,\n",
       "  1,\n",
       "  1,\n",
       "  1,\n",
       "  1,\n",
       "  1,\n",
       "  1,\n",
       "  1,\n",
       "  1,\n",
       "  1,\n",
       "  1,\n",
       "  1,\n",
       "  1,\n",
       "  1,\n",
       "  1,\n",
       "  1,\n",
       "  1,\n",
       "  1,\n",
       "  1,\n",
       "  1,\n",
       "  1,\n",
       "  1,\n",
       "  1,\n",
       "  1,\n",
       "  1,\n",
       "  1,\n",
       "  1,\n",
       "  1,\n",
       "  2,\n",
       "  2,\n",
       "  2,\n",
       "  2,\n",
       "  2,\n",
       "  2,\n",
       "  2,\n",
       "  2,\n",
       "  2,\n",
       "  2,\n",
       "  2,\n",
       "  2])"
      ]
     },
     "execution_count": 8,
     "metadata": {},
     "output_type": "execute_result"
    }
   ],
   "source": [
    "synthetic_data.make_a_group()"
   ]
  },
  {
   "cell_type": "markdown",
   "metadata": {},
   "source": [
    "### Regular Groups"
   ]
  },
  {
   "cell_type": "code",
   "execution_count": 301,
   "metadata": {},
   "outputs": [
    {
     "name": "stdout",
     "output_type": "stream",
     "text": [
      "398 µs ± 3.28 µs per loop (mean ± std. dev. of 7 runs, 1000 loops each)\n"
     ]
    }
   ],
   "source": [
    "%timeit make_a_regular_group(period = 7, period_var = 0, num_periods = 10, amount_mean = 100, amount_spread = 50, amount_step_prop = 0.5, amount_outlier_prop = 10)"
   ]
  },
  {
   "cell_type": "code",
   "execution_count": 10,
   "metadata": {},
   "outputs": [],
   "source": [
    "def find_raw_amount_arr(num_periods, dist_version):\n",
    "    \n",
    "    if dist_version == 0:\n",
    "        std =  np.random.uniform(low=0.5, high=3.0, size=None)\n",
    "        raw_arr =  np.random.normal(0, std, num_periods)\n",
    "        if np.max(raw_arr) == np.min(raw_arr):\n",
    "            return raw_arr\n",
    "        else:\n",
    "            return (raw_arr - np.min(raw_arr)) / (np.max(raw_arr) - np.min(raw_arr))\n",
    "        \n",
    "    elif dist_version == 1:\n",
    "        raw_arr =   np.random.uniform(low=-1.0, high=1.0, size=num_periods)\n",
    "        if np.max(raw_arr) == np.min(raw_arr):\n",
    "            return raw_arr\n",
    "        else:\n",
    "            return (raw_arr - np.min(raw_arr)) / (np.max(raw_arr) - np.min(raw_arr))\n",
    "            \n",
    "    else:\n",
    "        return np.zeros(num_periods)\n",
    "    \n",
    "raw_amount_arr = find_raw_amount_arr(10, 1)"
   ]
  },
  {
   "cell_type": "code",
   "execution_count": 11,
   "metadata": {},
   "outputs": [
    {
     "data": {
      "text/plain": [
       "array([ -5.0882353 ,  -7.59623753,  -9.69491163,  -6.0502674 ,\n",
       "       -10.        ,  -9.92554404,  -5.        ,  -9.66132443,\n",
       "        -7.97337216,  -7.0081242 ])"
      ]
     },
     "execution_count": 11,
     "metadata": {},
     "output_type": "execute_result"
    }
   ],
   "source": [
    "def find_amount_arr(inp_raw_amount_arr, amount_mean, amount_spread):\n",
    "    return amount_spread*inp_raw_amount_arr + (amount_mean)\n",
    "\n",
    "find_amount_arr(raw_amount_arr, -10, 5)"
   ]
  },
  {
   "cell_type": "code",
   "execution_count": 12,
   "metadata": {},
   "outputs": [],
   "source": [
    "def find_steps_array(num_periods):\n",
    "\n",
    "    #choose the number of steps\n",
    "    num_steps=np.random.choice(3, 1, p=[0.0, 0.9, 0.1])[0]\n",
    "    if num_steps ==0:\n",
    "        return np.zeros(num_periods)\n",
    "    step_locs_arr = np.sort(np.random.choice(np.arange(1,num_periods), size=num_steps, replace=False, p=None))\n",
    "    step_arr = np.zeros((num_steps, num_periods))\n",
    "    for i in range(num_steps):\n",
    "        step_arr[i,np.arange(step_locs_arr[i], num_periods)] = 2*(np.random.random(1)-0.5)\n",
    "    step_arr = np.sum(step_arr, axis=0)\n",
    "    return  step_arr / max(np.max(step_arr), np.abs(np.min(step_arr)))"
   ]
  },
  {
   "cell_type": "code",
   "execution_count": 13,
   "metadata": {},
   "outputs": [],
   "source": [
    "def find_outlier_array(num_periods):\n",
    "    num_outliers=np.random.choice(3, 1, p=[0.0, 0.9, 0.1])[0]\n",
    "    if num_outliers ==0:\n",
    "        return np.zeros(num_periods)\n",
    "    outliers_locs_arr = np.sort(np.random.choice(np.arange(1,num_periods), size=num_outliers, replace=False, p=None))\n",
    "    outliers_arr = np.zeros(num_periods)\n",
    "    outliers_arr[outliers_locs_arr] = np.random.random(num_outliers)\n",
    "    return  outliers_arr / max(np.max(outliers_arr), np.abs(np.min(outliers_arr))), outliers_locs_arr"
   ]
  },
  {
   "cell_type": "code",
   "execution_count": 14,
   "metadata": {},
   "outputs": [],
   "source": [
    "#should we remove from consideration periods that have been selected as outliers etc\n",
    "def find_skip_period_idxs(num_periods):\n",
    "    num_skip_periods=np.random.choice(3, 1, p=[0.0, 0.9, 0.1])[0]\n",
    "    if num_skip_periods ==0:\n",
    "        return np.zeros(num_periods)\n",
    "    skip_periods_arr = np.zeros(num_periods)\n",
    "    skip_periods_idxs = np.random.choice(np.arange(1,num_periods), size=num_skip_periods, replace=False, p=None)\n",
    "    #skip_periods_arr[skip_periods_idxs] = 1\n",
    "    return skip_periods_idxs"
   ]
  },
  {
   "cell_type": "code",
   "execution_count": 15,
   "metadata": {},
   "outputs": [],
   "source": [
    "def make_a_regular_group(period\n",
    "                         , period_var\n",
    "                         , num_periods\n",
    "                         , amount_mean\n",
    "                         , amount_spread\n",
    "                         , amount_step_prop\n",
    "                         , amount_outlier_prop\n",
    "                         , split_payment_prob = 0\n",
    "                         , extra_payment_prob = 0\n",
    "                         , extra_payment_val = 0\n",
    "                         , initial_payment_prob = 0\n",
    "                         , initial_payment_val = 0\n",
    "                         , final_payment_prob = 0\n",
    "                         , final_payment_val = 0):\n",
    "    \n",
    "    #create the template sequence\n",
    "    raw_amount_arr = find_raw_amount_arr(num_periods, np.random.randint(3, size=1)) \n",
    "    amount_arr = find_amount_arr(raw_amount_arr, amount_mean, amount_spread)\n",
    "    days_arr = np.arange(0, period*num_periods, period)\n",
    "    \n",
    "    #step the amounts\n",
    "    steps_arr = find_steps_array(num_periods)*amount_step_prop*amount_mean\n",
    "    amount_arr = amount_arr+steps_arr\n",
    "    \n",
    "    #create some outliers\n",
    "    outlier_arr, outlier_loc_arr = find_outlier_array(num_periods)*np.random.uniform(1,amount_outlier_prop, size = 1)\n",
    "    amount_arr = amount_arr + outlier_arr\n",
    "    \n",
    "    #skip some periods\n",
    "    skip_periods_idxs = find_skip_period_idxs(num_periods)\n",
    "    amount_arr = np.delete(amount_arr,skip_periods_idxs)\n",
    "    days_arr = np.delete(days_arr,skip_periods_idxs)\n",
    "    num_periods = num_periods - len(skip_periods_idxs)\n",
    "    \n",
    "    #make sure everything is the same sign\n",
    "    #flip randomly to be negative\n",
    "    \n",
    "    return days_arr, amount_arr\n",
    "    \n"
   ]
  },
  {
   "cell_type": "code",
   "execution_count": 36,
   "metadata": {},
   "outputs": [
    {
     "data": {
      "text/plain": [
       "(array([ 0,  7, 21, 28, 35, 42, 49, 56, 63]),\n",
       " array([-100., -100., -100., -100., -100., -100., -100.,  -80.,  -80.]))"
      ]
     },
     "execution_count": 36,
     "metadata": {},
     "output_type": "execute_result"
    }
   ],
   "source": [
    "make_a_regular_group(period = 7\n",
    "                         , period_var = 1\n",
    "                         , num_periods = 10\n",
    "                         , amount_mean = -100\n",
    "                         , amount_spread = 10\n",
    "                         , amount_step_prop = 0.2\n",
    "                         , amount_outlier_prop = 0.2)"
   ]
  },
  {
   "cell_type": "markdown",
   "metadata": {},
   "source": [
    "### Irregular Groups"
   ]
  },
  {
   "cell_type": "code",
   "execution_count": 31,
   "metadata": {},
   "outputs": [],
   "source": [
    "def make_an_irregular_group(num_trans,\n",
    "                           mean_amt,\n",
    "                           mean_days,\n",
    "                           amt_spread,\n",
    "                           days_spread,\n",
    "                           amt_dist_type = '',\n",
    "                           days_dist_type = ''):\n",
    "    #sample just from normal to start\n",
    "    raw_amt_arr = np.random.normal(loc=mean_amt,scale=amt_spread, size=num_trans)\n",
    "    raw_days_arr = np.random.normal(loc=mean_days,scale=days_spread, size=num_trans)\n",
    "    \n",
    "    #remove ones we don't want\n",
    "    select_mask = np.logical_and(np.sign(raw_amt_arr) == np.sign(mean_amt), raw_days_arr >=0)\n",
    "    \n",
    "    amount_arr = raw_amt_arr[select_mask]\n",
    "    days_arr = raw_days_arr[select_mask].astype(int)\n",
    "    \n",
    "    \n",
    "    return days_arr, amount_arr\n",
    "    \n",
    "    "
   ]
  },
  {
   "cell_type": "code",
   "execution_count": 35,
   "metadata": {
    "collapsed": true
   },
   "outputs": [
    {
     "data": {
      "text/plain": [
       "(array([16, 46, 25, 65,  7, 23, 22]),\n",
       " array([-184.25209685, -127.91338193, -105.7548114 , -254.45490229,\n",
       "         -90.78487884,  -96.48374586, -139.22199217]))"
      ]
     },
     "execution_count": 35,
     "metadata": {},
     "output_type": "execute_result"
    }
   ],
   "source": [
    "make_an_irregular_group(num_trans = 10,\n",
    "                           mean_amt = -100,\n",
    "                           mean_days = 22,\n",
    "                           amt_spread = 100,\n",
    "                           days_spread = 20)"
   ]
  },
  {
   "cell_type": "markdown",
   "metadata": {},
   "source": [
    "### Create groups"
   ]
  },
  {
   "cell_type": "code",
   "execution_count": 143,
   "metadata": {},
   "outputs": [],
   "source": [
    "def make_a_group():\n",
    "    #select number of regualr groups\n",
    "    num_reg_groups = np.random.randint(4,size=1)[0]\n",
    "    #print(num_reg_groups)\n",
    "    #select range of reg group sizes\n",
    "    reg_group_sizes = np.random.randint(3,30, size=num_reg_groups)\n",
    "    #select amount mean of reg group sizes\n",
    "    reg_group_amt_means = np.random.uniform(-1000,-100, size=num_reg_groups)\n",
    "    #select reg group offsets\n",
    "    reg_group_offsets = np.random.randint(0,300, size=num_reg_groups)\n",
    "    \n",
    "    \n",
    "    day_list = []\n",
    "    amt_list = []\n",
    "    group_id_list = []\n",
    "    \n",
    "    for g in range(num_reg_groups):\n",
    "        #print(g)\n",
    "        \n",
    "        d_arr, a_arr = make_a_regular_group(period = 7\n",
    "                             , period_var = 1\n",
    "                             , num_periods = reg_group_sizes[g]\n",
    "                             , amount_mean = reg_group_amt_means[g]\n",
    "                             , amount_spread = 10\n",
    "                             , amount_step_prop = 0.2\n",
    "                             , amount_outlier_prop = 0.2)\n",
    "        \n",
    "        if g == 0:\n",
    "            reg_group_offset = 0\n",
    "        else:\n",
    "            reg_group_offset = reg_group_offsets[g]\n",
    "        \n",
    "        day_list = day_list + list(d_arr+reg_group_offset)\n",
    "        amt_list = amt_list + list(a_arr)\n",
    "        group_id_list = group_id_list + [g]*len(d_arr)\n",
    "        \n",
    "        \n",
    "    #add some irregs\n",
    "    \n",
    "    if len(day_list) == 0 or np.random.uniform(0,1) <= 0.5:\n",
    "    \n",
    "        irreg_group_sizes = np.random.randint(3,30)\n",
    "        irreg_group_amt_mean = np.random.uniform(-1000,-100)\n",
    "        if len(day_list) == 0:\n",
    "            irreg_group_days_mean = np.random.randint(0,300)\n",
    "            irreg_group_id = 0\n",
    "        else:\n",
    "            irreg_group_days_mean = statistics.mean(day_list)\n",
    "            irreg_group_id = max(group_id_list)+1\n",
    "\n",
    "\n",
    "        d_arr, a_arr = make_an_irregular_group(num_trans = irreg_group_sizes,\n",
    "                               mean_amt = irreg_group_amt_mean,\n",
    "                               mean_days = irreg_group_days_mean,\n",
    "                               amt_spread = 100,\n",
    "                               days_spread = 25,\n",
    "                               amt_dist_type = '',\n",
    "                               days_dist_type = '')\n",
    "        \n",
    "        day_list = day_list + list(d_arr)\n",
    "        amt_list = amt_list + list(a_arr)\n",
    "        group_id_list = group_id_list + [irreg_group_id]*len(d_arr)\n",
    "    \n",
    "    \n",
    "    return day_list, amt_list, group_id_list\n",
    "    "
   ]
  },
  {
   "cell_type": "code",
   "execution_count": 161,
   "metadata": {
    "scrolled": false
   },
   "outputs": [
    {
     "data": {
      "image/png": "[encoded data removed]",
      "text/plain": [
       "<Figure size 720x576 with 1 Axes>"
      ]
     },
     "metadata": {
      "needs_background": "light"
     },
     "output_type": "display_data"
    },
    {
     "data": {
      "image/png": "[encoded data removed]",
      "text/plain": [
       "<Figure size 720x576 with 1 Axes>"
      ]
     },
     "metadata": {
      "needs_background": "light"
     },
     "output_type": "display_data"
    }
   ],
   "source": [
    "colour_list = ['tab:blue', 'tab:orange', 'tab:green', 'tab:red', 'tab:purple', 'tab:brown', 'tab:pink', 'tab:gray', 'tab:olive', 'tab:cyan']\n",
    "\n",
    "for i in range(2):\n",
    "    d_lst, a_lst, g_lst = make_a_group()\n",
    "    \n",
    "    d_arr = np.array(d_lst)\n",
    "    a_arr = np.array(a_lst)\n",
    "    g_arr = np.array(g_lst)    \n",
    "    \n",
    "    fig, (ax1) = plt.subplots(nrows=1, ncols=1, figsize=(10,8), sharex=True)\n",
    "    for g in g_lst:\n",
    "        mask = (g_arr == g)\n",
    "        \n",
    "        ax1.scatter(d_arr[mask], a_arr[mask], s=10, c=colour_list[g%10], marker='x')\n",
    "        ax1.set_title(str(i))\n",
    "        #ax1.legend(loc=\"upper right\")\n",
    "    \n",
    "    for ax1 in fig.axes:\n",
    "        matplotlib.pyplot.sca(ax1)\n",
    "        plt.xticks(rotation=90)\n",
    "        #plt.legend(bbox_to_anchor=(1.02, 1), loc=2, borderaxespad=0.)\n",
    "    \n",
    "    plt.show\n"
   ]
  },
  {
   "cell_type": "code",
   "execution_count": null,
   "metadata": {},
   "outputs": [],
   "source": [
    "\n",
    "\n",
    "\n",
    "colour_list = ['tab:blue', 'tab:orange', 'tab:green', 'tab:red', 'tab:purple', 'tab:brown', 'tab:pink', 'tab:gray', 'tab:olive', 'tab:cyan']\n",
    "\n",
    "\n",
    "for mg in list(set(labels_data_df['num of new_groups'].values)):\n",
    "    for lg in list(set(labels_data_df['num of old_groups'].values)):\n",
    "        \n",
    "        if (mg == 1 and lg == 1):\n",
    "            continue\n",
    "            \n",
    "\n",
    "        if dict_out[(mg,lg)] == []:\n",
    "            continue\n",
    "            \n",
    "        else:\n",
    "            folder_path = r'C:\\Users\\andy.knapper\\Documents\\OW\\Categorisation\\Grouping logic\\Pause Process examples\\New combination logic\\Old_group_size_'+str(lg)+'__New_group_size_'+str(mg)\n",
    "            if not os.path.exists(folder_path):\n",
    "                os.makedirs(folder_path)\n",
    "            \n",
    "            for a_g in dict_out[(mg,lg)]:\n",
    "                a = a_g[0]\n",
    "                gs = a_g[1]\n",
    "                for g in gs:\n",
    "                \n",
    "                    this_merch_desc_group_df = labels_data_df.loc[(labels_data_df['AccountId']==a) & (labels_data_df['comb_merch_desc_group']==g)]\n",
    "                    \n",
    "                    !!!!!!!!!!!!!!!!!!\n",
    "                    #if the number of old groups, new groups and combinations are all the same then continue\n",
    "                    \n",
    "                    num_of_new_groups = np.max(this_merch_desc_group_df['num of new_groups'].values)\n",
    "                    num_of_old_groups = np.max(this_merch_desc_group_df['num of old_groups'].values)\n",
    "                    num_of_old_new_combs = np.max(this_merch_desc_group_df['num of old new combs'].values)\n",
    "                    \n",
    "                    if num_of_new_groups == num_of_old_groups and num_of_old_groups == num_of_old_new_combs:\n",
    "                        continue\n",
    "                    \n",
    "                    num_comb_merch_desc_group = len(list(this_merch_desc_group_df.comb_merch_desc_group.values))\n",
    "                    old_groups_size = np.max(this_merch_desc_group_df.old_groups_size.values)\n",
    "                    new_groups_size = np.max(this_merch_desc_group_df.new_groups_size.values)   \n",
    "                    \n",
    "                    if num_comb_merch_desc_group >= 4 :\n",
    "                    \n",
    "                        amt_arr = this_merch_desc_group_df.Amount.values\n",
    "                        date_arr = this_merch_desc_group_df.TransactionDate.values\n",
    "\n",
    "                        model_groups_arr = this_merch_desc_group_df['new_groups'].values\n",
    "                        labels_groups_arr = this_merch_desc_group_df['old_groups'].values\n",
    "\n",
    "                        group_diff_metric = round(np.max(this_merch_desc_group_df['group_diff_metric'].values),2)\n",
    "                        account_label = np.max(this_merch_desc_group_df['account_label'].values)\n",
    "\n",
    "                        #create the chart                \n",
    "                        fig, (ax1, ax2) = plt.subplots(nrows=2, ncols=1, figsize=(10,8), sharex=True)\n",
    "\n",
    "                        for i in np.unique(model_groups_arr):\n",
    "                            #print('i: ', i)\n",
    "\n",
    "                            mask = model_groups_arr == i\n",
    "                            if i == -1:\n",
    "                                marker = 'x'\n",
    "                                s = 20\n",
    "                            else:\n",
    "                                marker = 's'\n",
    "                                s = 10\n",
    "                            #print('ex_num_date_arr[mask]:', ex_num_date_arr[mask])\n",
    "                            #print('ex_num_amt_arr[mask]:', ex_num_amt_arr[mask])\n",
    "\n",
    "                            ax1.scatter(date_arr[mask], amt_arr[mask], s=s, c=colour_list[i%10], marker=marker, label=i)\n",
    "                            ax1.set_title('Model_groups_' + str(account_label) + '_'+str(g))\n",
    "\n",
    "                            ax1.legend(loc=\"upper right\")\n",
    "\n",
    "                        for ax1 in fig.axes:\n",
    "                            matplotlib.pyplot.sca(ax1)\n",
    "                            plt.xticks(rotation=90)\n",
    "                            plt.legend(bbox_to_anchor=(1.02, 1), loc=2, borderaxespad=0.)\n",
    "\n",
    "                        for i in np.unique(labels_groups_arr):\n",
    "                            #print('i: ', i)\n",
    "\n",
    "                            mask = labels_groups_arr == i\n",
    "                            if i == -1:\n",
    "                                marker = 'x'\n",
    "                                s = 20\n",
    "                            else:\n",
    "                                marker = 's'\n",
    "                                s = 10\n",
    "                            #print('ex_num_date_arr[mask]:', ex_num_date_arr[mask])\n",
    "                            #print('ex_num_amt_arr[mask]:', ex_num_amt_arr[mask])\n",
    "\n",
    "                            ax2.scatter(date_arr[mask], amt_arr[mask], s=s, c=colour_list[i%10], marker=marker, label=i)\n",
    "                            ax2.set_title('label_groups_' + str(account_label) + '_'+str(g))\n",
    "\n",
    "                            ax2.legend(loc=\"upper right\")\n",
    "\n",
    "                        for ax2 in fig.axes:\n",
    "                            matplotlib.pyplot.sca(ax2)\n",
    "                            plt.xticks(rotation=90)\n",
    "                            plt.legend(bbox_to_anchor=(1.02, 1), loc=2, borderaxespad=0.)\n",
    "\n",
    "\n",
    "                        plt.plot\n",
    "                        plt.savefig(folder_path +'\\\\'+str(group_diff_metric) + '_' + str(account_label) + '_'+str(g)+'.png', bbox_inches='tight')        \n",
    "                        plt.close(fig)\n",
    "\n",
    "                        #place into the folder lg_mg\n",
    "\n",
    "\n",
    "                        #name the file group_diff_metric_a_g\n"
   ]
  },
  {
   "cell_type": "markdown",
   "metadata": {},
   "source": [
    "### Set up the model"
   ]
  },
  {
   "cell_type": "code",
   "execution_count": 1,
   "metadata": {},
   "outputs": [],
   "source": [
    "import torch"
   ]
  },
  {
   "cell_type": "code",
   "execution_count": 2,
   "metadata": {},
   "outputs": [
    {
     "data": {
      "text/plain": [
       "'1.3.0'"
      ]
     },
     "execution_count": 2,
     "metadata": {},
     "output_type": "execute_result"
    }
   ],
   "source": [
    "torch.__version__"
   ]
  },
  {
   "cell_type": "code",
   "execution_count": 3,
   "metadata": {},
   "outputs": [],
   "source": [
    "import torch_geometric"
   ]
  },
  {
   "cell_type": "code",
   "execution_count": 4,
   "metadata": {},
   "outputs": [],
   "source": [
    "import torch_scatter"
   ]
  },
  {
   "cell_type": "code",
   "execution_count": 5,
   "metadata": {},
   "outputs": [],
   "source": [
    "import torch\n",
    "from torch.nn import Sequential as Seq, Linear as Lin, ReLU\n",
    "from torch_geometric.nn import MessagePassing\n",
    "\n",
    "class EdgeConv(MessagePassing):\n",
    "    def __init__(self, F_in, F_out):\n",
    "        super(EdgeConv, self).__init__(aggr='max')  # \"Max\" aggregation.\n",
    "        self.mlp = Seq(Lin(2 * F_in, F_out), ReLU(), Lin(F_out, F_out))\n",
    "\n",
    "    def forward(self, x, edge_index):\n",
    "        # x has shape [N, F_in]\n",
    "        # edge_index has shape [2, E]\n",
    "        return self.propagate(edge_index, x=x)  # shape [N, F_out]\n",
    "\n",
    "    def message(self, x_i, x_j):\n",
    "        # x_i has shape [E, F_in]\n",
    "        # x_j has shape [E, F_in]\n",
    "        edge_features = torch.cat([x_i, x_j - x_i], dim=1)  # shape [E, 2 * F_in]\n",
    "        return self.mlp(edge_features)  # shape [E, F_out]"
   ]
  },
  {
   "cell_type": "code",
   "execution_count": null,
   "metadata": {},
   "outputs": [],
   "source": []
  }
 ],
 "metadata": {
  "kernelspec": {
   "display_name": "Python 3",
   "language": "python",
   "name": "python3"
  },
  "language_info": {
   "codemirror_mode": {
    "name": "ipython",
    "version": 3
   },
   "file_extension": ".py",
   "mimetype": "text/x-python",
   "name": "python",
   "nbconvert_exporter": "python",
   "pygments_lexer": "ipython3",
   "version": "3.7.4"
  }
 },
 "nbformat": 4,
 "nbformat_minor": 2
}
