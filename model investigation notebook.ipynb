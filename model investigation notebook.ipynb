{
 "cells": [
  {
   "cell_type": "code",
   "execution_count": 1,
   "metadata": {},
   "outputs": [],
   "source": [
    "%matplotlib inline\n",
    "\n",
    "import matplotlib\n",
    "import matplotlib.pyplot as plt\n",
    "\n",
    "import numpy as np\n",
    "import timeit\n",
    "import statistics\n",
    "import time\n",
    "import torch\n",
    "import torch_geometric\n",
    "import importlib\n",
    "\n",
    "from data_utils import synthetic_data\n",
    "from data_utils import graph_constructors\n",
    "\n",
    "import networkx as nx\n",
    "\n",
    "import importlib"
   ]
  },
  {
   "cell_type": "code",
   "execution_count": 2,
   "metadata": {},
   "outputs": [
    {
     "data": {
      "text/plain": [
       "<module 'data_utils.graph_constructors' from '/home/a/Documents/GNN-for-trans-grouping/GNN-for-trans-grouping/data_utils/graph_constructors.py'>"
      ]
     },
     "execution_count": 2,
     "metadata": {},
     "output_type": "execute_result"
    }
   ],
   "source": [
    "importlib.reload(synthetic_data)\n",
    "importlib.reload(graph_constructors)"
   ]
  },
  {
   "cell_type": "code",
   "execution_count": 3,
   "metadata": {},
   "outputs": [
    {
     "name": "stdout",
     "output_type": "stream",
     "text": [
      "727 µs ± 13.9 µs per loop (mean ± std. dev. of 7 runs, 1000 loops each)\n"
     ]
    }
   ],
   "source": [
    "%timeit synthetic_data.make_a_group()"
   ]
  },
  {
   "cell_type": "code",
   "execution_count": 4,
   "metadata": {
    "scrolled": false
   },
   "outputs": [
    {
     "data": {
      "image/png": "[encoded data removed]",
      "text/plain": [
       "<Figure size 720x576 with 1 Axes>"
      ]
     },
     "metadata": {
      "needs_background": "light"
     },
     "output_type": "display_data"
    },
    {
     "data": {
      "image/png": "[encoded data removed]",
      "text/plain": [
       "<Figure size 720x576 with 1 Axes>"
      ]
     },
     "metadata": {
      "needs_background": "light"
     },
     "output_type": "display_data"
    }
   ],
   "source": [
    "colour_list = ['tab:blue', 'tab:orange', 'tab:green', 'tab:red', 'tab:purple', 'tab:brown', 'tab:pink', 'tab:gray', 'tab:olive', 'tab:cyan']\n",
    "\n",
    "for i in range(2):\n",
    "    d_lst, a_lst, g_lst = synthetic_data.make_a_group()\n",
    "    \n",
    "    d_arr = np.array(d_lst)\n",
    "    a_arr = np.array(a_lst)\n",
    "    g_arr = np.array(g_lst)    \n",
    "    \n",
    "    fig, (ax1) = plt.subplots(nrows=1, ncols=1, figsize=(10,8), sharex=True)\n",
    "    for g in g_lst:\n",
    "        mask = (g_arr == g)\n",
    "        \n",
    "        ax1.scatter(d_arr[mask], a_arr[mask], s=10, c=colour_list[g%10], marker='x')\n",
    "        ax1.set_title(str(i))\n",
    "        #ax1.legend(loc=\"upper right\")\n",
    "    \n",
    "    for ax1 in fig.axes:\n",
    "        matplotlib.pyplot.sca(ax1)\n",
    "        plt.xticks(rotation=90)\n",
    "        #plt.legend(bbox_to_anchor=(1.02, 1), loc=2, borderaxespad=0.)\n",
    "    \n",
    "    plt.show"
   ]
  },
  {
   "cell_type": "code",
   "execution_count": 5,
   "metadata": {},
   "outputs": [],
   "source": [
    "d_lst, a_lst, g_lst = synthetic_data.make_a_group()"
   ]
  },
  {
   "cell_type": "code",
   "execution_count": 6,
   "metadata": {},
   "outputs": [],
   "source": [
    "d_arr = np.array(d_lst)\n",
    "a_arr = np.array(a_lst)\n",
    "g_arr = np.array(g_lst)"
   ]
  },
  {
   "cell_type": "code",
   "execution_count": 7,
   "metadata": {},
   "outputs": [],
   "source": [
    "norm_a_arr = graph_constructors.normalise_amounts(a_arr)"
   ]
  },
  {
   "cell_type": "code",
   "execution_count": 147,
   "metadata": {
    "code_folding": [
     0
    ]
   },
   "outputs": [],
   "source": [
    "edge_lst, edge_features_lst, edge_labels_lst = graph_constructors.find_nearest_in_interval(inp_day_arr = d_arr\n",
    "                         , inp_norm_amt_arr = norm_a_arr\n",
    "                         , inp_group_arr = g_arr\n",
    "                         , cur_edge_lst =[]\n",
    "                         , cur_edge_features_lst = []\n",
    "                         , cur_edge_labels_lst = []\n",
    "                         , interval = np.array([5,9]))"
   ]
  },
  {
   "cell_type": "code",
   "execution_count": 148,
   "metadata": {
    "code_folding": [
     0
    ],
    "collapsed": true
   },
   "outputs": [
    {
     "data": {
      "text/plain": [
       "[[0, 1],\n",
       " [1, 0],\n",
       " [1, 2],\n",
       " [2, 1],\n",
       " [2, 3],\n",
       " [3, 2],\n",
       " [3, 4],\n",
       " [4, 3],\n",
       " [4, 5],\n",
       " [5, 4],\n",
       " [5, 7],\n",
       " [7, 5],\n",
       " [7, 6],\n",
       " [6, 7]]"
      ]
     },
     "execution_count": 148,
     "metadata": {},
     "output_type": "execute_result"
    }
   ],
   "source": [
    "edge_lst, edge_features_lst, edge_labels_lst = graph_constructors.find_nearest_amount(inp_day_arr = d_arr\n",
    "                         , inp_norm_amt_arr = norm_a_arr\n",
    "                         , inp_group_arr = g_arr\n",
    "                         , cur_edge_lst =[]\n",
    "                         , cur_edge_features_lst = []\n",
    "                         , cur_edge_labels_lst = [])\n",
    "\n",
    "edge_lst"
   ]
  },
  {
   "cell_type": "code",
   "execution_count": null,
   "metadata": {
    "code_folding": [
     0
    ]
   },
   "outputs": [],
   "source": [
    "edge_lst, edge_features_lst, edge_labels_lst = graph_constructors.find_nearest_day(inp_day_arr = d_arr\n",
    "                         , inp_norm_amt_arr = norm_a_arr\n",
    "                         , inp_group_arr = g_arr\n",
    "                         , cur_edge_lst =[]\n",
    "                         , cur_edge_features_lst = []\n",
    "                         , cur_edge_labels_lst = [])"
   ]
  },
  {
   "cell_type": "code",
   "execution_count": 8,
   "metadata": {},
   "outputs": [],
   "source": [
    "data = graph_constructors.make_pyg_graph(d_arr, a_arr, g_arr)"
   ]
  },
  {
   "cell_type": "code",
   "execution_count": 9,
   "metadata": {},
   "outputs": [],
   "source": [
    "node_ids = [x for x in range(len(d_arr))]\n",
    "positions_list = [(x[0], x[1]) for x in data['pos'].tolist()]\n",
    "pos_dict = dict(zip(node_ids, positions_list))"
   ]
  },
  {
   "cell_type": "code",
   "execution_count": 10,
   "metadata": {},
   "outputs": [],
   "source": [
    "g = torch_geometric.utils.to_networkx(data, node_attrs=None, edge_attrs=None)"
   ]
  },
  {
   "cell_type": "code",
   "execution_count": 11,
   "metadata": {
    "scrolled": false
   },
   "outputs": [
    {
     "name": "stderr",
     "output_type": "stream",
     "text": [
      "/home/a/anaconda3/lib/python3.7/site-packages/networkx/drawing/nx_pylab.py:579: MatplotlibDeprecationWarning: \n",
      "The iterable function was deprecated in Matplotlib 3.1 and will be removed in 3.3. Use np.iterable instead.\n",
      "  if not cb.iterable(width):\n",
      "/home/a/anaconda3/lib/python3.7/site-packages/networkx/drawing/nx_pylab.py:676: MatplotlibDeprecationWarning: \n",
      "The iterable function was deprecated in Matplotlib 3.1 and will be removed in 3.3. Use np.iterable instead.\n",
      "  if cb.iterable(node_size):  # many node sizes\n"
     ]
    },
    {
     "data": {
      "image/png": "[encoded data removed]",
      "text/plain": [
       "<Figure size 1080x1080 with 1 Axes>"
      ]
     },
     "metadata": {},
     "output_type": "display_data"
    }
   ],
   "source": [
    "fig, ax = plt.subplots(1, 1, figsize=(15, 15))\n",
    "nx.draw_networkx(g, ax=ax, node_size=5,\n",
    "                 font_size=6, alpha=.5,\n",
    "                 width=.5, pos = pos_dict)\n",
    "ax.set_axis_off()"
   ]
  },
  {
   "cell_type": "markdown",
   "metadata": {},
   "source": [
    "### Set up the model"
   ]
  },
  {
   "cell_type": "markdown",
   "metadata": {},
   "source": [
    "First construct the dataloader"
   ]
  },
  {
   "cell_type": "code",
   "execution_count": null,
   "metadata": {},
   "outputs": [],
   "source": [
    "#initial model structure\n",
    "\n",
    "#1.embedding on the edge_attr to a lower dim space using a MLP\n",
    "#2.edge to node convolution - might need to hand code class\n",
    "#3.node to edge convolution - probably already exists in PyG\n",
    "#4.repeat above (same convolutions or new ones?)\n",
    "#5.MLP on new edge_attrs\n",
    "#6.softmax on MLP output"
   ]
  },
  {
   "cell_type": "code",
   "execution_count": 12,
   "metadata": {},
   "outputs": [],
   "source": [
    "import torch\n",
    "import torch.nn.functional as F\n",
    "from torch_geometric.nn import GCNConv\n",
    "from torch_geometric.nn import ECConv\n",
    "\n",
    "from torch.nn import Sequential as Seq, Linear as Lin, ReLU\n",
    "from torch_scatter import scatter_mean\n",
    "from torch_geometric.nn import MetaLayer\n",
    "from torch_geometric.data import Data, DataLoader\n",
    "import torch.nn as nn"
   ]
  },
  {
   "cell_type": "code",
   "execution_count": 157,
   "metadata": {},
   "outputs": [
    {
     "data": {
      "text/plain": [
       "<module 'data_utils.graph_constructors' from 'C:\\\\Users\\\\andy.knapper\\\\Documents\\\\OW\\\\Categorisation\\\\ML grouping\\\\GNN-for-trans-grouping\\\\data_utils\\\\graph_constructors.py'>"
      ]
     },
     "execution_count": 157,
     "metadata": {},
     "output_type": "execute_result"
    }
   ],
   "source": [
    "importlib.reload(synthetic_data)\n",
    "importlib.reload(graph_constructors)"
   ]
  },
  {
   "cell_type": "markdown",
   "metadata": {},
   "source": [
    "#### Below is model that I want to implement"
   ]
  },
  {
   "cell_type": "markdown",
   "metadata": {},
   "source": [
    "https://github.com/rusty1s/pytorch_geometric/issues/535"
   ]
  },
  {
   "cell_type": "markdown",
   "metadata": {},
   "source": [
    "Things I can vary:\n",
    "\n",
    "1. Graph construction / pruning  (e.g. bi-directional or not)\n",
    "2. Embedding network and dimensions\n",
    "3. convolution direction to start with (node->edge or edge->node)\n",
    "4. node convolution structure (retain initial features in attr tensor)\n",
    "5. edge convolution structure (retain initial features in attr tensor)\n",
    "6. classification network - how to combine the edge attrs if the graph is bidirectional\n",
    "7. loss criteria - unbalanaced classes, should this be weighted for certain types of mis-classification\n",
    "8. training tricks: batch normalisation, dropout, initialisation"
   ]
  },
  {
   "cell_type": "markdown",
   "metadata": {},
   "source": [
    "Ideas:\n",
    "\n",
    "* simplify the combination of groups in each example\n",
    "* recode graph generation to only have edges in one direction (make the amount edge property an abs value)\n",
    "* prune the edges from the graphs to make them more sparse\n",
    "* recode the node attr update conv to use only the single directional edge but treat src and dest symmetrically (model code on current edge attr update conv)\n",
    "* make sure the MLP are deep enough and add batch norm and drop out\n",
    "* include multiple iterations of update using differnt convolutions at each stage\n"
   ]
  },
  {
   "cell_type": "code",
   "execution_count": null,
   "metadata": {},
   "outputs": [],
   "source": []
  },
  {
   "cell_type": "code",
   "execution_count": 13,
   "metadata": {
    "code_folding": [
     4
    ]
   },
   "outputs": [],
   "source": [
    "##############################################################################\n",
    "#first create the class to perform the node->edge convolutions\n",
    "#this will be called later in the overall model\n",
    "\n",
    "class MyLayer(torch.nn.Module):\n",
    "    def __init__(self, number_of_node_features, number_of_edge_features):\n",
    "        super(MyLayer, self).__init__()\n",
    "\n",
    "        edge_mlp_channels_in = 2 * number_of_node_features + 10\n",
    "        #only one layer deep at present\n",
    "        self.edge_mlp = Seq(Lin(edge_mlp_channels_in, 10), ReLU())\n",
    "\n",
    "        \n",
    "        def edge_model(src, dest, edge_attr, u, batch):\n",
    "            edge_neighborhoods = torch.cat([src, dest, edge_attr], 1)\n",
    "            return self.edge_mlp(edge_neighborhoods)\n",
    "\n",
    "        self.op = MetaLayer(edge_model)\n",
    "\n",
    "    def forward(self, x, edge_index, edge_attr, u, batch):\n",
    "        return self.op(x, edge_index, edge_attr, u, batch)"
   ]
  },
  {
   "cell_type": "code",
   "execution_count": 14,
   "metadata": {
    "code_folding": [
     0
    ]
   },
   "outputs": [],
   "source": [
    "class Net(torch.nn.Module):\n",
    "    def __init__(self, number_of_node_features, number_of_edge_features):\n",
    "        super(Net, self).__init__()\n",
    "\n",
    "        self.number_of_node_features = number_of_node_features\n",
    "        self.number_of_edge_features = number_of_edge_features\n",
    "        \n",
    "        #initialise edge embedding MLP\n",
    "        self.edge_embed_lin1 = Lin(self.number_of_edge_features, 20)\n",
    "        self.edge_embed_lin2 = Lin(20, 10)\n",
    "        self.edge_embed_act1 = ReLU()\n",
    "        self.edge_embed_act2 = ReLU()\n",
    "        \n",
    "        #self.edge_embed_mlp = Seq(self.edge_embed_lin1, nn.BatchNorm1d(20), self.edge_embed_act1, self.edge_embed_lin2, nn.BatchNorm1d(10), self.edge_embed_act2)\n",
    "        self.edge_embed_mlp = Seq(self.edge_embed_lin1, self.edge_embed_act1, self.edge_embed_lin2,  self.edge_embed_act2)\n",
    "        \n",
    "        #initialise edge conditioned convolution to update node attributes by propagating surrounding node attributes via edge attributes\n",
    "#         self.node_update_conv_nn = Seq(Lin(10, 5),\n",
    "#                                        nn.BatchNorm1d(5),\n",
    "#                                                  ReLU(), \n",
    "#                                                  Lin(5, self.number_of_node_features*self.number_of_node_features),\n",
    "#                                                  nn.BatchNorm1d(self.number_of_node_features*self.number_of_node_features),\n",
    "#                                                  ReLU())\n",
    "\n",
    "        self.node_update_conv_nn = Seq(Lin(10, 5),\n",
    "                                                 ReLU(), \n",
    "                                                 Lin(5, self.number_of_node_features*self.number_of_node_features),\n",
    "                                                 ReLU())\n",
    "        \n",
    "        \n",
    "        self.node_update_conv = ECConv(in_channels = self.number_of_node_features,\n",
    "                                       out_channels=self.number_of_node_features, \n",
    "                                       nn = self.node_update_conv_nn, \n",
    "                                       aggr='add', \n",
    "                                       root_weight=True, \n",
    "                                       bias=True)\n",
    "        \n",
    "        #initialise the edge_attr updates from the node attrs\n",
    "        #self.meta_layer = MyLayer(number_of_node_features, number_of_edge_features)\n",
    "        self.meta_layer = MyLayer(number_of_node_features, 10)\n",
    "        \n",
    "        \n",
    "        \n",
    "        \n",
    "        #we are trying to use the same classifier on both edge direction to get the same answer\n",
    "        #this won't work!\n",
    "        \n",
    "        \n",
    "        #initialise edge classifier MLP\n",
    "        self.edge_class_lin1 = Lin(10, 5)\n",
    "        self.edge_class_lin2 = Lin(5, 2)\n",
    "        self.edge_class_act1 = ReLU()\n",
    "        self.edge_class_act2 = ReLU()\n",
    "        \n",
    "        self.edge_class_mlp = Seq(self.edge_class_lin1, self.edge_class_act1, self.edge_class_lin2,  self.edge_class_act2)\n",
    "        \n",
    "        \n",
    "\n",
    "    def forward(self, data):\n",
    "        x, edge_index, edge_attr = data.x, data.edge_index, data.edge_attr\n",
    "\n",
    "        #embed the edge attributes in a lower dim space      \n",
    "        edge_attr = self.edge_embed_mlp(edge_attr)\n",
    "\n",
    "        #update the node attributes\n",
    "        x = self.node_update_conv(x, edge_index, edge_attr)\n",
    "        \n",
    "        #update the edges attributes\n",
    "        x, edge_attr, _ = self.meta_layer.forward(x, edge_index, edge_attr, u=None, batch=data.batch)\n",
    "                     \n",
    "        #apply a classifier to the edge attrs\n",
    "        edge_attr = self.edge_class_mlp(edge_attr)\n",
    "\n",
    "        return F.log_softmax(edge_attr, dim=1)\n",
    "\n",
    "    \n"
   ]
  },
  {
   "cell_type": "code",
   "execution_count": 15,
   "metadata": {},
   "outputs": [],
   "source": [
    "def init_weights(m):\n",
    "    if type(m) == nn.Linear:\n",
    "        torch.nn.init.xavier_uniform(m.weight)\n",
    "        m.bias.data.fill_(0.01)\n"
   ]
  },
  {
   "cell_type": "markdown",
   "metadata": {},
   "source": [
    "create the dataloader and iterate the data through the model"
   ]
  },
  {
   "cell_type": "code",
   "execution_count": 16,
   "metadata": {},
   "outputs": [],
   "source": [
    "device = torch.device('cuda:0' if torch.cuda.is_available() else 'cpu')"
   ]
  },
  {
   "cell_type": "code",
   "execution_count": 17,
   "metadata": {},
   "outputs": [],
   "source": [
    "data_list = [graph_constructors.make_pyg_graph(*np.array(synthetic_data.make_a_group())).to(device) for _ in range(32)]\n",
    "loader = DataLoader(data_list, batch_size=8)"
   ]
  },
  {
   "cell_type": "code",
   "execution_count": 18,
   "metadata": {},
   "outputs": [],
   "source": [
    "node_features = data_list[0].x.shape[-1]\n",
    "num_edges = data_list[0].edge_attr.shape[0]\n",
    "edge_features = data_list[0].edge_attr.shape[-1]"
   ]
  },
  {
   "cell_type": "code",
   "execution_count": 19,
   "metadata": {},
   "outputs": [
    {
     "name": "stderr",
     "output_type": "stream",
     "text": [
      "/home/a/anaconda3/lib/python3.7/site-packages/ipykernel_launcher.py:3: UserWarning: nn.init.xavier_uniform is now deprecated in favor of nn.init.xavier_uniform_.\n",
      "  This is separate from the ipykernel package so we can avoid doing imports until\n"
     ]
    },
    {
     "name": "stdout",
     "output_type": "stream",
     "text": [
      "Let's use 2 GPU(s)!\n"
     ]
    },
    {
     "ename": "ValueError",
     "evalue": "Expected input batch_size (3178) to match target batch_size (1589).",
     "output_type": "error",
     "traceback": [
      "\u001b[0;31m---------------------------------------------------------------------------\u001b[0m",
      "\u001b[0;31mValueError\u001b[0m                                Traceback (most recent call last)",
      "\u001b[0;32m<ipython-input-19-a51fa5f4d43d>\u001b[0m in \u001b[0;36m<module>\u001b[0;34m\u001b[0m\n\u001b[1;32m     22\u001b[0m \u001b[0;34m\u001b[0m\u001b[0m\n\u001b[1;32m     23\u001b[0m         \u001b[0my\u001b[0m \u001b[0;34m=\u001b[0m \u001b[0mbtch\u001b[0m\u001b[0;34m.\u001b[0m\u001b[0my\u001b[0m\u001b[0;34m.\u001b[0m\u001b[0mto\u001b[0m\u001b[0;34m(\u001b[0m\u001b[0moutput\u001b[0m\u001b[0;34m.\u001b[0m\u001b[0mdevice\u001b[0m\u001b[0;34m)\u001b[0m\u001b[0;34m\u001b[0m\u001b[0;34m\u001b[0m\u001b[0m\n\u001b[0;32m---> 24\u001b[0;31m         \u001b[0mloss\u001b[0m \u001b[0;34m=\u001b[0m \u001b[0mF\u001b[0m\u001b[0;34m.\u001b[0m\u001b[0mnll_loss\u001b[0m\u001b[0;34m(\u001b[0m\u001b[0moutput\u001b[0m\u001b[0;34m,\u001b[0m \u001b[0my\u001b[0m\u001b[0;34m)\u001b[0m\u001b[0;34m\u001b[0m\u001b[0;34m\u001b[0m\u001b[0m\n\u001b[0m\u001b[1;32m     25\u001b[0m         \u001b[0mloss\u001b[0m\u001b[0;34m.\u001b[0m\u001b[0mbackward\u001b[0m\u001b[0;34m(\u001b[0m\u001b[0;34m)\u001b[0m\u001b[0;34m\u001b[0m\u001b[0;34m\u001b[0m\u001b[0m\n\u001b[1;32m     26\u001b[0m         \u001b[0moptimizer\u001b[0m\u001b[0;34m.\u001b[0m\u001b[0mstep\u001b[0m\u001b[0;34m(\u001b[0m\u001b[0;34m)\u001b[0m\u001b[0;34m\u001b[0m\u001b[0;34m\u001b[0m\u001b[0m\n",
      "\u001b[0;32m~/anaconda3/lib/python3.7/site-packages/torch/nn/functional.py\u001b[0m in \u001b[0;36mnll_loss\u001b[0;34m(input, target, weight, size_average, ignore_index, reduce, reduction)\u001b[0m\n\u001b[1;32m   1834\u001b[0m     \u001b[0;32mif\u001b[0m \u001b[0minput\u001b[0m\u001b[0;34m.\u001b[0m\u001b[0msize\u001b[0m\u001b[0;34m(\u001b[0m\u001b[0;36m0\u001b[0m\u001b[0;34m)\u001b[0m \u001b[0;34m!=\u001b[0m \u001b[0mtarget\u001b[0m\u001b[0;34m.\u001b[0m\u001b[0msize\u001b[0m\u001b[0;34m(\u001b[0m\u001b[0;36m0\u001b[0m\u001b[0;34m)\u001b[0m\u001b[0;34m:\u001b[0m\u001b[0;34m\u001b[0m\u001b[0;34m\u001b[0m\u001b[0m\n\u001b[1;32m   1835\u001b[0m         raise ValueError('Expected input batch_size ({}) to match target batch_size ({}).'\n\u001b[0;32m-> 1836\u001b[0;31m                          .format(input.size(0), target.size(0)))\n\u001b[0m\u001b[1;32m   1837\u001b[0m     \u001b[0;32mif\u001b[0m \u001b[0mdim\u001b[0m \u001b[0;34m==\u001b[0m \u001b[0;36m2\u001b[0m\u001b[0;34m:\u001b[0m\u001b[0;34m\u001b[0m\u001b[0;34m\u001b[0m\u001b[0m\n\u001b[1;32m   1838\u001b[0m         \u001b[0mret\u001b[0m \u001b[0;34m=\u001b[0m \u001b[0mtorch\u001b[0m\u001b[0;34m.\u001b[0m\u001b[0m_C\u001b[0m\u001b[0;34m.\u001b[0m\u001b[0m_nn\u001b[0m\u001b[0;34m.\u001b[0m\u001b[0mnll_loss\u001b[0m\u001b[0;34m(\u001b[0m\u001b[0minput\u001b[0m\u001b[0;34m,\u001b[0m \u001b[0mtarget\u001b[0m\u001b[0;34m,\u001b[0m \u001b[0mweight\u001b[0m\u001b[0;34m,\u001b[0m \u001b[0m_Reduction\u001b[0m\u001b[0;34m.\u001b[0m\u001b[0mget_enum\u001b[0m\u001b[0;34m(\u001b[0m\u001b[0mreduction\u001b[0m\u001b[0;34m)\u001b[0m\u001b[0;34m,\u001b[0m \u001b[0mignore_index\u001b[0m\u001b[0;34m)\u001b[0m\u001b[0;34m\u001b[0m\u001b[0;34m\u001b[0m\u001b[0m\n",
      "\u001b[0;31mValueError\u001b[0m: Expected input batch_size (3178) to match target batch_size (1589)."
     ]
    }
   ],
   "source": [
    "model = Net(node_features, edge_features)\n",
    "\n",
    "model.apply(init_weights)\n",
    "\n",
    "print('Let\\'s use', torch.cuda.device_count(), 'GPU(s)!')\n",
    "device = torch.device('cuda:0' if torch.cuda.is_available() else 'cpu')\n",
    "model = model.to(device)\n",
    "\n",
    "optimizer = torch.optim.Adam(model.parameters(), lr=0.01)\n",
    "\n",
    "for j in range(1000):\n",
    "    \n",
    "    #print(j)\n",
    "    \n",
    "    data_list = [graph_constructors.make_pyg_graph(*np.array(synthetic_data.make_a_group())).to(device) for _ in range(1024)]\n",
    "    loader = DataLoader(data_list, batch_size=8)\n",
    "\n",
    "    for i, btch in enumerate(loader):\n",
    "\n",
    "        optimizer.zero_grad()\n",
    "        output = model(btch)\n",
    "\n",
    "        y = btch.y.to(output.device)\n",
    "        loss = F.nll_loss(output, y)\n",
    "        loss.backward()\n",
    "        optimizer.step()\n",
    "    \n",
    "    print('loss at iteration ', j ,' is ', loss)\n",
    "\n",
    "    "
   ]
  },
  {
   "cell_type": "code",
   "execution_count": 59,
   "metadata": {},
   "outputs": [
    {
     "data": {
      "text/plain": [
       "False"
      ]
     },
     "execution_count": 59,
     "metadata": {},
     "output_type": "execute_result"
    }
   ],
   "source": [
    "np.isscalar(np.array([5]))"
   ]
  },
  {
   "cell_type": "code",
   "execution_count": 63,
   "metadata": {},
   "outputs": [
    {
     "data": {
      "text/plain": [
       "array([5])"
      ]
     },
     "execution_count": 63,
     "metadata": {},
     "output_type": "execute_result"
    }
   ],
   "source": [
    "np.expand_dims(5, axis = 0)"
   ]
  },
  {
   "cell_type": "code",
   "execution_count": 93,
   "metadata": {
    "collapsed": true
   },
   "outputs": [
    {
     "name": "stdout",
     "output_type": "stream",
     "text": [
      "1\n",
      "1\n",
      "1\n",
      "1\n",
      "1\n",
      "1\n",
      "1\n",
      "1\n",
      "1\n",
      "1\n",
      "1\n",
      "1\n",
      "1\n",
      "1\n",
      "1\n",
      "1\n",
      "1\n",
      "1\n",
      "1\n",
      "1\n",
      "1\n",
      "1\n",
      "1\n",
      "1\n",
      "1\n",
      "1\n",
      "1\n",
      "1\n",
      "1\n",
      "1\n",
      "1\n",
      "1\n",
      "1\n",
      "1\n",
      "1\n",
      "1\n",
      "1\n",
      "1\n",
      "1\n",
      "1\n",
      "1\n",
      "1\n",
      "1\n",
      "1\n",
      "1\n",
      "1\n",
      "1\n",
      "1\n",
      "1\n",
      "1\n",
      "1\n",
      "1\n",
      "1\n",
      "1\n",
      "1\n",
      "1\n",
      "1\n",
      "1\n",
      "1\n",
      "1\n",
      "1\n",
      "1\n",
      "1\n",
      "1\n",
      "1\n",
      "1\n",
      "1\n",
      "1\n",
      "1\n",
      "1\n",
      "1\n",
      "1\n",
      "1\n",
      "1\n",
      "1\n",
      "1\n"
     ]
    }
   ],
   "source": [
    "for _ in range(10000):\n",
    "    graph_constructors.make_pyg_graph(*np.array(synthetic_data.make_a_group()))"
   ]
  },
  {
   "cell_type": "code",
   "execution_count": 92,
   "metadata": {},
   "outputs": [
    {
     "data": {
      "text/plain": [
       "Data(edge_attr=[374, 93], edge_index=[2, 374], pos=[53, 2], x=[53, 1], y=[374])"
      ]
     },
     "execution_count": 92,
     "metadata": {},
     "output_type": "execute_result"
    }
   ],
   "source": [
    "graph_constructors.make_pyg_graph(*np.array(synthetic_data.make_a_group()))"
   ]
  },
  {
   "cell_type": "code",
   "execution_count": 48,
   "metadata": {},
   "outputs": [
    {
     "data": {
      "text/plain": [
       "array([], dtype=float64)"
      ]
     },
     "execution_count": 48,
     "metadata": {},
     "output_type": "execute_result"
    }
   ],
   "source": [
    "inp_norm_amt_arr = np.array([])\n",
    "sort_idx = np.argsort(inp_norm_amt_arr)\n",
    "sorted_norm_amt_arr = inp_norm_amt_arr[sort_idx]\n",
    "sorted_norm_amt_arr"
   ]
  },
  {
   "cell_type": "code",
   "execution_count": 47,
   "metadata": {},
   "outputs": [
    {
     "data": {
      "text/plain": [
       "(1,)"
      ]
     },
     "execution_count": 47,
     "metadata": {},
     "output_type": "execute_result"
    }
   ],
   "source": [
    "inp_norm_amt_arr.shape"
   ]
  },
  {
   "cell_type": "code",
   "execution_count": 24,
   "metadata": {},
   "outputs": [
    {
     "data": {
      "text/plain": [
       "tensor([1])"
      ]
     },
     "execution_count": 24,
     "metadata": {},
     "output_type": "execute_result"
    }
   ],
   "source": [
    "torch.tensor([1.2999]).long()"
   ]
  },
  {
   "cell_type": "markdown",
   "metadata": {},
   "source": [
    "### Instructive examples"
   ]
  },
  {
   "cell_type": "markdown",
   "metadata": {},
   "source": [
    "Below is an example of someone using a metalayer.  Take this example and apply it to a known data set to see how the edge model extracts the src and dest objects and what form they take.  We can then us this knowledge to create the edge_model that we want."
   ]
  },
  {
   "cell_type": "code",
   "execution_count": null,
   "metadata": {},
   "outputs": [],
   "source": [
    "from torch_geometric.datasets import MNISTSuperpixels\n",
    "\n",
    "dataset = MNISTSuperpixels('/data', 'MNIST')"
   ]
  },
  {
   "cell_type": "code",
   "execution_count": null,
   "metadata": {},
   "outputs": [],
   "source": [
    "dataset = MNISTSuperpixels('/data', 'MNIST', transform=T.Cartesian()).shuffle()"
   ]
  },
  {
   "cell_type": "code",
   "execution_count": null,
   "metadata": {},
   "outputs": [],
   "source": [
    "import os.path as osp\n",
    "\n",
    "import torch\n",
    "import torch.nn.functional as F\n",
    "from torch.nn import Sequential as Seq, Linear as Lin, ReLU\n",
    "from torch_geometric.datasets import MNISTSuperpixels\n",
    "from torch_geometric.data import DataListLoader\n",
    "import torch_geometric.transforms as T\n",
    "from torch_geometric.nn import SplineConv, global_mean_pool, DataParallel, MetaLayer\n",
    "\n",
    "# path = osp.join(osp.dirname(osp.realpath(__file__)), '../', 'data', 'MNIST')\n",
    "# dataset = MNISTSuperpixels(path, transform=T.Cartesian()).shuffle()\n",
    "loader = DataListLoader(dataset, batch_size=1, shuffle=False)\n",
    "\n",
    "class MyLayer(torch.nn.Module):\n",
    "    def __init__(self, number_of_node_features, number_of_edge_features):\n",
    "        super(MyLayer, self).__init__()\n",
    "\n",
    "        edge_mlp_channels_in = 2 * number_of_node_features + number_of_edge_features\n",
    "        self.edge_mlp = Seq(Lin(edge_mlp_channels_in, number_of_edge_features),\n",
    "                            ReLU())\n",
    "\n",
    "        def edge_model(src, dest, edge_attr, u, batch):\n",
    "            print('called edge_model')\n",
    "            print('src.shape', src.shape)            \n",
    "            print('src', src)\n",
    "            print(' ')\n",
    "            print('dest.shape', dest.shape)   \n",
    "            print('dest', dest)\n",
    "            edge_neighborhoods = torch.cat([src, dest, edge_attr], 1)\n",
    "            print('edge_neighborhoods.shape', edge_neighborhoods.shape)\n",
    "            \n",
    "            my_string = \"edge_neighborhoods.device\\n\" + str(edge_neighborhoods.device) + \"\\nself.edge_mlp[0].weight.device\\n\" + str(self.edge_mlp[0].weight.device)\n",
    "            print(my_string)\n",
    "\n",
    "            return self.edge_mlp(edge_neighborhoods)\n",
    "\n",
    "        self.op = MetaLayer(edge_model)\n",
    "\n",
    "    def forward(self, x, edge_index, edge_attr, u, batch):\n",
    "        return self.op(x, edge_index, edge_attr, u, batch)\n",
    "\n",
    "class Net(torch.nn.Module):\n",
    "    def __init__(self, number_of_node_features, number_of_edge_features):\n",
    "        super(Net, self).__init__()\n",
    "        self.meta_layer = MyLayer(number_of_node_features, number_of_edge_features)\n",
    "        self.conv1 = SplineConv(dataset.num_features, 32, dim=2, kernel_size=5)\n",
    "        self.conv2 = SplineConv(32, 64, dim=2, kernel_size=5)\n",
    "        self.lin1 = torch.nn.Linear(64, 128)\n",
    "        self.lin2 = torch.nn.Linear(128, dataset.num_classes)\n",
    "\n",
    "    def forward(self, data):\n",
    "        print('Inside Model:  num graphs: {}, device: {}'.format(\n",
    "            data.num_graphs, data.batch.device))\n",
    "\n",
    "        x, edge_index, edge_attr = data.x, data.edge_index, data.edge_attr\n",
    "        x, edge_attr, _ = self.meta_layer.forward(x, edge_index, edge_attr, u=None, batch=data.batch)\n",
    "        x = F.elu(self.conv1(x, edge_index, edge_attr))\n",
    "        x = F.elu(self.conv2(x, edge_index, edge_attr))\n",
    "        x = global_mean_pool(x, data.batch)\n",
    "        x = F.elu(self.lin1(x))\n",
    "        return F.log_softmax(self.lin2(x), dim=1)\n",
    "\n",
    "\n",
    "node_features = dataset[0].x.shape[-1]\n",
    "edge_features = dataset[0].edge_attr.shape[-1]\n",
    "model = Net(node_features, edge_features)\n",
    "print('Let\\'s use', torch.cuda.device_count(), 'GPUs!')\n",
    "model = DataParallel(model)\n",
    "device = torch.device('cuda:0' if torch.cuda.is_available() else 'cpu')\n",
    "model = model.to(device)\n",
    "optimizer = torch.optim.Adam(model.parameters(), lr=0.01)\n",
    "\n",
    "for i, data_list in enumerate(loader):\n",
    "    print('x.shape', data_list[0].x.shape)\n",
    "    print('x:', data_list[0].x)\n",
    "    print('')\n",
    "    print('edge_attr.shape', data_list[0].edge_attr.shape)    \n",
    "    print('edge_attr', data_list[0].edge_attr)\n",
    "    print('')    \n",
    "\n",
    "    optimizer.zero_grad()\n",
    "    output = model(data_list)\n",
    "    print('Outside Model: num graphs: {}'.format(output.size(0)))\n",
    "    print([data.y for data in data_list])\n",
    "    y = torch.cat([data.y for data in data_list]).to(output.device)\n",
    "    loss = F.nll_loss(output, y)\n",
    "    loss.backward()\n",
    "    optimizer.step()\n",
    "    if i > 0:\n",
    "        break \n",
    "    "
   ]
  },
  {
   "cell_type": "code",
   "execution_count": null,
   "metadata": {},
   "outputs": [],
   "source": [
    "loader = DataListLoader(dataset, batch_size=4, shuffle=False)\n",
    "len(loader)"
   ]
  },
  {
   "cell_type": "code",
   "execution_count": null,
   "metadata": {},
   "outputs": [],
   "source": [
    "node_features = data.x.shape[-1]\n",
    "edge_features = data.edge_attr.shape[-1]\n",
    "\n",
    "model = Net(node_features, edge_features)\n",
    "print('Let\\'s use', torch.cuda.device_count(), 'GPUs!')\n",
    "model = DataParallel(model)\n",
    "device = torch.device('cuda:0' if torch.cuda.is_available() else 'cpu')\n",
    "model = model.to(device)\n",
    "optimizer = torch.optim.Adam(model.parameters(), lr=0.01)\n",
    "\n",
    "for i, data_list in enumerate(loader):\n",
    "    if i > 0:\n",
    "        break\n",
    "    optimizer.zero_grad()\n",
    "    output = model(data_list)\n",
    "\n"
   ]
  },
  {
   "cell_type": "code",
   "execution_count": null,
   "metadata": {},
   "outputs": [],
   "source": [
    "MyLayer.forward(x=dataset[0].x, edge_index=dataset[0].edge_index, edge_attr=dataset[0].edge_attr, u = None, batch = None)"
   ]
  },
  {
   "cell_type": "code",
   "execution_count": null,
   "metadata": {},
   "outputs": [],
   "source": []
  },
  {
   "cell_type": "code",
   "execution_count": null,
   "metadata": {},
   "outputs": [],
   "source": [
    "data_list = [data, data]"
   ]
  },
  {
   "cell_type": "code",
   "execution_count": null,
   "metadata": {},
   "outputs": [],
   "source": [
    "class MyLayer(torch.nn.Module):\n",
    "    def __init__(self, number_of_node_features, number_of_edge_features):\n",
    "        super(MyLayer, self).__init__()\n",
    "\n",
    "        edge_mlp_channels_in = 2 * number_of_node_features + number_of_edge_features\n",
    "        self.edge_mlp = Seq(Lin(edge_mlp_channels_in, number_of_edge_features),\n",
    "                            ReLU())\n",
    "\n",
    "        def edge_model(src, dest, edge_attr, u, batch):\n",
    "            edge_neighborhoods = torch.cat([src, dest, edge_attr], 1)\n",
    "            my_string = \"edge_neighborhoods.device\\n\" + str(edge_neighborhoods.device) + \"\\nself.edge_mlp[0].weight.device\\n\" + str(self.edge_mlp[0].weight.device)\n",
    "            print(my_string)\n",
    "\n",
    "            return self.edge_mlp(edge_neighborhoods)\n",
    "\n",
    "        self.op = MetaLayer(edge_model)\n",
    "\n",
    "    def forward(self, x, edge_index, edge_attr, u, batch):\n",
    "        return self.op(x, edge_index, edge_attr, u, batch)\n",
    "\n",
    "class Net(torch.nn.Module):\n",
    "    def __init__(self, number_of_node_features, number_of_edge_features):\n",
    "        super(Net, self).__init__()\n",
    "        self.meta_layer = MyLayer(number_of_node_features, number_of_edge_features)\n",
    "        #self.conv1 = SplineConv(dataset.num_features, 32, dim=2, kernel_size=5)\n",
    "        self.conv1 = SplineConv(number_of_node_features, 32, dim=2, kernel_size=5)\n",
    "        self.conv2 = SplineConv(32, 64, dim=2, kernel_size=5)\n",
    "        self.lin1 = torch.nn.Linear(64, 128)\n",
    "        self.lin2 = torch.nn.Linear(128, 2)\n",
    "\n",
    "    def forward(self, data):\n",
    "#         print('Inside Model:  num graphs: {}, device: {}'.format(\n",
    "#             data.num_graphs, data.batch.device))\n",
    "\n",
    "        x, edge_index, edge_attr = data.x, data.edge_index, data.edge_attr\n",
    "        #x, edge_attr, _ = self.meta_layer.forward(x, edge_index, edge_attr, u=None, batch=data.batch)\n",
    "        x, edge_attr, _ = self.meta_layer.forward(x, edge_index, edge_attr, u=None, batch=[1])\n",
    "        x = F.elu(self.conv1(x, edge_index, edge_attr))\n",
    "        x = F.elu(self.conv2(x, edge_index, edge_attr))\n",
    "        x = global_mean_pool(x, data.batch)\n",
    "        x = F.elu(self.lin1(x))\n",
    "        return F.log_softmax(self.lin2(x), dim=1)"
   ]
  },
  {
   "cell_type": "code",
   "execution_count": null,
   "metadata": {},
   "outputs": [],
   "source": [
    "model = Net(node_features, edge_features)"
   ]
  },
  {
   "cell_type": "code",
   "execution_count": null,
   "metadata": {},
   "outputs": [],
   "source": [
    "model(data)"
   ]
  },
  {
   "cell_type": "code",
   "execution_count": null,
   "metadata": {},
   "outputs": [],
   "source": [
    "from torch_geometric.data import Data, DataLoader\n",
    "\n",
    "data_list = [data, data]\n",
    "loader = DataLoader(data_list, batch_size=2)"
   ]
  },
  {
   "cell_type": "code",
   "execution_count": null,
   "metadata": {},
   "outputs": [],
   "source": []
  },
  {
   "cell_type": "code",
   "execution_count": null,
   "metadata": {},
   "outputs": [],
   "source": []
  }
 ],
 "metadata": {
  "kernelspec": {
   "display_name": "Python 3",
   "language": "python",
   "name": "python3"
  },
  "language_info": {
   "codemirror_mode": {
    "name": "ipython",
    "version": 3
   },
   "file_extension": ".py",
   "mimetype": "text/x-python",
   "name": "python",
   "nbconvert_exporter": "python",
   "pygments_lexer": "ipython3",
   "version": "3.7.4"
  }
 },
 "nbformat": 4,
 "nbformat_minor": 2
}
