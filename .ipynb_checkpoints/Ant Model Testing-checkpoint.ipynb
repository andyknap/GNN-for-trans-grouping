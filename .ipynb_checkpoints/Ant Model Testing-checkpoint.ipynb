{
 "cells": [
  {
   "cell_type": "code",
   "execution_count": 2,
   "metadata": {},
   "outputs": [],
   "source": [
    "%matplotlib inline\n",
    "\n",
    "import matplotlib\n",
    "import matplotlib.pyplot as plt\n",
    "\n",
    "import numpy as np\n",
    "import timeit\n",
    "import statistics\n",
    "import time\n",
    "import torch\n",
    "import torch_geometric\n",
    "import importlib\n",
    "\n",
    "from data_utils import synthetic_data\n",
    "from data_utils import graph_constructors\n",
    "from data_utils import ant_graph_constructors\n",
    "\n",
    "import networkx as nx\n",
    "\n",
    "import importlib"
   ]
  },
  {
   "cell_type": "code",
   "execution_count": 15,
   "metadata": {},
   "outputs": [
    {
     "data": {
      "text/plain": [
       "<module 'data_utils.ant_graph_constructors' from 'C:\\\\Users\\\\andy.knapper\\\\Documents\\\\OW\\\\Categorisation\\\\ML grouping\\\\GNN-for-trans-grouping\\\\data_utils\\\\ant_graph_constructors.py'>"
      ]
     },
     "execution_count": 15,
     "metadata": {},
     "output_type": "execute_result"
    }
   ],
   "source": [
    "importlib.reload(synthetic_data)\n",
    "importlib.reload(ant_graph_constructors)"
   ]
  },
  {
   "cell_type": "code",
   "execution_count": 16,
   "metadata": {
    "collapsed": true
   },
   "outputs": [
    {
     "ename": "NameError",
     "evalue": "name 'device' is not defined",
     "output_type": "error",
     "traceback": [
      "\u001b[1;31m---------------------------------------------------------------------------\u001b[0m",
      "\u001b[1;31mNameError\u001b[0m                                 Traceback (most recent call last)",
      "\u001b[1;32m<ipython-input-16-d8fbd429deff>\u001b[0m in \u001b[0;36m<module>\u001b[1;34m\u001b[0m\n\u001b[1;32m----> 1\u001b[1;33m \u001b[0mdata_list\u001b[0m \u001b[1;33m=\u001b[0m \u001b[1;33m[\u001b[0m\u001b[0mant_graph_constructors\u001b[0m\u001b[1;33m.\u001b[0m\u001b[0mmake_pyg_graph\u001b[0m\u001b[1;33m(\u001b[0m\u001b[1;33m*\u001b[0m\u001b[0mnp\u001b[0m\u001b[1;33m.\u001b[0m\u001b[0marray\u001b[0m\u001b[1;33m(\u001b[0m\u001b[0msynthetic_data\u001b[0m\u001b[1;33m.\u001b[0m\u001b[0mmake_a_group\u001b[0m\u001b[1;33m(\u001b[0m\u001b[1;33m)\u001b[0m\u001b[1;33m)\u001b[0m\u001b[1;33m)\u001b[0m\u001b[1;33m.\u001b[0m\u001b[0mto\u001b[0m\u001b[1;33m(\u001b[0m\u001b[0mdevice\u001b[0m\u001b[1;33m)\u001b[0m \u001b[1;32mfor\u001b[0m \u001b[0m_\u001b[0m \u001b[1;32min\u001b[0m \u001b[0mrange\u001b[0m\u001b[1;33m(\u001b[0m\u001b[1;36m32\u001b[0m\u001b[1;33m)\u001b[0m\u001b[1;33m]\u001b[0m\u001b[1;33m\u001b[0m\u001b[1;33m\u001b[0m\u001b[0m\n\u001b[0m",
      "\u001b[1;32m<ipython-input-16-d8fbd429deff>\u001b[0m in \u001b[0;36m<listcomp>\u001b[1;34m(.0)\u001b[0m\n\u001b[1;32m----> 1\u001b[1;33m \u001b[0mdata_list\u001b[0m \u001b[1;33m=\u001b[0m \u001b[1;33m[\u001b[0m\u001b[0mant_graph_constructors\u001b[0m\u001b[1;33m.\u001b[0m\u001b[0mmake_pyg_graph\u001b[0m\u001b[1;33m(\u001b[0m\u001b[1;33m*\u001b[0m\u001b[0mnp\u001b[0m\u001b[1;33m.\u001b[0m\u001b[0marray\u001b[0m\u001b[1;33m(\u001b[0m\u001b[0msynthetic_data\u001b[0m\u001b[1;33m.\u001b[0m\u001b[0mmake_a_group\u001b[0m\u001b[1;33m(\u001b[0m\u001b[1;33m)\u001b[0m\u001b[1;33m)\u001b[0m\u001b[1;33m)\u001b[0m\u001b[1;33m.\u001b[0m\u001b[0mto\u001b[0m\u001b[1;33m(\u001b[0m\u001b[0mdevice\u001b[0m\u001b[1;33m)\u001b[0m \u001b[1;32mfor\u001b[0m \u001b[0m_\u001b[0m \u001b[1;32min\u001b[0m \u001b[0mrange\u001b[0m\u001b[1;33m(\u001b[0m\u001b[1;36m32\u001b[0m\u001b[1;33m)\u001b[0m\u001b[1;33m]\u001b[0m\u001b[1;33m\u001b[0m\u001b[1;33m\u001b[0m\u001b[0m\n\u001b[0m",
      "\u001b[1;31mNameError\u001b[0m: name 'device' is not defined"
     ]
    }
   ],
   "source": [
    "data_list = [ant_graph_constructors.make_pyg_graph(*np.array(synthetic_data.make_a_group())).to(device) for _ in range(32)]"
   ]
  },
  {
   "cell_type": "code",
   "execution_count": 17,
   "metadata": {},
   "outputs": [],
   "source": [
    "test_g = ant_graph_constructors.make_pyg_graph(*np.array(synthetic_data.make_a_group()))"
   ]
  },
  {
   "cell_type": "code",
   "execution_count": 18,
   "metadata": {
    "collapsed": true
   },
   "outputs": [
    {
     "data": {
      "text/plain": [
       "tensor([[0.5055, 0.5611],\n",
       "        [0.5302, 0.2238],\n",
       "        [0.3237, 0.7709],\n",
       "        [0.4761, 0.2963],\n",
       "        [0.0846, 0.5442],\n",
       "        [0.6393, 0.9605],\n",
       "        [0.5831, 0.7731],\n",
       "        [0.3591, 0.4472],\n",
       "        [0.9548, 0.6468],\n",
       "        [0.2735, 0.1339],\n",
       "        [0.9069, 0.7644],\n",
       "        [0.4462, 0.2640],\n",
       "        [0.5380, 0.1946],\n",
       "        [0.1367, 0.1988],\n",
       "        [0.0761, 0.6853],\n",
       "        [0.4409, 0.6016],\n",
       "        [0.5720, 0.4933],\n",
       "        [0.6593, 0.0785],\n",
       "        [0.3445, 0.8214],\n",
       "        [0.5725, 0.9906],\n",
       "        [0.5365, 0.4399],\n",
       "        [0.4587, 0.3981],\n",
       "        [0.4624, 0.4189],\n",
       "        [0.6114, 0.5835],\n",
       "        [0.8775, 0.8521],\n",
       "        [0.3846, 0.7332],\n",
       "        [0.4846, 0.4821],\n",
       "        [0.8178, 0.3394],\n",
       "        [0.4764, 0.8778],\n",
       "        [0.9720, 0.0578],\n",
       "        [0.5831, 0.6233],\n",
       "        [0.7807, 0.0671],\n",
       "        [0.4825, 0.8753],\n",
       "        [0.5415, 0.0157],\n",
       "        [0.2819, 0.4836],\n",
       "        [0.7610, 0.2236],\n",
       "        [0.1160, 0.5961],\n",
       "        [0.9576, 0.6897],\n",
       "        [0.1209, 0.5822],\n",
       "        [0.7334, 0.6813],\n",
       "        [0.6391, 0.5539],\n",
       "        [0.5247, 0.3420],\n",
       "        [0.6778, 0.8997],\n",
       "        [0.1108, 0.7251],\n",
       "        [0.9677, 0.6014],\n",
       "        [0.2472, 0.8013],\n",
       "        [0.8728, 0.0417],\n",
       "        [0.9794, 0.2338],\n",
       "        [0.3147, 0.3194],\n",
       "        [0.2279, 0.8080],\n",
       "        [0.8454, 0.3928],\n",
       "        [0.7269, 0.6495],\n",
       "        [0.4619, 0.0789],\n",
       "        [0.9161, 0.8082],\n",
       "        [0.8163, 0.6820],\n",
       "        [0.1895, 0.3804],\n",
       "        [0.3610, 0.4121],\n",
       "        [0.2513, 0.9390],\n",
       "        [0.0517, 0.7047],\n",
       "        [0.8892, 0.0545],\n",
       "        [0.3674, 0.6216],\n",
       "        [0.8265, 0.7430],\n",
       "        [0.9585, 0.3540],\n",
       "        [0.2534, 0.1818],\n",
       "        [0.8510, 0.5671],\n",
       "        [0.7451, 0.3795],\n",
       "        [0.0846, 0.1751],\n",
       "        [0.4845, 0.4836],\n",
       "        [0.1779, 0.3070],\n",
       "        [0.2997, 0.8316],\n",
       "        [0.5297, 0.0041],\n",
       "        [0.5729, 0.7251],\n",
       "        [0.7604, 0.1332],\n",
       "        [0.5133, 0.3190],\n",
       "        [0.4401, 0.5733],\n",
       "        [0.9804, 0.7010],\n",
       "        [0.0670, 0.0538],\n",
       "        [0.0873, 0.1879],\n",
       "        [0.2663, 0.7757],\n",
       "        [0.9081, 0.6421],\n",
       "        [0.5645, 0.4118],\n",
       "        [0.9844, 0.4347],\n",
       "        [0.1930, 0.5133],\n",
       "        [0.3143, 0.6167],\n",
       "        [0.5184, 0.6819],\n",
       "        [0.4834, 0.7366],\n",
       "        [0.2363, 0.3964],\n",
       "        [0.9351, 0.3130],\n",
       "        [0.3790, 0.9774],\n",
       "        [0.1038, 0.6148]])"
      ]
     },
     "execution_count": 18,
     "metadata": {},
     "output_type": "execute_result"
    }
   ],
   "source": [
    "test_g.edge_phero"
   ]
  },
  {
   "cell_type": "markdown",
   "metadata": {},
   "source": [
    "### Ideas"
   ]
  },
  {
   "cell_type": "markdown",
   "metadata": {},
   "source": [
    "Since the ants brains won't be deep we'll spend more time deriving features than for a DNN."
   ]
  },
  {
   "cell_type": "code",
   "execution_count": 38,
   "metadata": {},
   "outputs": [],
   "source": [
    "#we'll replace the gnn edge feature function with one that calculates more features\n",
    "#these need some more thought\n",
    "\n",
    "from scipy.stats import rankdata\n",
    "from itertools import combinations\n",
    "\n",
    "def find_edge_features(inp_day_arr, inp_norm_amt_arr, inp_group_arr, edge):\n",
    "    \n",
    "    day_diff_feature_arr = np.zeros(7)\n",
    "    edge_days_diff = int(inp_day_arr[edge[1]] - inp_day_arr[edge[0]])\n",
    "    \n",
    "    if edge_days_diff < 0:\n",
    "        direction = -1\n",
    "    elif edge_days_diff == 0:\n",
    "        direction = 0\n",
    "    else:\n",
    "        direction = 1\n",
    "\n",
    "    if np.abs(edge_days_diff) <= 5:\n",
    "        day_diff_feature_arr[0] = 1\n",
    "    elif np.abs(edge_days_diff) <= 9:\n",
    "        day_diff_feature_arr[1] = 1\n",
    "    elif np.abs(edge_days_diff) <= 12:\n",
    "        day_diff_feature_arr[2] = 1\n",
    "    elif np.abs(edge_days_diff) <= 16:\n",
    "        day_diff_feature_arr[3] = 1\n",
    "    elif np.abs(edge_days_diff) <= 24:\n",
    "        day_diff_feature_arr[4] = 1\n",
    "    elif np.abs(edge_days_diff) <= 36:\n",
    "        day_diff_feature_arr[5] = 1\n",
    "    else:\n",
    "        day_diff_feature_arr[6] = 1\n",
    "        \n",
    "    #edge features\n",
    "    edge_amt_diff_arr = np.array([inp_norm_amt_arr[edge[1]] - inp_norm_amt_arr[edge[0]]])\n",
    "\n",
    "    mean_abs_amt_diff = np.mean(np.array([abs(x[0] - x[1]) for x in combinations(inp_norm_amt_arr, r=2)]))\n",
    "\n",
    "    edge_amt_diff_to_mean_arr = np.abs(np.abs(edge_amt_diff_arr) - mean_abs_amt_diff)\n",
    "    \n",
    "    #below doesn't work \n",
    "    #edge_amt_rank_arr = (rankdata(edge_amt_diff_arr)-1) / len(edge_amt_diff_arr)\n",
    "\n",
    "   \n",
    "    return np.concatenate((edge_amt_diff_arr\n",
    "                           , edge_amt_diff_to_mean_arr\n",
    "                           #, edge_amt_rank_arr\n",
    "                           , np.array([direction])\n",
    "                           , day_diff_feature_arr), axis = None)\n"
   ]
  },
  {
   "cell_type": "code",
   "execution_count": 39,
   "metadata": {},
   "outputs": [],
   "source": [
    "d_lst, a_lst, g_lst, t_lst = synthetic_data.make_a_group()\n",
    "d_arr = np.array(d_lst)\n",
    "a_arr = np.array(a_lst)\n",
    "g_arr = np.array(g_lst)\n",
    "t_arr = np.array(t_lst)\n",
    "norm_a_arr = ant_graph_constructors.normalise_amounts(a_arr)"
   ]
  },
  {
   "cell_type": "code",
   "execution_count": 40,
   "metadata": {},
   "outputs": [
    {
     "data": {
      "text/plain": [
       "array([ 0.47063406,  0.14930818, -1.        ,  0.        ,  0.        ,\n",
       "        0.        ,  0.        ,  0.        ,  1.        ,  0.        ])"
      ]
     },
     "execution_count": 40,
     "metadata": {},
     "output_type": "execute_result"
    }
   ],
   "source": [
    "find_edge_features(d_arr, norm_a_arr, g_arr, [5,1])"
   ]
  },
  {
   "cell_type": "code",
   "execution_count": null,
   "metadata": {},
   "outputs": [],
   "source": []
  },
  {
   "cell_type": "code",
   "execution_count": null,
   "metadata": {},
   "outputs": [],
   "source": []
  },
  {
   "cell_type": "code",
   "execution_count": null,
   "metadata": {},
   "outputs": [],
   "source": []
  },
  {
   "cell_type": "code",
   "execution_count": null,
   "metadata": {},
   "outputs": [],
   "source": []
  },
  {
   "cell_type": "code",
   "execution_count": null,
   "metadata": {},
   "outputs": [],
   "source": []
  },
  {
   "cell_type": "code",
   "execution_count": null,
   "metadata": {},
   "outputs": [],
   "source": []
  },
  {
   "cell_type": "code",
   "execution_count": null,
   "metadata": {},
   "outputs": [],
   "source": []
  },
  {
   "cell_type": "code",
   "execution_count": null,
   "metadata": {},
   "outputs": [],
   "source": []
  },
  {
   "cell_type": "code",
   "execution_count": null,
   "metadata": {},
   "outputs": [],
   "source": []
  },
  {
   "cell_type": "code",
   "execution_count": null,
   "metadata": {},
   "outputs": [],
   "source": []
  },
  {
   "cell_type": "code",
   "execution_count": null,
   "metadata": {},
   "outputs": [],
   "source": []
  },
  {
   "cell_type": "code",
   "execution_count": null,
   "metadata": {},
   "outputs": [],
   "source": []
  }
 ],
 "metadata": {
  "kernelspec": {
   "display_name": "Python 3",
   "language": "python",
   "name": "python3"
  },
  "language_info": {
   "codemirror_mode": {
    "name": "ipython",
    "version": 3
   },
   "file_extension": ".py",
   "mimetype": "text/x-python",
   "name": "python",
   "nbconvert_exporter": "python",
   "pygments_lexer": "ipython3",
   "version": "3.7.4"
  }
 },
 "nbformat": 4,
 "nbformat_minor": 2
}
