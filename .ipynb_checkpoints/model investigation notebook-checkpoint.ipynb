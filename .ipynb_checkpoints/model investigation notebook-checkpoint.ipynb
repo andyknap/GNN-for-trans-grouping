{
 "cells": [
  {
   "cell_type": "code",
   "execution_count": 1,
   "metadata": {},
   "outputs": [],
   "source": [
    "%matplotlib inline\n",
    "\n",
    "import matplotlib\n",
    "import matplotlib.pyplot as plt\n",
    "\n",
    "import numpy as np\n",
    "import timeit\n",
    "import statistics\n",
    "import time\n",
    "import torch\n",
    "import torch_geometric\n",
    "import importlib\n",
    "\n",
    "from data_utils import synthetic_data\n",
    "from data_utils import graph_constructors\n",
    "\n",
    "import networkx as nx\n",
    "\n",
    "import importlib"
   ]
  },
  {
   "cell_type": "code",
   "execution_count": 154,
   "metadata": {},
   "outputs": [
    {
     "data": {
      "text/plain": [
       "<module 'data_utils.graph_constructors' from 'C:\\\\Users\\\\andy.knapper\\\\Documents\\\\OW\\\\Categorisation\\\\ML grouping\\\\GNN-for-trans-grouping\\\\data_utils\\\\graph_constructors.py'>"
      ]
     },
     "execution_count": 154,
     "metadata": {},
     "output_type": "execute_result"
    }
   ],
   "source": [
    "importlib.reload(synthetic_data)\n",
    "importlib.reload(graph_constructors)"
   ]
  },
  {
   "cell_type": "code",
   "execution_count": null,
   "metadata": {},
   "outputs": [],
   "source": [
    "%timeit synthetic_data.make_a_group()"
   ]
  },
  {
   "cell_type": "code",
   "execution_count": 3,
   "metadata": {
    "collapsed": true
   },
   "outputs": [
    {
     "data": {
      "image/png": "[encoded data removed]",
      "text/plain": [
       "<Figure size 720x576 with 1 Axes>"
      ]
     },
     "metadata": {
      "needs_background": "light"
     },
     "output_type": "display_data"
    },
    {
     "data": {
      "image/png": "[encoded data removed]",
      "text/plain": [
       "<Figure size 720x576 with 1 Axes>"
      ]
     },
     "metadata": {
      "needs_background": "light"
     },
     "output_type": "display_data"
    }
   ],
   "source": [
    "colour_list = ['tab:blue', 'tab:orange', 'tab:green', 'tab:red', 'tab:purple', 'tab:brown', 'tab:pink', 'tab:gray', 'tab:olive', 'tab:cyan']\n",
    "\n",
    "for i in range(2):\n",
    "    d_lst, a_lst, g_lst = synthetic_data.make_a_group()\n",
    "    \n",
    "    d_arr = np.array(d_lst)\n",
    "    a_arr = np.array(a_lst)\n",
    "    g_arr = np.array(g_lst)    \n",
    "    \n",
    "    fig, (ax1) = plt.subplots(nrows=1, ncols=1, figsize=(10,8), sharex=True)\n",
    "    for g in g_lst:\n",
    "        mask = (g_arr == g)\n",
    "        \n",
    "        ax1.scatter(d_arr[mask], a_arr[mask], s=10, c=colour_list[g%10], marker='x')\n",
    "        ax1.set_title(str(i))\n",
    "        #ax1.legend(loc=\"upper right\")\n",
    "    \n",
    "    for ax1 in fig.axes:\n",
    "        matplotlib.pyplot.sca(ax1)\n",
    "        plt.xticks(rotation=90)\n",
    "        #plt.legend(bbox_to_anchor=(1.02, 1), loc=2, borderaxespad=0.)\n",
    "    \n",
    "    plt.show"
   ]
  },
  {
   "cell_type": "code",
   "execution_count": 155,
   "metadata": {},
   "outputs": [],
   "source": [
    "d_lst, a_lst, g_lst = synthetic_data.make_a_group()"
   ]
  },
  {
   "cell_type": "code",
   "execution_count": 156,
   "metadata": {},
   "outputs": [],
   "source": [
    "d_arr = np.array(d_lst)\n",
    "a_arr = np.array(a_lst)\n",
    "g_arr = np.array(g_lst)"
   ]
  },
  {
   "cell_type": "code",
   "execution_count": 157,
   "metadata": {},
   "outputs": [],
   "source": [
    "norm_a_arr = graph_constructors.normalise_amounts(a_arr)"
   ]
  },
  {
   "cell_type": "code",
   "execution_count": null,
   "metadata": {},
   "outputs": [],
   "source": [
    "# edge_lst, edge_features_lst, edge_labels_lst = graph_constructors.find_nearest_in_interval(inp_day_arr = d_arr\n",
    "#                          , inp_norm_amt_arr = norm_a_arr\n",
    "#                          , inp_group_arr = g_arr\n",
    "#                          , cur_edge_lst =[]\n",
    "#                          , cur_edge_features_lst = []\n",
    "#                          , cur_edge_labels_lst = []\n",
    "#                          , interval = np.array([5,9]))"
   ]
  },
  {
   "cell_type": "code",
   "execution_count": null,
   "metadata": {},
   "outputs": [],
   "source": [
    "# edge_lst, edge_features_lst, edge_labels_lst = graph_constructors.find_nearest_amount(inp_day_arr = d_arr\n",
    "#                          , inp_norm_amt_arr = norm_a_arr\n",
    "#                          , inp_group_arr = g_arr\n",
    "#                          , cur_edge_lst =[]\n",
    "#                          , cur_edge_features_lst = []\n",
    "#                          , cur_edge_labels_lst = [])\n",
    "\n",
    "# edge_lst"
   ]
  },
  {
   "cell_type": "code",
   "execution_count": null,
   "metadata": {},
   "outputs": [],
   "source": [
    "# edge_lst, edge_features_lst, edge_labels_lst = graph_constructors.find_nearest_day(inp_day_arr = d_arr\n",
    "#                          , inp_norm_amt_arr = norm_a_arr\n",
    "#                          , inp_group_arr = g_arr\n",
    "#                          , cur_edge_lst =[]\n",
    "#                          , cur_edge_features_lst = []\n",
    "#                          , cur_edge_labels_lst = [])"
   ]
  },
  {
   "cell_type": "code",
   "execution_count": 158,
   "metadata": {},
   "outputs": [],
   "source": [
    "data = graph_constructors.make_pyg_graph(d_arr, a_arr, g_arr)"
   ]
  },
  {
   "cell_type": "code",
   "execution_count": 159,
   "metadata": {
    "collapsed": true
   },
   "outputs": [
    {
     "data": {
      "text/plain": [
       "{0: 0,\n",
       " 1: 0,\n",
       " 2: 0,\n",
       " 3: 0,\n",
       " 4: 0,\n",
       " 5: 0,\n",
       " 6: 0,\n",
       " 7: 0,\n",
       " 8: 0,\n",
       " 9: 0,\n",
       " 10: 0,\n",
       " 11: 0,\n",
       " 12: 0,\n",
       " 13: 0,\n",
       " 14: 1,\n",
       " 15: 1,\n",
       " 16: 1,\n",
       " 17: 1,\n",
       " 18: 1,\n",
       " 19: 1,\n",
       " 20: 1,\n",
       " 21: 1,\n",
       " 22: 1,\n",
       " 23: 1,\n",
       " 24: 1,\n",
       " 25: 1,\n",
       " 26: 1,\n",
       " 27: 1,\n",
       " 28: 1,\n",
       " 29: 1}"
      ]
     },
     "execution_count": 159,
     "metadata": {},
     "output_type": "execute_result"
    }
   ],
   "source": [
    "dict(zip([i for i in range(len(data.group_id))], data.group_id)) "
   ]
  },
  {
   "cell_type": "code",
   "execution_count": 160,
   "metadata": {
    "collapsed": true
   },
   "outputs": [
    {
     "data": {
      "text/plain": [
       "tensor([[ 2,  0],\n",
       "        [ 0,  2],\n",
       "        [ 0,  8],\n",
       "        [ 8,  0],\n",
       "        [ 8,  1],\n",
       "        [ 1,  8],\n",
       "        [ 1,  9],\n",
       "        [ 9,  1],\n",
       "        [ 9,  7],\n",
       "        [ 7,  9],\n",
       "        [ 7,  4],\n",
       "        [ 4,  7],\n",
       "        [ 4,  6],\n",
       "        [ 6,  4],\n",
       "        [ 6,  3],\n",
       "        [ 3,  6],\n",
       "        [ 3,  5],\n",
       "        [ 5,  3],\n",
       "        [13, 12],\n",
       "        [12, 13],\n",
       "        [12, 11],\n",
       "        [11, 12],\n",
       "        [11, 10],\n",
       "        [10, 11],\n",
       "        [18, 22],\n",
       "        [22, 18],\n",
       "        [22, 29],\n",
       "        [29, 22],\n",
       "        [29, 16],\n",
       "        [16, 29],\n",
       "        [16, 14],\n",
       "        [14, 16],\n",
       "        [14, 21],\n",
       "        [21, 14],\n",
       "        [21, 25],\n",
       "        [25, 21],\n",
       "        [25, 23],\n",
       "        [23, 25],\n",
       "        [23, 27],\n",
       "        [27, 23],\n",
       "        [27, 20],\n",
       "        [20, 27],\n",
       "        [20, 17],\n",
       "        [17, 20],\n",
       "        [17, 24],\n",
       "        [24, 17],\n",
       "        [24, 26],\n",
       "        [26, 24],\n",
       "        [26, 19],\n",
       "        [19, 26],\n",
       "        [19, 28],\n",
       "        [28, 19],\n",
       "        [ 0,  1],\n",
       "        [ 1,  0],\n",
       "        [25, 14],\n",
       "        [14, 25],\n",
       "        [28, 24],\n",
       "        [24, 28],\n",
       "        [26, 20],\n",
       "        [20, 26],\n",
       "        [ 4,  5],\n",
       "        [ 5,  4],\n",
       "        [ 6,  7],\n",
       "        [ 7,  6],\n",
       "        [22, 15],\n",
       "        [15, 22],\n",
       "        [15, 27],\n",
       "        [27, 15]])"
      ]
     },
     "execution_count": 160,
     "metadata": {},
     "output_type": "execute_result"
    }
   ],
   "source": [
    "data.edge_index.t()[data.y_bi.numpy().astype(bool)]"
   ]
  },
  {
   "cell_type": "code",
   "execution_count": 161,
   "metadata": {
    "collapsed": true
   },
   "outputs": [
    {
     "data": {
      "text/plain": [
       "tensor([[ 5, 15],\n",
       "        [15,  5],\n",
       "        [15, 13],\n",
       "        [13, 15],\n",
       "        [10, 18],\n",
       "        [18, 10],\n",
       "        [ 1, 17],\n",
       "        [17,  1],\n",
       "        [17,  2],\n",
       "        [ 2, 17],\n",
       "        [ 2, 25],\n",
       "        [25,  2],\n",
       "        [14,  3],\n",
       "        [ 3, 14],\n",
       "        [ 3, 19],\n",
       "        [19,  3],\n",
       "        [20,  4],\n",
       "        [ 4, 20],\n",
       "        [ 5, 29],\n",
       "        [29,  5],\n",
       "        [29,  6],\n",
       "        [ 6, 29],\n",
       "        [ 7, 22],\n",
       "        [22,  7],\n",
       "        [27,  8],\n",
       "        [ 8, 27],\n",
       "        [ 8, 16],\n",
       "        [16,  8],\n",
       "        [16,  9],\n",
       "        [ 9, 16],\n",
       "        [ 9, 21],\n",
       "        [21,  9],\n",
       "        [21, 10],\n",
       "        [10, 21],\n",
       "        [10, 23],\n",
       "        [23, 10],\n",
       "        [23, 11],\n",
       "        [11, 23],\n",
       "        [11, 18],\n",
       "        [18, 11],\n",
       "        [18, 12],\n",
       "        [12, 18]])"
      ]
     },
     "execution_count": 161,
     "metadata": {},
     "output_type": "execute_result"
    }
   ],
   "source": [
    "data.edge_index.t()[np.logical_not(data.y_bi.numpy().astype(bool))]"
   ]
  },
  {
   "cell_type": "code",
   "execution_count": 184,
   "metadata": {
    "collapsed": true
   },
   "outputs": [
    {
     "data": {
      "text/plain": [
       "tensor([ True,  True,  True,  True,  True,  True,  True,  True,  True,  True,\n",
       "         True,  True,  True,  True,  True,  True,  True,  True, False, False,\n",
       "        False, False,  True,  True,  True,  True,  True,  True, False, False,\n",
       "         True,  True,  True,  True,  True,  True,  True,  True,  True,  True,\n",
       "         True,  True,  True,  True,  True,  True,  True,  True,  True,  True,\n",
       "         True,  True,  True,  True,  True,  True,  True,  True,  True,  True,\n",
       "        False, False, False, False, False, False,  True,  True, False, False,\n",
       "        False, False,  True,  True,  True,  True, False, False,  True,  True,\n",
       "        False, False, False, False,  True,  True, False, False,  True,  True,\n",
       "         True,  True, False, False, False, False, False, False, False, False,\n",
       "        False, False, False, False, False, False, False, False, False, False])"
      ]
     },
     "execution_count": 184,
     "metadata": {},
     "output_type": "execute_result"
    }
   ],
   "source": [
    "data.y_bi == 1"
   ]
  },
  {
   "cell_type": "code",
   "execution_count": 230,
   "metadata": {},
   "outputs": [
    {
     "data": {
      "text/plain": [
       "tensor([ 0.2581, -0.2581,  0.0634, -0.0634,  0.0752, -0.0752,  0.7467, -0.7467,\n",
       "        -0.7491,  0.7491,  0.5869, -0.5869, -0.4938,  0.4938,  0.8704, -0.8704,\n",
       "        -0.7279,  0.7279,  0.4520, -0.4520, -0.4602,  0.4602,  0.4214, -0.4214,\n",
       "        -0.7224,  0.7224,  0.4731, -0.4731, -0.4703,  0.4703,  0.5235, -0.5235,\n",
       "        -0.1788,  0.1788,  0.2739, -0.2739, -0.2795,  0.2795,  0.0807, -0.0807,\n",
       "        -0.0849,  0.0849])"
      ]
     },
     "execution_count": 230,
     "metadata": {},
     "output_type": "execute_result"
    }
   ],
   "source": []
  },
  {
   "cell_type": "code",
   "execution_count": 251,
   "metadata": {},
   "outputs": [
    {
     "data": {
      "text/plain": [
       "array([False, False, False, False, False, False, False, False, False,\n",
       "       False, False, False, False, False, False, False, False, False,\n",
       "       False, False, False, False, False, False, False, False, False,\n",
       "       False, False, False,  True,  True,  True,  True,  True,  True,\n",
       "        True,  True,  True,  True,  True,  True,  True,  True,  True,\n",
       "        True,  True,  True,  True,  True,  True,  True,  True,  True,\n",
       "        True,  True,  True,  True, False, False, False, False, False,\n",
       "       False, False, False,  True,  True, False, False, False, False,\n",
       "        True,  True,  True,  True, False, False, False, False, False,\n",
       "       False, False, False, False, False, False, False,  True,  True,\n",
       "        True,  True, False, False, False, False, False, False, False,\n",
       "       False, False, False, False, False, False, False, False, False,\n",
       "       False, False])"
      ]
     },
     "execution_count": 251,
     "metadata": {},
     "output_type": "execute_result"
    }
   ],
   "source": [
    "group_idxs = np.arange(len(data.group_id))[data.group_id == 1]\n",
    "edges_from_group_idxs = np.array([x in list(group_idxs) for x in  data.edge_index[0]])\n",
    "edges_to_group_idxs = np.array([x in list(group_idxs) for x in  data.edge_index[1]])\n",
    "edges_in_group_idxs = np.logical_and(edges_from_group_idxs, edges_to_group_idxs)\n",
    "edges_in_group_idxs"
   ]
  },
  {
   "cell_type": "code",
   "execution_count": 252,
   "metadata": {},
   "outputs": [
    {
     "data": {
      "text/plain": [
       "array([2, 5, 5, 2, 3, 4, 4, 3, 4, 3, 1, 6, 3, 4, 6, 1, 0, 0, 3, 4, 0, 0,\n",
       "       3, 4, 2, 5, 1, 6, 2, 5, 1, 6, 1, 6, 2, 5, 3, 4], dtype=int64)"
      ]
     },
     "execution_count": 252,
     "metadata": {},
     "output_type": "execute_result"
    }
   ],
   "source": [
    "np.mod(np.argmax((data.edge_attr[edges_in_group_idxs][:, 2:]).numpy(), axis = 1),7)"
   ]
  },
  {
   "cell_type": "code",
   "execution_count": 253,
   "metadata": {},
   "outputs": [
    {
     "data": {
      "text/plain": [
       "tensor([ 0.0027, -0.0027,  0.0410, -0.0410,  0.0068, -0.0068,  0.0282, -0.0282,\n",
       "         0.0249, -0.0249,  0.0598, -0.0598,  0.0353, -0.0353,  0.1010, -0.1010,\n",
       "         0.0109, -0.0109,  0.0150, -0.0150,  0.0272, -0.0272,  0.0292, -0.0292,\n",
       "         0.0732, -0.0732,  0.1213, -0.1213, -0.0847,  0.0847, -0.2238,  0.2238,\n",
       "        -0.0714,  0.0714, -0.1530,  0.1530,  0.4500, -0.4500])"
      ]
     },
     "execution_count": 253,
     "metadata": {},
     "output_type": "execute_result"
    }
   ],
   "source": [
    "data.edge_attr[:,0][edges_in_group_idxs]"
   ]
  },
  {
   "cell_type": "code",
   "execution_count": 258,
   "metadata": {},
   "outputs": [
    {
     "data": {
      "text/plain": [
       "tensor([ 0.2581, -0.2581,  0.0634, -0.0634,  0.0752, -0.0752,  0.7467, -0.7467,\n",
       "        -0.7491,  0.7491,  0.5869, -0.5869, -0.4938,  0.4938,  0.8704, -0.8704,\n",
       "        -0.7279,  0.7279,  0.4520, -0.4520, -0.4602,  0.4602,  0.4214, -0.4214,\n",
       "        -0.7224,  0.7224,  0.4731, -0.4731, -0.4703,  0.4703,  0.5235, -0.5235,\n",
       "        -0.1788,  0.1788,  0.2739, -0.2739, -0.2795,  0.2795,  0.0807, -0.0807,\n",
       "        -0.0849,  0.0849])"
      ]
     },
     "execution_count": 258,
     "metadata": {},
     "output_type": "execute_result"
    }
   ],
   "source": [
    "data.edge_attr[:,0][data.y_bi == 0]"
   ]
  },
  {
   "cell_type": "code",
   "execution_count": 257,
   "metadata": {},
   "outputs": [
    {
     "data": {
      "text/plain": [
       "tensor([1, 1, 1, 1, 1, 1, 1, 1, 1, 1, 1, 1, 1, 1, 1, 1, 1, 1, 1, 1, 1, 1, 1, 1,\n",
       "        1, 1, 1, 1, 1, 1, 1, 1, 1, 1, 1, 1, 1, 1])"
      ]
     },
     "execution_count": 257,
     "metadata": {},
     "output_type": "execute_result"
    }
   ],
   "source": [
    "data.y_bi[edges_in_group_idxs]"
   ]
  },
  {
   "cell_type": "code",
   "execution_count": 183,
   "metadata": {},
   "outputs": [
    {
     "name": "stdout",
     "output_type": "stream",
     "text": [
      "tensor(0)\n"
     ]
    },
    {
     "data": {
      "text/plain": [
       "tensor([-0.0634, -1.0000,  0.0000,  0.0000,  0.0000,  0.0000,  0.0000,  0.0000,\n",
       "         0.0000,  0.0000,  0.0000,  0.0000,  0.0000,  0.0000,  0.0000,  0.0000,\n",
       "         0.0000,  0.0000,  0.0000,  0.0000,  0.0000,  0.0000,  0.0000,  0.0000,\n",
       "         0.0000,  0.0000,  0.0000,  0.0000,  0.0000,  0.0000,  0.0000,  0.0000,\n",
       "         0.0000,  0.0000,  0.0000,  0.0000,  0.0000,  0.0000,  0.0000,  0.0000,\n",
       "         0.0000,  0.0000,  0.0000,  0.0000,  0.0000,  0.0000,  0.0000,  0.0000,\n",
       "         0.0000,  0.0000,  0.0000,  0.0000,  0.0000,  0.0000,  1.0000,  0.0000,\n",
       "         0.0000,  0.0000,  0.0000,  0.0000,  0.0000,  0.0000,  0.0000,  0.0000,\n",
       "         0.0000,  0.0000,  0.0000,  0.0000,  0.0000,  0.0000,  0.0000,  0.0000,\n",
       "         0.0000,  0.0000,  0.0000,  0.0000,  0.0000,  0.0000,  0.0000,  0.0000,\n",
       "         0.0000,  0.0000,  0.0000,  0.0000,  0.0000,  0.0000,  0.0000,  0.0000,\n",
       "         0.0000,  0.0000,  0.0000,  0.0000,  0.0000])"
      ]
     },
     "execution_count": 183,
     "metadata": {},
     "output_type": "execute_result"
    }
   ],
   "source": [
    "edge_idx = 21\n",
    "\n",
    "print(data.y_bi[edge_idx])\n",
    "data.edge_attr[edge_idx]"
   ]
  },
  {
   "cell_type": "code",
   "execution_count": 173,
   "metadata": {},
   "outputs": [
    {
     "data": {
      "text/plain": [
       "tensor([6.8592e-04, 1.0000e+00, 0.0000e+00, 0.0000e+00, 0.0000e+00, 0.0000e+00,\n",
       "        0.0000e+00, 0.0000e+00, 0.0000e+00, 0.0000e+00, 0.0000e+00, 0.0000e+00,\n",
       "        0.0000e+00, 0.0000e+00, 0.0000e+00, 0.0000e+00, 0.0000e+00, 0.0000e+00,\n",
       "        0.0000e+00, 0.0000e+00, 0.0000e+00, 0.0000e+00, 0.0000e+00, 0.0000e+00,\n",
       "        0.0000e+00, 0.0000e+00, 0.0000e+00, 0.0000e+00, 0.0000e+00, 0.0000e+00,\n",
       "        0.0000e+00, 0.0000e+00, 0.0000e+00, 0.0000e+00, 0.0000e+00, 0.0000e+00,\n",
       "        0.0000e+00, 0.0000e+00, 0.0000e+00, 0.0000e+00, 0.0000e+00, 0.0000e+00,\n",
       "        0.0000e+00, 0.0000e+00, 0.0000e+00, 0.0000e+00, 0.0000e+00, 0.0000e+00,\n",
       "        0.0000e+00, 0.0000e+00, 0.0000e+00, 0.0000e+00, 0.0000e+00, 0.0000e+00,\n",
       "        0.0000e+00, 0.0000e+00, 0.0000e+00, 0.0000e+00, 0.0000e+00, 0.0000e+00,\n",
       "        0.0000e+00, 0.0000e+00, 0.0000e+00, 0.0000e+00, 0.0000e+00, 1.0000e+00,\n",
       "        0.0000e+00, 0.0000e+00, 0.0000e+00, 0.0000e+00, 0.0000e+00, 0.0000e+00,\n",
       "        0.0000e+00, 0.0000e+00, 0.0000e+00, 0.0000e+00, 0.0000e+00, 0.0000e+00,\n",
       "        0.0000e+00, 0.0000e+00, 0.0000e+00, 0.0000e+00, 0.0000e+00, 0.0000e+00,\n",
       "        0.0000e+00, 0.0000e+00, 0.0000e+00, 0.0000e+00, 0.0000e+00, 0.0000e+00,\n",
       "        0.0000e+00, 0.0000e+00, 0.0000e+00])"
      ]
     },
     "execution_count": 173,
     "metadata": {},
     "output_type": "execute_result"
    }
   ],
   "source": [
    "data.edge_attr[2]"
   ]
  },
  {
   "cell_type": "code",
   "execution_count": 162,
   "metadata": {},
   "outputs": [],
   "source": [
    "node_ids = [x for x in range(len(d_arr))]\n",
    "positions_list = [(x[0], x[1]) for x in data['pos'].tolist()]\n",
    "pos_dict = dict(zip(node_ids, positions_list))\n",
    "\n",
    "# edge_colors = ['blue' if DG.degree[e[0]] == 2 else 'black' for e in DG.edges]"
   ]
  },
  {
   "cell_type": "code",
   "execution_count": 163,
   "metadata": {},
   "outputs": [],
   "source": [
    "g = torch_geometric.utils.to_networkx(data, node_attrs=None, edge_attrs=None)"
   ]
  },
  {
   "cell_type": "code",
   "execution_count": 255,
   "metadata": {},
   "outputs": [
    {
     "data": {
      "image/png": "[encoded data removed]",
      "text/plain": [
       "<Figure size 1080x1080 with 1 Axes>"
      ]
     },
     "metadata": {},
     "output_type": "display_data"
    }
   ],
   "source": [
    "fig, ax = plt.subplots(1, 1, figsize=(15, 15))\n",
    "nx.draw_networkx(g, ax=ax, node_size=5,\n",
    "                 font_size=6, alpha=.5,\n",
    "                 width=.5, pos = pos_dict)\n",
    "ax.set_axis_off()"
   ]
  },
  {
   "cell_type": "code",
   "execution_count": 135,
   "metadata": {
    "collapsed": true
   },
   "outputs": [
    {
     "name": "stderr",
     "output_type": "stream",
     "text": [
      "C:\\Users\\andy.knapper\\AppData\\Local\\Continuum\\anaconda3\\lib\\site-packages\\networkx\\drawing\\nx_pylab.py:579: MatplotlibDeprecationWarning: \n",
      "The iterable function was deprecated in Matplotlib 3.1 and will be removed in 3.3. Use np.iterable instead.\n",
      "  if not cb.iterable(width):\n",
      "C:\\Users\\andy.knapper\\AppData\\Local\\Continuum\\anaconda3\\lib\\site-packages\\networkx\\drawing\\nx_pylab.py:676: MatplotlibDeprecationWarning: \n",
      "The iterable function was deprecated in Matplotlib 3.1 and will be removed in 3.3. Use np.iterable instead.\n",
      "  if cb.iterable(node_size):  # many node sizes\n"
     ]
    },
    {
     "data": {
      "image/png": "[encoded data removed]",
      "text/plain": [
       "<Figure size 1080x1080 with 1 Axes>"
      ]
     },
     "metadata": {},
     "output_type": "display_data"
    }
   ],
   "source": [
    "# importlib.reload(synthetic_data)\n",
    "# importlib.reload(graph_constructors)\n",
    "\n",
    "# data = graph_constructors.make_pyg_graph(d_arr, a_arr, g_arr)\n",
    "\n",
    "# node_ids = [x for x in range(len(d_arr))]\n",
    "# positions_list = [(x[0], x[1]) for x in data['pos'].tolist()]\n",
    "# pos_dict = dict(zip(node_ids, positions_list))\n",
    "\n",
    "# g = torch_geometric.utils.to_networkx(data, node_attrs=None, edge_attrs=None)\n",
    "\n",
    "# fig, ax = plt.subplots(1, 1, figsize=(15, 15))\n",
    "# nx.draw_networkx(g, ax=ax, node_size=5,\n",
    "#                  font_size=6, alpha=.5,\n",
    "#                  width=.5, pos = pos_dict)\n",
    "# ax.set_axis_off()"
   ]
  },
  {
   "cell_type": "markdown",
   "metadata": {},
   "source": [
    "### Set up the model"
   ]
  },
  {
   "cell_type": "markdown",
   "metadata": {},
   "source": [
    "First construct the dataloader"
   ]
  },
  {
   "cell_type": "code",
   "execution_count": null,
   "metadata": {},
   "outputs": [],
   "source": [
    "#initial model structure\n",
    "\n",
    "#1.embedding on the edge_attr to a lower dim space using a MLP\n",
    "#2.edge to node convolution - might need to hand code class\n",
    "#3.node to edge convolution - probably already exists in PyG\n",
    "#4.repeat above (same convolutions or new ones?)\n",
    "#5.MLP on new edge_attrs\n",
    "#6.softmax on MLP output"
   ]
  },
  {
   "cell_type": "code",
   "execution_count": 12,
   "metadata": {},
   "outputs": [],
   "source": [
    "import torch\n",
    "import torch.nn.functional as F\n",
    "from torch_geometric.nn import GCNConv\n",
    "from torch_geometric.nn import ECConv\n",
    "\n",
    "from torch.nn import Sequential as Seq, Linear as Lin, ReLU\n",
    "from torch_scatter import scatter_mean\n",
    "from torch_geometric.nn import MetaLayer\n",
    "from torch_geometric.data import Data, DataLoader\n",
    "import torch.nn as nn"
   ]
  },
  {
   "cell_type": "code",
   "execution_count": 265,
   "metadata": {},
   "outputs": [
    {
     "data": {
      "text/plain": [
       "<module 'data_utils.graph_constructors' from 'C:\\\\Users\\\\andy.knapper\\\\Documents\\\\OW\\\\Categorisation\\\\ML grouping\\\\GNN-for-trans-grouping\\\\data_utils\\\\graph_constructors.py'>"
      ]
     },
     "execution_count": 265,
     "metadata": {},
     "output_type": "execute_result"
    }
   ],
   "source": [
    "importlib.reload(synthetic_data)\n",
    "importlib.reload(graph_constructors)"
   ]
  },
  {
   "cell_type": "markdown",
   "metadata": {},
   "source": [
    "#### Below is model that I want to implement"
   ]
  },
  {
   "cell_type": "markdown",
   "metadata": {},
   "source": [
    "https://github.com/rusty1s/pytorch_geometric/issues/535"
   ]
  },
  {
   "cell_type": "markdown",
   "metadata": {},
   "source": [
    "Things I can vary:\n",
    "\n",
    "1. Graph construction / pruning  (e.g. bi-directional or not)\n",
    "2. Embedding network and dimensions\n",
    "3. convolution direction to start with (node->edge or edge->node)\n",
    "4. node convolution structure (retain initial features in attr tensor)\n",
    "5. edge convolution structure (retain initial features in attr tensor)\n",
    "6. classification network - how to combine the edge attrs if the graph is bidirectional\n",
    "7. loss criteria - unbalanaced classes, should this be weighted for certain types of mis-classification\n",
    "8. training tricks: batch normalisation, dropout, initialisation"
   ]
  },
  {
   "cell_type": "markdown",
   "metadata": {},
   "source": [
    "Ideas:\n",
    "\n",
    "* simplify the combination of groups in each example\n",
    "* recode graph generation to only have edges in one direction (make the amount edge property an abs value)\n",
    "* prune the edges from the graphs to make them more sparse\n",
    "* recode the node attr update conv to use only the single directional edge but treat src and dest symmetrically (model code on current edge attr update conv)\n",
    "* make sure the MLP are deep enough and add batch norm and drop out\n",
    "* include multiple iterations of update using differnt convolutions at each stage\n"
   ]
  },
  {
   "cell_type": "code",
   "execution_count": null,
   "metadata": {},
   "outputs": [],
   "source": []
  },
  {
   "cell_type": "code",
   "execution_count": 13,
   "metadata": {},
   "outputs": [],
   "source": [
    "##############################################################################\n",
    "#first create the class to perform the node->edge convolutions\n",
    "#this will be called later in the overall model\n",
    "\n",
    "class MyLayer(torch.nn.Module):\n",
    "    def __init__(self, number_of_node_features, number_of_edge_features):\n",
    "        super(MyLayer, self).__init__()\n",
    "\n",
    "        edge_mlp_channels_in = 2 * number_of_node_features + 10\n",
    "        #only one layer deep at present\n",
    "        self.edge_mlp = Seq(Lin(edge_mlp_channels_in, 10), ReLU())\n",
    "\n",
    "        \n",
    "        def edge_model(src, dest, edge_attr, u, batch):\n",
    "            edge_neighborhoods = torch.cat([src, dest, edge_attr], 1)\n",
    "            return self.edge_mlp(edge_neighborhoods)\n",
    "\n",
    "        self.op = MetaLayer(edge_model)\n",
    "\n",
    "    def forward(self, x, edge_index, edge_attr, u, batch):\n",
    "        return self.op(x, edge_index, edge_attr, u, batch)"
   ]
  },
  {
   "cell_type": "code",
   "execution_count": 24,
   "metadata": {},
   "outputs": [],
   "source": [
    "class Net(torch.nn.Module):\n",
    "    def __init__(self, number_of_node_features, number_of_edge_features):\n",
    "        super(Net, self).__init__()\n",
    "\n",
    "        self.number_of_node_features = number_of_node_features\n",
    "        self.number_of_edge_features = number_of_edge_features\n",
    "        \n",
    "        ##############################################################################################\n",
    "        #initialise edge embedding MLP\n",
    "        self.edge_embed_lin1 = Lin(self.number_of_edge_features, 20)\n",
    "        self.edge_embed_lin2 = Lin(20, 10)\n",
    "        self.edge_embed_act1 = ReLU()\n",
    "        self.edge_embed_act2 = ReLU()\n",
    "        \n",
    "        self.edge_embed_mlp = Seq(self.edge_embed_lin1, nn.BatchNorm1d(20), self.edge_embed_act1, self.edge_embed_lin2, nn.BatchNorm1d(10), self.edge_embed_act2)\n",
    "        #self.edge_embed_mlp = Seq(self.edge_embed_lin1, self.edge_embed_act1, self.edge_embed_lin2,  self.edge_embed_act2)\n",
    "        \n",
    "        \n",
    "        ##############################################################################################\n",
    "        #initialise edge conditioned convolution to update node attributes by propagating surrounding node attributes via edge attributes\n",
    "        \n",
    "        self.node_update_conv_nn_1 = Seq(Lin(10, 5), nn.BatchNorm1d(5) ,ReLU(), Lin(5, self.number_of_node_features*self.number_of_node_features), nn.BatchNorm1d(self.number_of_node_features*self.number_of_node_features), ReLU())\n",
    "        self.node_update_conv_1 = ECConv(in_channels = self.number_of_node_features,out_channels=self.number_of_node_features, nn = self.node_update_conv_nn_1, aggr='add', root_weight=True, bias=True)\n",
    "        \n",
    "        self.node_update_conv_nn_2 = Seq(Lin(10, 5), nn.BatchNorm1d(5) ,ReLU(), Lin(5, self.number_of_node_features*self.number_of_node_features), nn.BatchNorm1d(self.number_of_node_features*self.number_of_node_features), ReLU())\n",
    "        self.node_update_conv_2 = ECConv(in_channels = self.number_of_node_features,out_channels=self.number_of_node_features, nn = self.node_update_conv_nn_2, aggr='add', root_weight=True, bias=True)\n",
    "        \n",
    "        self.node_update_conv_nn_3 = Seq(Lin(10, 5), nn.BatchNorm1d(5) ,ReLU(), Lin(5, self.number_of_node_features*self.number_of_node_features), nn.BatchNorm1d(self.number_of_node_features*self.number_of_node_features), ReLU())\n",
    "        self.node_update_conv_3 = ECConv(in_channels = self.number_of_node_features,out_channels=self.number_of_node_features, nn = self.node_update_conv_nn_3, aggr='add', root_weight=True, bias=True)\n",
    "        \n",
    "        \n",
    "        #############################################################################################\n",
    "        #initialise the edge_attr updates from the node attrs\n",
    "        \n",
    "        self.edge_update_conv_1 = MyLayer(number_of_node_features, 10)\n",
    "        \n",
    "        self.edge_update_conv_2 = MyLayer(number_of_node_features, 10)\n",
    "        \n",
    "        self.edge_update_conv_3 = MyLayer(number_of_node_features, 10)\n",
    "        \n",
    "        \n",
    "        #############################################################################################\n",
    "        #initialise edge classifier MLP\n",
    "        \n",
    "        self.edge_class_lin1 = Lin(10, 5)\n",
    "        self.edge_class_lin2 = Lin(5, 2)\n",
    "        self.edge_class_act1 = ReLU()\n",
    "        self.edge_class_act2 = ReLU()\n",
    "        \n",
    "        self.edge_class_mlp = Seq(self.edge_class_lin1, nn.Dropout(0.5), self.edge_class_act1, self.edge_class_lin2, nn.Dropout(0.5),  self.edge_class_act2)\n",
    "        \n",
    "        \n",
    "\n",
    "    def forward(self, data):\n",
    "        x, edge_index, edge_attr, edge_pairs = data.x, data.edge_index, data.edge_attr, data.edge_pairs\n",
    "\n",
    "        \n",
    "        ########################################################################\n",
    "        #embed the edge attributes in a lower dim space      \n",
    "        edge_attr = self.edge_embed_mlp(edge_attr)\n",
    "\n",
    "        \n",
    "        ########################################################################\n",
    "        #iterate the messages\n",
    "        \n",
    "        #update the node attributes\n",
    "        x = self.node_update_conv_1(x, edge_index, edge_attr)\n",
    "        #update the edges attributes\n",
    "        x, edge_attr, _ = self.edge_update_conv_1.forward(x, edge_index, edge_attr, u=None, batch=data.batch)\n",
    "               \n",
    "        #update the node attributes\n",
    "        x = self.node_update_conv_2(x, edge_index, edge_attr)\n",
    "        #update the edges attributes\n",
    "        x, edge_attr, _ = self.edge_update_conv_2.forward(x, edge_index, edge_attr, u=None, batch=data.batch)\n",
    "        \n",
    "        #update the node attributes\n",
    "        x = self.node_update_conv_3(x, edge_index, edge_attr)\n",
    "        #update the edges attributes\n",
    "        x, edge_attr, _ = self.edge_update_conv_3.forward(x, edge_index, edge_attr, u=None, batch=data.batch)\n",
    "        \n",
    "            \n",
    "        ######################################################################\n",
    "        #pool the attributes over edge pairs\n",
    "        pooled_edge_attr, _ = torch.max(edge_attr[edge_pairs], 1)\n",
    "            \n",
    "        #apply a classifier to the edge attrs\n",
    "        pooled_edge_attr = self.edge_class_mlp(pooled_edge_attr)\n",
    "\n",
    "        return F.log_softmax(pooled_edge_attr, dim=1)\n",
    "\n",
    "    \n"
   ]
  },
  {
   "cell_type": "code",
   "execution_count": 15,
   "metadata": {},
   "outputs": [],
   "source": [
    "def init_weights(m):\n",
    "    if type(m) == nn.Linear:\n",
    "        torch.nn.init.xavier_uniform(m.weight)\n",
    "        m.bias.data.fill_(0.01)\n"
   ]
  },
  {
   "cell_type": "markdown",
   "metadata": {},
   "source": [
    "create the dataloader and iterate the data through the model"
   ]
  },
  {
   "cell_type": "code",
   "execution_count": 16,
   "metadata": {},
   "outputs": [],
   "source": [
    "device = torch.device('cuda:0' if torch.cuda.is_available() else 'cpu')"
   ]
  },
  {
   "cell_type": "code",
   "execution_count": 17,
   "metadata": {},
   "outputs": [],
   "source": [
    "data_list = [graph_constructors.make_pyg_graph(*np.array(synthetic_data.make_a_group())).to(device) for _ in range(32)]\n",
    "loader = DataLoader(data_list, batch_size=8)"
   ]
  },
  {
   "cell_type": "code",
   "execution_count": 18,
   "metadata": {},
   "outputs": [],
   "source": [
    "node_features = data_list[0].x.shape[-1]\n",
    "num_edges = data_list[0].edge_attr.shape[0]\n",
    "edge_features = data_list[0].edge_attr.shape[-1]"
   ]
  },
  {
   "cell_type": "code",
   "execution_count": 25,
   "metadata": {
    "collapsed": true
   },
   "outputs": [
    {
     "name": "stderr",
     "output_type": "stream",
     "text": [
      "C:\\Users\\andy.knapper\\AppData\\Local\\Continuum\\anaconda3\\lib\\site-packages\\ipykernel_launcher.py:3: UserWarning: nn.init.xavier_uniform is now deprecated in favor of nn.init.xavier_uniform_.\n",
      "  This is separate from the ipykernel package so we can avoid doing imports until\n"
     ]
    },
    {
     "name": "stdout",
     "output_type": "stream",
     "text": [
      "Let's use 1 GPU(s)!\n",
      "loss at iteration  0  is  tensor(0.6791, device='cuda:0', grad_fn=<NllLossBackward>)\n",
      "loss at iteration  1  is  tensor(0.6742, device='cuda:0', grad_fn=<NllLossBackward>)\n",
      "loss at iteration  2  is  tensor(0.6856, device='cuda:0', grad_fn=<NllLossBackward>)\n",
      "loss at iteration  3  is  tensor(0.6721, device='cuda:0', grad_fn=<NllLossBackward>)\n",
      "loss at iteration  4  is  tensor(0.6629, device='cuda:0', grad_fn=<NllLossBackward>)\n",
      "loss at iteration  5  is  tensor(0.6668, device='cuda:0', grad_fn=<NllLossBackward>)\n",
      "loss at iteration  6  is  tensor(0.6390, device='cuda:0', grad_fn=<NllLossBackward>)\n",
      "loss at iteration  7  is  tensor(0.6643, device='cuda:0', grad_fn=<NllLossBackward>)\n",
      "loss at iteration  8  is  tensor(0.5942, device='cuda:0', grad_fn=<NllLossBackward>)\n"
     ]
    },
    {
     "ename": "IndexError",
     "evalue": "too many indices for tensor of dimension 1",
     "output_type": "error",
     "traceback": [
      "\u001b[1;31m---------------------------------------------------------------------------\u001b[0m",
      "\u001b[1;31mIndexError\u001b[0m                                Traceback (most recent call last)",
      "\u001b[1;32m<ipython-input-25-9ca12daf0d7f>\u001b[0m in \u001b[0;36m<module>\u001b[1;34m\u001b[0m\n\u001b[0;32m     13\u001b[0m     \u001b[1;31m#print(j)\u001b[0m\u001b[1;33m\u001b[0m\u001b[1;33m\u001b[0m\u001b[1;33m\u001b[0m\u001b[0m\n\u001b[0;32m     14\u001b[0m \u001b[1;33m\u001b[0m\u001b[0m\n\u001b[1;32m---> 15\u001b[1;33m     \u001b[0mdata_list\u001b[0m \u001b[1;33m=\u001b[0m \u001b[1;33m[\u001b[0m\u001b[0mgraph_constructors\u001b[0m\u001b[1;33m.\u001b[0m\u001b[0mmake_pyg_graph\u001b[0m\u001b[1;33m(\u001b[0m\u001b[1;33m*\u001b[0m\u001b[0mnp\u001b[0m\u001b[1;33m.\u001b[0m\u001b[0marray\u001b[0m\u001b[1;33m(\u001b[0m\u001b[0msynthetic_data\u001b[0m\u001b[1;33m.\u001b[0m\u001b[0mmake_a_group\u001b[0m\u001b[1;33m(\u001b[0m\u001b[1;33m)\u001b[0m\u001b[1;33m)\u001b[0m\u001b[1;33m)\u001b[0m\u001b[1;33m.\u001b[0m\u001b[0mto\u001b[0m\u001b[1;33m(\u001b[0m\u001b[0mdevice\u001b[0m\u001b[1;33m)\u001b[0m \u001b[1;32mfor\u001b[0m \u001b[0m_\u001b[0m \u001b[1;32min\u001b[0m \u001b[0mrange\u001b[0m\u001b[1;33m(\u001b[0m\u001b[1;36m1024\u001b[0m\u001b[1;33m)\u001b[0m\u001b[1;33m]\u001b[0m\u001b[1;33m\u001b[0m\u001b[1;33m\u001b[0m\u001b[0m\n\u001b[0m\u001b[0;32m     16\u001b[0m     \u001b[0mloader\u001b[0m \u001b[1;33m=\u001b[0m \u001b[0mDataLoader\u001b[0m\u001b[1;33m(\u001b[0m\u001b[0mdata_list\u001b[0m\u001b[1;33m,\u001b[0m \u001b[0mbatch_size\u001b[0m\u001b[1;33m=\u001b[0m\u001b[1;36m8\u001b[0m\u001b[1;33m)\u001b[0m\u001b[1;33m\u001b[0m\u001b[1;33m\u001b[0m\u001b[0m\n\u001b[0;32m     17\u001b[0m \u001b[1;33m\u001b[0m\u001b[0m\n",
      "\u001b[1;32m<ipython-input-25-9ca12daf0d7f>\u001b[0m in \u001b[0;36m<listcomp>\u001b[1;34m(.0)\u001b[0m\n\u001b[0;32m     13\u001b[0m     \u001b[1;31m#print(j)\u001b[0m\u001b[1;33m\u001b[0m\u001b[1;33m\u001b[0m\u001b[1;33m\u001b[0m\u001b[0m\n\u001b[0;32m     14\u001b[0m \u001b[1;33m\u001b[0m\u001b[0m\n\u001b[1;32m---> 15\u001b[1;33m     \u001b[0mdata_list\u001b[0m \u001b[1;33m=\u001b[0m \u001b[1;33m[\u001b[0m\u001b[0mgraph_constructors\u001b[0m\u001b[1;33m.\u001b[0m\u001b[0mmake_pyg_graph\u001b[0m\u001b[1;33m(\u001b[0m\u001b[1;33m*\u001b[0m\u001b[0mnp\u001b[0m\u001b[1;33m.\u001b[0m\u001b[0marray\u001b[0m\u001b[1;33m(\u001b[0m\u001b[0msynthetic_data\u001b[0m\u001b[1;33m.\u001b[0m\u001b[0mmake_a_group\u001b[0m\u001b[1;33m(\u001b[0m\u001b[1;33m)\u001b[0m\u001b[1;33m)\u001b[0m\u001b[1;33m)\u001b[0m\u001b[1;33m.\u001b[0m\u001b[0mto\u001b[0m\u001b[1;33m(\u001b[0m\u001b[0mdevice\u001b[0m\u001b[1;33m)\u001b[0m \u001b[1;32mfor\u001b[0m \u001b[0m_\u001b[0m \u001b[1;32min\u001b[0m \u001b[0mrange\u001b[0m\u001b[1;33m(\u001b[0m\u001b[1;36m1024\u001b[0m\u001b[1;33m)\u001b[0m\u001b[1;33m]\u001b[0m\u001b[1;33m\u001b[0m\u001b[1;33m\u001b[0m\u001b[0m\n\u001b[0m\u001b[0;32m     16\u001b[0m     \u001b[0mloader\u001b[0m \u001b[1;33m=\u001b[0m \u001b[0mDataLoader\u001b[0m\u001b[1;33m(\u001b[0m\u001b[0mdata_list\u001b[0m\u001b[1;33m,\u001b[0m \u001b[0mbatch_size\u001b[0m\u001b[1;33m=\u001b[0m\u001b[1;36m8\u001b[0m\u001b[1;33m)\u001b[0m\u001b[1;33m\u001b[0m\u001b[1;33m\u001b[0m\u001b[0m\n\u001b[0;32m     17\u001b[0m \u001b[1;33m\u001b[0m\u001b[0m\n",
      "\u001b[1;32m~\\Documents\\OW\\Categorisation\\ML grouping\\GNN-for-trans-grouping\\data_utils\\graph_constructors.py\u001b[0m in \u001b[0;36mmake_pyg_graph\u001b[1;34m(inp_day_arr, inp_amt_arr, inp_group_arr)\u001b[0m\n\u001b[0;32m    189\u001b[0m     \u001b[1;31m#need to reduce y so we have only 1 output per edge pair and the orders are consistent with the edge pairs tensor that will be used in the training\u001b[0m\u001b[1;33m\u001b[0m\u001b[1;33m\u001b[0m\u001b[1;33m\u001b[0m\u001b[0m\n\u001b[0;32m    190\u001b[0m     \u001b[0my_bi\u001b[0m \u001b[1;33m=\u001b[0m \u001b[0mtorch\u001b[0m\u001b[1;33m.\u001b[0m\u001b[0mtensor\u001b[0m\u001b[1;33m(\u001b[0m\u001b[0mout_edge_labels_lst\u001b[0m\u001b[1;33m,\u001b[0m \u001b[0mdtype\u001b[0m \u001b[1;33m=\u001b[0m \u001b[0mtorch\u001b[0m\u001b[1;33m.\u001b[0m\u001b[0mlong\u001b[0m\u001b[1;33m)\u001b[0m\u001b[1;33m\u001b[0m\u001b[1;33m\u001b[0m\u001b[0m\n\u001b[1;32m--> 191\u001b[1;33m     \u001b[0my\u001b[0m\u001b[1;33m=\u001b[0m \u001b[0my_bi\u001b[0m\u001b[1;33m[\u001b[0m\u001b[0medge_pair_idxs_ten\u001b[0m\u001b[1;33m[\u001b[0m\u001b[1;33m:\u001b[0m\u001b[1;33m,\u001b[0m\u001b[1;36m0\u001b[0m\u001b[1;33m]\u001b[0m\u001b[1;33m]\u001b[0m\u001b[1;33m\u001b[0m\u001b[1;33m\u001b[0m\u001b[0m\n\u001b[0m\u001b[0;32m    192\u001b[0m \u001b[1;33m\u001b[0m\u001b[0m\n\u001b[0;32m    193\u001b[0m     \u001b[0mpos\u001b[0m \u001b[1;33m=\u001b[0m \u001b[0mtorch\u001b[0m\u001b[1;33m.\u001b[0m\u001b[0mtensor\u001b[0m\u001b[1;33m(\u001b[0m\u001b[1;33m[\u001b[0m\u001b[0mx\u001b[0m \u001b[1;32mfor\u001b[0m \u001b[0mx\u001b[0m \u001b[1;32min\u001b[0m \u001b[0mzip\u001b[0m\u001b[1;33m(\u001b[0m\u001b[0minp_day_arr\u001b[0m\u001b[1;33m,\u001b[0m \u001b[0minp_amt_arr\u001b[0m\u001b[1;33m)\u001b[0m\u001b[1;33m]\u001b[0m\u001b[1;33m)\u001b[0m\u001b[1;33m\u001b[0m\u001b[1;33m\u001b[0m\u001b[0m\n",
      "\u001b[1;31mIndexError\u001b[0m: too many indices for tensor of dimension 1"
     ]
    }
   ],
   "source": [
    "model = Net(node_features, edge_features)\n",
    "\n",
    "model.apply(init_weights)\n",
    "\n",
    "print('Let\\'s use', torch.cuda.device_count(), 'GPU(s)!')\n",
    "device = torch.device('cuda:0' if torch.cuda.is_available() else 'cpu')\n",
    "model = model.to(device)\n",
    "\n",
    "optimizer = torch.optim.Adam(model.parameters(), lr=0.001)\n",
    "\n",
    "for j in range(10):\n",
    "    \n",
    "    #print(j)\n",
    "    \n",
    "    data_list = [graph_constructors.make_pyg_graph(*np.array(synthetic_data.make_a_group())).to(device) for _ in range(1024)]\n",
    "    loader = DataLoader(data_list, batch_size=8)\n",
    "\n",
    "    for i, btch in enumerate(loader):\n",
    "\n",
    "        optimizer.zero_grad()\n",
    "        output = model(btch)\n",
    "\n",
    "        y = btch.y.to(output.device)\n",
    "        loss = F.nll_loss(output, y)\n",
    "        loss.backward()\n",
    "        optimizer.step()\n",
    "    \n",
    "    print('loss at iteration ', j ,' is ', loss)\n",
    "\n",
    "    "
   ]
  },
  {
   "cell_type": "code",
   "execution_count": 26,
   "metadata": {
    "collapsed": true
   },
   "outputs": [
    {
     "name": "stderr",
     "output_type": "stream",
     "text": [
      "C:\\Users\\andy.knapper\\AppData\\Local\\Continuum\\anaconda3\\lib\\site-packages\\ipykernel_launcher.py:3: UserWarning: nn.init.xavier_uniform is now deprecated in favor of nn.init.xavier_uniform_.\n",
      "  This is separate from the ipykernel package so we can avoid doing imports until\n"
     ]
    },
    {
     "name": "stdout",
     "output_type": "stream",
     "text": [
      "Let's use 1 GPU(s)!\n",
      "loss at iteration  0  is  tensor(0.7274, device='cuda:0', grad_fn=<NllLossBackward>)\n",
      "loss at iteration  1  is  tensor(0.7289, device='cuda:0', grad_fn=<NllLossBackward>)\n",
      "loss at iteration  2  is  tensor(0.7785, device='cuda:0', grad_fn=<NllLossBackward>)\n",
      "loss at iteration  3  is  tensor(0.7137, device='cuda:0', grad_fn=<NllLossBackward>)\n",
      "loss at iteration  4  is  tensor(0.7287, device='cuda:0', grad_fn=<NllLossBackward>)\n",
      "loss at iteration  5  is  tensor(0.7167, device='cuda:0', grad_fn=<NllLossBackward>)\n",
      "loss at iteration  6  is  tensor(0.7264, device='cuda:0', grad_fn=<NllLossBackward>)\n",
      "loss at iteration  7  is  tensor(0.7069, device='cuda:0', grad_fn=<NllLossBackward>)\n",
      "loss at iteration  8  is  tensor(0.6986, device='cuda:0', grad_fn=<NllLossBackward>)\n",
      "loss at iteration  9  is  tensor(0.7121, device='cuda:0', grad_fn=<NllLossBackward>)\n",
      "loss at iteration  10  is  tensor(0.6858, device='cuda:0', grad_fn=<NllLossBackward>)\n",
      "loss at iteration  11  is  tensor(0.6861, device='cuda:0', grad_fn=<NllLossBackward>)\n",
      "loss at iteration  12  is  tensor(0.7006, device='cuda:0', grad_fn=<NllLossBackward>)\n",
      "loss at iteration  13  is  tensor(0.7174, device='cuda:0', grad_fn=<NllLossBackward>)\n",
      "loss at iteration  14  is  tensor(0.6961, device='cuda:0', grad_fn=<NllLossBackward>)\n",
      "loss at iteration  15  is  tensor(0.7133, device='cuda:0', grad_fn=<NllLossBackward>)\n",
      "loss at iteration  16  is  tensor(0.6890, device='cuda:0', grad_fn=<NllLossBackward>)\n",
      "loss at iteration  17  is  tensor(0.7102, device='cuda:0', grad_fn=<NllLossBackward>)\n",
      "loss at iteration  18  is  tensor(0.6912, device='cuda:0', grad_fn=<NllLossBackward>)\n",
      "loss at iteration  19  is  tensor(0.7124, device='cuda:0', grad_fn=<NllLossBackward>)\n",
      "loss at iteration  20  is  tensor(0.7081, device='cuda:0', grad_fn=<NllLossBackward>)\n",
      "loss at iteration  21  is  tensor(0.6923, device='cuda:0', grad_fn=<NllLossBackward>)\n",
      "loss at iteration  22  is  tensor(0.7020, device='cuda:0', grad_fn=<NllLossBackward>)\n",
      "loss at iteration  23  is  tensor(0.7053, device='cuda:0', grad_fn=<NllLossBackward>)\n",
      "loss at iteration  24  is  tensor(0.6968, device='cuda:0', grad_fn=<NllLossBackward>)\n",
      "loss at iteration  25  is  tensor(0.7278, device='cuda:0', grad_fn=<NllLossBackward>)\n",
      "loss at iteration  26  is  tensor(0.6977, device='cuda:0', grad_fn=<NllLossBackward>)\n",
      "loss at iteration  27  is  tensor(0.7086, device='cuda:0', grad_fn=<NllLossBackward>)\n",
      "loss at iteration  28  is  tensor(0.6923, device='cuda:0', grad_fn=<NllLossBackward>)\n",
      "loss at iteration  29  is  tensor(0.6992, device='cuda:0', grad_fn=<NllLossBackward>)\n",
      "loss at iteration  30  is  tensor(0.6935, device='cuda:0', grad_fn=<NllLossBackward>)\n",
      "loss at iteration  31  is  tensor(0.6935, device='cuda:0', grad_fn=<NllLossBackward>)\n",
      "loss at iteration  32  is  tensor(0.6958, device='cuda:0', grad_fn=<NllLossBackward>)\n",
      "loss at iteration  33  is  tensor(0.6901, device='cuda:0', grad_fn=<NllLossBackward>)\n",
      "loss at iteration  34  is  tensor(0.6965, device='cuda:0', grad_fn=<NllLossBackward>)\n",
      "loss at iteration  35  is  tensor(0.6888, device='cuda:0', grad_fn=<NllLossBackward>)\n",
      "loss at iteration  36  is  tensor(0.6792, device='cuda:0', grad_fn=<NllLossBackward>)\n",
      "loss at iteration  37  is  tensor(0.6921, device='cuda:0', grad_fn=<NllLossBackward>)\n",
      "loss at iteration  38  is  tensor(0.6884, device='cuda:0', grad_fn=<NllLossBackward>)\n",
      "loss at iteration  39  is  tensor(0.6922, device='cuda:0', grad_fn=<NllLossBackward>)\n",
      "loss at iteration  40  is  tensor(0.6947, device='cuda:0', grad_fn=<NllLossBackward>)\n",
      "loss at iteration  41  is  tensor(0.6882, device='cuda:0', grad_fn=<NllLossBackward>)\n",
      "loss at iteration  42  is  tensor(0.6945, device='cuda:0', grad_fn=<NllLossBackward>)\n",
      "loss at iteration  43  is  tensor(0.6988, device='cuda:0', grad_fn=<NllLossBackward>)\n",
      "loss at iteration  44  is  tensor(0.6879, device='cuda:0', grad_fn=<NllLossBackward>)\n",
      "loss at iteration  45  is  tensor(0.6886, device='cuda:0', grad_fn=<NllLossBackward>)\n",
      "loss at iteration  46  is  tensor(0.6823, device='cuda:0', grad_fn=<NllLossBackward>)\n",
      "loss at iteration  47  is  tensor(0.7021, device='cuda:0', grad_fn=<NllLossBackward>)\n",
      "loss at iteration  48  is  tensor(0.6947, device='cuda:0', grad_fn=<NllLossBackward>)\n",
      "loss at iteration  49  is  tensor(0.7002, device='cuda:0', grad_fn=<NllLossBackward>)\n",
      "loss at iteration  50  is  tensor(0.6776, device='cuda:0', grad_fn=<NllLossBackward>)\n",
      "loss at iteration  51  is  tensor(0.6938, device='cuda:0', grad_fn=<NllLossBackward>)\n",
      "loss at iteration  52  is  tensor(0.6852, device='cuda:0', grad_fn=<NllLossBackward>)\n",
      "loss at iteration  53  is  tensor(0.6834, device='cuda:0', grad_fn=<NllLossBackward>)\n",
      "loss at iteration  54  is  tensor(0.6774, device='cuda:0', grad_fn=<NllLossBackward>)\n",
      "loss at iteration  55  is  tensor(0.6926, device='cuda:0', grad_fn=<NllLossBackward>)\n",
      "loss at iteration  56  is  tensor(0.6810, device='cuda:0', grad_fn=<NllLossBackward>)\n",
      "loss at iteration  57  is  tensor(0.6842, device='cuda:0', grad_fn=<NllLossBackward>)\n",
      "loss at iteration  58  is  tensor(0.6965, device='cuda:0', grad_fn=<NllLossBackward>)\n",
      "loss at iteration  59  is  tensor(0.6847, device='cuda:0', grad_fn=<NllLossBackward>)\n",
      "loss at iteration  60  is  tensor(0.6987, device='cuda:0', grad_fn=<NllLossBackward>)\n",
      "loss at iteration  61  is  tensor(0.7106, device='cuda:0', grad_fn=<NllLossBackward>)\n",
      "loss at iteration  62  is  tensor(0.7031, device='cuda:0', grad_fn=<NllLossBackward>)\n",
      "loss at iteration  63  is  tensor(0.6852, device='cuda:0', grad_fn=<NllLossBackward>)\n",
      "loss at iteration  64  is  tensor(0.7097, device='cuda:0', grad_fn=<NllLossBackward>)\n",
      "loss at iteration  65  is  tensor(0.6914, device='cuda:0', grad_fn=<NllLossBackward>)\n",
      "loss at iteration  66  is  tensor(0.6794, device='cuda:0', grad_fn=<NllLossBackward>)\n",
      "loss at iteration  67  is  tensor(0.6936, device='cuda:0', grad_fn=<NllLossBackward>)\n",
      "loss at iteration  68  is  tensor(0.6884, device='cuda:0', grad_fn=<NllLossBackward>)\n",
      "loss at iteration  69  is  tensor(0.6927, device='cuda:0', grad_fn=<NllLossBackward>)\n",
      "loss at iteration  70  is  tensor(0.6911, device='cuda:0', grad_fn=<NllLossBackward>)\n",
      "loss at iteration  71  is  tensor(0.6786, device='cuda:0', grad_fn=<NllLossBackward>)\n",
      "loss at iteration  72  is  tensor(0.6800, device='cuda:0', grad_fn=<NllLossBackward>)\n",
      "loss at iteration  73  is  tensor(0.6709, device='cuda:0', grad_fn=<NllLossBackward>)\n",
      "loss at iteration  74  is  tensor(0.6856, device='cuda:0', grad_fn=<NllLossBackward>)\n",
      "loss at iteration  75  is  tensor(0.6961, device='cuda:0', grad_fn=<NllLossBackward>)\n",
      "loss at iteration  76  is  tensor(0.6863, device='cuda:0', grad_fn=<NllLossBackward>)\n",
      "loss at iteration  77  is  tensor(0.6834, device='cuda:0', grad_fn=<NllLossBackward>)\n",
      "loss at iteration  78  is  tensor(0.6870, device='cuda:0', grad_fn=<NllLossBackward>)\n",
      "loss at iteration  79  is  tensor(0.6753, device='cuda:0', grad_fn=<NllLossBackward>)\n",
      "loss at iteration  80  is  tensor(0.6842, device='cuda:0', grad_fn=<NllLossBackward>)\n",
      "loss at iteration  81  is  tensor(0.7013, device='cuda:0', grad_fn=<NllLossBackward>)\n",
      "loss at iteration  82  is  tensor(0.6740, device='cuda:0', grad_fn=<NllLossBackward>)\n",
      "loss at iteration  83  is  tensor(0.6902, device='cuda:0', grad_fn=<NllLossBackward>)\n",
      "loss at iteration  84  is  tensor(0.6805, device='cuda:0', grad_fn=<NllLossBackward>)\n",
      "loss at iteration  85  is  tensor(0.6777, device='cuda:0', grad_fn=<NllLossBackward>)\n",
      "loss at iteration  86  is  tensor(0.6686, device='cuda:0', grad_fn=<NllLossBackward>)\n",
      "loss at iteration  87  is  tensor(0.6810, device='cuda:0', grad_fn=<NllLossBackward>)\n",
      "loss at iteration  88  is  tensor(0.6829, device='cuda:0', grad_fn=<NllLossBackward>)\n",
      "loss at iteration  89  is  tensor(0.6758, device='cuda:0', grad_fn=<NllLossBackward>)\n",
      "loss at iteration  90  is  tensor(0.6835, device='cuda:0', grad_fn=<NllLossBackward>)\n",
      "loss at iteration  91  is  tensor(0.6774, device='cuda:0', grad_fn=<NllLossBackward>)\n",
      "loss at iteration  92  is  tensor(0.6812, device='cuda:0', grad_fn=<NllLossBackward>)\n",
      "loss at iteration  93  is  tensor(0.6986, device='cuda:0', grad_fn=<NllLossBackward>)\n",
      "loss at iteration  94  is  tensor(0.6802, device='cuda:0', grad_fn=<NllLossBackward>)\n",
      "loss at iteration  95  is  tensor(0.6772, device='cuda:0', grad_fn=<NllLossBackward>)\n",
      "loss at iteration  96  is  tensor(0.6818, device='cuda:0', grad_fn=<NllLossBackward>)\n",
      "loss at iteration  97  is  tensor(0.6841, device='cuda:0', grad_fn=<NllLossBackward>)\n",
      "loss at iteration  98  is  tensor(0.6754, device='cuda:0', grad_fn=<NllLossBackward>)\n",
      "loss at iteration  99  is  tensor(0.6915, device='cuda:0', grad_fn=<NllLossBackward>)\n",
      "loss at iteration  100  is  tensor(0.6837, device='cuda:0', grad_fn=<NllLossBackward>)\n",
      "loss at iteration  101  is  tensor(0.6800, device='cuda:0', grad_fn=<NllLossBackward>)\n",
      "loss at iteration  102  is  tensor(0.6671, device='cuda:0', grad_fn=<NllLossBackward>)\n",
      "loss at iteration  103  is  tensor(0.6834, device='cuda:0', grad_fn=<NllLossBackward>)\n",
      "loss at iteration  104  is  tensor(0.6579, device='cuda:0', grad_fn=<NllLossBackward>)\n",
      "loss at iteration  105  is  tensor(0.6806, device='cuda:0', grad_fn=<NllLossBackward>)\n",
      "loss at iteration  106  is  tensor(0.6861, device='cuda:0', grad_fn=<NllLossBackward>)\n",
      "loss at iteration  107  is  tensor(0.6884, device='cuda:0', grad_fn=<NllLossBackward>)\n",
      "loss at iteration  108  is  tensor(0.6837, device='cuda:0', grad_fn=<NllLossBackward>)\n",
      "loss at iteration  109  is  tensor(0.6712, device='cuda:0', grad_fn=<NllLossBackward>)\n",
      "loss at iteration  110  is  tensor(0.6716, device='cuda:0', grad_fn=<NllLossBackward>)\n",
      "loss at iteration  111  is  tensor(0.6709, device='cuda:0', grad_fn=<NllLossBackward>)\n",
      "loss at iteration  112  is  tensor(0.6747, device='cuda:0', grad_fn=<NllLossBackward>)\n",
      "loss at iteration  113  is  tensor(0.6700, device='cuda:0', grad_fn=<NllLossBackward>)\n",
      "loss at iteration  114  is  tensor(0.6903, device='cuda:0', grad_fn=<NllLossBackward>)\n",
      "loss at iteration  115  is  tensor(0.6796, device='cuda:0', grad_fn=<NllLossBackward>)\n",
      "loss at iteration  116  is  tensor(0.6696, device='cuda:0', grad_fn=<NllLossBackward>)\n",
      "loss at iteration  117  is  tensor(0.6792, device='cuda:0', grad_fn=<NllLossBackward>)\n",
      "loss at iteration  118  is  tensor(0.6866, device='cuda:0', grad_fn=<NllLossBackward>)\n",
      "loss at iteration  119  is  tensor(0.6777, device='cuda:0', grad_fn=<NllLossBackward>)\n",
      "loss at iteration  120  is  tensor(0.6828, device='cuda:0', grad_fn=<NllLossBackward>)\n",
      "loss at iteration  121  is  tensor(0.6854, device='cuda:0', grad_fn=<NllLossBackward>)\n",
      "loss at iteration  122  is  tensor(0.6716, device='cuda:0', grad_fn=<NllLossBackward>)\n",
      "loss at iteration  123  is  tensor(0.6688, device='cuda:0', grad_fn=<NllLossBackward>)\n",
      "loss at iteration  124  is  tensor(0.6919, device='cuda:0', grad_fn=<NllLossBackward>)\n",
      "loss at iteration  125  is  tensor(0.6707, device='cuda:0', grad_fn=<NllLossBackward>)\n",
      "loss at iteration  126  is  tensor(0.6857, device='cuda:0', grad_fn=<NllLossBackward>)\n",
      "loss at iteration  127  is  tensor(0.6784, device='cuda:0', grad_fn=<NllLossBackward>)\n",
      "loss at iteration  128  is  tensor(0.6783, device='cuda:0', grad_fn=<NllLossBackward>)\n",
      "loss at iteration  129  is  tensor(0.6721, device='cuda:0', grad_fn=<NllLossBackward>)\n",
      "loss at iteration  130  is  tensor(0.6894, device='cuda:0', grad_fn=<NllLossBackward>)\n",
      "loss at iteration  131  is  tensor(0.6849, device='cuda:0', grad_fn=<NllLossBackward>)\n",
      "loss at iteration  132  is  tensor(0.6729, device='cuda:0', grad_fn=<NllLossBackward>)\n",
      "loss at iteration  133  is  tensor(0.6722, device='cuda:0', grad_fn=<NllLossBackward>)\n",
      "loss at iteration  134  is  tensor(0.6808, device='cuda:0', grad_fn=<NllLossBackward>)\n",
      "loss at iteration  135  is  tensor(0.6625, device='cuda:0', grad_fn=<NllLossBackward>)\n",
      "loss at iteration  136  is  tensor(0.6827, device='cuda:0', grad_fn=<NllLossBackward>)\n",
      "loss at iteration  137  is  tensor(0.6783, device='cuda:0', grad_fn=<NllLossBackward>)\n",
      "loss at iteration  138  is  tensor(0.6780, device='cuda:0', grad_fn=<NllLossBackward>)\n",
      "loss at iteration  139  is  tensor(0.6754, device='cuda:0', grad_fn=<NllLossBackward>)\n",
      "loss at iteration  140  is  tensor(0.6746, device='cuda:0', grad_fn=<NllLossBackward>)\n",
      "loss at iteration  141  is  tensor(0.6837, device='cuda:0', grad_fn=<NllLossBackward>)\n",
      "loss at iteration  142  is  tensor(0.6577, device='cuda:0', grad_fn=<NllLossBackward>)\n",
      "loss at iteration  143  is  tensor(0.6800, device='cuda:0', grad_fn=<NllLossBackward>)\n",
      "loss at iteration  144  is  tensor(0.6755, device='cuda:0', grad_fn=<NllLossBackward>)\n",
      "loss at iteration  145  is  tensor(0.6989, device='cuda:0', grad_fn=<NllLossBackward>)\n",
      "loss at iteration  146  is  tensor(0.6723, device='cuda:0', grad_fn=<NllLossBackward>)\n",
      "loss at iteration  147  is  tensor(0.6932, device='cuda:0', grad_fn=<NllLossBackward>)\n",
      "loss at iteration  148  is  tensor(0.6910, device='cuda:0', grad_fn=<NllLossBackward>)\n",
      "loss at iteration  149  is  tensor(0.6793, device='cuda:0', grad_fn=<NllLossBackward>)\n",
      "loss at iteration  150  is  tensor(0.6809, device='cuda:0', grad_fn=<NllLossBackward>)\n",
      "loss at iteration  151  is  tensor(0.6720, device='cuda:0', grad_fn=<NllLossBackward>)\n",
      "loss at iteration  152  is  tensor(0.6762, device='cuda:0', grad_fn=<NllLossBackward>)\n",
      "loss at iteration  153  is  tensor(0.6889, device='cuda:0', grad_fn=<NllLossBackward>)\n",
      "loss at iteration  154  is  tensor(0.6639, device='cuda:0', grad_fn=<NllLossBackward>)\n",
      "loss at iteration  155  is  tensor(0.6818, device='cuda:0', grad_fn=<NllLossBackward>)\n",
      "loss at iteration  156  is  tensor(0.6766, device='cuda:0', grad_fn=<NllLossBackward>)\n",
      "loss at iteration  157  is  tensor(0.6698, device='cuda:0', grad_fn=<NllLossBackward>)\n",
      "loss at iteration  158  is  tensor(0.6840, device='cuda:0', grad_fn=<NllLossBackward>)\n",
      "loss at iteration  159  is  tensor(0.6694, device='cuda:0', grad_fn=<NllLossBackward>)\n",
      "loss at iteration  160  is  tensor(0.6775, device='cuda:0', grad_fn=<NllLossBackward>)\n",
      "loss at iteration  161  is  tensor(0.6815, device='cuda:0', grad_fn=<NllLossBackward>)\n",
      "loss at iteration  162  is  tensor(0.6757, device='cuda:0', grad_fn=<NllLossBackward>)\n",
      "loss at iteration  163  is  tensor(0.6679, device='cuda:0', grad_fn=<NllLossBackward>)\n",
      "loss at iteration  164  is  tensor(0.6565, device='cuda:0', grad_fn=<NllLossBackward>)\n",
      "loss at iteration  165  is  tensor(0.6896, device='cuda:0', grad_fn=<NllLossBackward>)\n",
      "loss at iteration  166  is  tensor(0.6696, device='cuda:0', grad_fn=<NllLossBackward>)\n",
      "loss at iteration  167  is  tensor(0.6687, device='cuda:0', grad_fn=<NllLossBackward>)\n",
      "loss at iteration  168  is  tensor(0.6653, device='cuda:0', grad_fn=<NllLossBackward>)\n",
      "loss at iteration  169  is  tensor(0.6763, device='cuda:0', grad_fn=<NllLossBackward>)\n",
      "loss at iteration  170  is  tensor(0.6645, device='cuda:0', grad_fn=<NllLossBackward>)\n",
      "loss at iteration  171  is  tensor(0.6833, device='cuda:0', grad_fn=<NllLossBackward>)\n",
      "loss at iteration  172  is  tensor(0.6702, device='cuda:0', grad_fn=<NllLossBackward>)\n",
      "loss at iteration  173  is  tensor(0.6845, device='cuda:0', grad_fn=<NllLossBackward>)\n",
      "loss at iteration  174  is  tensor(0.6697, device='cuda:0', grad_fn=<NllLossBackward>)\n",
      "loss at iteration  175  is  tensor(0.6712, device='cuda:0', grad_fn=<NllLossBackward>)\n",
      "loss at iteration  176  is  tensor(0.6836, device='cuda:0', grad_fn=<NllLossBackward>)\n",
      "loss at iteration  177  is  tensor(0.6686, device='cuda:0', grad_fn=<NllLossBackward>)\n",
      "loss at iteration  178  is  tensor(0.6854, device='cuda:0', grad_fn=<NllLossBackward>)\n",
      "loss at iteration  179  is  tensor(0.6631, device='cuda:0', grad_fn=<NllLossBackward>)\n",
      "loss at iteration  180  is  tensor(0.6706, device='cuda:0', grad_fn=<NllLossBackward>)\n",
      "loss at iteration  181  is  tensor(0.6907, device='cuda:0', grad_fn=<NllLossBackward>)\n",
      "loss at iteration  182  is  tensor(0.6524, device='cuda:0', grad_fn=<NllLossBackward>)\n",
      "loss at iteration  183  is  tensor(0.6828, device='cuda:0', grad_fn=<NllLossBackward>)\n",
      "loss at iteration  184  is  tensor(0.6671, device='cuda:0', grad_fn=<NllLossBackward>)\n",
      "loss at iteration  185  is  tensor(0.6715, device='cuda:0', grad_fn=<NllLossBackward>)\n",
      "loss at iteration  186  is  tensor(0.6724, device='cuda:0', grad_fn=<NllLossBackward>)\n",
      "loss at iteration  187  is  tensor(0.6707, device='cuda:0', grad_fn=<NllLossBackward>)\n",
      "loss at iteration  188  is  tensor(0.6598, device='cuda:0', grad_fn=<NllLossBackward>)\n"
     ]
    },
    {
     "name": "stdout",
     "output_type": "stream",
     "text": [
      "loss at iteration  189  is  tensor(0.6828, device='cuda:0', grad_fn=<NllLossBackward>)\n",
      "loss at iteration  190  is  tensor(0.6715, device='cuda:0', grad_fn=<NllLossBackward>)\n",
      "loss at iteration  191  is  tensor(0.6632, device='cuda:0', grad_fn=<NllLossBackward>)\n",
      "loss at iteration  192  is  tensor(0.6797, device='cuda:0', grad_fn=<NllLossBackward>)\n",
      "loss at iteration  193  is  tensor(0.6835, device='cuda:0', grad_fn=<NllLossBackward>)\n",
      "loss at iteration  194  is  tensor(0.6806, device='cuda:0', grad_fn=<NllLossBackward>)\n",
      "loss at iteration  195  is  tensor(0.6848, device='cuda:0', grad_fn=<NllLossBackward>)\n",
      "loss at iteration  196  is  tensor(0.6587, device='cuda:0', grad_fn=<NllLossBackward>)\n",
      "loss at iteration  197  is  tensor(0.6707, device='cuda:0', grad_fn=<NllLossBackward>)\n",
      "loss at iteration  198  is  tensor(0.6907, device='cuda:0', grad_fn=<NllLossBackward>)\n",
      "loss at iteration  199  is  tensor(0.6636, device='cuda:0', grad_fn=<NllLossBackward>)\n",
      "loss at iteration  200  is  tensor(0.6762, device='cuda:0', grad_fn=<NllLossBackward>)\n",
      "loss at iteration  201  is  tensor(0.6891, device='cuda:0', grad_fn=<NllLossBackward>)\n",
      "loss at iteration  202  is  tensor(0.6759, device='cuda:0', grad_fn=<NllLossBackward>)\n",
      "loss at iteration  203  is  tensor(0.6653, device='cuda:0', grad_fn=<NllLossBackward>)\n",
      "loss at iteration  204  is  tensor(0.6730, device='cuda:0', grad_fn=<NllLossBackward>)\n",
      "loss at iteration  205  is  tensor(0.6570, device='cuda:0', grad_fn=<NllLossBackward>)\n",
      "loss at iteration  206  is  tensor(0.6823, device='cuda:0', grad_fn=<NllLossBackward>)\n",
      "loss at iteration  207  is  tensor(0.6724, device='cuda:0', grad_fn=<NllLossBackward>)\n",
      "loss at iteration  208  is  tensor(0.6915, device='cuda:0', grad_fn=<NllLossBackward>)\n",
      "loss at iteration  209  is  tensor(0.6873, device='cuda:0', grad_fn=<NllLossBackward>)\n",
      "loss at iteration  210  is  tensor(0.6974, device='cuda:0', grad_fn=<NllLossBackward>)\n",
      "loss at iteration  211  is  tensor(0.6573, device='cuda:0', grad_fn=<NllLossBackward>)\n",
      "loss at iteration  212  is  tensor(0.6870, device='cuda:0', grad_fn=<NllLossBackward>)\n",
      "loss at iteration  213  is  tensor(0.6759, device='cuda:0', grad_fn=<NllLossBackward>)\n",
      "loss at iteration  214  is  tensor(0.6743, device='cuda:0', grad_fn=<NllLossBackward>)\n",
      "loss at iteration  215  is  tensor(0.6806, device='cuda:0', grad_fn=<NllLossBackward>)\n",
      "loss at iteration  216  is  tensor(0.6582, device='cuda:0', grad_fn=<NllLossBackward>)\n",
      "loss at iteration  217  is  tensor(0.6787, device='cuda:0', grad_fn=<NllLossBackward>)\n",
      "loss at iteration  218  is  tensor(0.6677, device='cuda:0', grad_fn=<NllLossBackward>)\n",
      "loss at iteration  219  is  tensor(0.6787, device='cuda:0', grad_fn=<NllLossBackward>)\n",
      "loss at iteration  220  is  tensor(0.6720, device='cuda:0', grad_fn=<NllLossBackward>)\n",
      "loss at iteration  221  is  tensor(0.6633, device='cuda:0', grad_fn=<NllLossBackward>)\n",
      "loss at iteration  222  is  tensor(0.6682, device='cuda:0', grad_fn=<NllLossBackward>)\n",
      "loss at iteration  223  is  tensor(0.6710, device='cuda:0', grad_fn=<NllLossBackward>)\n",
      "loss at iteration  224  is  tensor(0.6756, device='cuda:0', grad_fn=<NllLossBackward>)\n",
      "loss at iteration  225  is  tensor(0.6791, device='cuda:0', grad_fn=<NllLossBackward>)\n",
      "loss at iteration  226  is  tensor(0.6786, device='cuda:0', grad_fn=<NllLossBackward>)\n",
      "loss at iteration  227  is  tensor(0.6488, device='cuda:0', grad_fn=<NllLossBackward>)\n",
      "loss at iteration  228  is  tensor(0.6803, device='cuda:0', grad_fn=<NllLossBackward>)\n",
      "loss at iteration  229  is  tensor(0.6705, device='cuda:0', grad_fn=<NllLossBackward>)\n",
      "loss at iteration  230  is  tensor(0.6752, device='cuda:0', grad_fn=<NllLossBackward>)\n",
      "loss at iteration  231  is  tensor(0.6732, device='cuda:0', grad_fn=<NllLossBackward>)\n",
      "loss at iteration  232  is  tensor(0.6599, device='cuda:0', grad_fn=<NllLossBackward>)\n",
      "loss at iteration  233  is  tensor(0.6714, device='cuda:0', grad_fn=<NllLossBackward>)\n",
      "loss at iteration  234  is  tensor(0.6775, device='cuda:0', grad_fn=<NllLossBackward>)\n",
      "loss at iteration  235  is  tensor(0.6801, device='cuda:0', grad_fn=<NllLossBackward>)\n",
      "loss at iteration  236  is  tensor(0.6704, device='cuda:0', grad_fn=<NllLossBackward>)\n",
      "loss at iteration  237  is  tensor(0.6617, device='cuda:0', grad_fn=<NllLossBackward>)\n",
      "loss at iteration  238  is  tensor(0.6518, device='cuda:0', grad_fn=<NllLossBackward>)\n",
      "loss at iteration  239  is  tensor(0.6852, device='cuda:0', grad_fn=<NllLossBackward>)\n",
      "loss at iteration  240  is  tensor(0.6802, device='cuda:0', grad_fn=<NllLossBackward>)\n",
      "loss at iteration  241  is  tensor(0.6842, device='cuda:0', grad_fn=<NllLossBackward>)\n",
      "loss at iteration  242  is  tensor(0.6588, device='cuda:0', grad_fn=<NllLossBackward>)\n",
      "loss at iteration  243  is  tensor(0.6804, device='cuda:0', grad_fn=<NllLossBackward>)\n",
      "loss at iteration  244  is  tensor(0.6770, device='cuda:0', grad_fn=<NllLossBackward>)\n",
      "loss at iteration  245  is  tensor(0.6753, device='cuda:0', grad_fn=<NllLossBackward>)\n",
      "loss at iteration  246  is  tensor(0.6891, device='cuda:0', grad_fn=<NllLossBackward>)\n",
      "loss at iteration  247  is  tensor(0.6770, device='cuda:0', grad_fn=<NllLossBackward>)\n",
      "loss at iteration  248  is  tensor(0.6757, device='cuda:0', grad_fn=<NllLossBackward>)\n",
      "loss at iteration  249  is  tensor(0.6714, device='cuda:0', grad_fn=<NllLossBackward>)\n",
      "loss at iteration  250  is  tensor(0.6560, device='cuda:0', grad_fn=<NllLossBackward>)\n",
      "loss at iteration  251  is  tensor(0.6485, device='cuda:0', grad_fn=<NllLossBackward>)\n",
      "loss at iteration  252  is  tensor(0.6797, device='cuda:0', grad_fn=<NllLossBackward>)\n",
      "loss at iteration  253  is  tensor(0.6601, device='cuda:0', grad_fn=<NllLossBackward>)\n",
      "loss at iteration  254  is  tensor(0.6807, device='cuda:0', grad_fn=<NllLossBackward>)\n",
      "loss at iteration  255  is  tensor(0.6627, device='cuda:0', grad_fn=<NllLossBackward>)\n",
      "loss at iteration  256  is  tensor(0.6837, device='cuda:0', grad_fn=<NllLossBackward>)\n",
      "loss at iteration  257  is  tensor(0.6732, device='cuda:0', grad_fn=<NllLossBackward>)\n",
      "loss at iteration  258  is  tensor(0.6705, device='cuda:0', grad_fn=<NllLossBackward>)\n",
      "loss at iteration  259  is  tensor(0.6732, device='cuda:0', grad_fn=<NllLossBackward>)\n",
      "loss at iteration  260  is  tensor(0.6548, device='cuda:0', grad_fn=<NllLossBackward>)\n",
      "loss at iteration  261  is  tensor(0.6834, device='cuda:0', grad_fn=<NllLossBackward>)\n",
      "loss at iteration  262  is  tensor(0.6836, device='cuda:0', grad_fn=<NllLossBackward>)\n",
      "loss at iteration  263  is  tensor(0.6732, device='cuda:0', grad_fn=<NllLossBackward>)\n",
      "loss at iteration  264  is  tensor(0.6719, device='cuda:0', grad_fn=<NllLossBackward>)\n",
      "loss at iteration  265  is  tensor(0.6708, device='cuda:0', grad_fn=<NllLossBackward>)\n",
      "loss at iteration  266  is  tensor(0.6734, device='cuda:0', grad_fn=<NllLossBackward>)\n",
      "loss at iteration  267  is  tensor(0.6720, device='cuda:0', grad_fn=<NllLossBackward>)\n",
      "loss at iteration  268  is  tensor(0.6755, device='cuda:0', grad_fn=<NllLossBackward>)\n",
      "loss at iteration  269  is  tensor(0.6633, device='cuda:0', grad_fn=<NllLossBackward>)\n",
      "loss at iteration  270  is  tensor(0.6641, device='cuda:0', grad_fn=<NllLossBackward>)\n",
      "loss at iteration  271  is  tensor(0.6750, device='cuda:0', grad_fn=<NllLossBackward>)\n",
      "loss at iteration  272  is  tensor(0.6609, device='cuda:0', grad_fn=<NllLossBackward>)\n",
      "loss at iteration  273  is  tensor(0.6696, device='cuda:0', grad_fn=<NllLossBackward>)\n",
      "loss at iteration  274  is  tensor(0.6689, device='cuda:0', grad_fn=<NllLossBackward>)\n",
      "loss at iteration  275  is  tensor(0.6660, device='cuda:0', grad_fn=<NllLossBackward>)\n",
      "loss at iteration  276  is  tensor(0.6717, device='cuda:0', grad_fn=<NllLossBackward>)\n",
      "loss at iteration  277  is  tensor(0.6768, device='cuda:0', grad_fn=<NllLossBackward>)\n",
      "loss at iteration  278  is  tensor(0.6692, device='cuda:0', grad_fn=<NllLossBackward>)\n",
      "loss at iteration  279  is  tensor(0.6657, device='cuda:0', grad_fn=<NllLossBackward>)\n",
      "loss at iteration  280  is  tensor(0.6636, device='cuda:0', grad_fn=<NllLossBackward>)\n",
      "loss at iteration  281  is  tensor(0.6685, device='cuda:0', grad_fn=<NllLossBackward>)\n",
      "loss at iteration  282  is  tensor(0.6789, device='cuda:0', grad_fn=<NllLossBackward>)\n",
      "loss at iteration  283  is  tensor(0.6812, device='cuda:0', grad_fn=<NllLossBackward>)\n",
      "loss at iteration  284  is  tensor(0.6667, device='cuda:0', grad_fn=<NllLossBackward>)\n",
      "loss at iteration  285  is  tensor(0.6702, device='cuda:0', grad_fn=<NllLossBackward>)\n",
      "loss at iteration  286  is  tensor(0.6614, device='cuda:0', grad_fn=<NllLossBackward>)\n",
      "loss at iteration  287  is  tensor(0.6604, device='cuda:0', grad_fn=<NllLossBackward>)\n",
      "loss at iteration  288  is  tensor(0.6666, device='cuda:0', grad_fn=<NllLossBackward>)\n",
      "loss at iteration  289  is  tensor(0.6792, device='cuda:0', grad_fn=<NllLossBackward>)\n",
      "loss at iteration  290  is  tensor(0.6660, device='cuda:0', grad_fn=<NllLossBackward>)\n",
      "loss at iteration  291  is  tensor(0.6782, device='cuda:0', grad_fn=<NllLossBackward>)\n",
      "loss at iteration  292  is  tensor(0.6676, device='cuda:0', grad_fn=<NllLossBackward>)\n",
      "loss at iteration  293  is  tensor(0.6751, device='cuda:0', grad_fn=<NllLossBackward>)\n",
      "loss at iteration  294  is  tensor(0.6717, device='cuda:0', grad_fn=<NllLossBackward>)\n",
      "loss at iteration  295  is  tensor(0.6673, device='cuda:0', grad_fn=<NllLossBackward>)\n",
      "loss at iteration  296  is  tensor(0.6665, device='cuda:0', grad_fn=<NllLossBackward>)\n",
      "loss at iteration  297  is  tensor(0.6538, device='cuda:0', grad_fn=<NllLossBackward>)\n",
      "loss at iteration  298  is  tensor(0.6538, device='cuda:0', grad_fn=<NllLossBackward>)\n",
      "loss at iteration  299  is  tensor(0.6740, device='cuda:0', grad_fn=<NllLossBackward>)\n",
      "loss at iteration  300  is  tensor(0.6887, device='cuda:0', grad_fn=<NllLossBackward>)\n",
      "loss at iteration  301  is  tensor(0.6511, device='cuda:0', grad_fn=<NllLossBackward>)\n",
      "loss at iteration  302  is  tensor(0.6481, device='cuda:0', grad_fn=<NllLossBackward>)\n",
      "loss at iteration  303  is  tensor(0.6660, device='cuda:0', grad_fn=<NllLossBackward>)\n",
      "loss at iteration  304  is  tensor(0.6551, device='cuda:0', grad_fn=<NllLossBackward>)\n",
      "loss at iteration  305  is  tensor(0.6580, device='cuda:0', grad_fn=<NllLossBackward>)\n",
      "loss at iteration  306  is  tensor(0.6687, device='cuda:0', grad_fn=<NllLossBackward>)\n",
      "loss at iteration  307  is  tensor(0.6695, device='cuda:0', grad_fn=<NllLossBackward>)\n",
      "loss at iteration  308  is  tensor(0.6596, device='cuda:0', grad_fn=<NllLossBackward>)\n",
      "loss at iteration  309  is  tensor(0.6637, device='cuda:0', grad_fn=<NllLossBackward>)\n",
      "loss at iteration  310  is  tensor(0.6648, device='cuda:0', grad_fn=<NllLossBackward>)\n",
      "loss at iteration  311  is  tensor(0.6463, device='cuda:0', grad_fn=<NllLossBackward>)\n",
      "loss at iteration  312  is  tensor(0.6519, device='cuda:0', grad_fn=<NllLossBackward>)\n",
      "loss at iteration  313  is  tensor(0.6683, device='cuda:0', grad_fn=<NllLossBackward>)\n",
      "loss at iteration  314  is  tensor(0.6742, device='cuda:0', grad_fn=<NllLossBackward>)\n",
      "loss at iteration  315  is  tensor(0.6708, device='cuda:0', grad_fn=<NllLossBackward>)\n",
      "loss at iteration  316  is  tensor(0.6642, device='cuda:0', grad_fn=<NllLossBackward>)\n",
      "loss at iteration  317  is  tensor(0.6731, device='cuda:0', grad_fn=<NllLossBackward>)\n",
      "loss at iteration  318  is  tensor(0.6652, device='cuda:0', grad_fn=<NllLossBackward>)\n",
      "loss at iteration  319  is  tensor(0.6670, device='cuda:0', grad_fn=<NllLossBackward>)\n",
      "loss at iteration  320  is  tensor(0.6553, device='cuda:0', grad_fn=<NllLossBackward>)\n",
      "loss at iteration  321  is  tensor(0.6635, device='cuda:0', grad_fn=<NllLossBackward>)\n",
      "loss at iteration  322  is  tensor(0.6730, device='cuda:0', grad_fn=<NllLossBackward>)\n",
      "loss at iteration  323  is  tensor(0.6644, device='cuda:0', grad_fn=<NllLossBackward>)\n",
      "loss at iteration  324  is  tensor(0.6649, device='cuda:0', grad_fn=<NllLossBackward>)\n",
      "loss at iteration  325  is  tensor(0.6698, device='cuda:0', grad_fn=<NllLossBackward>)\n",
      "loss at iteration  326  is  tensor(0.6742, device='cuda:0', grad_fn=<NllLossBackward>)\n",
      "loss at iteration  327  is  tensor(0.6669, device='cuda:0', grad_fn=<NllLossBackward>)\n",
      "loss at iteration  328  is  tensor(0.6419, device='cuda:0', grad_fn=<NllLossBackward>)\n",
      "loss at iteration  329  is  tensor(0.6431, device='cuda:0', grad_fn=<NllLossBackward>)\n",
      "loss at iteration  330  is  tensor(0.6679, device='cuda:0', grad_fn=<NllLossBackward>)\n",
      "loss at iteration  331  is  tensor(0.6617, device='cuda:0', grad_fn=<NllLossBackward>)\n",
      "loss at iteration  332  is  tensor(0.6727, device='cuda:0', grad_fn=<NllLossBackward>)\n",
      "loss at iteration  333  is  tensor(0.6619, device='cuda:0', grad_fn=<NllLossBackward>)\n",
      "loss at iteration  334  is  tensor(0.6789, device='cuda:0', grad_fn=<NllLossBackward>)\n",
      "loss at iteration  335  is  tensor(0.6673, device='cuda:0', grad_fn=<NllLossBackward>)\n",
      "loss at iteration  336  is  tensor(0.6632, device='cuda:0', grad_fn=<NllLossBackward>)\n",
      "loss at iteration  337  is  tensor(0.6526, device='cuda:0', grad_fn=<NllLossBackward>)\n",
      "loss at iteration  338  is  tensor(0.6507, device='cuda:0', grad_fn=<NllLossBackward>)\n",
      "loss at iteration  339  is  tensor(0.6474, device='cuda:0', grad_fn=<NllLossBackward>)\n",
      "loss at iteration  340  is  tensor(0.6591, device='cuda:0', grad_fn=<NllLossBackward>)\n",
      "loss at iteration  341  is  tensor(0.6545, device='cuda:0', grad_fn=<NllLossBackward>)\n",
      "loss at iteration  342  is  tensor(0.6532, device='cuda:0', grad_fn=<NllLossBackward>)\n",
      "loss at iteration  343  is  tensor(0.6305, device='cuda:0', grad_fn=<NllLossBackward>)\n",
      "loss at iteration  344  is  tensor(0.6761, device='cuda:0', grad_fn=<NllLossBackward>)\n",
      "loss at iteration  345  is  tensor(0.6640, device='cuda:0', grad_fn=<NllLossBackward>)\n",
      "loss at iteration  346  is  tensor(0.6711, device='cuda:0', grad_fn=<NllLossBackward>)\n",
      "loss at iteration  347  is  tensor(0.6564, device='cuda:0', grad_fn=<NllLossBackward>)\n",
      "loss at iteration  348  is  tensor(0.6556, device='cuda:0', grad_fn=<NllLossBackward>)\n",
      "loss at iteration  349  is  tensor(0.6765, device='cuda:0', grad_fn=<NllLossBackward>)\n",
      "loss at iteration  350  is  tensor(0.6590, device='cuda:0', grad_fn=<NllLossBackward>)\n",
      "loss at iteration  351  is  tensor(0.6518, device='cuda:0', grad_fn=<NllLossBackward>)\n",
      "loss at iteration  352  is  tensor(0.6655, device='cuda:0', grad_fn=<NllLossBackward>)\n",
      "loss at iteration  353  is  tensor(0.6628, device='cuda:0', grad_fn=<NllLossBackward>)\n",
      "loss at iteration  354  is  tensor(0.6750, device='cuda:0', grad_fn=<NllLossBackward>)\n",
      "loss at iteration  355  is  tensor(0.6650, device='cuda:0', grad_fn=<NllLossBackward>)\n",
      "loss at iteration  356  is  tensor(0.6699, device='cuda:0', grad_fn=<NllLossBackward>)\n",
      "loss at iteration  357  is  tensor(0.6404, device='cuda:0', grad_fn=<NllLossBackward>)\n",
      "loss at iteration  358  is  tensor(0.6704, device='cuda:0', grad_fn=<NllLossBackward>)\n",
      "loss at iteration  359  is  tensor(0.6650, device='cuda:0', grad_fn=<NllLossBackward>)\n",
      "loss at iteration  360  is  tensor(0.6692, device='cuda:0', grad_fn=<NllLossBackward>)\n",
      "loss at iteration  361  is  tensor(0.6508, device='cuda:0', grad_fn=<NllLossBackward>)\n",
      "loss at iteration  362  is  tensor(0.6638, device='cuda:0', grad_fn=<NllLossBackward>)\n",
      "loss at iteration  363  is  tensor(0.6641, device='cuda:0', grad_fn=<NllLossBackward>)\n",
      "loss at iteration  364  is  tensor(0.6846, device='cuda:0', grad_fn=<NllLossBackward>)\n",
      "loss at iteration  365  is  tensor(0.6690, device='cuda:0', grad_fn=<NllLossBackward>)\n",
      "loss at iteration  366  is  tensor(0.6585, device='cuda:0', grad_fn=<NllLossBackward>)\n",
      "loss at iteration  367  is  tensor(0.6596, device='cuda:0', grad_fn=<NllLossBackward>)\n",
      "loss at iteration  368  is  tensor(0.6757, device='cuda:0', grad_fn=<NllLossBackward>)\n",
      "loss at iteration  369  is  tensor(0.6484, device='cuda:0', grad_fn=<NllLossBackward>)\n",
      "loss at iteration  370  is  tensor(0.6640, device='cuda:0', grad_fn=<NllLossBackward>)\n",
      "loss at iteration  371  is  tensor(0.6400, device='cuda:0', grad_fn=<NllLossBackward>)\n",
      "loss at iteration  372  is  tensor(0.6789, device='cuda:0', grad_fn=<NllLossBackward>)\n",
      "loss at iteration  373  is  tensor(0.6667, device='cuda:0', grad_fn=<NllLossBackward>)\n",
      "loss at iteration  374  is  tensor(0.6782, device='cuda:0', grad_fn=<NllLossBackward>)\n",
      "loss at iteration  375  is  tensor(0.6611, device='cuda:0', grad_fn=<NllLossBackward>)\n",
      "loss at iteration  376  is  tensor(0.6280, device='cuda:0', grad_fn=<NllLossBackward>)\n"
     ]
    },
    {
     "name": "stdout",
     "output_type": "stream",
     "text": [
      "loss at iteration  377  is  tensor(0.6355, device='cuda:0', grad_fn=<NllLossBackward>)\n",
      "loss at iteration  378  is  tensor(0.6563, device='cuda:0', grad_fn=<NllLossBackward>)\n",
      "loss at iteration  379  is  tensor(0.6702, device='cuda:0', grad_fn=<NllLossBackward>)\n",
      "loss at iteration  380  is  tensor(0.6767, device='cuda:0', grad_fn=<NllLossBackward>)\n",
      "loss at iteration  381  is  tensor(0.6607, device='cuda:0', grad_fn=<NllLossBackward>)\n",
      "loss at iteration  382  is  tensor(0.6751, device='cuda:0', grad_fn=<NllLossBackward>)\n",
      "loss at iteration  383  is  tensor(0.6301, device='cuda:0', grad_fn=<NllLossBackward>)\n",
      "loss at iteration  384  is  tensor(0.6439, device='cuda:0', grad_fn=<NllLossBackward>)\n",
      "loss at iteration  385  is  tensor(0.6479, device='cuda:0', grad_fn=<NllLossBackward>)\n",
      "loss at iteration  386  is  tensor(0.6452, device='cuda:0', grad_fn=<NllLossBackward>)\n",
      "loss at iteration  387  is  tensor(0.6351, device='cuda:0', grad_fn=<NllLossBackward>)\n",
      "loss at iteration  388  is  tensor(0.6578, device='cuda:0', grad_fn=<NllLossBackward>)\n",
      "loss at iteration  389  is  tensor(0.6381, device='cuda:0', grad_fn=<NllLossBackward>)\n",
      "loss at iteration  390  is  tensor(0.6338, device='cuda:0', grad_fn=<NllLossBackward>)\n",
      "loss at iteration  391  is  tensor(0.6605, device='cuda:0', grad_fn=<NllLossBackward>)\n",
      "loss at iteration  392  is  tensor(0.6443, device='cuda:0', grad_fn=<NllLossBackward>)\n",
      "loss at iteration  393  is  tensor(0.6339, device='cuda:0', grad_fn=<NllLossBackward>)\n",
      "loss at iteration  394  is  tensor(0.6283, device='cuda:0', grad_fn=<NllLossBackward>)\n",
      "loss at iteration  395  is  tensor(0.6448, device='cuda:0', grad_fn=<NllLossBackward>)\n",
      "loss at iteration  396  is  tensor(0.6347, device='cuda:0', grad_fn=<NllLossBackward>)\n",
      "loss at iteration  397  is  tensor(0.6365, device='cuda:0', grad_fn=<NllLossBackward>)\n",
      "loss at iteration  398  is  tensor(0.6165, device='cuda:0', grad_fn=<NllLossBackward>)\n",
      "loss at iteration  399  is  tensor(0.6306, device='cuda:0', grad_fn=<NllLossBackward>)\n",
      "loss at iteration  400  is  tensor(0.6350, device='cuda:0', grad_fn=<NllLossBackward>)\n",
      "loss at iteration  401  is  tensor(0.6488, device='cuda:0', grad_fn=<NllLossBackward>)\n",
      "loss at iteration  402  is  tensor(0.6616, device='cuda:0', grad_fn=<NllLossBackward>)\n",
      "loss at iteration  403  is  tensor(0.6458, device='cuda:0', grad_fn=<NllLossBackward>)\n",
      "loss at iteration  404  is  tensor(0.6296, device='cuda:0', grad_fn=<NllLossBackward>)\n",
      "loss at iteration  405  is  tensor(0.6405, device='cuda:0', grad_fn=<NllLossBackward>)\n",
      "loss at iteration  406  is  tensor(0.6196, device='cuda:0', grad_fn=<NllLossBackward>)\n",
      "loss at iteration  407  is  tensor(0.6499, device='cuda:0', grad_fn=<NllLossBackward>)\n",
      "loss at iteration  408  is  tensor(0.6359, device='cuda:0', grad_fn=<NllLossBackward>)\n",
      "loss at iteration  409  is  tensor(0.6166, device='cuda:0', grad_fn=<NllLossBackward>)\n",
      "loss at iteration  410  is  tensor(0.6389, device='cuda:0', grad_fn=<NllLossBackward>)\n",
      "loss at iteration  411  is  tensor(0.6419, device='cuda:0', grad_fn=<NllLossBackward>)\n",
      "loss at iteration  412  is  tensor(0.6251, device='cuda:0', grad_fn=<NllLossBackward>)\n",
      "loss at iteration  413  is  tensor(0.6281, device='cuda:0', grad_fn=<NllLossBackward>)\n",
      "loss at iteration  414  is  tensor(0.6451, device='cuda:0', grad_fn=<NllLossBackward>)\n",
      "loss at iteration  415  is  tensor(0.6330, device='cuda:0', grad_fn=<NllLossBackward>)\n",
      "loss at iteration  416  is  tensor(0.6507, device='cuda:0', grad_fn=<NllLossBackward>)\n",
      "loss at iteration  417  is  tensor(0.6367, device='cuda:0', grad_fn=<NllLossBackward>)\n",
      "loss at iteration  418  is  tensor(0.6504, device='cuda:0', grad_fn=<NllLossBackward>)\n",
      "loss at iteration  419  is  tensor(0.6372, device='cuda:0', grad_fn=<NllLossBackward>)\n",
      "loss at iteration  420  is  tensor(0.6343, device='cuda:0', grad_fn=<NllLossBackward>)\n",
      "loss at iteration  421  is  tensor(0.6378, device='cuda:0', grad_fn=<NllLossBackward>)\n",
      "loss at iteration  422  is  tensor(0.6504, device='cuda:0', grad_fn=<NllLossBackward>)\n",
      "loss at iteration  423  is  tensor(0.6343, device='cuda:0', grad_fn=<NllLossBackward>)\n",
      "loss at iteration  424  is  tensor(0.6264, device='cuda:0', grad_fn=<NllLossBackward>)\n",
      "loss at iteration  425  is  tensor(0.6507, device='cuda:0', grad_fn=<NllLossBackward>)\n",
      "loss at iteration  426  is  tensor(0.6369, device='cuda:0', grad_fn=<NllLossBackward>)\n",
      "loss at iteration  427  is  tensor(0.6399, device='cuda:0', grad_fn=<NllLossBackward>)\n",
      "loss at iteration  428  is  tensor(0.6311, device='cuda:0', grad_fn=<NllLossBackward>)\n",
      "loss at iteration  429  is  tensor(0.6299, device='cuda:0', grad_fn=<NllLossBackward>)\n",
      "loss at iteration  430  is  tensor(0.6193, device='cuda:0', grad_fn=<NllLossBackward>)\n"
     ]
    },
    {
     "ename": "KeyboardInterrupt",
     "evalue": "",
     "output_type": "error",
     "traceback": [
      "\u001b[1;31m---------------------------------------------------------------------------\u001b[0m",
      "\u001b[1;31mKeyboardInterrupt\u001b[0m                         Traceback (most recent call last)",
      "\u001b[1;32m<ipython-input-26-6cdf2af585f0>\u001b[0m in \u001b[0;36m<module>\u001b[1;34m\u001b[0m\n\u001b[0;32m     22\u001b[0m         \u001b[0mloss\u001b[0m \u001b[1;33m=\u001b[0m \u001b[0mF\u001b[0m\u001b[1;33m.\u001b[0m\u001b[0mnll_loss\u001b[0m\u001b[1;33m(\u001b[0m\u001b[0moutput\u001b[0m\u001b[1;33m,\u001b[0m \u001b[0my\u001b[0m\u001b[1;33m)\u001b[0m\u001b[1;33m\u001b[0m\u001b[1;33m\u001b[0m\u001b[0m\n\u001b[0;32m     23\u001b[0m         \u001b[0mloss\u001b[0m\u001b[1;33m.\u001b[0m\u001b[0mbackward\u001b[0m\u001b[1;33m(\u001b[0m\u001b[1;33m)\u001b[0m\u001b[1;33m\u001b[0m\u001b[1;33m\u001b[0m\u001b[0m\n\u001b[1;32m---> 24\u001b[1;33m         \u001b[0moptimizer\u001b[0m\u001b[1;33m.\u001b[0m\u001b[0mstep\u001b[0m\u001b[1;33m(\u001b[0m\u001b[1;33m)\u001b[0m\u001b[1;33m\u001b[0m\u001b[1;33m\u001b[0m\u001b[0m\n\u001b[0m\u001b[0;32m     25\u001b[0m \u001b[1;33m\u001b[0m\u001b[0m\n\u001b[0;32m     26\u001b[0m     \u001b[0mprint\u001b[0m\u001b[1;33m(\u001b[0m\u001b[1;34m'loss at iteration '\u001b[0m\u001b[1;33m,\u001b[0m \u001b[0mj\u001b[0m \u001b[1;33m,\u001b[0m\u001b[1;34m' is '\u001b[0m\u001b[1;33m,\u001b[0m \u001b[0mloss\u001b[0m\u001b[1;33m)\u001b[0m\u001b[1;33m\u001b[0m\u001b[1;33m\u001b[0m\u001b[0m\n",
      "\u001b[1;32m~\\AppData\\Local\\Continuum\\anaconda3\\lib\\site-packages\\torch\\optim\\adam.py\u001b[0m in \u001b[0;36mstep\u001b[1;34m(self, closure)\u001b[0m\n\u001b[0;32m    101\u001b[0m                     \u001b[0mdenom\u001b[0m \u001b[1;33m=\u001b[0m \u001b[1;33m(\u001b[0m\u001b[0mmax_exp_avg_sq\u001b[0m\u001b[1;33m.\u001b[0m\u001b[0msqrt\u001b[0m\u001b[1;33m(\u001b[0m\u001b[1;33m)\u001b[0m \u001b[1;33m/\u001b[0m \u001b[0mmath\u001b[0m\u001b[1;33m.\u001b[0m\u001b[0msqrt\u001b[0m\u001b[1;33m(\u001b[0m\u001b[0mbias_correction2\u001b[0m\u001b[1;33m)\u001b[0m\u001b[1;33m)\u001b[0m\u001b[1;33m.\u001b[0m\u001b[0madd_\u001b[0m\u001b[1;33m(\u001b[0m\u001b[0mgroup\u001b[0m\u001b[1;33m[\u001b[0m\u001b[1;34m'eps'\u001b[0m\u001b[1;33m]\u001b[0m\u001b[1;33m)\u001b[0m\u001b[1;33m\u001b[0m\u001b[1;33m\u001b[0m\u001b[0m\n\u001b[0;32m    102\u001b[0m                 \u001b[1;32melse\u001b[0m\u001b[1;33m:\u001b[0m\u001b[1;33m\u001b[0m\u001b[1;33m\u001b[0m\u001b[0m\n\u001b[1;32m--> 103\u001b[1;33m                     \u001b[0mdenom\u001b[0m \u001b[1;33m=\u001b[0m \u001b[1;33m(\u001b[0m\u001b[0mexp_avg_sq\u001b[0m\u001b[1;33m.\u001b[0m\u001b[0msqrt\u001b[0m\u001b[1;33m(\u001b[0m\u001b[1;33m)\u001b[0m \u001b[1;33m/\u001b[0m \u001b[0mmath\u001b[0m\u001b[1;33m.\u001b[0m\u001b[0msqrt\u001b[0m\u001b[1;33m(\u001b[0m\u001b[0mbias_correction2\u001b[0m\u001b[1;33m)\u001b[0m\u001b[1;33m)\u001b[0m\u001b[1;33m.\u001b[0m\u001b[0madd_\u001b[0m\u001b[1;33m(\u001b[0m\u001b[0mgroup\u001b[0m\u001b[1;33m[\u001b[0m\u001b[1;34m'eps'\u001b[0m\u001b[1;33m]\u001b[0m\u001b[1;33m)\u001b[0m\u001b[1;33m\u001b[0m\u001b[1;33m\u001b[0m\u001b[0m\n\u001b[0m\u001b[0;32m    104\u001b[0m \u001b[1;33m\u001b[0m\u001b[0m\n\u001b[0;32m    105\u001b[0m                 \u001b[0mstep_size\u001b[0m \u001b[1;33m=\u001b[0m \u001b[0mgroup\u001b[0m\u001b[1;33m[\u001b[0m\u001b[1;34m'lr'\u001b[0m\u001b[1;33m]\u001b[0m \u001b[1;33m/\u001b[0m \u001b[0mbias_correction1\u001b[0m\u001b[1;33m\u001b[0m\u001b[1;33m\u001b[0m\u001b[0m\n",
      "\u001b[1;31mKeyboardInterrupt\u001b[0m: "
     ]
    }
   ],
   "source": [
    "model = Net(node_features, edge_features)\n",
    "\n",
    "model.apply(init_weights)\n",
    "\n",
    "print('Let\\'s use', torch.cuda.device_count(), 'GPU(s)!')\n",
    "device = torch.device('cuda:0' if torch.cuda.is_available() else 'cpu')\n",
    "model = model.to(device)\n",
    "\n",
    "optimizer = torch.optim.Adam(model.parameters(), lr=0.001)\n",
    "\n",
    "data_list = [graph_constructors.make_pyg_graph(*np.array(synthetic_data.make_a_group())).to(device) for _ in range(1)]\n",
    "loader = DataLoader(data_list, batch_size=1)\n",
    "\n",
    "for j in range(1000):\n",
    "    \n",
    "    for i, btch in enumerate(loader):\n",
    "\n",
    "        optimizer.zero_grad()\n",
    "        output = model(btch)\n",
    "\n",
    "        y = btch.y.to(output.device)\n",
    "        loss = F.nll_loss(output, y)\n",
    "        loss.backward()\n",
    "        optimizer.step()\n",
    "    \n",
    "    print('loss at iteration ', j ,' is ', loss)"
   ]
  },
  {
   "cell_type": "markdown",
   "metadata": {},
   "source": [
    "### Build up the model to test"
   ]
  },
  {
   "cell_type": "code",
   "execution_count": 270,
   "metadata": {},
   "outputs": [
    {
     "data": {
      "text/plain": [
       "<module 'data_utils.graph_constructors' from 'C:\\\\Users\\\\andy.knapper\\\\Documents\\\\OW\\\\Categorisation\\\\ML grouping\\\\GNN-for-trans-grouping\\\\data_utils\\\\graph_constructors.py'>"
      ]
     },
     "execution_count": 270,
     "metadata": {},
     "output_type": "execute_result"
    }
   ],
   "source": [
    "importlib.reload(synthetic_data)\n",
    "importlib.reload(graph_constructors)"
   ]
  },
  {
   "cell_type": "code",
   "execution_count": 286,
   "metadata": {},
   "outputs": [],
   "source": [
    "#https://discuss.pytorch.org/t/check-gradient-flow-in-network/15063/8\n",
    "\n",
    "def plot_grad_flow(named_parameters):\n",
    "    '''Plots the gradients flowing through different layers in the net during training.\n",
    "    Can be used for checking for possible gradient vanishing / exploding problems.\n",
    "    \n",
    "    Usage: Plug this function in Trainer class after loss.backwards() as \n",
    "    \"plot_grad_flow(self.model.named_parameters())\" to visualize the gradient flow'''\n",
    "    ave_grads = []\n",
    "    max_grads= []\n",
    "    layers = []\n",
    "    for n, p in named_parameters:\n",
    "        if(p.requires_grad) and (\"bias\" not in n):\n",
    "            layers.append(n)\n",
    "            ave_grads.append(p.grad.abs().mean())\n",
    "            max_grads.append(p.grad.abs().max())\n",
    "    plt.bar(np.arange(len(max_grads)), max_grads, alpha=0.1, lw=1, color=\"c\")\n",
    "    plt.bar(np.arange(len(max_grads)), ave_grads, alpha=0.1, lw=1, color=\"b\")\n",
    "    plt.hlines(0, 0, len(ave_grads)+1, lw=2, color=\"k\" )\n",
    "    plt.xticks(range(0,len(ave_grads), 1), layers, rotation=\"vertical\")\n",
    "    plt.xlim(left=0, right=len(ave_grads))\n",
    "    plt.ylim(bottom = -0.001, top=0.02) # zoom in on the lower gradient regions\n",
    "    plt.xlabel(\"Layers\")\n",
    "    plt.ylabel(\"average gradient\")\n",
    "    plt.title(\"Gradient flow\")\n",
    "    plt.grid(True)\n",
    "    plt.legend([matplotlib.lines.Line2D([0], [0], color=\"c\", lw=4),\n",
    "                matplotlib.lines.Line2D([0], [0], color=\"b\", lw=4),\n",
    "                matplotlib.lines.Line2D([0], [0], color=\"k\", lw=4)], ['max-gradient', 'mean-gradient', 'zero-gradient'])\n",
    "    plt.show()"
   ]
  },
  {
   "cell_type": "code",
   "execution_count": 369,
   "metadata": {},
   "outputs": [],
   "source": [
    "class Net(torch.nn.Module):\n",
    "    def __init__(self, number_of_node_features, number_of_edge_features):\n",
    "        super(Net, self).__init__()\n",
    "\n",
    "        self.number_of_node_features = number_of_node_features\n",
    "        self.number_of_edge_features = number_of_edge_features\n",
    "        \n",
    "        ##############################################################################################\n",
    "        #initialise edge embedding MLP\n",
    "        self.edge_embed_lin1 = Lin(self.number_of_edge_features, 10)\n",
    "#         self.edge_embed_lin2 = Lin(20, 10)\n",
    "        self.edge_embed_act1 = ReLU()\n",
    "#         self.edge_embed_act2 = ReLU()\n",
    "        \n",
    "        self.edge_embed_mlp = Seq(self.edge_embed_lin1, self.edge_embed_act1)    \n",
    "#         self.edge_embed_mlp = Seq(self.edge_embed_lin1, nn.BatchNorm1d(20), self.edge_embed_act1, self.edge_embed_lin2, nn.BatchNorm1d(10), self.edge_embed_act2)\n",
    "#         self.edge_embed_mlp = Seq(self.edge_embed_lin1, self.edge_embed_act1, self.edge_embed_lin2,  self.edge_embed_act2)\n",
    "        \n",
    "        \n",
    "#         ##############################################################################################\n",
    "#         #initialise edge conditioned convolution to update node attributes by propagating surrounding node attributes via edge attributes\n",
    "        \n",
    "        self.node_update_conv_nn_1 = Seq(Lin(10, self.number_of_node_features*self.number_of_node_features), nn.BatchNorm1d(self.number_of_node_features*self.number_of_node_features), ReLU())\n",
    "        self.node_update_conv_1 = ECConv(in_channels = self.number_of_node_features,out_channels=self.number_of_node_features, nn = self.node_update_conv_nn_1, aggr='add', root_weight=True, bias=True)\n",
    "         \n",
    "#         self.node_update_conv_nn_2 = Seq(Lin(10, self.number_of_node_features*self.number_of_node_features), nn.BatchNorm1d(self.number_of_node_features*self.number_of_node_features), ReLU())\n",
    "#         self.node_update_conv_2 = ECConv(in_channels = self.number_of_node_features,out_channels=self.number_of_node_features, nn = self.node_update_conv_nn_2, aggr='add', root_weight=True, bias=True)\n",
    "         \n",
    "#         self.node_update_conv_nn_3 = Seq(Lin(10, self.number_of_node_features*self.number_of_node_features), nn.BatchNorm1d(self.number_of_node_features*self.number_of_node_features), ReLU())\n",
    "#         self.node_update_conv_3 = ECConv(in_channels = self.number_of_node_features,out_channels=self.number_of_node_features, nn = self.node_update_conv_nn_3, aggr='add', root_weight=True, bias=True)\n",
    "         \n",
    "            \n",
    "#         self.node_update_conv_nn_1 = Seq(Lin(10, 5), nn.BatchNorm1d(5) ,ReLU(), Lin(5, self.number_of_node_features*self.number_of_node_features), nn.BatchNorm1d(self.number_of_node_features*self.number_of_node_features), ReLU())\n",
    "#         self.node_update_conv_1 = ECConv(in_channels = self.number_of_node_features,out_channels=self.number_of_node_features, nn = self.node_update_conv_nn_1, aggr='add', root_weight=True, bias=True)\n",
    "        \n",
    "#         self.node_update_conv_nn_2 = Seq(Lin(10, 5), nn.BatchNorm1d(5) ,ReLU(), Lin(5, self.number_of_node_features*self.number_of_node_features), nn.BatchNorm1d(self.number_of_node_features*self.number_of_node_features), ReLU())\n",
    "#         self.node_update_conv_2 = ECConv(in_channels = self.number_of_node_features,out_channels=self.number_of_node_features, nn = self.node_update_conv_nn_2, aggr='add', root_weight=True, bias=True)\n",
    "        \n",
    "#         self.node_update_conv_nn_3 = Seq(Lin(10, 5), nn.BatchNorm1d(5) ,ReLU(), Lin(5, self.number_of_node_features*self.number_of_node_features), nn.BatchNorm1d(self.number_of_node_features*self.number_of_node_features), ReLU())\n",
    "#         self.node_update_conv_3 = ECConv(in_channels = self.number_of_node_features,out_channels=self.number_of_node_features, nn = self.node_update_conv_nn_3, aggr='add', root_weight=True, bias=True)\n",
    "        \n",
    "        \n",
    "#         #############################################################################################\n",
    "#         #initialise the edge_attr updates from the node attrs\n",
    "        \n",
    "        self.edge_update_conv_1 = MyLayer(number_of_node_features, 10)\n",
    "        \n",
    "#         self.edge_update_conv_2 = MyLayer(number_of_node_features, 10)\n",
    "        \n",
    "#         self.edge_update_conv_3 = MyLayer(number_of_node_features, 10)\n",
    "        \n",
    "        \n",
    "        #############################################################################################\n",
    "        #initialise edge classifier MLP\n",
    "        \n",
    "#         self.edge_class_lin1 = Lin(10, 5)\n",
    "        self.edge_class_lin1 = Lin(10, 2)\n",
    "#         self.edge_class_lin2 = Lin(5, 2)\n",
    "        self.edge_class_act1 = ReLU()\n",
    "#         self.edge_class_act2 = ReLU()\n",
    "        \n",
    "#         self.edge_class_mlp = Seq(self.edge_class_lin1, nn.Dropout(0.5), self.edge_class_act1, self.edge_class_lin2, nn.Dropout(0.5),  self.edge_class_act2)\n",
    "        self.edge_class_mlp = Seq(self.edge_class_lin1, self.edge_class_act1)\n",
    "        \n",
    "        \n",
    "\n",
    "    def forward(self, data):\n",
    "        x, edge_index, edge_attr, edge_pairs = data.x, data.edge_index, data.edge_attr, data.edge_pairs\n",
    "\n",
    "        \n",
    "        ########################################################################\n",
    "        #embed the edge attributes in a lower dim space      \n",
    "        edge_attr = self.edge_embed_mlp(edge_attr)\n",
    "\n",
    "        \n",
    "        ########################################################################\n",
    "        #iterate the messages\n",
    "        \n",
    "        for _ in range(10):\n",
    "    #         #update the node attributes\n",
    "            x = self.node_update_conv_1(x, edge_index, edge_attr)\n",
    "            #update the edges attributes\n",
    "            x, edge_attr, _ = self.edge_update_conv_1.forward(x, edge_index, edge_attr, u=None, batch=data.batch)\n",
    "               \n",
    "#         #update the node attributes\n",
    "#         x = self.node_update_conv_1(x, edge_index, edge_attr)\n",
    "#         #update the edges attributes\n",
    "#         x, edge_attr, _ = self.edge_update_conv_1.forward(x, edge_index, edge_attr, u=None, batch=data.batch)\n",
    "            \n",
    "#         #update the node attributes\n",
    "#         x = self.node_update_conv_1(x, edge_index, edge_attr)\n",
    "#         #update the edges attributes\n",
    "#         x, edge_attr, _ = self.edge_update_conv_1.forward(x, edge_index, edge_attr, u=None, batch=data.batch)\n",
    "            \n",
    "#         #update the node attributes\n",
    "#         x = self.node_update_conv_2(x, edge_index, edge_attr)\n",
    "#         #update the edges attributes\n",
    "#         x, edge_attr, _ = self.edge_update_conv_2.forward(x, edge_index, edge_attr, u=None, batch=data.batch)\n",
    "        \n",
    "#         #update the node attributes\n",
    "#         x = self.node_update_conv_3(x, edge_index, edge_attr)\n",
    "#         #update the edges attributes\n",
    "#         x, edge_attr, _ = self.edge_update_conv_3.forward(x, edge_index, edge_attr, u=None, batch=data.batch)\n",
    "        \n",
    "            \n",
    "        ######################################################################\n",
    "        #pool the attributes over edge pairs\n",
    "        pooled_edge_attr, _ = torch.max(edge_attr[edge_pairs], 1)\n",
    "            \n",
    "        #apply a classifier to the edge attrs\n",
    "        pooled_edge_attr = self.edge_class_mlp(pooled_edge_attr)\n",
    "#         edge_attr = self.edge_class_mlp(edge_attr)\n",
    "#         print('edge_attr', edge_attr)\n",
    "#         print('F.log_softmax(edge_attr, dim=1)', F.log_softmax(edge_attr, dim=1))\n",
    "\n",
    "#         return F.log_softmax(edge_attr, dim=1)\n",
    "        return F.log_softmax(pooled_edge_attr, dim=1)\n",
    "    \n"
   ]
  },
  {
   "cell_type": "code",
   "execution_count": 335,
   "metadata": {
    "collapsed": true
   },
   "outputs": [
    {
     "name": "stdout",
     "output_type": "stream",
     "text": [
      "edge_embed_lin1.weight Parameter containing:\n",
      "tensor([[ 0.0509,  0.0645,  0.0999, -0.0659, -0.0738,  0.0904, -0.0889, -0.0239,\n",
      "         -0.0107,  0.0481,  0.0866, -0.0480,  0.0323, -0.0583,  0.0865,  0.0793,\n",
      "         -0.0656,  0.0524,  0.0773, -0.0981, -0.0036, -0.0825, -0.0257,  0.0081,\n",
      "          0.0529,  0.0825, -0.0206,  0.0031,  0.0718,  0.0257,  0.0163,  0.0511,\n",
      "          0.0977,  0.0623, -0.0355,  0.0954,  0.0647,  0.0112,  0.0941,  0.0261,\n",
      "         -0.0295, -0.0957,  0.0294, -0.0186,  0.0450, -0.0507, -0.0791, -0.0511,\n",
      "          0.0659,  0.0796,  0.0190,  0.0287, -0.0827, -0.0563,  0.0934,  0.0647,\n",
      "         -0.0248,  0.0444, -0.0841, -0.0845,  0.0751,  0.0979, -0.0136, -0.0183,\n",
      "         -0.0040, -0.0254, -0.0497, -0.0352,  0.0632, -0.0959, -0.0721,  0.0060,\n",
      "          0.0879, -0.0172,  0.0638, -0.0969, -0.0044,  0.0585, -0.0198, -0.0005,\n",
      "          0.0286,  0.0480, -0.1016,  0.0893, -0.0624, -0.0920,  0.0100, -0.0501,\n",
      "          0.0623,  0.0746,  0.0789, -0.0498, -0.0113],\n",
      "        [ 0.0071, -0.0209,  0.0914,  0.0194, -0.0493, -0.0382,  0.0540,  0.0497,\n",
      "          0.0987,  0.0372, -0.0188, -0.0522,  0.0631,  0.0257, -0.0577,  0.0483,\n",
      "          0.0491, -0.0022,  0.1012, -0.0149,  0.0260, -0.0568, -0.0654,  0.0277,\n",
      "          0.0349,  0.0496,  0.0236, -0.0413,  0.0646, -0.0306,  0.0411, -0.0647,\n",
      "         -0.0013, -0.0766, -0.0875, -0.0499,  0.0415,  0.0140, -0.0602,  0.0084,\n",
      "          0.0072, -0.0107, -0.0606,  0.0143,  0.0219, -0.1018,  0.0374, -0.0864,\n",
      "         -0.0737,  0.0510,  0.0409,  0.0028,  0.0066, -0.0351,  0.0824,  0.0699,\n",
      "         -0.0077,  0.0868,  0.0877, -0.0108,  0.0847,  0.0157,  0.0420,  0.1026,\n",
      "         -0.0447, -0.0220, -0.0478, -0.0701,  0.0085, -0.0807, -0.0952,  0.0189,\n",
      "          0.0255,  0.0335, -0.0493,  0.0271, -0.0222, -0.0221, -0.0525, -0.0765,\n",
      "          0.0521, -0.0537,  0.0209,  0.0968, -0.0590,  0.0381,  0.0190, -0.0148,\n",
      "         -0.0098,  0.0714, -0.0170,  0.0881,  0.0726],\n",
      "        [ 0.0324,  0.0890, -0.0796, -0.0719, -0.0979, -0.0882, -0.0155,  0.0279,\n",
      "          0.0489, -0.0272, -0.0463,  0.0476,  0.0067,  0.0138, -0.0897, -0.0188,\n",
      "         -0.0622, -0.0390,  0.0070,  0.0034, -0.0179, -0.0375,  0.0903, -0.0880,\n",
      "          0.0859,  0.0826, -0.0183,  0.0234, -0.0226,  0.0627,  0.1022,  0.0966,\n",
      "          0.0768,  0.0044,  0.0709,  0.0551,  0.0741, -0.0699, -0.0602, -0.0128,\n",
      "         -0.0492, -0.0092, -0.0417, -0.0766,  0.0667,  0.0757,  0.0570,  0.0765,\n",
      "          0.0532, -0.0757, -0.0021, -0.0188,  0.0591,  0.0332,  0.0211, -0.0697,\n",
      "          0.0654,  0.0183,  0.0323,  0.0980, -0.0481,  0.0257,  0.0170,  0.0794,\n",
      "          0.0475, -0.0217, -0.0425,  0.1022, -0.0789,  0.0935, -0.0867,  0.0862,\n",
      "          0.0998,  0.0890,  0.0622, -0.0273, -0.0843, -0.0211, -0.0777, -0.0072,\n",
      "         -0.0518,  0.0992,  0.0663,  0.0431, -0.0859, -0.0213,  0.0044,  0.0934,\n",
      "          0.0488,  0.0497, -0.0620, -0.0520,  0.0355],\n",
      "        [ 0.0907,  0.0585,  0.0727,  0.0917,  0.0129,  0.0658,  0.0627,  0.0827,\n",
      "         -0.0852,  0.0754,  0.0022,  0.0390,  0.0099,  0.0656,  0.0643,  0.0199,\n",
      "         -0.0735,  0.0821, -0.0654,  0.0786, -0.0697,  0.0432,  0.0501, -0.0563,\n",
      "         -0.0124, -0.0476, -0.0389,  0.0970, -0.0668, -0.0217, -0.0558,  0.0543,\n",
      "          0.0651, -0.0881,  0.0882, -0.0653, -0.0506, -0.0291, -0.0743,  0.0032,\n",
      "          0.0805,  0.0674,  0.0874, -0.0262,  0.0649, -0.0333, -0.0496,  0.0141,\n",
      "          0.1008,  0.0684, -0.0898,  0.0358,  0.0041, -0.0385, -0.0600,  0.0297,\n",
      "         -0.0523,  0.0123,  0.0419, -0.0311,  0.0563, -0.0629, -0.0053,  0.0866,\n",
      "         -0.1018,  0.0142, -0.0445, -0.0601,  0.0681, -0.0910, -0.0789, -0.0370,\n",
      "          0.0889,  0.0467, -0.0793,  0.0910,  0.1014, -0.0565, -0.0115, -0.0159,\n",
      "         -0.0105,  0.0162,  0.0768,  0.0229,  0.0923, -0.0576,  0.0577,  0.0648,\n",
      "         -0.0500,  0.0118, -0.0558, -0.0339, -0.0218],\n",
      "        [-0.0961, -0.0412,  0.0883,  0.0923,  0.0755,  0.0540, -0.0242,  0.0439,\n",
      "         -0.0174, -0.0499,  0.0585, -0.0204, -0.0987,  0.0743,  0.0296,  0.0197,\n",
      "          0.0080, -0.0986,  0.0377,  0.0914,  0.0795,  0.0456, -0.0973,  0.0769,\n",
      "         -0.0084,  0.0249, -0.0897,  0.0697,  0.0716,  0.0665, -0.0936, -0.0657,\n",
      "          0.0237,  0.0791,  0.0872, -0.0357, -0.0493,  0.0995,  0.0724,  0.0950,\n",
      "         -0.0692,  0.0134, -0.0810,  0.0911,  0.0873, -0.0180, -0.0628,  0.0730,\n",
      "         -0.0639, -0.0028, -0.0048,  0.0143,  0.0293, -0.0734,  0.1025,  0.0177,\n",
      "          0.0630, -0.0856, -0.0180, -0.0299, -0.0793, -0.0525,  0.0203,  0.0534,\n",
      "          0.0586,  0.0092, -0.0558, -0.0136,  0.0854, -0.0970,  0.0993, -0.0589,\n",
      "         -0.0588, -0.0230,  0.0278, -0.1010,  0.0994, -0.0642, -0.0582,  0.0680,\n",
      "          0.0396, -0.0979,  0.0886, -0.0021, -0.1024,  0.0815,  0.0013,  0.0935,\n",
      "         -0.0537, -0.0923, -0.1022, -0.1019,  0.0158],\n",
      "        [ 0.0013, -0.0036, -0.0573, -0.0223, -0.0235,  0.0129,  0.0339,  0.0892,\n",
      "          0.0969, -0.0337,  0.0923,  0.0057,  0.0612, -0.0520, -0.0764, -0.0664,\n",
      "         -0.0782,  0.0086,  0.0285,  0.0903, -0.0562, -0.0155,  0.0361,  0.0597,\n",
      "         -0.0010, -0.0133, -0.0279,  0.0291,  0.0974,  0.0212,  0.0428,  0.0819,\n",
      "          0.0843,  0.0145, -0.0394, -0.0858,  0.0987, -0.0212, -0.0268, -0.0390,\n",
      "         -0.1023, -0.0957, -0.0277, -0.0668,  0.0003, -0.0176,  0.0969, -0.0685,\n",
      "          0.0414,  0.0193, -0.0284,  0.0333,  0.0397,  0.0299, -0.0900, -0.0311,\n",
      "         -0.0343,  0.0644,  0.0388, -0.0560, -0.0607,  0.0313, -0.0204, -0.0231,\n",
      "          0.0257,  0.0269,  0.0331,  0.0952,  0.0756,  0.0665,  0.0529, -0.0216,\n",
      "          0.0622,  0.0625,  0.0447, -0.0238, -0.0413,  0.0933,  0.0283,  0.0390,\n",
      "         -0.0691, -0.0598, -0.0419, -0.0953,  0.0848,  0.0207, -0.0425,  0.0957,\n",
      "         -0.0781, -0.0792,  0.0319, -0.0498,  0.0292],\n",
      "        [ 0.0171, -0.0202,  0.0379,  0.0372,  0.0546,  0.0875,  0.0669, -0.0267,\n",
      "         -0.0629,  0.0106,  0.0300,  0.0100,  0.0423, -0.0578, -0.0515, -0.0605,\n",
      "         -0.0799, -0.0526, -0.0196,  0.0944,  0.0218, -0.0206, -0.0409,  0.0014,\n",
      "          0.0031,  0.0794, -0.0897, -0.0527, -0.0252, -0.0295,  0.0016,  0.0606,\n",
      "         -0.0670, -0.0507, -0.0682, -0.0997,  0.0489,  0.0173, -0.0074,  0.0540,\n",
      "         -0.0142, -0.0430,  0.0623, -0.0776, -0.0119,  0.1037, -0.0486,  0.0331,\n",
      "         -0.0588,  0.0139, -0.0882, -0.0142,  0.0500, -0.0190, -0.0245,  0.0081,\n",
      "         -0.0689, -0.0604,  0.0097, -0.0391, -0.0466,  0.0268, -0.0771,  0.0845,\n",
      "          0.0130,  0.0609, -0.0879, -0.0069, -0.0455, -0.0508, -0.0895, -0.0159,\n",
      "          0.0716, -0.0754,  0.1017,  0.0391, -0.0179, -0.0062,  0.0032, -0.0084,\n",
      "          0.0888, -0.0001,  0.0530, -0.0301, -0.0914, -0.0100, -0.0075, -0.0774,\n",
      "          0.0291,  0.0449, -0.0033,  0.0312,  0.1022],\n",
      "        [-0.0135, -0.0622,  0.0067,  0.0204, -0.0003, -0.0479, -0.0668, -0.0594,\n",
      "          0.0668, -0.0240, -0.0355, -0.0270, -0.1008, -0.0839,  0.0140,  0.0417,\n",
      "         -0.0353,  0.0795, -0.0200,  0.0345,  0.0112,  0.0481, -0.0085,  0.0207,\n",
      "         -0.0863,  0.0282,  0.0901, -0.0003,  0.0473,  0.0773,  0.0093, -0.0106,\n",
      "          0.0389,  0.0002, -0.0294,  0.0872,  0.0308, -0.0315,  0.0109, -0.0812,\n",
      "          0.0676,  0.0612, -0.0288, -0.0071, -0.0956,  0.0731, -0.0734,  0.0146,\n",
      "          0.0433, -0.0881, -0.0818, -0.0407,  0.0675, -0.0109, -0.0639, -0.0344,\n",
      "          0.0683, -0.0800, -0.0478,  0.0220, -0.0827,  0.0722, -0.0956,  0.1002,\n",
      "         -0.0024,  0.0468, -0.0581, -0.0188,  0.0059,  0.0217, -0.0285,  0.0599,\n",
      "         -0.0369,  0.0268, -0.0942, -0.0460, -0.0572, -0.0369,  0.0943, -0.0434,\n",
      "         -0.0623,  0.0640, -0.0329, -0.0909,  0.0734,  0.0537, -0.0536,  0.0677,\n",
      "         -0.0374,  0.0661, -0.0532, -0.0171,  0.0599],\n",
      "        [-0.0750,  0.0295,  0.0226, -0.0413, -0.0483, -0.0186, -0.0165, -0.0368,\n",
      "          0.0183,  0.0260,  0.0272, -0.0907, -0.0569,  0.0686,  0.0315, -0.0870,\n",
      "         -0.0297,  0.0464, -0.0382,  0.0017,  0.0699, -0.0235,  0.0954,  0.0807,\n",
      "         -0.0855,  0.0675,  0.0467,  0.0979, -0.0999,  0.0483, -0.0100,  0.0610,\n",
      "          0.0745, -0.0317, -0.0326, -0.0105,  0.0413,  0.0945,  0.0358,  0.0581,\n",
      "         -0.0562,  0.0949, -0.0737,  0.0256,  0.0035, -0.0816,  0.0291,  0.0155,\n",
      "          0.0963, -0.0603,  0.0464, -0.0390,  0.0408, -0.0735, -0.0743,  0.0648,\n",
      "         -0.0631, -0.0385, -0.0426,  0.0042,  0.0489,  0.1030, -0.0293,  0.0507,\n",
      "         -0.0765, -0.0265,  0.0730, -0.0401,  0.0902, -0.0201,  0.0326, -0.0501,\n",
      "          0.0176,  0.0828,  0.0431,  0.0251, -0.0294, -0.0875, -0.0691,  0.0422,\n",
      "          0.0756,  0.0451,  0.0727,  0.0964,  0.0704, -0.1020,  0.0228,  0.0744,\n",
      "          0.0306,  0.0986, -0.0602, -0.0712, -0.0725],\n",
      "        [ 0.0264, -0.0729,  0.0353,  0.0099, -0.0581,  0.0773,  0.0661,  0.0119,\n",
      "          0.0387, -0.0823,  0.1012, -0.0256, -0.0611, -0.0919,  0.0661, -0.0229,\n",
      "          0.0616,  0.0853,  0.0568, -0.0821, -0.0396,  0.0383, -0.0954, -0.0074,\n",
      "          0.0682,  0.0013, -0.0422,  0.0635, -0.0924,  0.0655,  0.0202, -0.0568,\n",
      "          0.0544,  0.0007, -0.0408,  0.0957,  0.0737,  0.0407,  0.0048, -0.0264,\n",
      "          0.1009, -0.0334, -0.0980, -0.0522,  0.0528,  0.0822,  0.0384, -0.0046,\n",
      "          0.0886,  0.0186, -0.0225,  0.0362, -0.0916,  0.0901, -0.0423,  0.0625,\n",
      "         -0.0980,  0.0905, -0.0117, -0.0426, -0.0157,  0.0104, -0.0303, -0.0790,\n",
      "          0.0337,  0.0408,  0.0635, -0.0154,  0.0180, -0.0731,  0.0575, -0.0791,\n",
      "          0.0618,  0.0777, -0.0997, -0.0118,  0.0198,  0.0857,  0.0909,  0.0991,\n",
      "          0.0596,  0.0646,  0.0825,  0.0672,  0.1027,  0.0675,  0.0675,  0.0668,\n"
     ]
    },
    {
     "name": "stdout",
     "output_type": "stream",
     "text": [
      "         -0.0694, -0.0446,  0.1007,  0.0957, -0.0885]], requires_grad=True)\n",
      "\n",
      "edge_embed_lin1.bias Parameter containing:\n",
      "tensor([ 0.0608, -0.0800,  0.0141,  0.0323,  0.0566, -0.0966, -0.0722,  0.0135,\n",
      "        -0.0744, -0.0802], requires_grad=True)\n",
      "\n",
      "node_update_conv_nn_1.0.weight Parameter containing:\n",
      "tensor([[-0.1082, -0.2229,  0.2238, -0.0007,  0.2075, -0.1157, -0.2121,  0.0803,\n",
      "         -0.1268, -0.0420]], requires_grad=True)\n",
      "\n",
      "node_update_conv_nn_1.0.bias Parameter containing:\n",
      "tensor([-0.0403], requires_grad=True)\n",
      "\n",
      "node_update_conv_nn_1.1.weight Parameter containing:\n",
      "tensor([1.], requires_grad=True)\n",
      "\n",
      "node_update_conv_nn_1.1.bias Parameter containing:\n",
      "tensor([0.], requires_grad=True)\n",
      "\n",
      "node_update_conv_1.root Parameter containing:\n",
      "tensor([[0.6959]], requires_grad=True)\n",
      "\n",
      "node_update_conv_1.bias Parameter containing:\n",
      "tensor([0.3190], requires_grad=True)\n",
      "\n",
      "node_update_conv_nn_2.0.weight Parameter containing:\n",
      "tensor([[-0.2726,  0.1703,  0.1378, -0.0291, -0.0169,  0.2576, -0.0748, -0.2994,\n",
      "          0.1684, -0.0516]], requires_grad=True)\n",
      "\n",
      "node_update_conv_nn_2.0.bias Parameter containing:\n",
      "tensor([-0.2545], requires_grad=True)\n",
      "\n",
      "node_update_conv_nn_2.1.weight Parameter containing:\n",
      "tensor([1.], requires_grad=True)\n",
      "\n",
      "node_update_conv_nn_2.1.bias Parameter containing:\n",
      "tensor([0.], requires_grad=True)\n",
      "\n",
      "node_update_conv_2.root Parameter containing:\n",
      "tensor([[-0.9407]], requires_grad=True)\n",
      "\n",
      "node_update_conv_2.bias Parameter containing:\n",
      "tensor([0.6934], requires_grad=True)\n",
      "\n",
      "node_update_conv_nn_3.0.weight Parameter containing:\n",
      "tensor([[ 0.2016, -0.0971, -0.0902,  0.2413,  0.2776,  0.0445, -0.2309,  0.1828,\n",
      "         -0.0754,  0.1773]], requires_grad=True)\n",
      "\n",
      "node_update_conv_nn_3.0.bias Parameter containing:\n",
      "tensor([0.3032], requires_grad=True)\n",
      "\n",
      "node_update_conv_nn_3.1.weight Parameter containing:\n",
      "tensor([1.], requires_grad=True)\n",
      "\n",
      "node_update_conv_nn_3.1.bias Parameter containing:\n",
      "tensor([0.], requires_grad=True)\n",
      "\n",
      "node_update_conv_3.root Parameter containing:\n",
      "tensor([[0.6776]], requires_grad=True)\n",
      "\n",
      "node_update_conv_3.bias Parameter containing:\n",
      "tensor([-0.4865], requires_grad=True)\n",
      "\n",
      "edge_update_conv_1.edge_mlp.0.weight Parameter containing:\n",
      "tensor([[ 0.0734, -0.2799,  0.2030,  0.0991, -0.2209, -0.0788, -0.1209,  0.1730,\n",
      "         -0.2867, -0.1797, -0.0761, -0.1768],\n",
      "        [-0.0330, -0.1175, -0.1611,  0.0981,  0.0216,  0.2145, -0.2498, -0.0520,\n",
      "         -0.0993,  0.2577,  0.1162,  0.0748],\n",
      "        [ 0.0233, -0.1511,  0.2664,  0.1954, -0.2638, -0.2038,  0.1297,  0.0123,\n",
      "         -0.1167,  0.2675,  0.1072,  0.1348],\n",
      "        [ 0.0624,  0.2008,  0.2728, -0.1985,  0.0137,  0.2134, -0.1474,  0.0271,\n",
      "         -0.1269,  0.1860,  0.2835, -0.1529],\n",
      "        [ 0.1339,  0.0029, -0.0739,  0.0009,  0.2872,  0.1030,  0.0465, -0.1702,\n",
      "          0.0619, -0.1861,  0.1075,  0.0581],\n",
      "        [-0.2271,  0.0480,  0.0601,  0.0911,  0.0874,  0.1892, -0.2865,  0.1231,\n",
      "         -0.2032, -0.1333, -0.2744,  0.2189],\n",
      "        [-0.0316, -0.1056,  0.0017, -0.2198, -0.1266, -0.1978,  0.2285,  0.2608,\n",
      "         -0.2272, -0.2342, -0.0065,  0.1919],\n",
      "        [ 0.1254, -0.0049, -0.0745,  0.2546,  0.2388, -0.0866, -0.0425,  0.0124,\n",
      "         -0.2170,  0.1993, -0.2308,  0.2866],\n",
      "        [-0.1447, -0.1487, -0.2286,  0.1709, -0.2083, -0.1823, -0.2814,  0.0375,\n",
      "         -0.1486,  0.2383,  0.0040, -0.1521],\n",
      "        [ 0.1004,  0.0577, -0.2044,  0.2086,  0.2299, -0.1456,  0.2442,  0.1929,\n",
      "          0.2438, -0.1014,  0.0884, -0.1253]], requires_grad=True)\n",
      "\n",
      "edge_update_conv_1.edge_mlp.0.bias Parameter containing:\n",
      "tensor([-0.0155,  0.2222, -0.0783, -0.1050,  0.2664, -0.2274, -0.1254,  0.0863,\n",
      "         0.1457, -0.2504], requires_grad=True)\n",
      "\n",
      "edge_update_conv_2.edge_mlp.0.weight Parameter containing:\n",
      "tensor([[-0.2556,  0.0469,  0.0411, -0.2363, -0.2173, -0.0387, -0.2084,  0.2405,\n",
      "         -0.0765, -0.2151,  0.1777, -0.2842],\n",
      "        [-0.2818,  0.2380, -0.1306,  0.0380, -0.1952,  0.1968, -0.1760,  0.1654,\n",
      "          0.0268, -0.0423,  0.1806, -0.1401],\n",
      "        [-0.1079, -0.1271,  0.1690,  0.1437,  0.0602, -0.1330,  0.2498,  0.0920,\n",
      "          0.1094, -0.2360,  0.0458, -0.1776],\n",
      "        [ 0.0018, -0.2231, -0.2499,  0.2551,  0.1045, -0.0427,  0.2271,  0.2554,\n",
      "          0.1239,  0.2142, -0.2128, -0.1630],\n",
      "        [ 0.1273, -0.2486, -0.2584,  0.1665,  0.2518, -0.1045,  0.0093, -0.0444,\n",
      "         -0.2241,  0.2597,  0.0068,  0.2158],\n",
      "        [ 0.0131,  0.1713, -0.0713,  0.1480,  0.0368,  0.2203, -0.0462,  0.1905,\n",
      "         -0.0854,  0.0043, -0.2617, -0.0443],\n",
      "        [ 0.0628,  0.2379,  0.0023, -0.1832,  0.0583, -0.0930,  0.2681, -0.1490,\n",
      "          0.0502,  0.1510,  0.2237,  0.1820],\n",
      "        [ 0.0257, -0.1224, -0.0986, -0.1375,  0.2810, -0.2089, -0.0172,  0.1058,\n",
      "         -0.0697, -0.1024,  0.0146,  0.0340],\n",
      "        [ 0.1093,  0.1994, -0.0702, -0.0649, -0.1783,  0.1408, -0.2640, -0.2756,\n",
      "         -0.1907,  0.2488, -0.0928,  0.1597],\n",
      "        [ 0.0455, -0.1166,  0.2690,  0.0273, -0.1783,  0.1513,  0.1397, -0.1908,\n",
      "          0.2195, -0.1966, -0.1701, -0.2687]], requires_grad=True)\n",
      "\n",
      "edge_update_conv_2.edge_mlp.0.bias Parameter containing:\n",
      "tensor([-0.1617,  0.0352, -0.1525, -0.2275,  0.0435, -0.0523, -0.0993,  0.0217,\n",
      "         0.0751,  0.2659], requires_grad=True)\n",
      "\n",
      "edge_update_conv_3.edge_mlp.0.weight Parameter containing:\n",
      "tensor([[-0.2073,  0.1288, -0.0443, -0.1750,  0.2652, -0.1408,  0.0530,  0.2244,\n",
      "         -0.1342,  0.0552,  0.0155, -0.2562],\n",
      "        [ 0.0268, -0.1085, -0.1269,  0.1411, -0.0305,  0.0800, -0.2834, -0.1498,\n",
      "         -0.2303, -0.0246,  0.1921, -0.0616],\n",
      "        [-0.1670,  0.2414, -0.1561,  0.0891, -0.2134, -0.2096,  0.1845,  0.0700,\n",
      "          0.2726,  0.2090,  0.1186,  0.0638],\n",
      "        [-0.1606,  0.1476, -0.0661,  0.1123, -0.0762,  0.1125, -0.2554,  0.0651,\n",
      "          0.0755,  0.2130, -0.0033, -0.0584],\n",
      "        [-0.2750, -0.1634,  0.1342,  0.2691,  0.2180, -0.1559,  0.1485, -0.0725,\n",
      "          0.0931, -0.1285,  0.1478,  0.1707],\n",
      "        [-0.1552, -0.0752, -0.1887,  0.1352, -0.0254, -0.2015,  0.0780,  0.2022,\n",
      "          0.2447,  0.0151, -0.0781,  0.1788],\n",
      "        [ 0.2779, -0.1443,  0.1119,  0.1166, -0.0492, -0.0334, -0.1773,  0.1513,\n",
      "          0.2760,  0.1250, -0.1178, -0.1719],\n",
      "        [ 0.0157, -0.0943,  0.1238, -0.2151,  0.2846,  0.2360, -0.1952,  0.0238,\n",
      "          0.1953,  0.1579, -0.1897, -0.0314],\n",
      "        [ 0.2819,  0.1219, -0.2818, -0.2019,  0.2135, -0.2680,  0.1041, -0.2024,\n",
      "         -0.0962,  0.1429,  0.1269,  0.1447],\n",
      "        [ 0.1233, -0.2559,  0.2841, -0.1324, -0.1329,  0.1095,  0.2059,  0.0758,\n",
      "          0.0234, -0.1813,  0.1064, -0.1248]], requires_grad=True)\n",
      "\n",
      "edge_update_conv_3.edge_mlp.0.bias Parameter containing:\n",
      "tensor([-0.1675, -0.2785,  0.1582, -0.1211,  0.1381, -0.0288,  0.1178,  0.1013,\n",
      "        -0.1214, -0.0754], requires_grad=True)\n",
      "\n",
      "edge_class_lin1.weight Parameter containing:\n",
      "tensor([[ 0.0321, -0.2817,  0.2063, -0.2467, -0.2074,  0.1022, -0.0286,  0.0433,\n",
      "         -0.1922,  0.0965],\n",
      "        [-0.2455, -0.0621, -0.1636,  0.0948, -0.1214,  0.1431, -0.0560,  0.2918,\n",
      "          0.1855,  0.0272]], requires_grad=True)\n",
      "\n",
      "edge_class_lin1.bias Parameter containing:\n",
      "tensor([0.0566, 0.0520], requires_grad=True)\n",
      "\n"
     ]
    }
   ],
   "source": [
    "model = Net(node_features, edge_features)\n",
    "model.named_parameters\n",
    "for n, p in model.named_parameters():\n",
    "    print(n, p)\n",
    "    print('')"
   ]
  },
  {
   "cell_type": "code",
   "execution_count": 365,
   "metadata": {
    "collapsed": true
   },
   "outputs": [
    {
     "name": "stderr",
     "output_type": "stream",
     "text": [
      "C:\\Users\\andy.knapper\\AppData\\Local\\Continuum\\anaconda3\\lib\\site-packages\\ipykernel_launcher.py:3: UserWarning: nn.init.xavier_uniform is now deprecated in favor of nn.init.xavier_uniform_.\n",
      "  This is separate from the ipykernel package so we can avoid doing imports until\n"
     ]
    },
    {
     "name": "stdout",
     "output_type": "stream",
     "text": [
      "Let's use 1 GPU(s)!\n",
      "loss at iteration  0  is  tensor(0.7629, device='cuda:0', grad_fn=<NllLossBackward>)\n",
      "loss at iteration  1  is  tensor(0.3376, device='cuda:0', grad_fn=<NllLossBackward>)\n",
      "loss at iteration  2  is  tensor(0.0455, device='cuda:0', grad_fn=<NllLossBackward>)\n",
      "loss at iteration  3  is  tensor(0.0013, device='cuda:0', grad_fn=<NllLossBackward>)\n",
      "loss at iteration  4  is  tensor(9.9314e-06, device='cuda:0', grad_fn=<NllLossBackward>)\n",
      "loss at iteration  5  is  tensor(0., device='cuda:0', grad_fn=<NllLossBackward>)\n",
      "loss at iteration  6  is  tensor(0., device='cuda:0', grad_fn=<NllLossBackward>)\n",
      "loss at iteration  7  is  tensor(0., device='cuda:0', grad_fn=<NllLossBackward>)\n",
      "loss at iteration  8  is  tensor(0., device='cuda:0', grad_fn=<NllLossBackward>)\n",
      "loss at iteration  9  is  tensor(0., device='cuda:0', grad_fn=<NllLossBackward>)\n",
      "loss at iteration  10  is  tensor(0., device='cuda:0', grad_fn=<NllLossBackward>)\n",
      "loss at iteration  11  is  tensor(0., device='cuda:0', grad_fn=<NllLossBackward>)\n",
      "loss at iteration  12  is  tensor(0., device='cuda:0', grad_fn=<NllLossBackward>)\n",
      "loss at iteration  13  is  tensor(0., device='cuda:0', grad_fn=<NllLossBackward>)\n",
      "loss at iteration  14  is  tensor(0., device='cuda:0', grad_fn=<NllLossBackward>)\n",
      "loss at iteration  15  is  tensor(0., device='cuda:0', grad_fn=<NllLossBackward>)\n",
      "loss at iteration  16  is  tensor(0., device='cuda:0', grad_fn=<NllLossBackward>)\n",
      "loss at iteration  17  is  tensor(0., device='cuda:0', grad_fn=<NllLossBackward>)\n",
      "loss at iteration  18  is  tensor(0., device='cuda:0', grad_fn=<NllLossBackward>)\n",
      "loss at iteration  19  is  tensor(0., device='cuda:0', grad_fn=<NllLossBackward>)\n",
      "loss at iteration  20  is  tensor(0., device='cuda:0', grad_fn=<NllLossBackward>)\n",
      "loss at iteration  21  is  tensor(0., device='cuda:0', grad_fn=<NllLossBackward>)\n",
      "loss at iteration  22  is  tensor(0., device='cuda:0', grad_fn=<NllLossBackward>)\n",
      "loss at iteration  23  is  tensor(0., device='cuda:0', grad_fn=<NllLossBackward>)\n",
      "loss at iteration  24  is  tensor(0., device='cuda:0', grad_fn=<NllLossBackward>)\n",
      "loss at iteration  25  is  tensor(0., device='cuda:0', grad_fn=<NllLossBackward>)\n",
      "loss at iteration  26  is  tensor(0., device='cuda:0', grad_fn=<NllLossBackward>)\n",
      "loss at iteration  27  is  tensor(0., device='cuda:0', grad_fn=<NllLossBackward>)\n",
      "loss at iteration  28  is  tensor(0., device='cuda:0', grad_fn=<NllLossBackward>)\n",
      "loss at iteration  29  is  tensor(0., device='cuda:0', grad_fn=<NllLossBackward>)\n",
      "loss at iteration  30  is  tensor(0., device='cuda:0', grad_fn=<NllLossBackward>)\n",
      "loss at iteration  31  is  tensor(0., device='cuda:0', grad_fn=<NllLossBackward>)\n",
      "loss at iteration  32  is  tensor(0., device='cuda:0', grad_fn=<NllLossBackward>)\n",
      "loss at iteration  33  is  tensor(0., device='cuda:0', grad_fn=<NllLossBackward>)\n",
      "loss at iteration  34  is  tensor(0., device='cuda:0', grad_fn=<NllLossBackward>)\n",
      "loss at iteration  35  is  tensor(0., device='cuda:0', grad_fn=<NllLossBackward>)\n",
      "loss at iteration  36  is  tensor(0., device='cuda:0', grad_fn=<NllLossBackward>)\n",
      "loss at iteration  37  is  tensor(0., device='cuda:0', grad_fn=<NllLossBackward>)\n",
      "loss at iteration  38  is  tensor(0., device='cuda:0', grad_fn=<NllLossBackward>)\n",
      "loss at iteration  39  is  tensor(0., device='cuda:0', grad_fn=<NllLossBackward>)\n",
      "loss at iteration  40  is  tensor(0., device='cuda:0', grad_fn=<NllLossBackward>)\n",
      "loss at iteration  41  is  tensor(0., device='cuda:0', grad_fn=<NllLossBackward>)\n",
      "loss at iteration  42  is  tensor(0., device='cuda:0', grad_fn=<NllLossBackward>)\n",
      "loss at iteration  43  is  tensor(0., device='cuda:0', grad_fn=<NllLossBackward>)\n",
      "loss at iteration  44  is  tensor(0., device='cuda:0', grad_fn=<NllLossBackward>)\n",
      "loss at iteration  45  is  tensor(0., device='cuda:0', grad_fn=<NllLossBackward>)\n",
      "loss at iteration  46  is  tensor(0., device='cuda:0', grad_fn=<NllLossBackward>)\n",
      "loss at iteration  47  is  tensor(0., device='cuda:0', grad_fn=<NllLossBackward>)\n",
      "loss at iteration  48  is  tensor(0., device='cuda:0', grad_fn=<NllLossBackward>)\n",
      "loss at iteration  49  is  tensor(0., device='cuda:0', grad_fn=<NllLossBackward>)\n",
      "loss at iteration  50  is  tensor(0., device='cuda:0', grad_fn=<NllLossBackward>)\n",
      "loss at iteration  51  is  tensor(0., device='cuda:0', grad_fn=<NllLossBackward>)\n",
      "loss at iteration  52  is  tensor(0., device='cuda:0', grad_fn=<NllLossBackward>)\n",
      "loss at iteration  53  is  tensor(0., device='cuda:0', grad_fn=<NllLossBackward>)\n",
      "loss at iteration  54  is  tensor(0., device='cuda:0', grad_fn=<NllLossBackward>)\n",
      "loss at iteration  55  is  tensor(0., device='cuda:0', grad_fn=<NllLossBackward>)\n",
      "loss at iteration  56  is  tensor(0., device='cuda:0', grad_fn=<NllLossBackward>)\n",
      "loss at iteration  57  is  tensor(0., device='cuda:0', grad_fn=<NllLossBackward>)\n",
      "loss at iteration  58  is  tensor(0., device='cuda:0', grad_fn=<NllLossBackward>)\n",
      "loss at iteration  59  is  tensor(0., device='cuda:0', grad_fn=<NllLossBackward>)\n",
      "loss at iteration  60  is  tensor(0., device='cuda:0', grad_fn=<NllLossBackward>)\n",
      "loss at iteration  61  is  tensor(0., device='cuda:0', grad_fn=<NllLossBackward>)\n"
     ]
    },
    {
     "ename": "KeyboardInterrupt",
     "evalue": "",
     "output_type": "error",
     "traceback": [
      "\u001b[1;31m---------------------------------------------------------------------------\u001b[0m",
      "\u001b[1;31mKeyboardInterrupt\u001b[0m                         Traceback (most recent call last)",
      "\u001b[1;32m<ipython-input-365-d97349421881>\u001b[0m in \u001b[0;36m<module>\u001b[1;34m\u001b[0m\n\u001b[0;32m     17\u001b[0m \u001b[1;33m\u001b[0m\u001b[0m\n\u001b[0;32m     18\u001b[0m         \u001b[0moptimizer\u001b[0m\u001b[1;33m.\u001b[0m\u001b[0mzero_grad\u001b[0m\u001b[1;33m(\u001b[0m\u001b[1;33m)\u001b[0m\u001b[1;33m\u001b[0m\u001b[1;33m\u001b[0m\u001b[0m\n\u001b[1;32m---> 19\u001b[1;33m         \u001b[0moutput\u001b[0m \u001b[1;33m=\u001b[0m \u001b[0mmodel\u001b[0m\u001b[1;33m(\u001b[0m\u001b[0mbtch\u001b[0m\u001b[1;33m)\u001b[0m\u001b[1;33m\u001b[0m\u001b[1;33m\u001b[0m\u001b[0m\n\u001b[0m\u001b[0;32m     20\u001b[0m \u001b[1;33m\u001b[0m\u001b[0m\n\u001b[0;32m     21\u001b[0m \u001b[1;31m#         print(torch.sum(btch.edge_attr))\u001b[0m\u001b[1;33m\u001b[0m\u001b[1;33m\u001b[0m\u001b[1;33m\u001b[0m\u001b[0m\n",
      "\u001b[1;32m~\\AppData\\Local\\Continuum\\anaconda3\\lib\\site-packages\\torch\\nn\\modules\\module.py\u001b[0m in \u001b[0;36m__call__\u001b[1;34m(self, *input, **kwargs)\u001b[0m\n\u001b[0;32m    539\u001b[0m             \u001b[0mresult\u001b[0m \u001b[1;33m=\u001b[0m \u001b[0mself\u001b[0m\u001b[1;33m.\u001b[0m\u001b[0m_slow_forward\u001b[0m\u001b[1;33m(\u001b[0m\u001b[1;33m*\u001b[0m\u001b[0minput\u001b[0m\u001b[1;33m,\u001b[0m \u001b[1;33m**\u001b[0m\u001b[0mkwargs\u001b[0m\u001b[1;33m)\u001b[0m\u001b[1;33m\u001b[0m\u001b[1;33m\u001b[0m\u001b[0m\n\u001b[0;32m    540\u001b[0m         \u001b[1;32melse\u001b[0m\u001b[1;33m:\u001b[0m\u001b[1;33m\u001b[0m\u001b[1;33m\u001b[0m\u001b[0m\n\u001b[1;32m--> 541\u001b[1;33m             \u001b[0mresult\u001b[0m \u001b[1;33m=\u001b[0m \u001b[0mself\u001b[0m\u001b[1;33m.\u001b[0m\u001b[0mforward\u001b[0m\u001b[1;33m(\u001b[0m\u001b[1;33m*\u001b[0m\u001b[0minput\u001b[0m\u001b[1;33m,\u001b[0m \u001b[1;33m**\u001b[0m\u001b[0mkwargs\u001b[0m\u001b[1;33m)\u001b[0m\u001b[1;33m\u001b[0m\u001b[1;33m\u001b[0m\u001b[0m\n\u001b[0m\u001b[0;32m    542\u001b[0m         \u001b[1;32mfor\u001b[0m \u001b[0mhook\u001b[0m \u001b[1;32min\u001b[0m \u001b[0mself\u001b[0m\u001b[1;33m.\u001b[0m\u001b[0m_forward_hooks\u001b[0m\u001b[1;33m.\u001b[0m\u001b[0mvalues\u001b[0m\u001b[1;33m(\u001b[0m\u001b[1;33m)\u001b[0m\u001b[1;33m:\u001b[0m\u001b[1;33m\u001b[0m\u001b[1;33m\u001b[0m\u001b[0m\n\u001b[0;32m    543\u001b[0m             \u001b[0mhook_result\u001b[0m \u001b[1;33m=\u001b[0m \u001b[0mhook\u001b[0m\u001b[1;33m(\u001b[0m\u001b[0mself\u001b[0m\u001b[1;33m,\u001b[0m \u001b[0minput\u001b[0m\u001b[1;33m,\u001b[0m \u001b[0mresult\u001b[0m\u001b[1;33m)\u001b[0m\u001b[1;33m\u001b[0m\u001b[1;33m\u001b[0m\u001b[0m\n",
      "\u001b[1;32m<ipython-input-362-eca56733a604>\u001b[0m in \u001b[0;36mforward\u001b[1;34m(self, data)\u001b[0m\n\u001b[0;32m     78\u001b[0m \u001b[1;33m\u001b[0m\u001b[0m\n\u001b[0;32m     79\u001b[0m \u001b[1;31m#         #update the node attributes\u001b[0m\u001b[1;33m\u001b[0m\u001b[1;33m\u001b[0m\u001b[1;33m\u001b[0m\u001b[0m\n\u001b[1;32m---> 80\u001b[1;33m         \u001b[0mx\u001b[0m \u001b[1;33m=\u001b[0m \u001b[0mself\u001b[0m\u001b[1;33m.\u001b[0m\u001b[0mnode_update_conv_1\u001b[0m\u001b[1;33m(\u001b[0m\u001b[0mx\u001b[0m\u001b[1;33m,\u001b[0m \u001b[0medge_index\u001b[0m\u001b[1;33m,\u001b[0m \u001b[0medge_attr\u001b[0m\u001b[1;33m)\u001b[0m\u001b[1;33m\u001b[0m\u001b[1;33m\u001b[0m\u001b[0m\n\u001b[0m\u001b[0;32m     81\u001b[0m         \u001b[1;31m#update the edges attributes\u001b[0m\u001b[1;33m\u001b[0m\u001b[1;33m\u001b[0m\u001b[1;33m\u001b[0m\u001b[0m\n\u001b[0;32m     82\u001b[0m         \u001b[0mx\u001b[0m\u001b[1;33m,\u001b[0m \u001b[0medge_attr\u001b[0m\u001b[1;33m,\u001b[0m \u001b[0m_\u001b[0m \u001b[1;33m=\u001b[0m \u001b[0mself\u001b[0m\u001b[1;33m.\u001b[0m\u001b[0medge_update_conv_1\u001b[0m\u001b[1;33m.\u001b[0m\u001b[0mforward\u001b[0m\u001b[1;33m(\u001b[0m\u001b[0mx\u001b[0m\u001b[1;33m,\u001b[0m \u001b[0medge_index\u001b[0m\u001b[1;33m,\u001b[0m \u001b[0medge_attr\u001b[0m\u001b[1;33m,\u001b[0m \u001b[0mu\u001b[0m\u001b[1;33m=\u001b[0m\u001b[1;32mNone\u001b[0m\u001b[1;33m,\u001b[0m \u001b[0mbatch\u001b[0m\u001b[1;33m=\u001b[0m\u001b[0mdata\u001b[0m\u001b[1;33m.\u001b[0m\u001b[0mbatch\u001b[0m\u001b[1;33m)\u001b[0m\u001b[1;33m\u001b[0m\u001b[1;33m\u001b[0m\u001b[0m\n",
      "\u001b[1;32m~\\AppData\\Local\\Continuum\\anaconda3\\lib\\site-packages\\torch\\nn\\modules\\module.py\u001b[0m in \u001b[0;36m__call__\u001b[1;34m(self, *input, **kwargs)\u001b[0m\n\u001b[0;32m    539\u001b[0m             \u001b[0mresult\u001b[0m \u001b[1;33m=\u001b[0m \u001b[0mself\u001b[0m\u001b[1;33m.\u001b[0m\u001b[0m_slow_forward\u001b[0m\u001b[1;33m(\u001b[0m\u001b[1;33m*\u001b[0m\u001b[0minput\u001b[0m\u001b[1;33m,\u001b[0m \u001b[1;33m**\u001b[0m\u001b[0mkwargs\u001b[0m\u001b[1;33m)\u001b[0m\u001b[1;33m\u001b[0m\u001b[1;33m\u001b[0m\u001b[0m\n\u001b[0;32m    540\u001b[0m         \u001b[1;32melse\u001b[0m\u001b[1;33m:\u001b[0m\u001b[1;33m\u001b[0m\u001b[1;33m\u001b[0m\u001b[0m\n\u001b[1;32m--> 541\u001b[1;33m             \u001b[0mresult\u001b[0m \u001b[1;33m=\u001b[0m \u001b[0mself\u001b[0m\u001b[1;33m.\u001b[0m\u001b[0mforward\u001b[0m\u001b[1;33m(\u001b[0m\u001b[1;33m*\u001b[0m\u001b[0minput\u001b[0m\u001b[1;33m,\u001b[0m \u001b[1;33m**\u001b[0m\u001b[0mkwargs\u001b[0m\u001b[1;33m)\u001b[0m\u001b[1;33m\u001b[0m\u001b[1;33m\u001b[0m\u001b[0m\n\u001b[0m\u001b[0;32m    542\u001b[0m         \u001b[1;32mfor\u001b[0m \u001b[0mhook\u001b[0m \u001b[1;32min\u001b[0m \u001b[0mself\u001b[0m\u001b[1;33m.\u001b[0m\u001b[0m_forward_hooks\u001b[0m\u001b[1;33m.\u001b[0m\u001b[0mvalues\u001b[0m\u001b[1;33m(\u001b[0m\u001b[1;33m)\u001b[0m\u001b[1;33m:\u001b[0m\u001b[1;33m\u001b[0m\u001b[1;33m\u001b[0m\u001b[0m\n\u001b[0;32m    543\u001b[0m             \u001b[0mhook_result\u001b[0m \u001b[1;33m=\u001b[0m \u001b[0mhook\u001b[0m\u001b[1;33m(\u001b[0m\u001b[0mself\u001b[0m\u001b[1;33m,\u001b[0m \u001b[0minput\u001b[0m\u001b[1;33m,\u001b[0m \u001b[0mresult\u001b[0m\u001b[1;33m)\u001b[0m\u001b[1;33m\u001b[0m\u001b[1;33m\u001b[0m\u001b[0m\n",
      "\u001b[1;32m~\\AppData\\Local\\Continuum\\anaconda3\\lib\\site-packages\\torch_geometric\\nn\\conv\\nn_conv.py\u001b[0m in \u001b[0;36mforward\u001b[1;34m(self, x, edge_index, edge_attr)\u001b[0m\n\u001b[0;32m     79\u001b[0m         \u001b[0mx\u001b[0m \u001b[1;33m=\u001b[0m \u001b[0mx\u001b[0m\u001b[1;33m.\u001b[0m\u001b[0munsqueeze\u001b[0m\u001b[1;33m(\u001b[0m\u001b[1;33m-\u001b[0m\u001b[1;36m1\u001b[0m\u001b[1;33m)\u001b[0m \u001b[1;32mif\u001b[0m \u001b[0mx\u001b[0m\u001b[1;33m.\u001b[0m\u001b[0mdim\u001b[0m\u001b[1;33m(\u001b[0m\u001b[1;33m)\u001b[0m \u001b[1;33m==\u001b[0m \u001b[1;36m1\u001b[0m \u001b[1;32melse\u001b[0m \u001b[0mx\u001b[0m\u001b[1;33m\u001b[0m\u001b[1;33m\u001b[0m\u001b[0m\n\u001b[0;32m     80\u001b[0m         \u001b[0mpseudo\u001b[0m \u001b[1;33m=\u001b[0m \u001b[0medge_attr\u001b[0m\u001b[1;33m.\u001b[0m\u001b[0munsqueeze\u001b[0m\u001b[1;33m(\u001b[0m\u001b[1;33m-\u001b[0m\u001b[1;36m1\u001b[0m\u001b[1;33m)\u001b[0m \u001b[1;32mif\u001b[0m \u001b[0medge_attr\u001b[0m\u001b[1;33m.\u001b[0m\u001b[0mdim\u001b[0m\u001b[1;33m(\u001b[0m\u001b[1;33m)\u001b[0m \u001b[1;33m==\u001b[0m \u001b[1;36m1\u001b[0m \u001b[1;32melse\u001b[0m \u001b[0medge_attr\u001b[0m\u001b[1;33m\u001b[0m\u001b[1;33m\u001b[0m\u001b[0m\n\u001b[1;32m---> 81\u001b[1;33m         \u001b[1;32mreturn\u001b[0m \u001b[0mself\u001b[0m\u001b[1;33m.\u001b[0m\u001b[0mpropagate\u001b[0m\u001b[1;33m(\u001b[0m\u001b[0medge_index\u001b[0m\u001b[1;33m,\u001b[0m \u001b[0mx\u001b[0m\u001b[1;33m=\u001b[0m\u001b[0mx\u001b[0m\u001b[1;33m,\u001b[0m \u001b[0mpseudo\u001b[0m\u001b[1;33m=\u001b[0m\u001b[0mpseudo\u001b[0m\u001b[1;33m)\u001b[0m\u001b[1;33m\u001b[0m\u001b[1;33m\u001b[0m\u001b[0m\n\u001b[0m\u001b[0;32m     82\u001b[0m \u001b[1;33m\u001b[0m\u001b[0m\n\u001b[0;32m     83\u001b[0m     \u001b[1;32mdef\u001b[0m \u001b[0mmessage\u001b[0m\u001b[1;33m(\u001b[0m\u001b[0mself\u001b[0m\u001b[1;33m,\u001b[0m \u001b[0mx_j\u001b[0m\u001b[1;33m,\u001b[0m \u001b[0mpseudo\u001b[0m\u001b[1;33m)\u001b[0m\u001b[1;33m:\u001b[0m\u001b[1;33m\u001b[0m\u001b[1;33m\u001b[0m\u001b[0m\n",
      "\u001b[1;32m~\\AppData\\Local\\Continuum\\anaconda3\\lib\\site-packages\\torch_geometric\\nn\\conv\\message_passing.py\u001b[0m in \u001b[0;36mpropagate\u001b[1;34m(self, edge_index, size, dim, **kwargs)\u001b[0m\n\u001b[0;32m    126\u001b[0m         \u001b[0mout\u001b[0m \u001b[1;33m=\u001b[0m \u001b[0mself\u001b[0m\u001b[1;33m.\u001b[0m\u001b[0mmessage\u001b[0m\u001b[1;33m(\u001b[0m\u001b[1;33m*\u001b[0m\u001b[0mmessage_args\u001b[0m\u001b[1;33m)\u001b[0m\u001b[1;33m\u001b[0m\u001b[1;33m\u001b[0m\u001b[0m\n\u001b[0;32m    127\u001b[0m         \u001b[0mout\u001b[0m \u001b[1;33m=\u001b[0m \u001b[0mscatter_\u001b[0m\u001b[1;33m(\u001b[0m\u001b[0mself\u001b[0m\u001b[1;33m.\u001b[0m\u001b[0maggr\u001b[0m\u001b[1;33m,\u001b[0m \u001b[0mout\u001b[0m\u001b[1;33m,\u001b[0m \u001b[0medge_index\u001b[0m\u001b[1;33m[\u001b[0m\u001b[0mi\u001b[0m\u001b[1;33m]\u001b[0m\u001b[1;33m,\u001b[0m \u001b[0mdim\u001b[0m\u001b[1;33m,\u001b[0m \u001b[0mdim_size\u001b[0m\u001b[1;33m=\u001b[0m\u001b[0msize\u001b[0m\u001b[1;33m[\u001b[0m\u001b[0mi\u001b[0m\u001b[1;33m]\u001b[0m\u001b[1;33m)\u001b[0m\u001b[1;33m\u001b[0m\u001b[1;33m\u001b[0m\u001b[0m\n\u001b[1;32m--> 128\u001b[1;33m         \u001b[0mout\u001b[0m \u001b[1;33m=\u001b[0m \u001b[0mself\u001b[0m\u001b[1;33m.\u001b[0m\u001b[0mupdate\u001b[0m\u001b[1;33m(\u001b[0m\u001b[0mout\u001b[0m\u001b[1;33m,\u001b[0m \u001b[1;33m*\u001b[0m\u001b[0mupdate_args\u001b[0m\u001b[1;33m)\u001b[0m\u001b[1;33m\u001b[0m\u001b[1;33m\u001b[0m\u001b[0m\n\u001b[0m\u001b[0;32m    129\u001b[0m \u001b[1;33m\u001b[0m\u001b[0m\n\u001b[0;32m    130\u001b[0m         \u001b[1;32mreturn\u001b[0m \u001b[0mout\u001b[0m\u001b[1;33m\u001b[0m\u001b[1;33m\u001b[0m\u001b[0m\n",
      "\u001b[1;32m~\\AppData\\Local\\Continuum\\anaconda3\\lib\\site-packages\\torch_geometric\\nn\\conv\\nn_conv.py\u001b[0m in \u001b[0;36mupdate\u001b[1;34m(self, aggr_out, x)\u001b[0m\n\u001b[0;32m     87\u001b[0m     \u001b[1;32mdef\u001b[0m \u001b[0mupdate\u001b[0m\u001b[1;33m(\u001b[0m\u001b[0mself\u001b[0m\u001b[1;33m,\u001b[0m \u001b[0maggr_out\u001b[0m\u001b[1;33m,\u001b[0m \u001b[0mx\u001b[0m\u001b[1;33m)\u001b[0m\u001b[1;33m:\u001b[0m\u001b[1;33m\u001b[0m\u001b[1;33m\u001b[0m\u001b[0m\n\u001b[0;32m     88\u001b[0m         \u001b[1;32mif\u001b[0m \u001b[0mself\u001b[0m\u001b[1;33m.\u001b[0m\u001b[0mroot\u001b[0m \u001b[1;32mis\u001b[0m \u001b[1;32mnot\u001b[0m \u001b[1;32mNone\u001b[0m\u001b[1;33m:\u001b[0m\u001b[1;33m\u001b[0m\u001b[1;33m\u001b[0m\u001b[0m\n\u001b[1;32m---> 89\u001b[1;33m             \u001b[0maggr_out\u001b[0m \u001b[1;33m=\u001b[0m \u001b[0maggr_out\u001b[0m \u001b[1;33m+\u001b[0m \u001b[0mtorch\u001b[0m\u001b[1;33m.\u001b[0m\u001b[0mmm\u001b[0m\u001b[1;33m(\u001b[0m\u001b[0mx\u001b[0m\u001b[1;33m,\u001b[0m \u001b[0mself\u001b[0m\u001b[1;33m.\u001b[0m\u001b[0mroot\u001b[0m\u001b[1;33m)\u001b[0m\u001b[1;33m\u001b[0m\u001b[1;33m\u001b[0m\u001b[0m\n\u001b[0m\u001b[0;32m     90\u001b[0m         \u001b[1;32mif\u001b[0m \u001b[0mself\u001b[0m\u001b[1;33m.\u001b[0m\u001b[0mbias\u001b[0m \u001b[1;32mis\u001b[0m \u001b[1;32mnot\u001b[0m \u001b[1;32mNone\u001b[0m\u001b[1;33m:\u001b[0m\u001b[1;33m\u001b[0m\u001b[1;33m\u001b[0m\u001b[0m\n\u001b[0;32m     91\u001b[0m             \u001b[0maggr_out\u001b[0m \u001b[1;33m=\u001b[0m \u001b[0maggr_out\u001b[0m \u001b[1;33m+\u001b[0m \u001b[0mself\u001b[0m\u001b[1;33m.\u001b[0m\u001b[0mbias\u001b[0m\u001b[1;33m\u001b[0m\u001b[1;33m\u001b[0m\u001b[0m\n",
      "\u001b[1;31mKeyboardInterrupt\u001b[0m: "
     ]
    }
   ],
   "source": [
    "model = Net(node_features, edge_features)\n",
    "\n",
    "model.apply(init_weights)\n",
    "\n",
    "print('Let\\'s use', torch.cuda.device_count(), 'GPU(s)!')\n",
    "device = torch.device('cuda:0' if torch.cuda.is_available() else 'cpu')\n",
    "model = model.to(device)\n",
    "\n",
    "optimizer = torch.optim.Adam(model.parameters(), lr=0.1)\n",
    "\n",
    "data_list = [graph_constructors.make_pyg_graph(*np.array(synthetic_data.make_a_group())).to(device) for _ in range(1)]\n",
    "loader = DataLoader(data_list, batch_size=1)\n",
    "\n",
    "for j in range(500):\n",
    "    \n",
    "    for i, btch in enumerate(loader):\n",
    "\n",
    "        optimizer.zero_grad()\n",
    "        output = model(btch)\n",
    "\n",
    "#         print(torch.sum(btch.edge_attr))\n",
    "        \n",
    "#         y = btch.y_bi.to(output.device)\n",
    "        y = btch.y.to(output.device)\n",
    "        \n",
    "#         print(y)\n",
    "        \n",
    "        loss = F.nll_loss(output, y)\n",
    "        loss.backward()\n",
    "#         if i % 100 == 0:\n",
    "#             plot_grad_flow(model.named_parameters())\n",
    "        optimizer.step()\n",
    "    \n",
    "    print('loss at iteration ', j ,' is ', loss)"
   ]
  },
  {
   "cell_type": "code",
   "execution_count": 371,
   "metadata": {
    "collapsed": true
   },
   "outputs": [
    {
     "name": "stderr",
     "output_type": "stream",
     "text": [
      "C:\\Users\\andy.knapper\\AppData\\Local\\Continuum\\anaconda3\\lib\\site-packages\\ipykernel_launcher.py:3: UserWarning: nn.init.xavier_uniform is now deprecated in favor of nn.init.xavier_uniform_.\n",
      "  This is separate from the ipykernel package so we can avoid doing imports until\n"
     ]
    },
    {
     "name": "stdout",
     "output_type": "stream",
     "text": [
      "Let's use 1 GPU(s)!\n",
      "loss at iteration  0  is  tensor(0.6931, device='cuda:0', grad_fn=<NllLossBackward>)\n"
     ]
    },
    {
     "ename": "KeyboardInterrupt",
     "evalue": "",
     "output_type": "error",
     "traceback": [
      "\u001b[1;31m---------------------------------------------------------------------------\u001b[0m",
      "\u001b[1;31mKeyboardInterrupt\u001b[0m                         Traceback (most recent call last)",
      "\u001b[1;32m<ipython-input-371-2a7e646d7155>\u001b[0m in \u001b[0;36m<module>\u001b[1;34m\u001b[0m\n\u001b[0;32m     13\u001b[0m     \u001b[1;31m#print(j)\u001b[0m\u001b[1;33m\u001b[0m\u001b[1;33m\u001b[0m\u001b[1;33m\u001b[0m\u001b[0m\n\u001b[0;32m     14\u001b[0m \u001b[1;33m\u001b[0m\u001b[0m\n\u001b[1;32m---> 15\u001b[1;33m     \u001b[0mdata_list\u001b[0m \u001b[1;33m=\u001b[0m \u001b[1;33m[\u001b[0m\u001b[0mgraph_constructors\u001b[0m\u001b[1;33m.\u001b[0m\u001b[0mmake_pyg_graph\u001b[0m\u001b[1;33m(\u001b[0m\u001b[1;33m*\u001b[0m\u001b[0mnp\u001b[0m\u001b[1;33m.\u001b[0m\u001b[0marray\u001b[0m\u001b[1;33m(\u001b[0m\u001b[0msynthetic_data\u001b[0m\u001b[1;33m.\u001b[0m\u001b[0mmake_a_group\u001b[0m\u001b[1;33m(\u001b[0m\u001b[1;33m)\u001b[0m\u001b[1;33m)\u001b[0m\u001b[1;33m)\u001b[0m\u001b[1;33m.\u001b[0m\u001b[0mto\u001b[0m\u001b[1;33m(\u001b[0m\u001b[0mdevice\u001b[0m\u001b[1;33m)\u001b[0m \u001b[1;32mfor\u001b[0m \u001b[0m_\u001b[0m \u001b[1;32min\u001b[0m \u001b[0mrange\u001b[0m\u001b[1;33m(\u001b[0m\u001b[1;36m1024\u001b[0m\u001b[1;33m)\u001b[0m\u001b[1;33m]\u001b[0m\u001b[1;33m\u001b[0m\u001b[1;33m\u001b[0m\u001b[0m\n\u001b[0m\u001b[0;32m     16\u001b[0m     \u001b[0mloader\u001b[0m \u001b[1;33m=\u001b[0m \u001b[0mDataLoader\u001b[0m\u001b[1;33m(\u001b[0m\u001b[0mdata_list\u001b[0m\u001b[1;33m,\u001b[0m \u001b[0mbatch_size\u001b[0m\u001b[1;33m=\u001b[0m\u001b[1;36m8\u001b[0m\u001b[1;33m)\u001b[0m\u001b[1;33m\u001b[0m\u001b[1;33m\u001b[0m\u001b[0m\n\u001b[0;32m     17\u001b[0m \u001b[1;33m\u001b[0m\u001b[0m\n",
      "\u001b[1;32m<ipython-input-371-2a7e646d7155>\u001b[0m in \u001b[0;36m<listcomp>\u001b[1;34m(.0)\u001b[0m\n\u001b[0;32m     13\u001b[0m     \u001b[1;31m#print(j)\u001b[0m\u001b[1;33m\u001b[0m\u001b[1;33m\u001b[0m\u001b[1;33m\u001b[0m\u001b[0m\n\u001b[0;32m     14\u001b[0m \u001b[1;33m\u001b[0m\u001b[0m\n\u001b[1;32m---> 15\u001b[1;33m     \u001b[0mdata_list\u001b[0m \u001b[1;33m=\u001b[0m \u001b[1;33m[\u001b[0m\u001b[0mgraph_constructors\u001b[0m\u001b[1;33m.\u001b[0m\u001b[0mmake_pyg_graph\u001b[0m\u001b[1;33m(\u001b[0m\u001b[1;33m*\u001b[0m\u001b[0mnp\u001b[0m\u001b[1;33m.\u001b[0m\u001b[0marray\u001b[0m\u001b[1;33m(\u001b[0m\u001b[0msynthetic_data\u001b[0m\u001b[1;33m.\u001b[0m\u001b[0mmake_a_group\u001b[0m\u001b[1;33m(\u001b[0m\u001b[1;33m)\u001b[0m\u001b[1;33m)\u001b[0m\u001b[1;33m)\u001b[0m\u001b[1;33m.\u001b[0m\u001b[0mto\u001b[0m\u001b[1;33m(\u001b[0m\u001b[0mdevice\u001b[0m\u001b[1;33m)\u001b[0m \u001b[1;32mfor\u001b[0m \u001b[0m_\u001b[0m \u001b[1;32min\u001b[0m \u001b[0mrange\u001b[0m\u001b[1;33m(\u001b[0m\u001b[1;36m1024\u001b[0m\u001b[1;33m)\u001b[0m\u001b[1;33m]\u001b[0m\u001b[1;33m\u001b[0m\u001b[1;33m\u001b[0m\u001b[0m\n\u001b[0m\u001b[0;32m     16\u001b[0m     \u001b[0mloader\u001b[0m \u001b[1;33m=\u001b[0m \u001b[0mDataLoader\u001b[0m\u001b[1;33m(\u001b[0m\u001b[0mdata_list\u001b[0m\u001b[1;33m,\u001b[0m \u001b[0mbatch_size\u001b[0m\u001b[1;33m=\u001b[0m\u001b[1;36m8\u001b[0m\u001b[1;33m)\u001b[0m\u001b[1;33m\u001b[0m\u001b[1;33m\u001b[0m\u001b[0m\n\u001b[0;32m     17\u001b[0m \u001b[1;33m\u001b[0m\u001b[0m\n",
      "\u001b[1;32m~\\AppData\\Local\\Continuum\\anaconda3\\lib\\site-packages\\torch_geometric\\data\\data.py\u001b[0m in \u001b[0;36mto\u001b[1;34m(self, device, *keys)\u001b[0m\n\u001b[0;32m    274\u001b[0m         \u001b[0mIf\u001b[0m \u001b[1;33m:\u001b[0m\u001b[0mobj\u001b[0m\u001b[1;33m:\u001b[0m\u001b[0;31m`\u001b[0m\u001b[1;33m*\u001b[0m\u001b[0mkeys\u001b[0m\u001b[0;31m`\u001b[0m \u001b[1;32mis\u001b[0m \u001b[1;32mnot\u001b[0m \u001b[0mgiven\u001b[0m\u001b[1;33m,\u001b[0m \u001b[0mthe\u001b[0m \u001b[0mconversion\u001b[0m \u001b[1;32mis\u001b[0m \u001b[0mapplied\u001b[0m \u001b[0mto\u001b[0m \u001b[0mall\u001b[0m \u001b[0mpresent\u001b[0m\u001b[1;33m\u001b[0m\u001b[1;33m\u001b[0m\u001b[0m\n\u001b[0;32m    275\u001b[0m         attributes.\"\"\"\n\u001b[1;32m--> 276\u001b[1;33m         \u001b[1;32mreturn\u001b[0m \u001b[0mself\u001b[0m\u001b[1;33m.\u001b[0m\u001b[0mapply\u001b[0m\u001b[1;33m(\u001b[0m\u001b[1;32mlambda\u001b[0m \u001b[0mx\u001b[0m\u001b[1;33m:\u001b[0m \u001b[0mx\u001b[0m\u001b[1;33m.\u001b[0m\u001b[0mto\u001b[0m\u001b[1;33m(\u001b[0m\u001b[0mdevice\u001b[0m\u001b[1;33m)\u001b[0m\u001b[1;33m,\u001b[0m \u001b[1;33m*\u001b[0m\u001b[0mkeys\u001b[0m\u001b[1;33m)\u001b[0m\u001b[1;33m\u001b[0m\u001b[1;33m\u001b[0m\u001b[0m\n\u001b[0m\u001b[0;32m    277\u001b[0m \u001b[1;33m\u001b[0m\u001b[0m\n\u001b[0;32m    278\u001b[0m     \u001b[1;32mdef\u001b[0m \u001b[0mclone\u001b[0m\u001b[1;33m(\u001b[0m\u001b[0mself\u001b[0m\u001b[1;33m)\u001b[0m\u001b[1;33m:\u001b[0m\u001b[1;33m\u001b[0m\u001b[1;33m\u001b[0m\u001b[0m\n",
      "\u001b[1;32m~\\AppData\\Local\\Continuum\\anaconda3\\lib\\site-packages\\torch_geometric\\data\\data.py\u001b[0m in \u001b[0;36mapply\u001b[1;34m(self, func, *keys)\u001b[0m\n\u001b[0;32m    260\u001b[0m         \u001b[1;32mfor\u001b[0m \u001b[0mkey\u001b[0m\u001b[1;33m,\u001b[0m \u001b[0mitem\u001b[0m \u001b[1;32min\u001b[0m \u001b[0mself\u001b[0m\u001b[1;33m(\u001b[0m\u001b[1;33m*\u001b[0m\u001b[0mkeys\u001b[0m\u001b[1;33m)\u001b[0m\u001b[1;33m:\u001b[0m\u001b[1;33m\u001b[0m\u001b[1;33m\u001b[0m\u001b[0m\n\u001b[0;32m    261\u001b[0m             \u001b[1;32mif\u001b[0m \u001b[0mtorch\u001b[0m\u001b[1;33m.\u001b[0m\u001b[0mis_tensor\u001b[0m\u001b[1;33m(\u001b[0m\u001b[0mitem\u001b[0m\u001b[1;33m)\u001b[0m\u001b[1;33m:\u001b[0m\u001b[1;33m\u001b[0m\u001b[1;33m\u001b[0m\u001b[0m\n\u001b[1;32m--> 262\u001b[1;33m                 \u001b[0mself\u001b[0m\u001b[1;33m[\u001b[0m\u001b[0mkey\u001b[0m\u001b[1;33m]\u001b[0m \u001b[1;33m=\u001b[0m \u001b[0mfunc\u001b[0m\u001b[1;33m(\u001b[0m\u001b[0mitem\u001b[0m\u001b[1;33m)\u001b[0m\u001b[1;33m\u001b[0m\u001b[1;33m\u001b[0m\u001b[0m\n\u001b[0m\u001b[0;32m    263\u001b[0m         \u001b[1;32mreturn\u001b[0m \u001b[0mself\u001b[0m\u001b[1;33m\u001b[0m\u001b[1;33m\u001b[0m\u001b[0m\n\u001b[0;32m    264\u001b[0m \u001b[1;33m\u001b[0m\u001b[0m\n",
      "\u001b[1;32m~\\AppData\\Local\\Continuum\\anaconda3\\lib\\site-packages\\torch_geometric\\data\\data.py\u001b[0m in \u001b[0;36m<lambda>\u001b[1;34m(x)\u001b[0m\n\u001b[0;32m    274\u001b[0m         \u001b[0mIf\u001b[0m \u001b[1;33m:\u001b[0m\u001b[0mobj\u001b[0m\u001b[1;33m:\u001b[0m\u001b[0;31m`\u001b[0m\u001b[1;33m*\u001b[0m\u001b[0mkeys\u001b[0m\u001b[0;31m`\u001b[0m \u001b[1;32mis\u001b[0m \u001b[1;32mnot\u001b[0m \u001b[0mgiven\u001b[0m\u001b[1;33m,\u001b[0m \u001b[0mthe\u001b[0m \u001b[0mconversion\u001b[0m \u001b[1;32mis\u001b[0m \u001b[0mapplied\u001b[0m \u001b[0mto\u001b[0m \u001b[0mall\u001b[0m \u001b[0mpresent\u001b[0m\u001b[1;33m\u001b[0m\u001b[1;33m\u001b[0m\u001b[0m\n\u001b[0;32m    275\u001b[0m         attributes.\"\"\"\n\u001b[1;32m--> 276\u001b[1;33m         \u001b[1;32mreturn\u001b[0m \u001b[0mself\u001b[0m\u001b[1;33m.\u001b[0m\u001b[0mapply\u001b[0m\u001b[1;33m(\u001b[0m\u001b[1;32mlambda\u001b[0m \u001b[0mx\u001b[0m\u001b[1;33m:\u001b[0m \u001b[0mx\u001b[0m\u001b[1;33m.\u001b[0m\u001b[0mto\u001b[0m\u001b[1;33m(\u001b[0m\u001b[0mdevice\u001b[0m\u001b[1;33m)\u001b[0m\u001b[1;33m,\u001b[0m \u001b[1;33m*\u001b[0m\u001b[0mkeys\u001b[0m\u001b[1;33m)\u001b[0m\u001b[1;33m\u001b[0m\u001b[1;33m\u001b[0m\u001b[0m\n\u001b[0m\u001b[0;32m    277\u001b[0m \u001b[1;33m\u001b[0m\u001b[0m\n\u001b[0;32m    278\u001b[0m     \u001b[1;32mdef\u001b[0m \u001b[0mclone\u001b[0m\u001b[1;33m(\u001b[0m\u001b[0mself\u001b[0m\u001b[1;33m)\u001b[0m\u001b[1;33m:\u001b[0m\u001b[1;33m\u001b[0m\u001b[1;33m\u001b[0m\u001b[0m\n",
      "\u001b[1;31mKeyboardInterrupt\u001b[0m: "
     ]
    }
   ],
   "source": [
    "model = Net(node_features, edge_features)\n",
    "\n",
    "model.apply(init_weights)\n",
    "\n",
    "print('Let\\'s use', torch.cuda.device_count(), 'GPU(s)!')\n",
    "device = torch.device('cuda:0' if torch.cuda.is_available() else 'cpu')\n",
    "model = model.to(device)\n",
    "\n",
    "optimizer = torch.optim.Adam(model.parameters(), lr=0.01)\n",
    "\n",
    "for j in range(1000):\n",
    "    \n",
    "    #print(j)\n",
    "    \n",
    "    data_list = [graph_constructors.make_pyg_graph(*np.array(synthetic_data.make_a_group())).to(device) for _ in range(1024)]\n",
    "    loader = DataLoader(data_list, batch_size=8)\n",
    "\n",
    "    for i, btch in enumerate(loader):\n",
    "\n",
    "        optimizer.zero_grad()\n",
    "        output = model(btch)\n",
    "\n",
    "        y = btch.y.to(output.device)\n",
    "        loss = F.nll_loss(output, y)\n",
    "        loss.backward()\n",
    "        optimizer.step()\n",
    "    \n",
    "    print('loss at iteration ', j ,' is ', loss)\n"
   ]
  },
  {
   "cell_type": "markdown",
   "metadata": {},
   "source": [
    "### Try something new - RNNs"
   ]
  },
  {
   "cell_type": "markdown",
   "metadata": {},
   "source": [
    "Try to create a network that identifies regular vs. irregular components by passing through a bi-directional GRU"
   ]
  },
  {
   "cell_type": "code",
   "execution_count": null,
   "metadata": {},
   "outputs": [],
   "source": [
    "data_list = [graph_constructors.make_pyg_graph(*np.array(synthetic_data.make_a_group())).to(device) for _ in range(32)]\n",
    "loader = DataLoader(data_list, batch_size=8)"
   ]
  },
  {
   "cell_type": "code",
   "execution_count": 372,
   "metadata": {},
   "outputs": [
    {
     "data": {
      "text/plain": [
       "array([[   0.        ,    7.        ,   14.        ,   21.        ,\n",
       "          28.        ,   35.        ,   42.        ,   49.        ,\n",
       "          56.        ,   63.        ,   70.        ,   77.        ,\n",
       "          84.        ,   91.        ,   98.        ,  112.        ,\n",
       "          43.        ,   38.        ,   80.        ,  106.        ],\n",
       "       [-149.69888217, -144.67759909, -146.62353463, -152.1454524 ,\n",
       "        -147.33202854, -150.84649004, -176.95915343, -184.81938074,\n",
       "        -179.30710214, -178.11290727, -181.45039341, -178.77139133,\n",
       "        -177.13903773, -180.80335917, -180.212116  , -177.89491905,\n",
       "        -750.5930489 , -604.96421672, -611.11670711, -471.94526902],\n",
       "       [   0.        ,    0.        ,    0.        ,    0.        ,\n",
       "           0.        ,    0.        ,    0.        ,    0.        ,\n",
       "           0.        ,    0.        ,    0.        ,    0.        ,\n",
       "           0.        ,    0.        ,    0.        ,    0.        ,\n",
       "           1.        ,    1.        ,    1.        ,    1.        ]])"
      ]
     },
     "execution_count": 372,
     "metadata": {},
     "output_type": "execute_result"
    }
   ],
   "source": [
    "np.array(synthetic_data.make_a_group())"
   ]
  },
  {
   "cell_type": "code",
   "execution_count": 373,
   "metadata": {},
   "outputs": [
    {
     "data": {
      "text/plain": [
       "array([0, 0, 0, 0, 0, 0, 0, 0, 0, 0, 0, 0, 0, 0, 6, 3, 2, 2, 6, 0, 6, 3,\n",
       "       1, 0, 2, 4, 5, 6, 1, 6], dtype=int32)"
      ]
     },
     "execution_count": 373,
     "metadata": {},
     "output_type": "execute_result"
    }
   ],
   "source": [
    "day_of_the_week = np.mod(d_arr,7)\n",
    "day_of_the_week"
   ]
  },
  {
   "cell_type": "code",
   "execution_count": 376,
   "metadata": {
    "collapsed": true
   },
   "outputs": [
    {
     "data": {
      "text/plain": [
       "[0,\n",
       " 111,\n",
       " 1110,\n",
       " 11100,\n",
       " 100011,\n",
       " 101010,\n",
       " 110001,\n",
       " 111000,\n",
       " 111111,\n",
       " 1000110,\n",
       " 1001101,\n",
       " 1010100,\n",
       " 1011011,\n",
       " 1100010,\n",
       " 11011,\n",
       " 111011,\n",
       " 1000001,\n",
       " 1001,\n",
       " 1011010,\n",
       " 11100,\n",
       " 100010,\n",
       " 1001001,\n",
       " 111001,\n",
       " 1001101,\n",
       " 11110,\n",
       " 11001,\n",
       " 100001,\n",
       " 111110,\n",
       " 11101,\n",
       " 110000]"
      ]
     },
     "execution_count": 376,
     "metadata": {},
     "output_type": "execute_result"
    }
   ],
   "source": [
    "get_bin = lambda x: format(x, 'b')\n",
    "[int(get_bin(x)) for x in d_arr]"
   ]
  },
  {
   "cell_type": "markdown",
   "metadata": {},
   "source": [
    "### Try something new - pixel CNN"
   ]
  },
  {
   "cell_type": "code",
   "execution_count": null,
   "metadata": {},
   "outputs": [],
   "source": [
    "data_list = [graph_constructors.make_pyg_graph(*np.array(synthetic_data.make_a_group())).to(device) for _ in range(32)]\n",
    "loader = DataLoader(data_list, batch_size=8)"
   ]
  },
  {
   "cell_type": "code",
   "execution_count": 455,
   "metadata": {},
   "outputs": [
    {
     "data": {
      "text/plain": [
       "196"
      ]
     },
     "execution_count": 455,
     "metadata": {},
     "output_type": "execute_result"
    }
   ],
   "source": [
    "max_lst = 0\n",
    "for _ in range(1000):\n",
    "    d_lst, a_lst, g_lst = synthetic_data.make_a_group()\n",
    "    max_lst = max(max_lst, max(d_lst))\n",
    "max_lst"
   ]
  },
  {
   "cell_type": "code",
   "execution_count": 466,
   "metadata": {},
   "outputs": [
    {
     "data": {
      "text/plain": [
       "-1291.8204799422456"
      ]
     },
     "execution_count": 466,
     "metadata": {},
     "output_type": "execute_result"
    }
   ],
   "source": [
    "min_lst = 0\n",
    "for _ in range(1000):\n",
    "    d_lst, a_lst, g_lst = synthetic_data.make_a_group()\n",
    "    min_lst = min(min_lst, min(a_lst))\n",
    "min_lst"
   ]
  },
  {
   "cell_type": "code",
   "execution_count": 379,
   "metadata": {},
   "outputs": [
    {
     "data": {
      "text/plain": [
       "30"
      ]
     },
     "execution_count": 379,
     "metadata": {},
     "output_type": "execute_result"
    }
   ],
   "source": [
    "num_trans = len(a_arr)\n",
    "num_trans"
   ]
  },
  {
   "cell_type": "code",
   "execution_count": 417,
   "metadata": {},
   "outputs": [
    {
     "data": {
      "text/plain": [
       "48"
      ]
     },
     "execution_count": 417,
     "metadata": {},
     "output_type": "execute_result"
    }
   ],
   "source": [
    "idx = np.random.randint(0,30)\n",
    "d_arr[idx]"
   ]
  },
  {
   "cell_type": "code",
   "execution_count": 430,
   "metadata": {},
   "outputs": [],
   "source": [
    "def find_pixel_centred_d_arr(inp_d_arr, inp_a_arr, idx):\n",
    "    #find transactions within 100 days either side of this transaction\n",
    "    date_mask = np.logical_and(inp_d_arr[idx]-100 <= inp_d_arr, inp_d_arr <= inp_d_arr[idx]+100)\n",
    "    return inp_d_arr[date_mask]-inp_d_arr[idx]+100"
   ]
  },
  {
   "cell_type": "code",
   "execution_count": 431,
   "metadata": {},
   "outputs": [],
   "source": [
    "def find_pixel_centred_a_arr(inp_d_arr, inp_a_arr, idx):\n",
    "    date_mask = np.logical_and(inp_d_arr[idx]-100 <= inp_d_arr, inp_d_arr <= inp_d_arr[idx]+100)\n",
    "    raw_a = inp_a_arr[date_mask]-inp_a_arr[idx]\n",
    "    scaler = max(abs(np.min(raw_a)),abs(np.max(raw_a)))\n",
    "    return np.round(100+raw_a*100/scaler,0)"
   ]
  },
  {
   "cell_type": "code",
   "execution_count": 441,
   "metadata": {},
   "outputs": [
    {
     "data": {
      "image/png": "[encoded data removed]",
      "text/plain": [
       "<Figure size 720x576 with 1 Axes>"
      ]
     },
     "metadata": {
      "needs_background": "light"
     },
     "output_type": "display_data"
    },
    {
     "data": {
      "image/png": "[encoded data removed]",
      "text/plain": [
       "<Figure size 720x576 with 1 Axes>"
      ]
     },
     "metadata": {
      "needs_background": "light"
     },
     "output_type": "display_data"
    }
   ],
   "source": [
    "colour_list = ['tab:blue', 'tab:orange', 'tab:green', 'tab:red', 'tab:purple', 'tab:brown', 'tab:pink', 'tab:gray', 'tab:olive', 'tab:cyan']\n",
    "\n",
    "for i in range(2):\n",
    "    d_lst, a_lst, g_lst = synthetic_data.make_a_group()\n",
    "    \n",
    "    d_arr = np.array(d_lst)\n",
    "    a_arr = np.array(a_lst)\n",
    "    g_arr = np.array(g_lst)    \n",
    "    \n",
    "    num_trans = len(a_arr)\n",
    "    idx = np.random.randint(0,num_trans)\n",
    "    \n",
    "#     print(num_trans, idx)\n",
    "    \n",
    "    pixel_centred_d_arr = find_pixel_centred_d_arr(d_arr, a_arr, idx)\n",
    "    pixel_centred_a_arr = find_pixel_centred_a_arr(d_arr, a_arr, idx)\n",
    "    pixel_centred_g_arr = np.repeat(0, len(pixel_centred_a_arr))\n",
    "    \n",
    "#     print(len(pixel_centred_d_arr))\n",
    "#     print(len(pixel_centred_a_arr))\n",
    "    \n",
    "    fig, (ax1) = plt.subplots(nrows=1, ncols=1, figsize=(10,8), sharex=True)\n",
    "    ax1.scatter(pixel_centred_d_arr, pixel_centred_a_arr, s=10, marker='x')\n",
    "    ax1.set_title(str(i))\n",
    "    ax1.set_xlim([0,200])\n",
    "    ax1.set_ylim([0,200])\n",
    "\n",
    "    \n",
    "    for ax1 in fig.axes:\n",
    "        matplotlib.pyplot.sca(ax1)\n",
    "        plt.xticks(rotation=90)\n",
    "        #plt.legend(bbox_to_anchor=(1.02, 1), loc=2, borderaxespad=0.)\n",
    "    \n",
    "    plt.show"
   ]
  },
  {
   "cell_type": "code",
   "execution_count": null,
   "metadata": {},
   "outputs": [],
   "source": []
  },
  {
   "cell_type": "code",
   "execution_count": null,
   "metadata": {},
   "outputs": [],
   "source": []
  },
  {
   "cell_type": "code",
   "execution_count": null,
   "metadata": {},
   "outputs": [],
   "source": []
  },
  {
   "cell_type": "code",
   "execution_count": null,
   "metadata": {},
   "outputs": [],
   "source": []
  },
  {
   "cell_type": "code",
   "execution_count": null,
   "metadata": {},
   "outputs": [],
   "source": []
  },
  {
   "cell_type": "code",
   "execution_count": null,
   "metadata": {},
   "outputs": [],
   "source": []
  },
  {
   "cell_type": "code",
   "execution_count": null,
   "metadata": {},
   "outputs": [],
   "source": []
  },
  {
   "cell_type": "code",
   "execution_count": null,
   "metadata": {},
   "outputs": [],
   "source": []
  },
  {
   "cell_type": "code",
   "execution_count": null,
   "metadata": {},
   "outputs": [],
   "source": []
  }
 ],
 "metadata": {
  "kernelspec": {
   "display_name": "Python 3",
   "language": "python",
   "name": "python3"
  },
  "language_info": {
   "codemirror_mode": {
    "name": "ipython",
    "version": 3
   },
   "file_extension": ".py",
   "mimetype": "text/x-python",
   "name": "python",
   "nbconvert_exporter": "python",
   "pygments_lexer": "ipython3",
   "version": "3.7.4"
  }
 },
 "nbformat": 4,
 "nbformat_minor": 2
}
