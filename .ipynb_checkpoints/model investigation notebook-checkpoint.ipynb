{
 "cells": [
  {
   "cell_type": "code",
   "execution_count": 1,
   "metadata": {},
   "outputs": [],
   "source": [
    "%matplotlib inline\n",
    "\n",
    "import matplotlib\n",
    "import matplotlib.pyplot as plt\n",
    "\n",
    "import numpy as np\n",
    "import timeit\n",
    "import statistics\n",
    "import time\n",
    "import torch\n",
    "import torch_geometric\n",
    "import importlib\n",
    "\n",
    "from data_utils import synthetic_data\n",
    "from data_utils import graph_constructors\n",
    "\n",
    "import networkx as nx\n",
    "\n",
    "import importlib"
   ]
  },
  {
   "cell_type": "code",
   "execution_count": 154,
   "metadata": {},
   "outputs": [
    {
     "data": {
      "text/plain": [
       "<module 'data_utils.graph_constructors' from 'C:\\\\Users\\\\andy.knapper\\\\Documents\\\\OW\\\\Categorisation\\\\ML grouping\\\\GNN-for-trans-grouping\\\\data_utils\\\\graph_constructors.py'>"
      ]
     },
     "execution_count": 154,
     "metadata": {},
     "output_type": "execute_result"
    }
   ],
   "source": [
    "importlib.reload(synthetic_data)\n",
    "importlib.reload(graph_constructors)"
   ]
  },
  {
   "cell_type": "code",
   "execution_count": null,
   "metadata": {},
   "outputs": [],
   "source": [
    "%timeit synthetic_data.make_a_group()"
   ]
  },
  {
   "cell_type": "code",
   "execution_count": 3,
   "metadata": {
    "collapsed": true
   },
   "outputs": [
    {
     "data": {
      "image/png": "[encoded data removed]",
      "text/plain": [
       "<Figure size 720x576 with 1 Axes>"
      ]
     },
     "metadata": {
      "needs_background": "light"
     },
     "output_type": "display_data"
    },
    {
     "data": {
      "image/png": "[encoded data removed]",
      "text/plain": [
       "<Figure size 720x576 with 1 Axes>"
      ]
     },
     "metadata": {
      "needs_background": "light"
     },
     "output_type": "display_data"
    }
   ],
   "source": [
    "colour_list = ['tab:blue', 'tab:orange', 'tab:green', 'tab:red', 'tab:purple', 'tab:brown', 'tab:pink', 'tab:gray', 'tab:olive', 'tab:cyan']\n",
    "\n",
    "for i in range(2):\n",
    "    d_lst, a_lst, g_lst = synthetic_data.make_a_group()\n",
    "    \n",
    "    d_arr = np.array(d_lst)\n",
    "    a_arr = np.array(a_lst)\n",
    "    g_arr = np.array(g_lst)    \n",
    "    \n",
    "    fig, (ax1) = plt.subplots(nrows=1, ncols=1, figsize=(10,8), sharex=True)\n",
    "    for g in g_lst:\n",
    "        mask = (g_arr == g)\n",
    "        \n",
    "        ax1.scatter(d_arr[mask], a_arr[mask], s=10, c=colour_list[g%10], marker='x')\n",
    "        ax1.set_title(str(i))\n",
    "        #ax1.legend(loc=\"upper right\")\n",
    "    \n",
    "    for ax1 in fig.axes:\n",
    "        matplotlib.pyplot.sca(ax1)\n",
    "        plt.xticks(rotation=90)\n",
    "        #plt.legend(bbox_to_anchor=(1.02, 1), loc=2, borderaxespad=0.)\n",
    "    \n",
    "    plt.show"
   ]
  },
  {
   "cell_type": "code",
   "execution_count": 155,
   "metadata": {},
   "outputs": [],
   "source": [
    "d_lst, a_lst, g_lst = synthetic_data.make_a_group()"
   ]
  },
  {
   "cell_type": "code",
   "execution_count": 156,
   "metadata": {},
   "outputs": [],
   "source": [
    "d_arr = np.array(d_lst)\n",
    "a_arr = np.array(a_lst)\n",
    "g_arr = np.array(g_lst)"
   ]
  },
  {
   "cell_type": "code",
   "execution_count": 157,
   "metadata": {},
   "outputs": [],
   "source": [
    "norm_a_arr = graph_constructors.normalise_amounts(a_arr)"
   ]
  },
  {
   "cell_type": "code",
   "execution_count": null,
   "metadata": {},
   "outputs": [],
   "source": [
    "# edge_lst, edge_features_lst, edge_labels_lst = graph_constructors.find_nearest_in_interval(inp_day_arr = d_arr\n",
    "#                          , inp_norm_amt_arr = norm_a_arr\n",
    "#                          , inp_group_arr = g_arr\n",
    "#                          , cur_edge_lst =[]\n",
    "#                          , cur_edge_features_lst = []\n",
    "#                          , cur_edge_labels_lst = []\n",
    "#                          , interval = np.array([5,9]))"
   ]
  },
  {
   "cell_type": "code",
   "execution_count": null,
   "metadata": {},
   "outputs": [],
   "source": [
    "# edge_lst, edge_features_lst, edge_labels_lst = graph_constructors.find_nearest_amount(inp_day_arr = d_arr\n",
    "#                          , inp_norm_amt_arr = norm_a_arr\n",
    "#                          , inp_group_arr = g_arr\n",
    "#                          , cur_edge_lst =[]\n",
    "#                          , cur_edge_features_lst = []\n",
    "#                          , cur_edge_labels_lst = [])\n",
    "\n",
    "# edge_lst"
   ]
  },
  {
   "cell_type": "code",
   "execution_count": null,
   "metadata": {},
   "outputs": [],
   "source": [
    "# edge_lst, edge_features_lst, edge_labels_lst = graph_constructors.find_nearest_day(inp_day_arr = d_arr\n",
    "#                          , inp_norm_amt_arr = norm_a_arr\n",
    "#                          , inp_group_arr = g_arr\n",
    "#                          , cur_edge_lst =[]\n",
    "#                          , cur_edge_features_lst = []\n",
    "#                          , cur_edge_labels_lst = [])"
   ]
  },
  {
   "cell_type": "code",
   "execution_count": 158,
   "metadata": {},
   "outputs": [],
   "source": [
    "data = graph_constructors.make_pyg_graph(d_arr, a_arr, g_arr)"
   ]
  },
  {
   "cell_type": "code",
   "execution_count": 159,
   "metadata": {
    "collapsed": true
   },
   "outputs": [
    {
     "data": {
      "text/plain": [
       "{0: 0,\n",
       " 1: 0,\n",
       " 2: 0,\n",
       " 3: 0,\n",
       " 4: 0,\n",
       " 5: 0,\n",
       " 6: 0,\n",
       " 7: 0,\n",
       " 8: 0,\n",
       " 9: 0,\n",
       " 10: 0,\n",
       " 11: 0,\n",
       " 12: 0,\n",
       " 13: 0,\n",
       " 14: 1,\n",
       " 15: 1,\n",
       " 16: 1,\n",
       " 17: 1,\n",
       " 18: 1,\n",
       " 19: 1,\n",
       " 20: 1,\n",
       " 21: 1,\n",
       " 22: 1,\n",
       " 23: 1,\n",
       " 24: 1,\n",
       " 25: 1,\n",
       " 26: 1,\n",
       " 27: 1,\n",
       " 28: 1,\n",
       " 29: 1}"
      ]
     },
     "execution_count": 159,
     "metadata": {},
     "output_type": "execute_result"
    }
   ],
   "source": [
    "dict(zip([i for i in range(len(data.group_id))], data.group_id)) "
   ]
  },
  {
   "cell_type": "code",
   "execution_count": 160,
   "metadata": {
    "collapsed": true
   },
   "outputs": [
    {
     "data": {
      "text/plain": [
       "tensor([[ 2,  0],\n",
       "        [ 0,  2],\n",
       "        [ 0,  8],\n",
       "        [ 8,  0],\n",
       "        [ 8,  1],\n",
       "        [ 1,  8],\n",
       "        [ 1,  9],\n",
       "        [ 9,  1],\n",
       "        [ 9,  7],\n",
       "        [ 7,  9],\n",
       "        [ 7,  4],\n",
       "        [ 4,  7],\n",
       "        [ 4,  6],\n",
       "        [ 6,  4],\n",
       "        [ 6,  3],\n",
       "        [ 3,  6],\n",
       "        [ 3,  5],\n",
       "        [ 5,  3],\n",
       "        [13, 12],\n",
       "        [12, 13],\n",
       "        [12, 11],\n",
       "        [11, 12],\n",
       "        [11, 10],\n",
       "        [10, 11],\n",
       "        [18, 22],\n",
       "        [22, 18],\n",
       "        [22, 29],\n",
       "        [29, 22],\n",
       "        [29, 16],\n",
       "        [16, 29],\n",
       "        [16, 14],\n",
       "        [14, 16],\n",
       "        [14, 21],\n",
       "        [21, 14],\n",
       "        [21, 25],\n",
       "        [25, 21],\n",
       "        [25, 23],\n",
       "        [23, 25],\n",
       "        [23, 27],\n",
       "        [27, 23],\n",
       "        [27, 20],\n",
       "        [20, 27],\n",
       "        [20, 17],\n",
       "        [17, 20],\n",
       "        [17, 24],\n",
       "        [24, 17],\n",
       "        [24, 26],\n",
       "        [26, 24],\n",
       "        [26, 19],\n",
       "        [19, 26],\n",
       "        [19, 28],\n",
       "        [28, 19],\n",
       "        [ 0,  1],\n",
       "        [ 1,  0],\n",
       "        [25, 14],\n",
       "        [14, 25],\n",
       "        [28, 24],\n",
       "        [24, 28],\n",
       "        [26, 20],\n",
       "        [20, 26],\n",
       "        [ 4,  5],\n",
       "        [ 5,  4],\n",
       "        [ 6,  7],\n",
       "        [ 7,  6],\n",
       "        [22, 15],\n",
       "        [15, 22],\n",
       "        [15, 27],\n",
       "        [27, 15]])"
      ]
     },
     "execution_count": 160,
     "metadata": {},
     "output_type": "execute_result"
    }
   ],
   "source": [
    "data.edge_index.t()[data.y_bi.numpy().astype(bool)]"
   ]
  },
  {
   "cell_type": "code",
   "execution_count": 161,
   "metadata": {
    "collapsed": true
   },
   "outputs": [
    {
     "data": {
      "text/plain": [
       "tensor([[ 5, 15],\n",
       "        [15,  5],\n",
       "        [15, 13],\n",
       "        [13, 15],\n",
       "        [10, 18],\n",
       "        [18, 10],\n",
       "        [ 1, 17],\n",
       "        [17,  1],\n",
       "        [17,  2],\n",
       "        [ 2, 17],\n",
       "        [ 2, 25],\n",
       "        [25,  2],\n",
       "        [14,  3],\n",
       "        [ 3, 14],\n",
       "        [ 3, 19],\n",
       "        [19,  3],\n",
       "        [20,  4],\n",
       "        [ 4, 20],\n",
       "        [ 5, 29],\n",
       "        [29,  5],\n",
       "        [29,  6],\n",
       "        [ 6, 29],\n",
       "        [ 7, 22],\n",
       "        [22,  7],\n",
       "        [27,  8],\n",
       "        [ 8, 27],\n",
       "        [ 8, 16],\n",
       "        [16,  8],\n",
       "        [16,  9],\n",
       "        [ 9, 16],\n",
       "        [ 9, 21],\n",
       "        [21,  9],\n",
       "        [21, 10],\n",
       "        [10, 21],\n",
       "        [10, 23],\n",
       "        [23, 10],\n",
       "        [23, 11],\n",
       "        [11, 23],\n",
       "        [11, 18],\n",
       "        [18, 11],\n",
       "        [18, 12],\n",
       "        [12, 18]])"
      ]
     },
     "execution_count": 161,
     "metadata": {},
     "output_type": "execute_result"
    }
   ],
   "source": [
    "data.edge_index.t()[np.logical_not(data.y_bi.numpy().astype(bool))]"
   ]
  },
  {
   "cell_type": "code",
   "execution_count": 184,
   "metadata": {
    "collapsed": true
   },
   "outputs": [
    {
     "data": {
      "text/plain": [
       "tensor([ True,  True,  True,  True,  True,  True,  True,  True,  True,  True,\n",
       "         True,  True,  True,  True,  True,  True,  True,  True, False, False,\n",
       "        False, False,  True,  True,  True,  True,  True,  True, False, False,\n",
       "         True,  True,  True,  True,  True,  True,  True,  True,  True,  True,\n",
       "         True,  True,  True,  True,  True,  True,  True,  True,  True,  True,\n",
       "         True,  True,  True,  True,  True,  True,  True,  True,  True,  True,\n",
       "        False, False, False, False, False, False,  True,  True, False, False,\n",
       "        False, False,  True,  True,  True,  True, False, False,  True,  True,\n",
       "        False, False, False, False,  True,  True, False, False,  True,  True,\n",
       "         True,  True, False, False, False, False, False, False, False, False,\n",
       "        False, False, False, False, False, False, False, False, False, False])"
      ]
     },
     "execution_count": 184,
     "metadata": {},
     "output_type": "execute_result"
    }
   ],
   "source": [
    "data.y_bi == 1"
   ]
  },
  {
   "cell_type": "code",
   "execution_count": 230,
   "metadata": {},
   "outputs": [
    {
     "data": {
      "text/plain": [
       "tensor([ 0.2581, -0.2581,  0.0634, -0.0634,  0.0752, -0.0752,  0.7467, -0.7467,\n",
       "        -0.7491,  0.7491,  0.5869, -0.5869, -0.4938,  0.4938,  0.8704, -0.8704,\n",
       "        -0.7279,  0.7279,  0.4520, -0.4520, -0.4602,  0.4602,  0.4214, -0.4214,\n",
       "        -0.7224,  0.7224,  0.4731, -0.4731, -0.4703,  0.4703,  0.5235, -0.5235,\n",
       "        -0.1788,  0.1788,  0.2739, -0.2739, -0.2795,  0.2795,  0.0807, -0.0807,\n",
       "        -0.0849,  0.0849])"
      ]
     },
     "execution_count": 230,
     "metadata": {},
     "output_type": "execute_result"
    }
   ],
   "source": []
  },
  {
   "cell_type": "code",
   "execution_count": 251,
   "metadata": {},
   "outputs": [
    {
     "data": {
      "text/plain": [
       "array([False, False, False, False, False, False, False, False, False,\n",
       "       False, False, False, False, False, False, False, False, False,\n",
       "       False, False, False, False, False, False, False, False, False,\n",
       "       False, False, False,  True,  True,  True,  True,  True,  True,\n",
       "        True,  True,  True,  True,  True,  True,  True,  True,  True,\n",
       "        True,  True,  True,  True,  True,  True,  True,  True,  True,\n",
       "        True,  True,  True,  True, False, False, False, False, False,\n",
       "       False, False, False,  True,  True, False, False, False, False,\n",
       "        True,  True,  True,  True, False, False, False, False, False,\n",
       "       False, False, False, False, False, False, False,  True,  True,\n",
       "        True,  True, False, False, False, False, False, False, False,\n",
       "       False, False, False, False, False, False, False, False, False,\n",
       "       False, False])"
      ]
     },
     "execution_count": 251,
     "metadata": {},
     "output_type": "execute_result"
    }
   ],
   "source": [
    "group_idxs = np.arange(len(data.group_id))[data.group_id == 1]\n",
    "edges_from_group_idxs = np.array([x in list(group_idxs) for x in  data.edge_index[0]])\n",
    "edges_to_group_idxs = np.array([x in list(group_idxs) for x in  data.edge_index[1]])\n",
    "edges_in_group_idxs = np.logical_and(edges_from_group_idxs, edges_to_group_idxs)\n",
    "edges_in_group_idxs"
   ]
  },
  {
   "cell_type": "code",
   "execution_count": 252,
   "metadata": {},
   "outputs": [
    {
     "data": {
      "text/plain": [
       "array([2, 5, 5, 2, 3, 4, 4, 3, 4, 3, 1, 6, 3, 4, 6, 1, 0, 0, 3, 4, 0, 0,\n",
       "       3, 4, 2, 5, 1, 6, 2, 5, 1, 6, 1, 6, 2, 5, 3, 4], dtype=int64)"
      ]
     },
     "execution_count": 252,
     "metadata": {},
     "output_type": "execute_result"
    }
   ],
   "source": [
    "np.mod(np.argmax((data.edge_attr[edges_in_group_idxs][:, 2:]).numpy(), axis = 1),7)"
   ]
  },
  {
   "cell_type": "code",
   "execution_count": 253,
   "metadata": {},
   "outputs": [
    {
     "data": {
      "text/plain": [
       "tensor([ 0.0027, -0.0027,  0.0410, -0.0410,  0.0068, -0.0068,  0.0282, -0.0282,\n",
       "         0.0249, -0.0249,  0.0598, -0.0598,  0.0353, -0.0353,  0.1010, -0.1010,\n",
       "         0.0109, -0.0109,  0.0150, -0.0150,  0.0272, -0.0272,  0.0292, -0.0292,\n",
       "         0.0732, -0.0732,  0.1213, -0.1213, -0.0847,  0.0847, -0.2238,  0.2238,\n",
       "        -0.0714,  0.0714, -0.1530,  0.1530,  0.4500, -0.4500])"
      ]
     },
     "execution_count": 253,
     "metadata": {},
     "output_type": "execute_result"
    }
   ],
   "source": [
    "data.edge_attr[:,0][edges_in_group_idxs]"
   ]
  },
  {
   "cell_type": "code",
   "execution_count": 258,
   "metadata": {},
   "outputs": [
    {
     "data": {
      "text/plain": [
       "tensor([ 0.2581, -0.2581,  0.0634, -0.0634,  0.0752, -0.0752,  0.7467, -0.7467,\n",
       "        -0.7491,  0.7491,  0.5869, -0.5869, -0.4938,  0.4938,  0.8704, -0.8704,\n",
       "        -0.7279,  0.7279,  0.4520, -0.4520, -0.4602,  0.4602,  0.4214, -0.4214,\n",
       "        -0.7224,  0.7224,  0.4731, -0.4731, -0.4703,  0.4703,  0.5235, -0.5235,\n",
       "        -0.1788,  0.1788,  0.2739, -0.2739, -0.2795,  0.2795,  0.0807, -0.0807,\n",
       "        -0.0849,  0.0849])"
      ]
     },
     "execution_count": 258,
     "metadata": {},
     "output_type": "execute_result"
    }
   ],
   "source": [
    "data.edge_attr[:,0][data.y_bi == 0]"
   ]
  },
  {
   "cell_type": "code",
   "execution_count": 257,
   "metadata": {},
   "outputs": [
    {
     "data": {
      "text/plain": [
       "tensor([1, 1, 1, 1, 1, 1, 1, 1, 1, 1, 1, 1, 1, 1, 1, 1, 1, 1, 1, 1, 1, 1, 1, 1,\n",
       "        1, 1, 1, 1, 1, 1, 1, 1, 1, 1, 1, 1, 1, 1])"
      ]
     },
     "execution_count": 257,
     "metadata": {},
     "output_type": "execute_result"
    }
   ],
   "source": [
    "data.y_bi[edges_in_group_idxs]"
   ]
  },
  {
   "cell_type": "code",
   "execution_count": 183,
   "metadata": {},
   "outputs": [
    {
     "name": "stdout",
     "output_type": "stream",
     "text": [
      "tensor(0)\n"
     ]
    },
    {
     "data": {
      "text/plain": [
       "tensor([-0.0634, -1.0000,  0.0000,  0.0000,  0.0000,  0.0000,  0.0000,  0.0000,\n",
       "         0.0000,  0.0000,  0.0000,  0.0000,  0.0000,  0.0000,  0.0000,  0.0000,\n",
       "         0.0000,  0.0000,  0.0000,  0.0000,  0.0000,  0.0000,  0.0000,  0.0000,\n",
       "         0.0000,  0.0000,  0.0000,  0.0000,  0.0000,  0.0000,  0.0000,  0.0000,\n",
       "         0.0000,  0.0000,  0.0000,  0.0000,  0.0000,  0.0000,  0.0000,  0.0000,\n",
       "         0.0000,  0.0000,  0.0000,  0.0000,  0.0000,  0.0000,  0.0000,  0.0000,\n",
       "         0.0000,  0.0000,  0.0000,  0.0000,  0.0000,  0.0000,  1.0000,  0.0000,\n",
       "         0.0000,  0.0000,  0.0000,  0.0000,  0.0000,  0.0000,  0.0000,  0.0000,\n",
       "         0.0000,  0.0000,  0.0000,  0.0000,  0.0000,  0.0000,  0.0000,  0.0000,\n",
       "         0.0000,  0.0000,  0.0000,  0.0000,  0.0000,  0.0000,  0.0000,  0.0000,\n",
       "         0.0000,  0.0000,  0.0000,  0.0000,  0.0000,  0.0000,  0.0000,  0.0000,\n",
       "         0.0000,  0.0000,  0.0000,  0.0000,  0.0000])"
      ]
     },
     "execution_count": 183,
     "metadata": {},
     "output_type": "execute_result"
    }
   ],
   "source": [
    "edge_idx = 21\n",
    "\n",
    "print(data.y_bi[edge_idx])\n",
    "data.edge_attr[edge_idx]"
   ]
  },
  {
   "cell_type": "code",
   "execution_count": 173,
   "metadata": {},
   "outputs": [
    {
     "data": {
      "text/plain": [
       "tensor([6.8592e-04, 1.0000e+00, 0.0000e+00, 0.0000e+00, 0.0000e+00, 0.0000e+00,\n",
       "        0.0000e+00, 0.0000e+00, 0.0000e+00, 0.0000e+00, 0.0000e+00, 0.0000e+00,\n",
       "        0.0000e+00, 0.0000e+00, 0.0000e+00, 0.0000e+00, 0.0000e+00, 0.0000e+00,\n",
       "        0.0000e+00, 0.0000e+00, 0.0000e+00, 0.0000e+00, 0.0000e+00, 0.0000e+00,\n",
       "        0.0000e+00, 0.0000e+00, 0.0000e+00, 0.0000e+00, 0.0000e+00, 0.0000e+00,\n",
       "        0.0000e+00, 0.0000e+00, 0.0000e+00, 0.0000e+00, 0.0000e+00, 0.0000e+00,\n",
       "        0.0000e+00, 0.0000e+00, 0.0000e+00, 0.0000e+00, 0.0000e+00, 0.0000e+00,\n",
       "        0.0000e+00, 0.0000e+00, 0.0000e+00, 0.0000e+00, 0.0000e+00, 0.0000e+00,\n",
       "        0.0000e+00, 0.0000e+00, 0.0000e+00, 0.0000e+00, 0.0000e+00, 0.0000e+00,\n",
       "        0.0000e+00, 0.0000e+00, 0.0000e+00, 0.0000e+00, 0.0000e+00, 0.0000e+00,\n",
       "        0.0000e+00, 0.0000e+00, 0.0000e+00, 0.0000e+00, 0.0000e+00, 1.0000e+00,\n",
       "        0.0000e+00, 0.0000e+00, 0.0000e+00, 0.0000e+00, 0.0000e+00, 0.0000e+00,\n",
       "        0.0000e+00, 0.0000e+00, 0.0000e+00, 0.0000e+00, 0.0000e+00, 0.0000e+00,\n",
       "        0.0000e+00, 0.0000e+00, 0.0000e+00, 0.0000e+00, 0.0000e+00, 0.0000e+00,\n",
       "        0.0000e+00, 0.0000e+00, 0.0000e+00, 0.0000e+00, 0.0000e+00, 0.0000e+00,\n",
       "        0.0000e+00, 0.0000e+00, 0.0000e+00])"
      ]
     },
     "execution_count": 173,
     "metadata": {},
     "output_type": "execute_result"
    }
   ],
   "source": [
    "data.edge_attr[2]"
   ]
  },
  {
   "cell_type": "code",
   "execution_count": 162,
   "metadata": {},
   "outputs": [],
   "source": [
    "node_ids = [x for x in range(len(d_arr))]\n",
    "positions_list = [(x[0], x[1]) for x in data['pos'].tolist()]\n",
    "pos_dict = dict(zip(node_ids, positions_list))\n",
    "\n",
    "# edge_colors = ['blue' if DG.degree[e[0]] == 2 else 'black' for e in DG.edges]"
   ]
  },
  {
   "cell_type": "code",
   "execution_count": 163,
   "metadata": {},
   "outputs": [],
   "source": [
    "g = torch_geometric.utils.to_networkx(data, node_attrs=None, edge_attrs=None)"
   ]
  },
  {
   "cell_type": "code",
   "execution_count": 255,
   "metadata": {},
   "outputs": [
    {
     "data": {
      "image/png": "[encoded data removed]",
      "text/plain": [
       "<Figure size 1080x1080 with 1 Axes>"
      ]
     },
     "metadata": {},
     "output_type": "display_data"
    }
   ],
   "source": [
    "fig, ax = plt.subplots(1, 1, figsize=(15, 15))\n",
    "nx.draw_networkx(g, ax=ax, node_size=5,\n",
    "                 font_size=6, alpha=.5,\n",
    "                 width=.5, pos = pos_dict)\n",
    "ax.set_axis_off()"
   ]
  },
  {
   "cell_type": "code",
   "execution_count": 135,
   "metadata": {
    "collapsed": true
   },
   "outputs": [
    {
     "name": "stderr",
     "output_type": "stream",
     "text": [
      "C:\\Users\\andy.knapper\\AppData\\Local\\Continuum\\anaconda3\\lib\\site-packages\\networkx\\drawing\\nx_pylab.py:579: MatplotlibDeprecationWarning: \n",
      "The iterable function was deprecated in Matplotlib 3.1 and will be removed in 3.3. Use np.iterable instead.\n",
      "  if not cb.iterable(width):\n",
      "C:\\Users\\andy.knapper\\AppData\\Local\\Continuum\\anaconda3\\lib\\site-packages\\networkx\\drawing\\nx_pylab.py:676: MatplotlibDeprecationWarning: \n",
      "The iterable function was deprecated in Matplotlib 3.1 and will be removed in 3.3. Use np.iterable instead.\n",
      "  if cb.iterable(node_size):  # many node sizes\n"
     ]
    },
    {
     "data": {
      "image/png": "[encoded data removed]",
      "text/plain": [
       "<Figure size 1080x1080 with 1 Axes>"
      ]
     },
     "metadata": {},
     "output_type": "display_data"
    }
   ],
   "source": [
    "# importlib.reload(synthetic_data)\n",
    "# importlib.reload(graph_constructors)\n",
    "\n",
    "# data = graph_constructors.make_pyg_graph(d_arr, a_arr, g_arr)\n",
    "\n",
    "# node_ids = [x for x in range(len(d_arr))]\n",
    "# positions_list = [(x[0], x[1]) for x in data['pos'].tolist()]\n",
    "# pos_dict = dict(zip(node_ids, positions_list))\n",
    "\n",
    "# g = torch_geometric.utils.to_networkx(data, node_attrs=None, edge_attrs=None)\n",
    "\n",
    "# fig, ax = plt.subplots(1, 1, figsize=(15, 15))\n",
    "# nx.draw_networkx(g, ax=ax, node_size=5,\n",
    "#                  font_size=6, alpha=.5,\n",
    "#                  width=.5, pos = pos_dict)\n",
    "# ax.set_axis_off()"
   ]
  },
  {
   "cell_type": "markdown",
   "metadata": {},
   "source": [
    "### Set up the model"
   ]
  },
  {
   "cell_type": "markdown",
   "metadata": {},
   "source": [
    "First construct the dataloader"
   ]
  },
  {
   "cell_type": "code",
   "execution_count": null,
   "metadata": {},
   "outputs": [],
   "source": [
    "#initial model structure\n",
    "\n",
    "#1.embedding on the edge_attr to a lower dim space using a MLP\n",
    "#2.edge to node convolution - might need to hand code class\n",
    "#3.node to edge convolution - probably already exists in PyG\n",
    "#4.repeat above (same convolutions or new ones?)\n",
    "#5.MLP on new edge_attrs\n",
    "#6.softmax on MLP output"
   ]
  },
  {
   "cell_type": "code",
   "execution_count": 12,
   "metadata": {},
   "outputs": [],
   "source": [
    "import torch\n",
    "import torch.nn.functional as F\n",
    "from torch_geometric.nn import GCNConv\n",
    "from torch_geometric.nn import ECConv\n",
    "\n",
    "from torch.nn import Sequential as Seq, Linear as Lin, ReLU\n",
    "from torch_scatter import scatter_mean\n",
    "from torch_geometric.nn import MetaLayer\n",
    "from torch_geometric.data import Data, DataLoader\n",
    "import torch.nn as nn"
   ]
  },
  {
   "cell_type": "code",
   "execution_count": 265,
   "metadata": {},
   "outputs": [
    {
     "data": {
      "text/plain": [
       "<module 'data_utils.graph_constructors' from 'C:\\\\Users\\\\andy.knapper\\\\Documents\\\\OW\\\\Categorisation\\\\ML grouping\\\\GNN-for-trans-grouping\\\\data_utils\\\\graph_constructors.py'>"
      ]
     },
     "execution_count": 265,
     "metadata": {},
     "output_type": "execute_result"
    }
   ],
   "source": [
    "importlib.reload(synthetic_data)\n",
    "importlib.reload(graph_constructors)"
   ]
  },
  {
   "cell_type": "markdown",
   "metadata": {},
   "source": [
    "#### Below is model that I want to implement"
   ]
  },
  {
   "cell_type": "markdown",
   "metadata": {},
   "source": [
    "https://github.com/rusty1s/pytorch_geometric/issues/535"
   ]
  },
  {
   "cell_type": "markdown",
   "metadata": {},
   "source": [
    "Things I can vary:\n",
    "\n",
    "1. Graph construction / pruning  (e.g. bi-directional or not)\n",
    "2. Embedding network and dimensions\n",
    "3. convolution direction to start with (node->edge or edge->node)\n",
    "4. node convolution structure (retain initial features in attr tensor)\n",
    "5. edge convolution structure (retain initial features in attr tensor)\n",
    "6. classification network - how to combine the edge attrs if the graph is bidirectional\n",
    "7. loss criteria - unbalanaced classes, should this be weighted for certain types of mis-classification\n",
    "8. training tricks: batch normalisation, dropout, initialisation"
   ]
  },
  {
   "cell_type": "markdown",
   "metadata": {},
   "source": [
    "Ideas:\n",
    "\n",
    "* simplify the combination of groups in each example\n",
    "* recode graph generation to only have edges in one direction (make the amount edge property an abs value)\n",
    "* prune the edges from the graphs to make them more sparse\n",
    "* recode the node attr update conv to use only the single directional edge but treat src and dest symmetrically (model code on current edge attr update conv)\n",
    "* make sure the MLP are deep enough and add batch norm and drop out\n",
    "* include multiple iterations of update using differnt convolutions at each stage\n"
   ]
  },
  {
   "cell_type": "code",
   "execution_count": null,
   "metadata": {},
   "outputs": [],
   "source": []
  },
  {
   "cell_type": "code",
   "execution_count": 13,
   "metadata": {},
   "outputs": [],
   "source": [
    "##############################################################################\n",
    "#first create the class to perform the node->edge convolutions\n",
    "#this will be called later in the overall model\n",
    "\n",
    "class MyLayer(torch.nn.Module):\n",
    "    def __init__(self, number_of_node_features, number_of_edge_features):\n",
    "        super(MyLayer, self).__init__()\n",
    "\n",
    "        edge_mlp_channels_in = 2 * number_of_node_features + 10\n",
    "        #only one layer deep at present\n",
    "        self.edge_mlp = Seq(Lin(edge_mlp_channels_in, 10), ReLU())\n",
    "\n",
    "        \n",
    "        def edge_model(src, dest, edge_attr, u, batch):\n",
    "            edge_neighborhoods = torch.cat([src, dest, edge_attr], 1)\n",
    "            return self.edge_mlp(edge_neighborhoods)\n",
    "\n",
    "        self.op = MetaLayer(edge_model)\n",
    "\n",
    "    def forward(self, x, edge_index, edge_attr, u, batch):\n",
    "        return self.op(x, edge_index, edge_attr, u, batch)"
   ]
  },
  {
   "cell_type": "code",
   "execution_count": 24,
   "metadata": {},
   "outputs": [],
   "source": [
    "class Net(torch.nn.Module):\n",
    "    def __init__(self, number_of_node_features, number_of_edge_features):\n",
    "        super(Net, self).__init__()\n",
    "\n",
    "        self.number_of_node_features = number_of_node_features\n",
    "        self.number_of_edge_features = number_of_edge_features\n",
    "        \n",
    "        ##############################################################################################\n",
    "        #initialise edge embedding MLP\n",
    "        self.edge_embed_lin1 = Lin(self.number_of_edge_features, 20)\n",
    "        self.edge_embed_lin2 = Lin(20, 10)\n",
    "        self.edge_embed_act1 = ReLU()\n",
    "        self.edge_embed_act2 = ReLU()\n",
    "        \n",
    "        self.edge_embed_mlp = Seq(self.edge_embed_lin1, nn.BatchNorm1d(20), self.edge_embed_act1, self.edge_embed_lin2, nn.BatchNorm1d(10), self.edge_embed_act2)\n",
    "        #self.edge_embed_mlp = Seq(self.edge_embed_lin1, self.edge_embed_act1, self.edge_embed_lin2,  self.edge_embed_act2)\n",
    "        \n",
    "        \n",
    "        ##############################################################################################\n",
    "        #initialise edge conditioned convolution to update node attributes by propagating surrounding node attributes via edge attributes\n",
    "        \n",
    "        self.node_update_conv_nn_1 = Seq(Lin(10, 5), nn.BatchNorm1d(5) ,ReLU(), Lin(5, self.number_of_node_features*self.number_of_node_features), nn.BatchNorm1d(self.number_of_node_features*self.number_of_node_features), ReLU())\n",
    "        self.node_update_conv_1 = ECConv(in_channels = self.number_of_node_features,out_channels=self.number_of_node_features, nn = self.node_update_conv_nn_1, aggr='add', root_weight=True, bias=True)\n",
    "        \n",
    "        self.node_update_conv_nn_2 = Seq(Lin(10, 5), nn.BatchNorm1d(5) ,ReLU(), Lin(5, self.number_of_node_features*self.number_of_node_features), nn.BatchNorm1d(self.number_of_node_features*self.number_of_node_features), ReLU())\n",
    "        self.node_update_conv_2 = ECConv(in_channels = self.number_of_node_features,out_channels=self.number_of_node_features, nn = self.node_update_conv_nn_2, aggr='add', root_weight=True, bias=True)\n",
    "        \n",
    "        self.node_update_conv_nn_3 = Seq(Lin(10, 5), nn.BatchNorm1d(5) ,ReLU(), Lin(5, self.number_of_node_features*self.number_of_node_features), nn.BatchNorm1d(self.number_of_node_features*self.number_of_node_features), ReLU())\n",
    "        self.node_update_conv_3 = ECConv(in_channels = self.number_of_node_features,out_channels=self.number_of_node_features, nn = self.node_update_conv_nn_3, aggr='add', root_weight=True, bias=True)\n",
    "        \n",
    "        \n",
    "        #############################################################################################\n",
    "        #initialise the edge_attr updates from the node attrs\n",
    "        \n",
    "        self.edge_update_conv_1 = MyLayer(number_of_node_features, 10)\n",
    "        \n",
    "        self.edge_update_conv_2 = MyLayer(number_of_node_features, 10)\n",
    "        \n",
    "        self.edge_update_conv_3 = MyLayer(number_of_node_features, 10)\n",
    "        \n",
    "        \n",
    "        #############################################################################################\n",
    "        #initialise edge classifier MLP\n",
    "        \n",
    "        self.edge_class_lin1 = Lin(10, 5)\n",
    "        self.edge_class_lin2 = Lin(5, 2)\n",
    "        self.edge_class_act1 = ReLU()\n",
    "        self.edge_class_act2 = ReLU()\n",
    "        \n",
    "        self.edge_class_mlp = Seq(self.edge_class_lin1, nn.Dropout(0.5), self.edge_class_act1, self.edge_class_lin2, nn.Dropout(0.5),  self.edge_class_act2)\n",
    "        \n",
    "        \n",
    "\n",
    "    def forward(self, data):\n",
    "        x, edge_index, edge_attr, edge_pairs = data.x, data.edge_index, data.edge_attr, data.edge_pairs\n",
    "\n",
    "        \n",
    "        ########################################################################\n",
    "        #embed the edge attributes in a lower dim space      \n",
    "        edge_attr = self.edge_embed_mlp(edge_attr)\n",
    "\n",
    "        \n",
    "        ########################################################################\n",
    "        #iterate the messages\n",
    "        \n",
    "        #update the node attributes\n",
    "        x = self.node_update_conv_1(x, edge_index, edge_attr)\n",
    "        #update the edges attributes\n",
    "        x, edge_attr, _ = self.edge_update_conv_1.forward(x, edge_index, edge_attr, u=None, batch=data.batch)\n",
    "               \n",
    "        #update the node attributes\n",
    "        x = self.node_update_conv_2(x, edge_index, edge_attr)\n",
    "        #update the edges attributes\n",
    "        x, edge_attr, _ = self.edge_update_conv_2.forward(x, edge_index, edge_attr, u=None, batch=data.batch)\n",
    "        \n",
    "        #update the node attributes\n",
    "        x = self.node_update_conv_3(x, edge_index, edge_attr)\n",
    "        #update the edges attributes\n",
    "        x, edge_attr, _ = self.edge_update_conv_3.forward(x, edge_index, edge_attr, u=None, batch=data.batch)\n",
    "        \n",
    "            \n",
    "        ######################################################################\n",
    "        #pool the attributes over edge pairs\n",
    "        pooled_edge_attr, _ = torch.max(edge_attr[edge_pairs], 1)\n",
    "            \n",
    "        #apply a classifier to the edge attrs\n",
    "        pooled_edge_attr = self.edge_class_mlp(pooled_edge_attr)\n",
    "\n",
    "        return F.log_softmax(pooled_edge_attr, dim=1)\n",
    "\n",
    "    \n"
   ]
  },
  {
   "cell_type": "code",
   "execution_count": 15,
   "metadata": {},
   "outputs": [],
   "source": [
    "def init_weights(m):\n",
    "    if type(m) == nn.Linear:\n",
    "        torch.nn.init.xavier_uniform(m.weight)\n",
    "        m.bias.data.fill_(0.01)\n"
   ]
  },
  {
   "cell_type": "markdown",
   "metadata": {},
   "source": [
    "create the dataloader and iterate the data through the model"
   ]
  },
  {
   "cell_type": "code",
   "execution_count": 16,
   "metadata": {},
   "outputs": [],
   "source": [
    "device = torch.device('cuda:0' if torch.cuda.is_available() else 'cpu')"
   ]
  },
  {
   "cell_type": "code",
   "execution_count": 17,
   "metadata": {},
   "outputs": [],
   "source": [
    "data_list = [graph_constructors.make_pyg_graph(*np.array(synthetic_data.make_a_group())).to(device) for _ in range(32)]\n",
    "loader = DataLoader(data_list, batch_size=8)"
   ]
  },
  {
   "cell_type": "code",
   "execution_count": 18,
   "metadata": {},
   "outputs": [],
   "source": [
    "node_features = data_list[0].x.shape[-1]\n",
    "num_edges = data_list[0].edge_attr.shape[0]\n",
    "edge_features = data_list[0].edge_attr.shape[-1]"
   ]
  },
  {
   "cell_type": "code",
   "execution_count": 25,
   "metadata": {
    "collapsed": true
   },
   "outputs": [
    {
     "name": "stderr",
     "output_type": "stream",
     "text": [
      "C:\\Users\\andy.knapper\\AppData\\Local\\Continuum\\anaconda3\\lib\\site-packages\\ipykernel_launcher.py:3: UserWarning: nn.init.xavier_uniform is now deprecated in favor of nn.init.xavier_uniform_.\n",
      "  This is separate from the ipykernel package so we can avoid doing imports until\n"
     ]
    },
    {
     "name": "stdout",
     "output_type": "stream",
     "text": [
      "Let's use 1 GPU(s)!\n",
      "loss at iteration  0  is  tensor(0.6791, device='cuda:0', grad_fn=<NllLossBackward>)\n",
      "loss at iteration  1  is  tensor(0.6742, device='cuda:0', grad_fn=<NllLossBackward>)\n",
      "loss at iteration  2  is  tensor(0.6856, device='cuda:0', grad_fn=<NllLossBackward>)\n",
      "loss at iteration  3  is  tensor(0.6721, device='cuda:0', grad_fn=<NllLossBackward>)\n",
      "loss at iteration  4  is  tensor(0.6629, device='cuda:0', grad_fn=<NllLossBackward>)\n",
      "loss at iteration  5  is  tensor(0.6668, device='cuda:0', grad_fn=<NllLossBackward>)\n",
      "loss at iteration  6  is  tensor(0.6390, device='cuda:0', grad_fn=<NllLossBackward>)\n",
      "loss at iteration  7  is  tensor(0.6643, device='cuda:0', grad_fn=<NllLossBackward>)\n",
      "loss at iteration  8  is  tensor(0.5942, device='cuda:0', grad_fn=<NllLossBackward>)\n"
     ]
    },
    {
     "ename": "IndexError",
     "evalue": "too many indices for tensor of dimension 1",
     "output_type": "error",
     "traceback": [
      "\u001b[1;31m---------------------------------------------------------------------------\u001b[0m",
      "\u001b[1;31mIndexError\u001b[0m                                Traceback (most recent call last)",
      "\u001b[1;32m<ipython-input-25-9ca12daf0d7f>\u001b[0m in \u001b[0;36m<module>\u001b[1;34m\u001b[0m\n\u001b[0;32m     13\u001b[0m     \u001b[1;31m#print(j)\u001b[0m\u001b[1;33m\u001b[0m\u001b[1;33m\u001b[0m\u001b[1;33m\u001b[0m\u001b[0m\n\u001b[0;32m     14\u001b[0m \u001b[1;33m\u001b[0m\u001b[0m\n\u001b[1;32m---> 15\u001b[1;33m     \u001b[0mdata_list\u001b[0m \u001b[1;33m=\u001b[0m \u001b[1;33m[\u001b[0m\u001b[0mgraph_constructors\u001b[0m\u001b[1;33m.\u001b[0m\u001b[0mmake_pyg_graph\u001b[0m\u001b[1;33m(\u001b[0m\u001b[1;33m*\u001b[0m\u001b[0mnp\u001b[0m\u001b[1;33m.\u001b[0m\u001b[0marray\u001b[0m\u001b[1;33m(\u001b[0m\u001b[0msynthetic_data\u001b[0m\u001b[1;33m.\u001b[0m\u001b[0mmake_a_group\u001b[0m\u001b[1;33m(\u001b[0m\u001b[1;33m)\u001b[0m\u001b[1;33m)\u001b[0m\u001b[1;33m)\u001b[0m\u001b[1;33m.\u001b[0m\u001b[0mto\u001b[0m\u001b[1;33m(\u001b[0m\u001b[0mdevice\u001b[0m\u001b[1;33m)\u001b[0m \u001b[1;32mfor\u001b[0m \u001b[0m_\u001b[0m \u001b[1;32min\u001b[0m \u001b[0mrange\u001b[0m\u001b[1;33m(\u001b[0m\u001b[1;36m1024\u001b[0m\u001b[1;33m)\u001b[0m\u001b[1;33m]\u001b[0m\u001b[1;33m\u001b[0m\u001b[1;33m\u001b[0m\u001b[0m\n\u001b[0m\u001b[0;32m     16\u001b[0m     \u001b[0mloader\u001b[0m \u001b[1;33m=\u001b[0m \u001b[0mDataLoader\u001b[0m\u001b[1;33m(\u001b[0m\u001b[0mdata_list\u001b[0m\u001b[1;33m,\u001b[0m \u001b[0mbatch_size\u001b[0m\u001b[1;33m=\u001b[0m\u001b[1;36m8\u001b[0m\u001b[1;33m)\u001b[0m\u001b[1;33m\u001b[0m\u001b[1;33m\u001b[0m\u001b[0m\n\u001b[0;32m     17\u001b[0m \u001b[1;33m\u001b[0m\u001b[0m\n",
      "\u001b[1;32m<ipython-input-25-9ca12daf0d7f>\u001b[0m in \u001b[0;36m<listcomp>\u001b[1;34m(.0)\u001b[0m\n\u001b[0;32m     13\u001b[0m     \u001b[1;31m#print(j)\u001b[0m\u001b[1;33m\u001b[0m\u001b[1;33m\u001b[0m\u001b[1;33m\u001b[0m\u001b[0m\n\u001b[0;32m     14\u001b[0m \u001b[1;33m\u001b[0m\u001b[0m\n\u001b[1;32m---> 15\u001b[1;33m     \u001b[0mdata_list\u001b[0m \u001b[1;33m=\u001b[0m \u001b[1;33m[\u001b[0m\u001b[0mgraph_constructors\u001b[0m\u001b[1;33m.\u001b[0m\u001b[0mmake_pyg_graph\u001b[0m\u001b[1;33m(\u001b[0m\u001b[1;33m*\u001b[0m\u001b[0mnp\u001b[0m\u001b[1;33m.\u001b[0m\u001b[0marray\u001b[0m\u001b[1;33m(\u001b[0m\u001b[0msynthetic_data\u001b[0m\u001b[1;33m.\u001b[0m\u001b[0mmake_a_group\u001b[0m\u001b[1;33m(\u001b[0m\u001b[1;33m)\u001b[0m\u001b[1;33m)\u001b[0m\u001b[1;33m)\u001b[0m\u001b[1;33m.\u001b[0m\u001b[0mto\u001b[0m\u001b[1;33m(\u001b[0m\u001b[0mdevice\u001b[0m\u001b[1;33m)\u001b[0m \u001b[1;32mfor\u001b[0m \u001b[0m_\u001b[0m \u001b[1;32min\u001b[0m \u001b[0mrange\u001b[0m\u001b[1;33m(\u001b[0m\u001b[1;36m1024\u001b[0m\u001b[1;33m)\u001b[0m\u001b[1;33m]\u001b[0m\u001b[1;33m\u001b[0m\u001b[1;33m\u001b[0m\u001b[0m\n\u001b[0m\u001b[0;32m     16\u001b[0m     \u001b[0mloader\u001b[0m \u001b[1;33m=\u001b[0m \u001b[0mDataLoader\u001b[0m\u001b[1;33m(\u001b[0m\u001b[0mdata_list\u001b[0m\u001b[1;33m,\u001b[0m \u001b[0mbatch_size\u001b[0m\u001b[1;33m=\u001b[0m\u001b[1;36m8\u001b[0m\u001b[1;33m)\u001b[0m\u001b[1;33m\u001b[0m\u001b[1;33m\u001b[0m\u001b[0m\n\u001b[0;32m     17\u001b[0m \u001b[1;33m\u001b[0m\u001b[0m\n",
      "\u001b[1;32m~\\Documents\\OW\\Categorisation\\ML grouping\\GNN-for-trans-grouping\\data_utils\\graph_constructors.py\u001b[0m in \u001b[0;36mmake_pyg_graph\u001b[1;34m(inp_day_arr, inp_amt_arr, inp_group_arr)\u001b[0m\n\u001b[0;32m    189\u001b[0m     \u001b[1;31m#need to reduce y so we have only 1 output per edge pair and the orders are consistent with the edge pairs tensor that will be used in the training\u001b[0m\u001b[1;33m\u001b[0m\u001b[1;33m\u001b[0m\u001b[1;33m\u001b[0m\u001b[0m\n\u001b[0;32m    190\u001b[0m     \u001b[0my_bi\u001b[0m \u001b[1;33m=\u001b[0m \u001b[0mtorch\u001b[0m\u001b[1;33m.\u001b[0m\u001b[0mtensor\u001b[0m\u001b[1;33m(\u001b[0m\u001b[0mout_edge_labels_lst\u001b[0m\u001b[1;33m,\u001b[0m \u001b[0mdtype\u001b[0m \u001b[1;33m=\u001b[0m \u001b[0mtorch\u001b[0m\u001b[1;33m.\u001b[0m\u001b[0mlong\u001b[0m\u001b[1;33m)\u001b[0m\u001b[1;33m\u001b[0m\u001b[1;33m\u001b[0m\u001b[0m\n\u001b[1;32m--> 191\u001b[1;33m     \u001b[0my\u001b[0m\u001b[1;33m=\u001b[0m \u001b[0my_bi\u001b[0m\u001b[1;33m[\u001b[0m\u001b[0medge_pair_idxs_ten\u001b[0m\u001b[1;33m[\u001b[0m\u001b[1;33m:\u001b[0m\u001b[1;33m,\u001b[0m\u001b[1;36m0\u001b[0m\u001b[1;33m]\u001b[0m\u001b[1;33m]\u001b[0m\u001b[1;33m\u001b[0m\u001b[1;33m\u001b[0m\u001b[0m\n\u001b[0m\u001b[0;32m    192\u001b[0m \u001b[1;33m\u001b[0m\u001b[0m\n\u001b[0;32m    193\u001b[0m     \u001b[0mpos\u001b[0m \u001b[1;33m=\u001b[0m \u001b[0mtorch\u001b[0m\u001b[1;33m.\u001b[0m\u001b[0mtensor\u001b[0m\u001b[1;33m(\u001b[0m\u001b[1;33m[\u001b[0m\u001b[0mx\u001b[0m \u001b[1;32mfor\u001b[0m \u001b[0mx\u001b[0m \u001b[1;32min\u001b[0m \u001b[0mzip\u001b[0m\u001b[1;33m(\u001b[0m\u001b[0minp_day_arr\u001b[0m\u001b[1;33m,\u001b[0m \u001b[0minp_amt_arr\u001b[0m\u001b[1;33m)\u001b[0m\u001b[1;33m]\u001b[0m\u001b[1;33m)\u001b[0m\u001b[1;33m\u001b[0m\u001b[1;33m\u001b[0m\u001b[0m\n",
      "\u001b[1;31mIndexError\u001b[0m: too many indices for tensor of dimension 1"
     ]
    }
   ],
   "source": [
    "model = Net(node_features, edge_features)\n",
    "\n",
    "model.apply(init_weights)\n",
    "\n",
    "print('Let\\'s use', torch.cuda.device_count(), 'GPU(s)!')\n",
    "device = torch.device('cuda:0' if torch.cuda.is_available() else 'cpu')\n",
    "model = model.to(device)\n",
    "\n",
    "optimizer = torch.optim.Adam(model.parameters(), lr=0.001)\n",
    "\n",
    "for j in range(10):\n",
    "    \n",
    "    #print(j)\n",
    "    \n",
    "    data_list = [graph_constructors.make_pyg_graph(*np.array(synthetic_data.make_a_group())).to(device) for _ in range(1024)]\n",
    "    loader = DataLoader(data_list, batch_size=8)\n",
    "\n",
    "    for i, btch in enumerate(loader):\n",
    "\n",
    "        optimizer.zero_grad()\n",
    "        output = model(btch)\n",
    "\n",
    "        y = btch.y.to(output.device)\n",
    "        loss = F.nll_loss(output, y)\n",
    "        loss.backward()\n",
    "        optimizer.step()\n",
    "    \n",
    "    print('loss at iteration ', j ,' is ', loss)\n",
    "\n",
    "    "
   ]
  },
  {
   "cell_type": "code",
   "execution_count": 26,
   "metadata": {
    "collapsed": true
   },
   "outputs": [
    {
     "name": "stderr",
     "output_type": "stream",
     "text": [
      "C:\\Users\\andy.knapper\\AppData\\Local\\Continuum\\anaconda3\\lib\\site-packages\\ipykernel_launcher.py:3: UserWarning: nn.init.xavier_uniform is now deprecated in favor of nn.init.xavier_uniform_.\n",
      "  This is separate from the ipykernel package so we can avoid doing imports until\n"
     ]
    },
    {
     "name": "stdout",
     "output_type": "stream",
     "text": [
      "Let's use 1 GPU(s)!\n",
      "loss at iteration  0  is  tensor(0.7274, device='cuda:0', grad_fn=<NllLossBackward>)\n",
      "loss at iteration  1  is  tensor(0.7289, device='cuda:0', grad_fn=<NllLossBackward>)\n",
      "loss at iteration  2  is  tensor(0.7785, device='cuda:0', grad_fn=<NllLossBackward>)\n",
      "loss at iteration  3  is  tensor(0.7137, device='cuda:0', grad_fn=<NllLossBackward>)\n",
      "loss at iteration  4  is  tensor(0.7287, device='cuda:0', grad_fn=<NllLossBackward>)\n",
      "loss at iteration  5  is  tensor(0.7167, device='cuda:0', grad_fn=<NllLossBackward>)\n",
      "loss at iteration  6  is  tensor(0.7264, device='cuda:0', grad_fn=<NllLossBackward>)\n",
      "loss at iteration  7  is  tensor(0.7069, device='cuda:0', grad_fn=<NllLossBackward>)\n",
      "loss at iteration  8  is  tensor(0.6986, device='cuda:0', grad_fn=<NllLossBackward>)\n",
      "loss at iteration  9  is  tensor(0.7121, device='cuda:0', grad_fn=<NllLossBackward>)\n",
      "loss at iteration  10  is  tensor(0.6858, device='cuda:0', grad_fn=<NllLossBackward>)\n",
      "loss at iteration  11  is  tensor(0.6861, device='cuda:0', grad_fn=<NllLossBackward>)\n",
      "loss at iteration  12  is  tensor(0.7006, device='cuda:0', grad_fn=<NllLossBackward>)\n",
      "loss at iteration  13  is  tensor(0.7174, device='cuda:0', grad_fn=<NllLossBackward>)\n",
      "loss at iteration  14  is  tensor(0.6961, device='cuda:0', grad_fn=<NllLossBackward>)\n",
      "loss at iteration  15  is  tensor(0.7133, device='cuda:0', grad_fn=<NllLossBackward>)\n",
      "loss at iteration  16  is  tensor(0.6890, device='cuda:0', grad_fn=<NllLossBackward>)\n",
      "loss at iteration  17  is  tensor(0.7102, device='cuda:0', grad_fn=<NllLossBackward>)\n",
      "loss at iteration  18  is  tensor(0.6912, device='cuda:0', grad_fn=<NllLossBackward>)\n",
      "loss at iteration  19  is  tensor(0.7124, device='cuda:0', grad_fn=<NllLossBackward>)\n",
      "loss at iteration  20  is  tensor(0.7081, device='cuda:0', grad_fn=<NllLossBackward>)\n",
      "loss at iteration  21  is  tensor(0.6923, device='cuda:0', grad_fn=<NllLossBackward>)\n",
      "loss at iteration  22  is  tensor(0.7020, device='cuda:0', grad_fn=<NllLossBackward>)\n",
      "loss at iteration  23  is  tensor(0.7053, device='cuda:0', grad_fn=<NllLossBackward>)\n",
      "loss at iteration  24  is  tensor(0.6968, device='cuda:0', grad_fn=<NllLossBackward>)\n",
      "loss at iteration  25  is  tensor(0.7278, device='cuda:0', grad_fn=<NllLossBackward>)\n",
      "loss at iteration  26  is  tensor(0.6977, device='cuda:0', grad_fn=<NllLossBackward>)\n",
      "loss at iteration  27  is  tensor(0.7086, device='cuda:0', grad_fn=<NllLossBackward>)\n",
      "loss at iteration  28  is  tensor(0.6923, device='cuda:0', grad_fn=<NllLossBackward>)\n",
      "loss at iteration  29  is  tensor(0.6992, device='cuda:0', grad_fn=<NllLossBackward>)\n",
      "loss at iteration  30  is  tensor(0.6935, device='cuda:0', grad_fn=<NllLossBackward>)\n",
      "loss at iteration  31  is  tensor(0.6935, device='cuda:0', grad_fn=<NllLossBackward>)\n",
      "loss at iteration  32  is  tensor(0.6958, device='cuda:0', grad_fn=<NllLossBackward>)\n",
      "loss at iteration  33  is  tensor(0.6901, device='cuda:0', grad_fn=<NllLossBackward>)\n",
      "loss at iteration  34  is  tensor(0.6965, device='cuda:0', grad_fn=<NllLossBackward>)\n",
      "loss at iteration  35  is  tensor(0.6888, device='cuda:0', grad_fn=<NllLossBackward>)\n",
      "loss at iteration  36  is  tensor(0.6792, device='cuda:0', grad_fn=<NllLossBackward>)\n",
      "loss at iteration  37  is  tensor(0.6921, device='cuda:0', grad_fn=<NllLossBackward>)\n",
      "loss at iteration  38  is  tensor(0.6884, device='cuda:0', grad_fn=<NllLossBackward>)\n",
      "loss at iteration  39  is  tensor(0.6922, device='cuda:0', grad_fn=<NllLossBackward>)\n",
      "loss at iteration  40  is  tensor(0.6947, device='cuda:0', grad_fn=<NllLossBackward>)\n",
      "loss at iteration  41  is  tensor(0.6882, device='cuda:0', grad_fn=<NllLossBackward>)\n",
      "loss at iteration  42  is  tensor(0.6945, device='cuda:0', grad_fn=<NllLossBackward>)\n",
      "loss at iteration  43  is  tensor(0.6988, device='cuda:0', grad_fn=<NllLossBackward>)\n",
      "loss at iteration  44  is  tensor(0.6879, device='cuda:0', grad_fn=<NllLossBackward>)\n",
      "loss at iteration  45  is  tensor(0.6886, device='cuda:0', grad_fn=<NllLossBackward>)\n",
      "loss at iteration  46  is  tensor(0.6823, device='cuda:0', grad_fn=<NllLossBackward>)\n",
      "loss at iteration  47  is  tensor(0.7021, device='cuda:0', grad_fn=<NllLossBackward>)\n",
      "loss at iteration  48  is  tensor(0.6947, device='cuda:0', grad_fn=<NllLossBackward>)\n",
      "loss at iteration  49  is  tensor(0.7002, device='cuda:0', grad_fn=<NllLossBackward>)\n",
      "loss at iteration  50  is  tensor(0.6776, device='cuda:0', grad_fn=<NllLossBackward>)\n",
      "loss at iteration  51  is  tensor(0.6938, device='cuda:0', grad_fn=<NllLossBackward>)\n",
      "loss at iteration  52  is  tensor(0.6852, device='cuda:0', grad_fn=<NllLossBackward>)\n",
      "loss at iteration  53  is  tensor(0.6834, device='cuda:0', grad_fn=<NllLossBackward>)\n",
      "loss at iteration  54  is  tensor(0.6774, device='cuda:0', grad_fn=<NllLossBackward>)\n",
      "loss at iteration  55  is  tensor(0.6926, device='cuda:0', grad_fn=<NllLossBackward>)\n",
      "loss at iteration  56  is  tensor(0.6810, device='cuda:0', grad_fn=<NllLossBackward>)\n",
      "loss at iteration  57  is  tensor(0.6842, device='cuda:0', grad_fn=<NllLossBackward>)\n",
      "loss at iteration  58  is  tensor(0.6965, device='cuda:0', grad_fn=<NllLossBackward>)\n",
      "loss at iteration  59  is  tensor(0.6847, device='cuda:0', grad_fn=<NllLossBackward>)\n",
      "loss at iteration  60  is  tensor(0.6987, device='cuda:0', grad_fn=<NllLossBackward>)\n",
      "loss at iteration  61  is  tensor(0.7106, device='cuda:0', grad_fn=<NllLossBackward>)\n",
      "loss at iteration  62  is  tensor(0.7031, device='cuda:0', grad_fn=<NllLossBackward>)\n",
      "loss at iteration  63  is  tensor(0.6852, device='cuda:0', grad_fn=<NllLossBackward>)\n",
      "loss at iteration  64  is  tensor(0.7097, device='cuda:0', grad_fn=<NllLossBackward>)\n",
      "loss at iteration  65  is  tensor(0.6914, device='cuda:0', grad_fn=<NllLossBackward>)\n",
      "loss at iteration  66  is  tensor(0.6794, device='cuda:0', grad_fn=<NllLossBackward>)\n",
      "loss at iteration  67  is  tensor(0.6936, device='cuda:0', grad_fn=<NllLossBackward>)\n",
      "loss at iteration  68  is  tensor(0.6884, device='cuda:0', grad_fn=<NllLossBackward>)\n",
      "loss at iteration  69  is  tensor(0.6927, device='cuda:0', grad_fn=<NllLossBackward>)\n",
      "loss at iteration  70  is  tensor(0.6911, device='cuda:0', grad_fn=<NllLossBackward>)\n",
      "loss at iteration  71  is  tensor(0.6786, device='cuda:0', grad_fn=<NllLossBackward>)\n",
      "loss at iteration  72  is  tensor(0.6800, device='cuda:0', grad_fn=<NllLossBackward>)\n",
      "loss at iteration  73  is  tensor(0.6709, device='cuda:0', grad_fn=<NllLossBackward>)\n",
      "loss at iteration  74  is  tensor(0.6856, device='cuda:0', grad_fn=<NllLossBackward>)\n",
      "loss at iteration  75  is  tensor(0.6961, device='cuda:0', grad_fn=<NllLossBackward>)\n",
      "loss at iteration  76  is  tensor(0.6863, device='cuda:0', grad_fn=<NllLossBackward>)\n",
      "loss at iteration  77  is  tensor(0.6834, device='cuda:0', grad_fn=<NllLossBackward>)\n",
      "loss at iteration  78  is  tensor(0.6870, device='cuda:0', grad_fn=<NllLossBackward>)\n",
      "loss at iteration  79  is  tensor(0.6753, device='cuda:0', grad_fn=<NllLossBackward>)\n",
      "loss at iteration  80  is  tensor(0.6842, device='cuda:0', grad_fn=<NllLossBackward>)\n",
      "loss at iteration  81  is  tensor(0.7013, device='cuda:0', grad_fn=<NllLossBackward>)\n",
      "loss at iteration  82  is  tensor(0.6740, device='cuda:0', grad_fn=<NllLossBackward>)\n",
      "loss at iteration  83  is  tensor(0.6902, device='cuda:0', grad_fn=<NllLossBackward>)\n",
      "loss at iteration  84  is  tensor(0.6805, device='cuda:0', grad_fn=<NllLossBackward>)\n",
      "loss at iteration  85  is  tensor(0.6777, device='cuda:0', grad_fn=<NllLossBackward>)\n",
      "loss at iteration  86  is  tensor(0.6686, device='cuda:0', grad_fn=<NllLossBackward>)\n",
      "loss at iteration  87  is  tensor(0.6810, device='cuda:0', grad_fn=<NllLossBackward>)\n",
      "loss at iteration  88  is  tensor(0.6829, device='cuda:0', grad_fn=<NllLossBackward>)\n",
      "loss at iteration  89  is  tensor(0.6758, device='cuda:0', grad_fn=<NllLossBackward>)\n",
      "loss at iteration  90  is  tensor(0.6835, device='cuda:0', grad_fn=<NllLossBackward>)\n",
      "loss at iteration  91  is  tensor(0.6774, device='cuda:0', grad_fn=<NllLossBackward>)\n",
      "loss at iteration  92  is  tensor(0.6812, device='cuda:0', grad_fn=<NllLossBackward>)\n",
      "loss at iteration  93  is  tensor(0.6986, device='cuda:0', grad_fn=<NllLossBackward>)\n",
      "loss at iteration  94  is  tensor(0.6802, device='cuda:0', grad_fn=<NllLossBackward>)\n"
     ]
    },
    {
     "name": "stdout",
     "output_type": "stream",
     "text": [
      "loss at iteration  95  is  tensor(0.6772, device='cuda:0', grad_fn=<NllLossBackward>)\n",
      "loss at iteration  96  is  tensor(0.6818, device='cuda:0', grad_fn=<NllLossBackward>)\n",
      "loss at iteration  97  is  tensor(0.6841, device='cuda:0', grad_fn=<NllLossBackward>)\n",
      "loss at iteration  98  is  tensor(0.6754, device='cuda:0', grad_fn=<NllLossBackward>)\n",
      "loss at iteration  99  is  tensor(0.6915, device='cuda:0', grad_fn=<NllLossBackward>)\n",
      "loss at iteration  100  is  tensor(0.6837, device='cuda:0', grad_fn=<NllLossBackward>)\n",
      "loss at iteration  101  is  tensor(0.6800, device='cuda:0', grad_fn=<NllLossBackward>)\n",
      "loss at iteration  102  is  tensor(0.6671, device='cuda:0', grad_fn=<NllLossBackward>)\n",
      "loss at iteration  103  is  tensor(0.6834, device='cuda:0', grad_fn=<NllLossBackward>)\n",
      "loss at iteration  104  is  tensor(0.6579, device='cuda:0', grad_fn=<NllLossBackward>)\n",
      "loss at iteration  105  is  tensor(0.6806, device='cuda:0', grad_fn=<NllLossBackward>)\n",
      "loss at iteration  106  is  tensor(0.6861, device='cuda:0', grad_fn=<NllLossBackward>)\n",
      "loss at iteration  107  is  tensor(0.6884, device='cuda:0', grad_fn=<NllLossBackward>)\n",
      "loss at iteration  108  is  tensor(0.6837, device='cuda:0', grad_fn=<NllLossBackward>)\n",
      "loss at iteration  109  is  tensor(0.6712, device='cuda:0', grad_fn=<NllLossBackward>)\n",
      "loss at iteration  110  is  tensor(0.6716, device='cuda:0', grad_fn=<NllLossBackward>)\n",
      "loss at iteration  111  is  tensor(0.6709, device='cuda:0', grad_fn=<NllLossBackward>)\n",
      "loss at iteration  112  is  tensor(0.6747, device='cuda:0', grad_fn=<NllLossBackward>)\n",
      "loss at iteration  113  is  tensor(0.6700, device='cuda:0', grad_fn=<NllLossBackward>)\n",
      "loss at iteration  114  is  tensor(0.6903, device='cuda:0', grad_fn=<NllLossBackward>)\n",
      "loss at iteration  115  is  tensor(0.6796, device='cuda:0', grad_fn=<NllLossBackward>)\n",
      "loss at iteration  116  is  tensor(0.6696, device='cuda:0', grad_fn=<NllLossBackward>)\n",
      "loss at iteration  117  is  tensor(0.6792, device='cuda:0', grad_fn=<NllLossBackward>)\n",
      "loss at iteration  118  is  tensor(0.6866, device='cuda:0', grad_fn=<NllLossBackward>)\n",
      "loss at iteration  119  is  tensor(0.6777, device='cuda:0', grad_fn=<NllLossBackward>)\n",
      "loss at iteration  120  is  tensor(0.6828, device='cuda:0', grad_fn=<NllLossBackward>)\n",
      "loss at iteration  121  is  tensor(0.6854, device='cuda:0', grad_fn=<NllLossBackward>)\n",
      "loss at iteration  122  is  tensor(0.6716, device='cuda:0', grad_fn=<NllLossBackward>)\n",
      "loss at iteration  123  is  tensor(0.6688, device='cuda:0', grad_fn=<NllLossBackward>)\n",
      "loss at iteration  124  is  tensor(0.6919, device='cuda:0', grad_fn=<NllLossBackward>)\n",
      "loss at iteration  125  is  tensor(0.6707, device='cuda:0', grad_fn=<NllLossBackward>)\n",
      "loss at iteration  126  is  tensor(0.6857, device='cuda:0', grad_fn=<NllLossBackward>)\n",
      "loss at iteration  127  is  tensor(0.6784, device='cuda:0', grad_fn=<NllLossBackward>)\n",
      "loss at iteration  128  is  tensor(0.6783, device='cuda:0', grad_fn=<NllLossBackward>)\n",
      "loss at iteration  129  is  tensor(0.6721, device='cuda:0', grad_fn=<NllLossBackward>)\n",
      "loss at iteration  130  is  tensor(0.6894, device='cuda:0', grad_fn=<NllLossBackward>)\n",
      "loss at iteration  131  is  tensor(0.6849, device='cuda:0', grad_fn=<NllLossBackward>)\n",
      "loss at iteration  132  is  tensor(0.6729, device='cuda:0', grad_fn=<NllLossBackward>)\n",
      "loss at iteration  133  is  tensor(0.6722, device='cuda:0', grad_fn=<NllLossBackward>)\n",
      "loss at iteration  134  is  tensor(0.6808, device='cuda:0', grad_fn=<NllLossBackward>)\n",
      "loss at iteration  135  is  tensor(0.6625, device='cuda:0', grad_fn=<NllLossBackward>)\n",
      "loss at iteration  136  is  tensor(0.6827, device='cuda:0', grad_fn=<NllLossBackward>)\n",
      "loss at iteration  137  is  tensor(0.6783, device='cuda:0', grad_fn=<NllLossBackward>)\n",
      "loss at iteration  138  is  tensor(0.6780, device='cuda:0', grad_fn=<NllLossBackward>)\n",
      "loss at iteration  139  is  tensor(0.6754, device='cuda:0', grad_fn=<NllLossBackward>)\n",
      "loss at iteration  140  is  tensor(0.6746, device='cuda:0', grad_fn=<NllLossBackward>)\n",
      "loss at iteration  141  is  tensor(0.6837, device='cuda:0', grad_fn=<NllLossBackward>)\n",
      "loss at iteration  142  is  tensor(0.6577, device='cuda:0', grad_fn=<NllLossBackward>)\n",
      "loss at iteration  143  is  tensor(0.6800, device='cuda:0', grad_fn=<NllLossBackward>)\n",
      "loss at iteration  144  is  tensor(0.6755, device='cuda:0', grad_fn=<NllLossBackward>)\n",
      "loss at iteration  145  is  tensor(0.6989, device='cuda:0', grad_fn=<NllLossBackward>)\n",
      "loss at iteration  146  is  tensor(0.6723, device='cuda:0', grad_fn=<NllLossBackward>)\n",
      "loss at iteration  147  is  tensor(0.6932, device='cuda:0', grad_fn=<NllLossBackward>)\n",
      "loss at iteration  148  is  tensor(0.6910, device='cuda:0', grad_fn=<NllLossBackward>)\n",
      "loss at iteration  149  is  tensor(0.6793, device='cuda:0', grad_fn=<NllLossBackward>)\n",
      "loss at iteration  150  is  tensor(0.6809, device='cuda:0', grad_fn=<NllLossBackward>)\n",
      "loss at iteration  151  is  tensor(0.6720, device='cuda:0', grad_fn=<NllLossBackward>)\n",
      "loss at iteration  152  is  tensor(0.6762, device='cuda:0', grad_fn=<NllLossBackward>)\n",
      "loss at iteration  153  is  tensor(0.6889, device='cuda:0', grad_fn=<NllLossBackward>)\n",
      "loss at iteration  154  is  tensor(0.6639, device='cuda:0', grad_fn=<NllLossBackward>)\n",
      "loss at iteration  155  is  tensor(0.6818, device='cuda:0', grad_fn=<NllLossBackward>)\n",
      "loss at iteration  156  is  tensor(0.6766, device='cuda:0', grad_fn=<NllLossBackward>)\n",
      "loss at iteration  157  is  tensor(0.6698, device='cuda:0', grad_fn=<NllLossBackward>)\n",
      "loss at iteration  158  is  tensor(0.6840, device='cuda:0', grad_fn=<NllLossBackward>)\n",
      "loss at iteration  159  is  tensor(0.6694, device='cuda:0', grad_fn=<NllLossBackward>)\n",
      "loss at iteration  160  is  tensor(0.6775, device='cuda:0', grad_fn=<NllLossBackward>)\n",
      "loss at iteration  161  is  tensor(0.6815, device='cuda:0', grad_fn=<NllLossBackward>)\n",
      "loss at iteration  162  is  tensor(0.6757, device='cuda:0', grad_fn=<NllLossBackward>)\n",
      "loss at iteration  163  is  tensor(0.6679, device='cuda:0', grad_fn=<NllLossBackward>)\n",
      "loss at iteration  164  is  tensor(0.6565, device='cuda:0', grad_fn=<NllLossBackward>)\n",
      "loss at iteration  165  is  tensor(0.6896, device='cuda:0', grad_fn=<NllLossBackward>)\n",
      "loss at iteration  166  is  tensor(0.6696, device='cuda:0', grad_fn=<NllLossBackward>)\n",
      "loss at iteration  167  is  tensor(0.6687, device='cuda:0', grad_fn=<NllLossBackward>)\n",
      "loss at iteration  168  is  tensor(0.6653, device='cuda:0', grad_fn=<NllLossBackward>)\n",
      "loss at iteration  169  is  tensor(0.6763, device='cuda:0', grad_fn=<NllLossBackward>)\n",
      "loss at iteration  170  is  tensor(0.6645, device='cuda:0', grad_fn=<NllLossBackward>)\n",
      "loss at iteration  171  is  tensor(0.6833, device='cuda:0', grad_fn=<NllLossBackward>)\n",
      "loss at iteration  172  is  tensor(0.6702, device='cuda:0', grad_fn=<NllLossBackward>)\n",
      "loss at iteration  173  is  tensor(0.6845, device='cuda:0', grad_fn=<NllLossBackward>)\n",
      "loss at iteration  174  is  tensor(0.6697, device='cuda:0', grad_fn=<NllLossBackward>)\n",
      "loss at iteration  175  is  tensor(0.6712, device='cuda:0', grad_fn=<NllLossBackward>)\n",
      "loss at iteration  176  is  tensor(0.6836, device='cuda:0', grad_fn=<NllLossBackward>)\n",
      "loss at iteration  177  is  tensor(0.6686, device='cuda:0', grad_fn=<NllLossBackward>)\n",
      "loss at iteration  178  is  tensor(0.6854, device='cuda:0', grad_fn=<NllLossBackward>)\n",
      "loss at iteration  179  is  tensor(0.6631, device='cuda:0', grad_fn=<NllLossBackward>)\n",
      "loss at iteration  180  is  tensor(0.6706, device='cuda:0', grad_fn=<NllLossBackward>)\n",
      "loss at iteration  181  is  tensor(0.6907, device='cuda:0', grad_fn=<NllLossBackward>)\n",
      "loss at iteration  182  is  tensor(0.6524, device='cuda:0', grad_fn=<NllLossBackward>)\n",
      "loss at iteration  183  is  tensor(0.6828, device='cuda:0', grad_fn=<NllLossBackward>)\n",
      "loss at iteration  184  is  tensor(0.6671, device='cuda:0', grad_fn=<NllLossBackward>)\n",
      "loss at iteration  185  is  tensor(0.6715, device='cuda:0', grad_fn=<NllLossBackward>)\n",
      "loss at iteration  186  is  tensor(0.6724, device='cuda:0', grad_fn=<NllLossBackward>)\n",
      "loss at iteration  187  is  tensor(0.6707, device='cuda:0', grad_fn=<NllLossBackward>)\n",
      "loss at iteration  188  is  tensor(0.6598, device='cuda:0', grad_fn=<NllLossBackward>)\n"
     ]
    },
    {
     "name": "stdout",
     "output_type": "stream",
     "text": [
      "loss at iteration  189  is  tensor(0.6828, device='cuda:0', grad_fn=<NllLossBackward>)\n",
      "loss at iteration  190  is  tensor(0.6715, device='cuda:0', grad_fn=<NllLossBackward>)\n",
      "loss at iteration  191  is  tensor(0.6632, device='cuda:0', grad_fn=<NllLossBackward>)\n",
      "loss at iteration  192  is  tensor(0.6797, device='cuda:0', grad_fn=<NllLossBackward>)\n",
      "loss at iteration  193  is  tensor(0.6835, device='cuda:0', grad_fn=<NllLossBackward>)\n",
      "loss at iteration  194  is  tensor(0.6806, device='cuda:0', grad_fn=<NllLossBackward>)\n",
      "loss at iteration  195  is  tensor(0.6848, device='cuda:0', grad_fn=<NllLossBackward>)\n",
      "loss at iteration  196  is  tensor(0.6587, device='cuda:0', grad_fn=<NllLossBackward>)\n",
      "loss at iteration  197  is  tensor(0.6707, device='cuda:0', grad_fn=<NllLossBackward>)\n",
      "loss at iteration  198  is  tensor(0.6907, device='cuda:0', grad_fn=<NllLossBackward>)\n",
      "loss at iteration  199  is  tensor(0.6636, device='cuda:0', grad_fn=<NllLossBackward>)\n",
      "loss at iteration  200  is  tensor(0.6762, device='cuda:0', grad_fn=<NllLossBackward>)\n",
      "loss at iteration  201  is  tensor(0.6891, device='cuda:0', grad_fn=<NllLossBackward>)\n",
      "loss at iteration  202  is  tensor(0.6759, device='cuda:0', grad_fn=<NllLossBackward>)\n",
      "loss at iteration  203  is  tensor(0.6653, device='cuda:0', grad_fn=<NllLossBackward>)\n",
      "loss at iteration  204  is  tensor(0.6730, device='cuda:0', grad_fn=<NllLossBackward>)\n",
      "loss at iteration  205  is  tensor(0.6570, device='cuda:0', grad_fn=<NllLossBackward>)\n",
      "loss at iteration  206  is  tensor(0.6823, device='cuda:0', grad_fn=<NllLossBackward>)\n",
      "loss at iteration  207  is  tensor(0.6724, device='cuda:0', grad_fn=<NllLossBackward>)\n",
      "loss at iteration  208  is  tensor(0.6915, device='cuda:0', grad_fn=<NllLossBackward>)\n",
      "loss at iteration  209  is  tensor(0.6873, device='cuda:0', grad_fn=<NllLossBackward>)\n",
      "loss at iteration  210  is  tensor(0.6974, device='cuda:0', grad_fn=<NllLossBackward>)\n",
      "loss at iteration  211  is  tensor(0.6573, device='cuda:0', grad_fn=<NllLossBackward>)\n",
      "loss at iteration  212  is  tensor(0.6870, device='cuda:0', grad_fn=<NllLossBackward>)\n",
      "loss at iteration  213  is  tensor(0.6759, device='cuda:0', grad_fn=<NllLossBackward>)\n",
      "loss at iteration  214  is  tensor(0.6743, device='cuda:0', grad_fn=<NllLossBackward>)\n",
      "loss at iteration  215  is  tensor(0.6806, device='cuda:0', grad_fn=<NllLossBackward>)\n",
      "loss at iteration  216  is  tensor(0.6582, device='cuda:0', grad_fn=<NllLossBackward>)\n",
      "loss at iteration  217  is  tensor(0.6787, device='cuda:0', grad_fn=<NllLossBackward>)\n",
      "loss at iteration  218  is  tensor(0.6677, device='cuda:0', grad_fn=<NllLossBackward>)\n",
      "loss at iteration  219  is  tensor(0.6787, device='cuda:0', grad_fn=<NllLossBackward>)\n",
      "loss at iteration  220  is  tensor(0.6720, device='cuda:0', grad_fn=<NllLossBackward>)\n",
      "loss at iteration  221  is  tensor(0.6633, device='cuda:0', grad_fn=<NllLossBackward>)\n",
      "loss at iteration  222  is  tensor(0.6682, device='cuda:0', grad_fn=<NllLossBackward>)\n",
      "loss at iteration  223  is  tensor(0.6710, device='cuda:0', grad_fn=<NllLossBackward>)\n",
      "loss at iteration  224  is  tensor(0.6756, device='cuda:0', grad_fn=<NllLossBackward>)\n",
      "loss at iteration  225  is  tensor(0.6791, device='cuda:0', grad_fn=<NllLossBackward>)\n",
      "loss at iteration  226  is  tensor(0.6786, device='cuda:0', grad_fn=<NllLossBackward>)\n",
      "loss at iteration  227  is  tensor(0.6488, device='cuda:0', grad_fn=<NllLossBackward>)\n",
      "loss at iteration  228  is  tensor(0.6803, device='cuda:0', grad_fn=<NllLossBackward>)\n",
      "loss at iteration  229  is  tensor(0.6705, device='cuda:0', grad_fn=<NllLossBackward>)\n",
      "loss at iteration  230  is  tensor(0.6752, device='cuda:0', grad_fn=<NllLossBackward>)\n",
      "loss at iteration  231  is  tensor(0.6732, device='cuda:0', grad_fn=<NllLossBackward>)\n",
      "loss at iteration  232  is  tensor(0.6599, device='cuda:0', grad_fn=<NllLossBackward>)\n",
      "loss at iteration  233  is  tensor(0.6714, device='cuda:0', grad_fn=<NllLossBackward>)\n",
      "loss at iteration  234  is  tensor(0.6775, device='cuda:0', grad_fn=<NllLossBackward>)\n",
      "loss at iteration  235  is  tensor(0.6801, device='cuda:0', grad_fn=<NllLossBackward>)\n",
      "loss at iteration  236  is  tensor(0.6704, device='cuda:0', grad_fn=<NllLossBackward>)\n",
      "loss at iteration  237  is  tensor(0.6617, device='cuda:0', grad_fn=<NllLossBackward>)\n",
      "loss at iteration  238  is  tensor(0.6518, device='cuda:0', grad_fn=<NllLossBackward>)\n",
      "loss at iteration  239  is  tensor(0.6852, device='cuda:0', grad_fn=<NllLossBackward>)\n",
      "loss at iteration  240  is  tensor(0.6802, device='cuda:0', grad_fn=<NllLossBackward>)\n",
      "loss at iteration  241  is  tensor(0.6842, device='cuda:0', grad_fn=<NllLossBackward>)\n",
      "loss at iteration  242  is  tensor(0.6588, device='cuda:0', grad_fn=<NllLossBackward>)\n",
      "loss at iteration  243  is  tensor(0.6804, device='cuda:0', grad_fn=<NllLossBackward>)\n",
      "loss at iteration  244  is  tensor(0.6770, device='cuda:0', grad_fn=<NllLossBackward>)\n",
      "loss at iteration  245  is  tensor(0.6753, device='cuda:0', grad_fn=<NllLossBackward>)\n",
      "loss at iteration  246  is  tensor(0.6891, device='cuda:0', grad_fn=<NllLossBackward>)\n",
      "loss at iteration  247  is  tensor(0.6770, device='cuda:0', grad_fn=<NllLossBackward>)\n",
      "loss at iteration  248  is  tensor(0.6757, device='cuda:0', grad_fn=<NllLossBackward>)\n",
      "loss at iteration  249  is  tensor(0.6714, device='cuda:0', grad_fn=<NllLossBackward>)\n",
      "loss at iteration  250  is  tensor(0.6560, device='cuda:0', grad_fn=<NllLossBackward>)\n",
      "loss at iteration  251  is  tensor(0.6485, device='cuda:0', grad_fn=<NllLossBackward>)\n",
      "loss at iteration  252  is  tensor(0.6797, device='cuda:0', grad_fn=<NllLossBackward>)\n",
      "loss at iteration  253  is  tensor(0.6601, device='cuda:0', grad_fn=<NllLossBackward>)\n",
      "loss at iteration  254  is  tensor(0.6807, device='cuda:0', grad_fn=<NllLossBackward>)\n",
      "loss at iteration  255  is  tensor(0.6627, device='cuda:0', grad_fn=<NllLossBackward>)\n",
      "loss at iteration  256  is  tensor(0.6837, device='cuda:0', grad_fn=<NllLossBackward>)\n",
      "loss at iteration  257  is  tensor(0.6732, device='cuda:0', grad_fn=<NllLossBackward>)\n",
      "loss at iteration  258  is  tensor(0.6705, device='cuda:0', grad_fn=<NllLossBackward>)\n",
      "loss at iteration  259  is  tensor(0.6732, device='cuda:0', grad_fn=<NllLossBackward>)\n",
      "loss at iteration  260  is  tensor(0.6548, device='cuda:0', grad_fn=<NllLossBackward>)\n",
      "loss at iteration  261  is  tensor(0.6834, device='cuda:0', grad_fn=<NllLossBackward>)\n",
      "loss at iteration  262  is  tensor(0.6836, device='cuda:0', grad_fn=<NllLossBackward>)\n",
      "loss at iteration  263  is  tensor(0.6732, device='cuda:0', grad_fn=<NllLossBackward>)\n",
      "loss at iteration  264  is  tensor(0.6719, device='cuda:0', grad_fn=<NllLossBackward>)\n",
      "loss at iteration  265  is  tensor(0.6708, device='cuda:0', grad_fn=<NllLossBackward>)\n",
      "loss at iteration  266  is  tensor(0.6734, device='cuda:0', grad_fn=<NllLossBackward>)\n",
      "loss at iteration  267  is  tensor(0.6720, device='cuda:0', grad_fn=<NllLossBackward>)\n",
      "loss at iteration  268  is  tensor(0.6755, device='cuda:0', grad_fn=<NllLossBackward>)\n",
      "loss at iteration  269  is  tensor(0.6633, device='cuda:0', grad_fn=<NllLossBackward>)\n",
      "loss at iteration  270  is  tensor(0.6641, device='cuda:0', grad_fn=<NllLossBackward>)\n",
      "loss at iteration  271  is  tensor(0.6750, device='cuda:0', grad_fn=<NllLossBackward>)\n",
      "loss at iteration  272  is  tensor(0.6609, device='cuda:0', grad_fn=<NllLossBackward>)\n",
      "loss at iteration  273  is  tensor(0.6696, device='cuda:0', grad_fn=<NllLossBackward>)\n",
      "loss at iteration  274  is  tensor(0.6689, device='cuda:0', grad_fn=<NllLossBackward>)\n",
      "loss at iteration  275  is  tensor(0.6660, device='cuda:0', grad_fn=<NllLossBackward>)\n",
      "loss at iteration  276  is  tensor(0.6717, device='cuda:0', grad_fn=<NllLossBackward>)\n",
      "loss at iteration  277  is  tensor(0.6768, device='cuda:0', grad_fn=<NllLossBackward>)\n",
      "loss at iteration  278  is  tensor(0.6692, device='cuda:0', grad_fn=<NllLossBackward>)\n",
      "loss at iteration  279  is  tensor(0.6657, device='cuda:0', grad_fn=<NllLossBackward>)\n",
      "loss at iteration  280  is  tensor(0.6636, device='cuda:0', grad_fn=<NllLossBackward>)\n",
      "loss at iteration  281  is  tensor(0.6685, device='cuda:0', grad_fn=<NllLossBackward>)\n",
      "loss at iteration  282  is  tensor(0.6789, device='cuda:0', grad_fn=<NllLossBackward>)\n"
     ]
    },
    {
     "name": "stdout",
     "output_type": "stream",
     "text": [
      "loss at iteration  283  is  tensor(0.6812, device='cuda:0', grad_fn=<NllLossBackward>)\n",
      "loss at iteration  284  is  tensor(0.6667, device='cuda:0', grad_fn=<NllLossBackward>)\n",
      "loss at iteration  285  is  tensor(0.6702, device='cuda:0', grad_fn=<NllLossBackward>)\n",
      "loss at iteration  286  is  tensor(0.6614, device='cuda:0', grad_fn=<NllLossBackward>)\n",
      "loss at iteration  287  is  tensor(0.6604, device='cuda:0', grad_fn=<NllLossBackward>)\n",
      "loss at iteration  288  is  tensor(0.6666, device='cuda:0', grad_fn=<NllLossBackward>)\n",
      "loss at iteration  289  is  tensor(0.6792, device='cuda:0', grad_fn=<NllLossBackward>)\n",
      "loss at iteration  290  is  tensor(0.6660, device='cuda:0', grad_fn=<NllLossBackward>)\n",
      "loss at iteration  291  is  tensor(0.6782, device='cuda:0', grad_fn=<NllLossBackward>)\n",
      "loss at iteration  292  is  tensor(0.6676, device='cuda:0', grad_fn=<NllLossBackward>)\n",
      "loss at iteration  293  is  tensor(0.6751, device='cuda:0', grad_fn=<NllLossBackward>)\n",
      "loss at iteration  294  is  tensor(0.6717, device='cuda:0', grad_fn=<NllLossBackward>)\n",
      "loss at iteration  295  is  tensor(0.6673, device='cuda:0', grad_fn=<NllLossBackward>)\n",
      "loss at iteration  296  is  tensor(0.6665, device='cuda:0', grad_fn=<NllLossBackward>)\n",
      "loss at iteration  297  is  tensor(0.6538, device='cuda:0', grad_fn=<NllLossBackward>)\n",
      "loss at iteration  298  is  tensor(0.6538, device='cuda:0', grad_fn=<NllLossBackward>)\n",
      "loss at iteration  299  is  tensor(0.6740, device='cuda:0', grad_fn=<NllLossBackward>)\n",
      "loss at iteration  300  is  tensor(0.6887, device='cuda:0', grad_fn=<NllLossBackward>)\n",
      "loss at iteration  301  is  tensor(0.6511, device='cuda:0', grad_fn=<NllLossBackward>)\n",
      "loss at iteration  302  is  tensor(0.6481, device='cuda:0', grad_fn=<NllLossBackward>)\n",
      "loss at iteration  303  is  tensor(0.6660, device='cuda:0', grad_fn=<NllLossBackward>)\n",
      "loss at iteration  304  is  tensor(0.6551, device='cuda:0', grad_fn=<NllLossBackward>)\n",
      "loss at iteration  305  is  tensor(0.6580, device='cuda:0', grad_fn=<NllLossBackward>)\n",
      "loss at iteration  306  is  tensor(0.6687, device='cuda:0', grad_fn=<NllLossBackward>)\n",
      "loss at iteration  307  is  tensor(0.6695, device='cuda:0', grad_fn=<NllLossBackward>)\n",
      "loss at iteration  308  is  tensor(0.6596, device='cuda:0', grad_fn=<NllLossBackward>)\n",
      "loss at iteration  309  is  tensor(0.6637, device='cuda:0', grad_fn=<NllLossBackward>)\n",
      "loss at iteration  310  is  tensor(0.6648, device='cuda:0', grad_fn=<NllLossBackward>)\n",
      "loss at iteration  311  is  tensor(0.6463, device='cuda:0', grad_fn=<NllLossBackward>)\n",
      "loss at iteration  312  is  tensor(0.6519, device='cuda:0', grad_fn=<NllLossBackward>)\n",
      "loss at iteration  313  is  tensor(0.6683, device='cuda:0', grad_fn=<NllLossBackward>)\n",
      "loss at iteration  314  is  tensor(0.6742, device='cuda:0', grad_fn=<NllLossBackward>)\n",
      "loss at iteration  315  is  tensor(0.6708, device='cuda:0', grad_fn=<NllLossBackward>)\n",
      "loss at iteration  316  is  tensor(0.6642, device='cuda:0', grad_fn=<NllLossBackward>)\n",
      "loss at iteration  317  is  tensor(0.6731, device='cuda:0', grad_fn=<NllLossBackward>)\n",
      "loss at iteration  318  is  tensor(0.6652, device='cuda:0', grad_fn=<NllLossBackward>)\n",
      "loss at iteration  319  is  tensor(0.6670, device='cuda:0', grad_fn=<NllLossBackward>)\n",
      "loss at iteration  320  is  tensor(0.6553, device='cuda:0', grad_fn=<NllLossBackward>)\n",
      "loss at iteration  321  is  tensor(0.6635, device='cuda:0', grad_fn=<NllLossBackward>)\n",
      "loss at iteration  322  is  tensor(0.6730, device='cuda:0', grad_fn=<NllLossBackward>)\n",
      "loss at iteration  323  is  tensor(0.6644, device='cuda:0', grad_fn=<NllLossBackward>)\n",
      "loss at iteration  324  is  tensor(0.6649, device='cuda:0', grad_fn=<NllLossBackward>)\n",
      "loss at iteration  325  is  tensor(0.6698, device='cuda:0', grad_fn=<NllLossBackward>)\n",
      "loss at iteration  326  is  tensor(0.6742, device='cuda:0', grad_fn=<NllLossBackward>)\n",
      "loss at iteration  327  is  tensor(0.6669, device='cuda:0', grad_fn=<NllLossBackward>)\n",
      "loss at iteration  328  is  tensor(0.6419, device='cuda:0', grad_fn=<NllLossBackward>)\n",
      "loss at iteration  329  is  tensor(0.6431, device='cuda:0', grad_fn=<NllLossBackward>)\n",
      "loss at iteration  330  is  tensor(0.6679, device='cuda:0', grad_fn=<NllLossBackward>)\n",
      "loss at iteration  331  is  tensor(0.6617, device='cuda:0', grad_fn=<NllLossBackward>)\n",
      "loss at iteration  332  is  tensor(0.6727, device='cuda:0', grad_fn=<NllLossBackward>)\n",
      "loss at iteration  333  is  tensor(0.6619, device='cuda:0', grad_fn=<NllLossBackward>)\n",
      "loss at iteration  334  is  tensor(0.6789, device='cuda:0', grad_fn=<NllLossBackward>)\n",
      "loss at iteration  335  is  tensor(0.6673, device='cuda:0', grad_fn=<NllLossBackward>)\n",
      "loss at iteration  336  is  tensor(0.6632, device='cuda:0', grad_fn=<NllLossBackward>)\n",
      "loss at iteration  337  is  tensor(0.6526, device='cuda:0', grad_fn=<NllLossBackward>)\n",
      "loss at iteration  338  is  tensor(0.6507, device='cuda:0', grad_fn=<NllLossBackward>)\n",
      "loss at iteration  339  is  tensor(0.6474, device='cuda:0', grad_fn=<NllLossBackward>)\n",
      "loss at iteration  340  is  tensor(0.6591, device='cuda:0', grad_fn=<NllLossBackward>)\n",
      "loss at iteration  341  is  tensor(0.6545, device='cuda:0', grad_fn=<NllLossBackward>)\n",
      "loss at iteration  342  is  tensor(0.6532, device='cuda:0', grad_fn=<NllLossBackward>)\n",
      "loss at iteration  343  is  tensor(0.6305, device='cuda:0', grad_fn=<NllLossBackward>)\n",
      "loss at iteration  344  is  tensor(0.6761, device='cuda:0', grad_fn=<NllLossBackward>)\n",
      "loss at iteration  345  is  tensor(0.6640, device='cuda:0', grad_fn=<NllLossBackward>)\n",
      "loss at iteration  346  is  tensor(0.6711, device='cuda:0', grad_fn=<NllLossBackward>)\n",
      "loss at iteration  347  is  tensor(0.6564, device='cuda:0', grad_fn=<NllLossBackward>)\n",
      "loss at iteration  348  is  tensor(0.6556, device='cuda:0', grad_fn=<NllLossBackward>)\n",
      "loss at iteration  349  is  tensor(0.6765, device='cuda:0', grad_fn=<NllLossBackward>)\n",
      "loss at iteration  350  is  tensor(0.6590, device='cuda:0', grad_fn=<NllLossBackward>)\n",
      "loss at iteration  351  is  tensor(0.6518, device='cuda:0', grad_fn=<NllLossBackward>)\n",
      "loss at iteration  352  is  tensor(0.6655, device='cuda:0', grad_fn=<NllLossBackward>)\n",
      "loss at iteration  353  is  tensor(0.6628, device='cuda:0', grad_fn=<NllLossBackward>)\n",
      "loss at iteration  354  is  tensor(0.6750, device='cuda:0', grad_fn=<NllLossBackward>)\n",
      "loss at iteration  355  is  tensor(0.6650, device='cuda:0', grad_fn=<NllLossBackward>)\n",
      "loss at iteration  356  is  tensor(0.6699, device='cuda:0', grad_fn=<NllLossBackward>)\n",
      "loss at iteration  357  is  tensor(0.6404, device='cuda:0', grad_fn=<NllLossBackward>)\n",
      "loss at iteration  358  is  tensor(0.6704, device='cuda:0', grad_fn=<NllLossBackward>)\n",
      "loss at iteration  359  is  tensor(0.6650, device='cuda:0', grad_fn=<NllLossBackward>)\n",
      "loss at iteration  360  is  tensor(0.6692, device='cuda:0', grad_fn=<NllLossBackward>)\n",
      "loss at iteration  361  is  tensor(0.6508, device='cuda:0', grad_fn=<NllLossBackward>)\n",
      "loss at iteration  362  is  tensor(0.6638, device='cuda:0', grad_fn=<NllLossBackward>)\n",
      "loss at iteration  363  is  tensor(0.6641, device='cuda:0', grad_fn=<NllLossBackward>)\n",
      "loss at iteration  364  is  tensor(0.6846, device='cuda:0', grad_fn=<NllLossBackward>)\n",
      "loss at iteration  365  is  tensor(0.6690, device='cuda:0', grad_fn=<NllLossBackward>)\n",
      "loss at iteration  366  is  tensor(0.6585, device='cuda:0', grad_fn=<NllLossBackward>)\n",
      "loss at iteration  367  is  tensor(0.6596, device='cuda:0', grad_fn=<NllLossBackward>)\n",
      "loss at iteration  368  is  tensor(0.6757, device='cuda:0', grad_fn=<NllLossBackward>)\n",
      "loss at iteration  369  is  tensor(0.6484, device='cuda:0', grad_fn=<NllLossBackward>)\n",
      "loss at iteration  370  is  tensor(0.6640, device='cuda:0', grad_fn=<NllLossBackward>)\n",
      "loss at iteration  371  is  tensor(0.6400, device='cuda:0', grad_fn=<NllLossBackward>)\n",
      "loss at iteration  372  is  tensor(0.6789, device='cuda:0', grad_fn=<NllLossBackward>)\n",
      "loss at iteration  373  is  tensor(0.6667, device='cuda:0', grad_fn=<NllLossBackward>)\n",
      "loss at iteration  374  is  tensor(0.6782, device='cuda:0', grad_fn=<NllLossBackward>)\n",
      "loss at iteration  375  is  tensor(0.6611, device='cuda:0', grad_fn=<NllLossBackward>)\n",
      "loss at iteration  376  is  tensor(0.6280, device='cuda:0', grad_fn=<NllLossBackward>)\n"
     ]
    },
    {
     "name": "stdout",
     "output_type": "stream",
     "text": [
      "loss at iteration  377  is  tensor(0.6355, device='cuda:0', grad_fn=<NllLossBackward>)\n",
      "loss at iteration  378  is  tensor(0.6563, device='cuda:0', grad_fn=<NllLossBackward>)\n",
      "loss at iteration  379  is  tensor(0.6702, device='cuda:0', grad_fn=<NllLossBackward>)\n",
      "loss at iteration  380  is  tensor(0.6767, device='cuda:0', grad_fn=<NllLossBackward>)\n",
      "loss at iteration  381  is  tensor(0.6607, device='cuda:0', grad_fn=<NllLossBackward>)\n",
      "loss at iteration  382  is  tensor(0.6751, device='cuda:0', grad_fn=<NllLossBackward>)\n",
      "loss at iteration  383  is  tensor(0.6301, device='cuda:0', grad_fn=<NllLossBackward>)\n",
      "loss at iteration  384  is  tensor(0.6439, device='cuda:0', grad_fn=<NllLossBackward>)\n",
      "loss at iteration  385  is  tensor(0.6479, device='cuda:0', grad_fn=<NllLossBackward>)\n",
      "loss at iteration  386  is  tensor(0.6452, device='cuda:0', grad_fn=<NllLossBackward>)\n",
      "loss at iteration  387  is  tensor(0.6351, device='cuda:0', grad_fn=<NllLossBackward>)\n",
      "loss at iteration  388  is  tensor(0.6578, device='cuda:0', grad_fn=<NllLossBackward>)\n",
      "loss at iteration  389  is  tensor(0.6381, device='cuda:0', grad_fn=<NllLossBackward>)\n",
      "loss at iteration  390  is  tensor(0.6338, device='cuda:0', grad_fn=<NllLossBackward>)\n",
      "loss at iteration  391  is  tensor(0.6605, device='cuda:0', grad_fn=<NllLossBackward>)\n",
      "loss at iteration  392  is  tensor(0.6443, device='cuda:0', grad_fn=<NllLossBackward>)\n",
      "loss at iteration  393  is  tensor(0.6339, device='cuda:0', grad_fn=<NllLossBackward>)\n",
      "loss at iteration  394  is  tensor(0.6283, device='cuda:0', grad_fn=<NllLossBackward>)\n",
      "loss at iteration  395  is  tensor(0.6448, device='cuda:0', grad_fn=<NllLossBackward>)\n",
      "loss at iteration  396  is  tensor(0.6347, device='cuda:0', grad_fn=<NllLossBackward>)\n",
      "loss at iteration  397  is  tensor(0.6365, device='cuda:0', grad_fn=<NllLossBackward>)\n",
      "loss at iteration  398  is  tensor(0.6165, device='cuda:0', grad_fn=<NllLossBackward>)\n",
      "loss at iteration  399  is  tensor(0.6306, device='cuda:0', grad_fn=<NllLossBackward>)\n",
      "loss at iteration  400  is  tensor(0.6350, device='cuda:0', grad_fn=<NllLossBackward>)\n",
      "loss at iteration  401  is  tensor(0.6488, device='cuda:0', grad_fn=<NllLossBackward>)\n",
      "loss at iteration  402  is  tensor(0.6616, device='cuda:0', grad_fn=<NllLossBackward>)\n",
      "loss at iteration  403  is  tensor(0.6458, device='cuda:0', grad_fn=<NllLossBackward>)\n",
      "loss at iteration  404  is  tensor(0.6296, device='cuda:0', grad_fn=<NllLossBackward>)\n",
      "loss at iteration  405  is  tensor(0.6405, device='cuda:0', grad_fn=<NllLossBackward>)\n",
      "loss at iteration  406  is  tensor(0.6196, device='cuda:0', grad_fn=<NllLossBackward>)\n",
      "loss at iteration  407  is  tensor(0.6499, device='cuda:0', grad_fn=<NllLossBackward>)\n",
      "loss at iteration  408  is  tensor(0.6359, device='cuda:0', grad_fn=<NllLossBackward>)\n",
      "loss at iteration  409  is  tensor(0.6166, device='cuda:0', grad_fn=<NllLossBackward>)\n",
      "loss at iteration  410  is  tensor(0.6389, device='cuda:0', grad_fn=<NllLossBackward>)\n",
      "loss at iteration  411  is  tensor(0.6419, device='cuda:0', grad_fn=<NllLossBackward>)\n",
      "loss at iteration  412  is  tensor(0.6251, device='cuda:0', grad_fn=<NllLossBackward>)\n",
      "loss at iteration  413  is  tensor(0.6281, device='cuda:0', grad_fn=<NllLossBackward>)\n",
      "loss at iteration  414  is  tensor(0.6451, device='cuda:0', grad_fn=<NllLossBackward>)\n",
      "loss at iteration  415  is  tensor(0.6330, device='cuda:0', grad_fn=<NllLossBackward>)\n",
      "loss at iteration  416  is  tensor(0.6507, device='cuda:0', grad_fn=<NllLossBackward>)\n",
      "loss at iteration  417  is  tensor(0.6367, device='cuda:0', grad_fn=<NllLossBackward>)\n",
      "loss at iteration  418  is  tensor(0.6504, device='cuda:0', grad_fn=<NllLossBackward>)\n",
      "loss at iteration  419  is  tensor(0.6372, device='cuda:0', grad_fn=<NllLossBackward>)\n",
      "loss at iteration  420  is  tensor(0.6343, device='cuda:0', grad_fn=<NllLossBackward>)\n",
      "loss at iteration  421  is  tensor(0.6378, device='cuda:0', grad_fn=<NllLossBackward>)\n",
      "loss at iteration  422  is  tensor(0.6504, device='cuda:0', grad_fn=<NllLossBackward>)\n",
      "loss at iteration  423  is  tensor(0.6343, device='cuda:0', grad_fn=<NllLossBackward>)\n",
      "loss at iteration  424  is  tensor(0.6264, device='cuda:0', grad_fn=<NllLossBackward>)\n",
      "loss at iteration  425  is  tensor(0.6507, device='cuda:0', grad_fn=<NllLossBackward>)\n",
      "loss at iteration  426  is  tensor(0.6369, device='cuda:0', grad_fn=<NllLossBackward>)\n",
      "loss at iteration  427  is  tensor(0.6399, device='cuda:0', grad_fn=<NllLossBackward>)\n",
      "loss at iteration  428  is  tensor(0.6311, device='cuda:0', grad_fn=<NllLossBackward>)\n",
      "loss at iteration  429  is  tensor(0.6299, device='cuda:0', grad_fn=<NllLossBackward>)\n",
      "loss at iteration  430  is  tensor(0.6193, device='cuda:0', grad_fn=<NllLossBackward>)\n"
     ]
    },
    {
     "ename": "KeyboardInterrupt",
     "evalue": "",
     "output_type": "error",
     "traceback": [
      "\u001b[1;31m---------------------------------------------------------------------------\u001b[0m",
      "\u001b[1;31mKeyboardInterrupt\u001b[0m                         Traceback (most recent call last)",
      "\u001b[1;32m<ipython-input-26-6cdf2af585f0>\u001b[0m in \u001b[0;36m<module>\u001b[1;34m\u001b[0m\n\u001b[0;32m     22\u001b[0m         \u001b[0mloss\u001b[0m \u001b[1;33m=\u001b[0m \u001b[0mF\u001b[0m\u001b[1;33m.\u001b[0m\u001b[0mnll_loss\u001b[0m\u001b[1;33m(\u001b[0m\u001b[0moutput\u001b[0m\u001b[1;33m,\u001b[0m \u001b[0my\u001b[0m\u001b[1;33m)\u001b[0m\u001b[1;33m\u001b[0m\u001b[1;33m\u001b[0m\u001b[0m\n\u001b[0;32m     23\u001b[0m         \u001b[0mloss\u001b[0m\u001b[1;33m.\u001b[0m\u001b[0mbackward\u001b[0m\u001b[1;33m(\u001b[0m\u001b[1;33m)\u001b[0m\u001b[1;33m\u001b[0m\u001b[1;33m\u001b[0m\u001b[0m\n\u001b[1;32m---> 24\u001b[1;33m         \u001b[0moptimizer\u001b[0m\u001b[1;33m.\u001b[0m\u001b[0mstep\u001b[0m\u001b[1;33m(\u001b[0m\u001b[1;33m)\u001b[0m\u001b[1;33m\u001b[0m\u001b[1;33m\u001b[0m\u001b[0m\n\u001b[0m\u001b[0;32m     25\u001b[0m \u001b[1;33m\u001b[0m\u001b[0m\n\u001b[0;32m     26\u001b[0m     \u001b[0mprint\u001b[0m\u001b[1;33m(\u001b[0m\u001b[1;34m'loss at iteration '\u001b[0m\u001b[1;33m,\u001b[0m \u001b[0mj\u001b[0m \u001b[1;33m,\u001b[0m\u001b[1;34m' is '\u001b[0m\u001b[1;33m,\u001b[0m \u001b[0mloss\u001b[0m\u001b[1;33m)\u001b[0m\u001b[1;33m\u001b[0m\u001b[1;33m\u001b[0m\u001b[0m\n",
      "\u001b[1;32m~\\AppData\\Local\\Continuum\\anaconda3\\lib\\site-packages\\torch\\optim\\adam.py\u001b[0m in \u001b[0;36mstep\u001b[1;34m(self, closure)\u001b[0m\n\u001b[0;32m    101\u001b[0m                     \u001b[0mdenom\u001b[0m \u001b[1;33m=\u001b[0m \u001b[1;33m(\u001b[0m\u001b[0mmax_exp_avg_sq\u001b[0m\u001b[1;33m.\u001b[0m\u001b[0msqrt\u001b[0m\u001b[1;33m(\u001b[0m\u001b[1;33m)\u001b[0m \u001b[1;33m/\u001b[0m \u001b[0mmath\u001b[0m\u001b[1;33m.\u001b[0m\u001b[0msqrt\u001b[0m\u001b[1;33m(\u001b[0m\u001b[0mbias_correction2\u001b[0m\u001b[1;33m)\u001b[0m\u001b[1;33m)\u001b[0m\u001b[1;33m.\u001b[0m\u001b[0madd_\u001b[0m\u001b[1;33m(\u001b[0m\u001b[0mgroup\u001b[0m\u001b[1;33m[\u001b[0m\u001b[1;34m'eps'\u001b[0m\u001b[1;33m]\u001b[0m\u001b[1;33m)\u001b[0m\u001b[1;33m\u001b[0m\u001b[1;33m\u001b[0m\u001b[0m\n\u001b[0;32m    102\u001b[0m                 \u001b[1;32melse\u001b[0m\u001b[1;33m:\u001b[0m\u001b[1;33m\u001b[0m\u001b[1;33m\u001b[0m\u001b[0m\n\u001b[1;32m--> 103\u001b[1;33m                     \u001b[0mdenom\u001b[0m \u001b[1;33m=\u001b[0m \u001b[1;33m(\u001b[0m\u001b[0mexp_avg_sq\u001b[0m\u001b[1;33m.\u001b[0m\u001b[0msqrt\u001b[0m\u001b[1;33m(\u001b[0m\u001b[1;33m)\u001b[0m \u001b[1;33m/\u001b[0m \u001b[0mmath\u001b[0m\u001b[1;33m.\u001b[0m\u001b[0msqrt\u001b[0m\u001b[1;33m(\u001b[0m\u001b[0mbias_correction2\u001b[0m\u001b[1;33m)\u001b[0m\u001b[1;33m)\u001b[0m\u001b[1;33m.\u001b[0m\u001b[0madd_\u001b[0m\u001b[1;33m(\u001b[0m\u001b[0mgroup\u001b[0m\u001b[1;33m[\u001b[0m\u001b[1;34m'eps'\u001b[0m\u001b[1;33m]\u001b[0m\u001b[1;33m)\u001b[0m\u001b[1;33m\u001b[0m\u001b[1;33m\u001b[0m\u001b[0m\n\u001b[0m\u001b[0;32m    104\u001b[0m \u001b[1;33m\u001b[0m\u001b[0m\n\u001b[0;32m    105\u001b[0m                 \u001b[0mstep_size\u001b[0m \u001b[1;33m=\u001b[0m \u001b[0mgroup\u001b[0m\u001b[1;33m[\u001b[0m\u001b[1;34m'lr'\u001b[0m\u001b[1;33m]\u001b[0m \u001b[1;33m/\u001b[0m \u001b[0mbias_correction1\u001b[0m\u001b[1;33m\u001b[0m\u001b[1;33m\u001b[0m\u001b[0m\n",
      "\u001b[1;31mKeyboardInterrupt\u001b[0m: "
     ]
    }
   ],
   "source": [
    "model = Net(node_features, edge_features)\n",
    "\n",
    "model.apply(init_weights)\n",
    "\n",
    "print('Let\\'s use', torch.cuda.device_count(), 'GPU(s)!')\n",
    "device = torch.device('cuda:0' if torch.cuda.is_available() else 'cpu')\n",
    "model = model.to(device)\n",
    "\n",
    "optimizer = torch.optim.Adam(model.parameters(), lr=0.001)\n",
    "\n",
    "data_list = [graph_constructors.make_pyg_graph(*np.array(synthetic_data.make_a_group())).to(device) for _ in range(1)]\n",
    "loader = DataLoader(data_list, batch_size=1)\n",
    "\n",
    "for j in range(1000):\n",
    "    \n",
    "    for i, btch in enumerate(loader):\n",
    "\n",
    "        optimizer.zero_grad()\n",
    "        output = model(btch)\n",
    "\n",
    "        y = btch.y.to(output.device)\n",
    "        loss = F.nll_loss(output, y)\n",
    "        loss.backward()\n",
    "        optimizer.step()\n",
    "    \n",
    "    print('loss at iteration ', j ,' is ', loss)"
   ]
  },
  {
   "cell_type": "markdown",
   "metadata": {},
   "source": [
    "### Build up the model to test"
   ]
  },
  {
   "cell_type": "code",
   "execution_count": 270,
   "metadata": {},
   "outputs": [
    {
     "data": {
      "text/plain": [
       "<module 'data_utils.graph_constructors' from 'C:\\\\Users\\\\andy.knapper\\\\Documents\\\\OW\\\\Categorisation\\\\ML grouping\\\\GNN-for-trans-grouping\\\\data_utils\\\\graph_constructors.py'>"
      ]
     },
     "execution_count": 270,
     "metadata": {},
     "output_type": "execute_result"
    }
   ],
   "source": [
    "importlib.reload(synthetic_data)\n",
    "importlib.reload(graph_constructors)"
   ]
  },
  {
   "cell_type": "code",
   "execution_count": 286,
   "metadata": {},
   "outputs": [],
   "source": [
    "#https://discuss.pytorch.org/t/check-gradient-flow-in-network/15063/8\n",
    "\n",
    "def plot_grad_flow(named_parameters):\n",
    "    '''Plots the gradients flowing through different layers in the net during training.\n",
    "    Can be used for checking for possible gradient vanishing / exploding problems.\n",
    "    \n",
    "    Usage: Plug this function in Trainer class after loss.backwards() as \n",
    "    \"plot_grad_flow(self.model.named_parameters())\" to visualize the gradient flow'''\n",
    "    ave_grads = []\n",
    "    max_grads= []\n",
    "    layers = []\n",
    "    for n, p in named_parameters:\n",
    "        if(p.requires_grad) and (\"bias\" not in n):\n",
    "            layers.append(n)\n",
    "            ave_grads.append(p.grad.abs().mean())\n",
    "            max_grads.append(p.grad.abs().max())\n",
    "    plt.bar(np.arange(len(max_grads)), max_grads, alpha=0.1, lw=1, color=\"c\")\n",
    "    plt.bar(np.arange(len(max_grads)), ave_grads, alpha=0.1, lw=1, color=\"b\")\n",
    "    plt.hlines(0, 0, len(ave_grads)+1, lw=2, color=\"k\" )\n",
    "    plt.xticks(range(0,len(ave_grads), 1), layers, rotation=\"vertical\")\n",
    "    plt.xlim(left=0, right=len(ave_grads))\n",
    "    plt.ylim(bottom = -0.001, top=0.02) # zoom in on the lower gradient regions\n",
    "    plt.xlabel(\"Layers\")\n",
    "    plt.ylabel(\"average gradient\")\n",
    "    plt.title(\"Gradient flow\")\n",
    "    plt.grid(True)\n",
    "    plt.legend([matplotlib.lines.Line2D([0], [0], color=\"c\", lw=4),\n",
    "                matplotlib.lines.Line2D([0], [0], color=\"b\", lw=4),\n",
    "                matplotlib.lines.Line2D([0], [0], color=\"k\", lw=4)], ['max-gradient', 'mean-gradient', 'zero-gradient'])\n",
    "    plt.show()"
   ]
  },
  {
   "cell_type": "code",
   "execution_count": 327,
   "metadata": {},
   "outputs": [],
   "source": [
    "class Net(torch.nn.Module):\n",
    "    def __init__(self, number_of_node_features, number_of_edge_features):\n",
    "        super(Net, self).__init__()\n",
    "\n",
    "        self.number_of_node_features = number_of_node_features\n",
    "        self.number_of_edge_features = number_of_edge_features\n",
    "        \n",
    "        ##############################################################################################\n",
    "        #initialise edge embedding MLP\n",
    "        self.edge_embed_lin1 = Lin(self.number_of_edge_features, 10)\n",
    "#         self.edge_embed_lin2 = Lin(20, 10)\n",
    "        self.edge_embed_act1 = ReLU()\n",
    "#         self.edge_embed_act2 = ReLU()\n",
    "        \n",
    "        self.edge_embed_mlp = Seq(self.edge_embed_lin1, self.edge_embed_act1)    \n",
    "#         self.edge_embed_mlp = Seq(self.edge_embed_lin1, nn.BatchNorm1d(20), self.edge_embed_act1, self.edge_embed_lin2, nn.BatchNorm1d(10), self.edge_embed_act2)\n",
    "#         self.edge_embed_mlp = Seq(self.edge_embed_lin1, self.edge_embed_act1, self.edge_embed_lin2,  self.edge_embed_act2)\n",
    "        \n",
    "        \n",
    "#         ##############################################################################################\n",
    "#         #initialise edge conditioned convolution to update node attributes by propagating surrounding node attributes via edge attributes\n",
    "        \n",
    "#         self.node_update_conv_nn_1 = Seq(Lin(10, 5), nn.BatchNorm1d(5) ,ReLU(), Lin(5, self.number_of_node_features*self.number_of_node_features), nn.BatchNorm1d(self.number_of_node_features*self.number_of_node_features), ReLU())\n",
    "#         self.node_update_conv_1 = ECConv(in_channels = self.number_of_node_features,out_channels=self.number_of_node_features, nn = self.node_update_conv_nn_1, aggr='add', root_weight=True, bias=True)\n",
    "        \n",
    "#         self.node_update_conv_nn_2 = Seq(Lin(10, 5), nn.BatchNorm1d(5) ,ReLU(), Lin(5, self.number_of_node_features*self.number_of_node_features), nn.BatchNorm1d(self.number_of_node_features*self.number_of_node_features), ReLU())\n",
    "#         self.node_update_conv_2 = ECConv(in_channels = self.number_of_node_features,out_channels=self.number_of_node_features, nn = self.node_update_conv_nn_2, aggr='add', root_weight=True, bias=True)\n",
    "        \n",
    "#         self.node_update_conv_nn_3 = Seq(Lin(10, 5), nn.BatchNorm1d(5) ,ReLU(), Lin(5, self.number_of_node_features*self.number_of_node_features), nn.BatchNorm1d(self.number_of_node_features*self.number_of_node_features), ReLU())\n",
    "#         self.node_update_conv_3 = ECConv(in_channels = self.number_of_node_features,out_channels=self.number_of_node_features, nn = self.node_update_conv_nn_3, aggr='add', root_weight=True, bias=True)\n",
    "        \n",
    "        \n",
    "#         #############################################################################################\n",
    "#         #initialise the edge_attr updates from the node attrs\n",
    "        \n",
    "#         self.edge_update_conv_1 = MyLayer(number_of_node_features, 10)\n",
    "        \n",
    "#         self.edge_update_conv_2 = MyLayer(number_of_node_features, 10)\n",
    "        \n",
    "#         self.edge_update_conv_3 = MyLayer(number_of_node_features, 10)\n",
    "        \n",
    "        \n",
    "        #############################################################################################\n",
    "        #initialise edge classifier MLP\n",
    "        \n",
    "#         self.edge_class_lin1 = Lin(10, 5)\n",
    "        self.edge_class_lin1 = Lin(10, 2)\n",
    "#         self.edge_class_lin2 = Lin(5, 2)\n",
    "        self.edge_class_act1 = ReLU()\n",
    "#         self.edge_class_act2 = ReLU()\n",
    "        \n",
    "#         self.edge_class_mlp = Seq(self.edge_class_lin1, nn.Dropout(0.5), self.edge_class_act1, self.edge_class_lin2, nn.Dropout(0.5),  self.edge_class_act2)\n",
    "        self.edge_class_mlp = Seq(self.edge_class_lin1, self.edge_class_act1)\n",
    "        \n",
    "        \n",
    "\n",
    "    def forward(self, data):\n",
    "        x, edge_index, edge_attr, edge_pairs = data.x, data.edge_index, data.edge_attr, data.edge_pairs\n",
    "\n",
    "        \n",
    "        ########################################################################\n",
    "        #embed the edge attributes in a lower dim space      \n",
    "        edge_attr = self.edge_embed_mlp(edge_attr)\n",
    "\n",
    "        \n",
    "        ########################################################################\n",
    "        #iterate the messages\n",
    "        \n",
    "#         #update the node attributes\n",
    "#         x = self.node_update_conv_1(x, edge_index, edge_attr)\n",
    "#         #update the edges attributes\n",
    "#         x, edge_attr, _ = self.edge_update_conv_1.forward(x, edge_index, edge_attr, u=None, batch=data.batch)\n",
    "               \n",
    "#         #update the node attributes\n",
    "#         x = self.node_update_conv_2(x, edge_index, edge_attr)\n",
    "#         #update the edges attributes\n",
    "#         x, edge_attr, _ = self.edge_update_conv_2.forward(x, edge_index, edge_attr, u=None, batch=data.batch)\n",
    "        \n",
    "#         #update the node attributes\n",
    "#         x = self.node_update_conv_3(x, edge_index, edge_attr)\n",
    "#         #update the edges attributes\n",
    "#         x, edge_attr, _ = self.edge_update_conv_3.forward(x, edge_index, edge_attr, u=None, batch=data.batch)\n",
    "        \n",
    "            \n",
    "        ######################################################################\n",
    "        #pool the attributes over edge pairs\n",
    "        pooled_edge_attr, _ = torch.max(edge_attr[edge_pairs], 1)\n",
    "            \n",
    "        #apply a classifier to the edge attrs\n",
    "        pooled_edge_attr = self.edge_class_mlp(pooled_edge_attr)\n",
    "#         edge_attr = self.edge_class_mlp(edge_attr)\n",
    "#         print('edge_attr', edge_attr)\n",
    "#         print('F.log_softmax(edge_attr, dim=1)', F.log_softmax(edge_attr, dim=1))\n",
    "\n",
    "#         return F.log_softmax(edge_attr, dim=1)\n",
    "        return F.log_softmax(pooled_edge_attr, dim=1)\n",
    "    \n"
   ]
  },
  {
   "cell_type": "code",
   "execution_count": 321,
   "metadata": {
    "collapsed": true
   },
   "outputs": [
    {
     "name": "stdout",
     "output_type": "stream",
     "text": [
      "edge_embed_lin1.weight Parameter containing:\n",
      "tensor([[-6.4870e-02,  4.4336e-02, -3.2571e-02, -6.2549e-02,  9.8530e-02,\n",
      "         -2.8671e-02,  9.5439e-03, -7.6008e-02, -1.4263e-02,  6.3757e-02,\n",
      "          4.7334e-03, -8.5739e-02, -6.7421e-02,  6.8137e-02, -1.8460e-02,\n",
      "          9.0029e-02, -9.3973e-02, -2.6353e-03,  7.5395e-02, -8.1714e-02,\n",
      "          6.0861e-02,  4.3431e-02, -1.7476e-02, -9.2778e-02,  3.1284e-02,\n",
      "          9.4152e-03, -5.4876e-02,  7.9130e-02,  1.3875e-02, -1.9970e-02,\n",
      "         -5.9246e-02, -5.2279e-03,  9.2258e-02,  7.2753e-02,  2.1326e-03,\n",
      "          2.7476e-03, -5.7406e-02,  6.8534e-02, -5.6655e-02,  5.0473e-03,\n",
      "         -3.1600e-02,  1.2532e-03, -6.9403e-02,  3.3373e-02, -8.7644e-02,\n",
      "         -8.3128e-02,  2.6369e-03,  7.6519e-02, -3.8008e-02,  9.0572e-02,\n",
      "          5.3714e-02,  9.6522e-02,  8.6662e-02, -7.6621e-02, -4.9385e-02,\n",
      "         -5.6974e-02, -5.1905e-02,  7.0429e-02,  7.5187e-02, -6.6306e-02,\n",
      "         -4.3180e-02, -3.3129e-02, -4.8157e-02, -2.0811e-02, -6.8664e-02,\n",
      "         -7.9801e-02,  8.5147e-02, -1.0243e-01, -1.0135e-01, -8.4494e-02,\n",
      "         -2.4791e-02, -3.2929e-02, -8.1693e-02, -9.6332e-02, -1.0223e-02,\n",
      "          3.7899e-02, -4.1274e-02, -2.0569e-03, -1.2660e-03, -7.9757e-02,\n",
      "         -8.9969e-02,  9.1682e-02, -1.0817e-03, -7.9640e-02, -1.5419e-02,\n",
      "          2.2538e-02,  4.9589e-02, -6.0243e-02,  8.8268e-02, -1.1256e-02,\n",
      "          6.6730e-02,  1.0300e-01, -6.1109e-03],\n",
      "        [-5.4127e-02,  7.9232e-02, -5.3967e-03,  4.7700e-02,  2.7922e-02,\n",
      "          3.5667e-02,  5.6348e-03, -2.0055e-02,  8.7374e-02, -7.7998e-02,\n",
      "         -6.1204e-02,  4.3750e-02, -7.4152e-02, -9.3262e-02,  2.4668e-02,\n",
      "          9.6222e-02,  4.5586e-02, -9.8248e-02, -3.1728e-02,  2.7068e-02,\n",
      "          9.6321e-02,  2.0956e-02,  3.9341e-04,  1.4511e-02, -8.0345e-02,\n",
      "         -1.3887e-02, -2.3156e-02,  2.1765e-02,  4.5267e-02, -5.5320e-02,\n",
      "         -7.5439e-02, -1.6822e-03, -6.3057e-02,  7.2624e-03,  4.0406e-02,\n",
      "         -6.3908e-02,  6.9075e-02,  8.0389e-02, -6.3439e-02,  6.4749e-02,\n",
      "          4.6446e-02,  4.5935e-02,  5.5770e-02,  7.2598e-02,  6.3516e-02,\n",
      "         -4.8276e-02, -6.3429e-02,  8.2491e-02,  7.1554e-02,  3.1511e-02,\n",
      "          4.2511e-02,  5.5311e-02,  5.7548e-02,  7.2046e-02, -1.6739e-02,\n",
      "          1.1874e-02,  4.9374e-02, -5.8241e-02, -3.3908e-02,  2.7005e-02,\n",
      "         -8.9252e-02,  1.7054e-02, -5.3432e-02,  9.8162e-02, -1.0145e-01,\n",
      "         -7.0873e-02,  9.5306e-03,  8.0193e-02,  9.5371e-02,  8.5616e-02,\n",
      "          4.9533e-02, -6.7283e-02,  6.8439e-02,  2.7906e-02, -7.1295e-02,\n",
      "          1.7560e-02,  2.5821e-02,  8.1126e-02,  5.6494e-02, -5.5423e-02,\n",
      "         -2.6499e-02,  8.2789e-02, -2.0068e-02, -2.3426e-02,  9.5914e-02,\n",
      "          9.8571e-02, -3.7550e-02, -6.7373e-02, -2.6709e-02,  1.1685e-02,\n",
      "          6.6784e-02, -2.3892e-02, -9.6070e-03],\n",
      "        [-7.0719e-02,  2.4728e-03, -5.0003e-02, -7.7210e-02,  6.4924e-05,\n",
      "         -7.8320e-02,  5.7923e-02, -1.8991e-02, -9.2070e-02, -4.9302e-04,\n",
      "          7.0432e-02, -4.2062e-02, -6.4005e-02,  4.5285e-02, -1.7391e-02,\n",
      "          5.9351e-02, -1.3903e-02,  1.0723e-02,  9.0239e-03, -2.6324e-02,\n",
      "         -9.8912e-02, -4.6543e-02,  1.3572e-02, -7.2502e-02, -5.5843e-02,\n",
      "         -2.9819e-02,  5.1817e-02, -6.4943e-03, -5.4774e-02,  6.1670e-02,\n",
      "          2.7762e-03,  8.1747e-02, -5.9677e-02, -3.9786e-02,  4.6467e-02,\n",
      "          9.1849e-02,  3.3119e-02, -2.6244e-02,  5.0218e-02,  8.7405e-02,\n",
      "         -1.0200e-01,  7.7932e-02,  5.1526e-02,  9.0438e-02, -3.2383e-02,\n",
      "         -2.7839e-02, -5.6207e-02,  9.1015e-02, -4.2746e-02, -8.2932e-02,\n",
      "         -6.3121e-02, -3.7584e-02, -1.3152e-02, -7.8502e-02,  7.8332e-02,\n",
      "         -9.7925e-02,  1.3340e-02, -4.3858e-03, -3.4223e-02,  2.8876e-02,\n",
      "         -1.3157e-02, -1.0345e-01,  7.3437e-02,  9.1286e-02,  6.8511e-02,\n",
      "          7.6681e-02, -3.5700e-02, -2.4481e-02,  8.2531e-02, -2.1164e-02,\n",
      "         -2.7344e-02, -6.5387e-02, -3.4551e-03, -6.6068e-02, -3.3356e-02,\n",
      "         -7.2439e-02,  4.2800e-02, -9.2202e-02,  7.6414e-02, -5.2642e-02,\n",
      "          3.5278e-05, -5.8148e-02, -9.2829e-02, -2.5721e-02, -9.1012e-02,\n",
      "         -9.5180e-02,  2.5061e-02,  9.6778e-02,  4.8547e-02, -8.2270e-02,\n",
      "         -4.3586e-02,  9.6115e-02, -2.2440e-02],\n",
      "        [ 1.9995e-02, -1.4725e-02, -8.8270e-02,  7.0616e-02, -1.6213e-02,\n",
      "         -8.7753e-02,  1.3356e-03, -1.0180e-01,  1.7137e-02, -4.1363e-02,\n",
      "         -6.4320e-02, -1.6214e-02, -1.8699e-02, -5.4539e-02, -1.2560e-02,\n",
      "         -7.7164e-03,  8.8132e-02, -7.3003e-03, -5.7632e-02,  6.6790e-02,\n",
      "         -3.0438e-02,  3.4321e-02, -5.0396e-03, -6.8959e-02, -8.1043e-02,\n",
      "          1.5433e-02, -3.5107e-02,  2.6416e-02,  7.7812e-02, -1.8774e-02,\n",
      "          9.5011e-02,  7.9445e-03,  2.8203e-02, -7.0195e-02, -2.0221e-02,\n",
      "         -8.1245e-03, -5.5528e-02,  8.3042e-03, -6.4348e-02,  3.7050e-02,\n",
      "          1.9235e-02, -6.9702e-02, -1.3185e-02, -2.8861e-02, -9.8008e-02,\n",
      "          4.2744e-02, -6.2810e-02,  6.9536e-02, -4.3633e-02, -4.8000e-02,\n",
      "         -9.2073e-02,  1.7614e-02, -6.6056e-03,  1.4190e-02, -2.7720e-03,\n",
      "          6.2596e-02, -2.2169e-03, -4.5378e-02, -6.8073e-02, -1.6955e-02,\n",
      "         -5.8564e-02, -5.5925e-03, -4.0106e-02,  6.2190e-02, -4.8953e-02,\n",
      "          1.0034e-01, -2.9179e-02,  3.3730e-02,  8.7991e-05,  4.0784e-02,\n",
      "         -6.6316e-02, -8.5006e-02,  7.7966e-02,  5.3480e-02,  6.7321e-02,\n",
      "         -9.8711e-02, -1.1259e-03, -3.0477e-02, -3.1582e-02,  8.7632e-02,\n",
      "          8.8708e-02, -5.1327e-03, -8.0523e-02,  6.5840e-02,  4.7867e-02,\n",
      "         -8.7936e-02,  1.0009e-01, -8.1391e-02,  3.7255e-02, -4.8121e-02,\n",
      "         -1.4424e-02, -1.2067e-02,  4.3350e-02],\n",
      "        [ 6.7040e-02,  1.0156e-01, -5.7391e-02,  5.9369e-02,  4.1464e-02,\n",
      "          1.8963e-02, -3.1680e-02, -9.9552e-02, -2.1431e-02,  3.0105e-04,\n",
      "          5.0319e-02,  5.3280e-02, -6.0852e-02,  9.7998e-02,  7.0850e-02,\n",
      "          3.8904e-02,  2.6162e-02,  4.2014e-02, -1.5581e-02,  6.2162e-02,\n",
      "         -6.8859e-02,  5.8450e-02,  2.8108e-02,  8.2606e-02,  6.8399e-02,\n",
      "          4.3092e-02,  4.3952e-02,  8.7451e-02, -8.4072e-02, -4.6712e-02,\n",
      "         -4.9297e-02,  5.0482e-02, -6.3368e-02,  1.1628e-03,  5.1067e-02,\n",
      "          5.3435e-02, -5.5868e-02,  2.1815e-02,  6.9762e-02, -8.5796e-02,\n",
      "         -6.5769e-02, -8.6055e-03,  4.5131e-03,  2.2297e-02, -8.3645e-02,\n",
      "         -7.1613e-02,  6.9313e-02,  3.6035e-02,  1.0103e-01,  6.2057e-02,\n",
      "         -9.0199e-02,  1.0920e-02, -8.8759e-02,  4.9955e-02, -1.0304e-01,\n",
      "         -5.7321e-02,  5.8410e-02,  3.5610e-02, -1.6614e-02, -2.8844e-02,\n",
      "          6.9391e-02,  6.3300e-02, -7.2370e-02, -1.7595e-02, -8.6317e-02,\n",
      "         -8.8933e-02,  4.7331e-02,  8.4281e-02,  9.7831e-02,  2.4028e-02,\n",
      "          4.2232e-02,  4.7221e-02, -1.3754e-02,  8.7889e-02, -2.9459e-02,\n",
      "         -2.9345e-02, -2.6615e-02, -5.1078e-02,  3.1941e-02,  8.8262e-03,\n",
      "         -4.1390e-02,  5.0505e-02,  7.6500e-02,  8.0385e-02, -2.9260e-03,\n",
      "          3.9238e-02,  2.8066e-02,  2.3172e-02, -7.0412e-02, -1.7177e-02,\n",
      "          5.5725e-02,  8.0238e-03,  6.9945e-02],\n",
      "        [ 2.2119e-02, -9.7181e-02,  4.7633e-02, -1.5949e-02,  1.0272e-01,\n",
      "          9.3152e-02, -5.2493e-03, -4.4720e-02,  5.3398e-03, -7.1085e-02,\n",
      "         -4.9117e-03, -9.2066e-02, -1.2155e-02,  4.5307e-02,  9.0666e-02,\n",
      "          4.8799e-03, -5.8884e-02,  5.0987e-02,  7.8510e-02,  9.0443e-02,\n",
      "         -4.4794e-02, -8.2166e-02, -6.9977e-02, -9.4018e-02,  7.1906e-02,\n",
      "         -3.0009e-02,  4.1752e-02, -9.8106e-02, -1.0369e-01, -4.3541e-02,\n",
      "          5.8182e-02,  9.3716e-02, -5.4262e-03, -7.8072e-02,  3.7008e-02,\n",
      "         -1.0088e-01, -5.3818e-02,  3.1208e-02, -1.7294e-02,  3.8817e-02,\n",
      "         -6.0876e-02,  8.0203e-02, -8.0123e-02, -7.8941e-02,  1.5097e-02,\n",
      "         -8.3832e-02, -9.2277e-02,  9.6866e-02, -2.4765e-02, -9.4428e-02,\n",
      "          9.6903e-02, -7.0493e-02,  9.9551e-03, -7.1811e-02,  2.7812e-02,\n",
      "          5.6386e-02,  2.1570e-02, -5.2274e-02, -7.7812e-02, -2.7009e-02,\n",
      "          1.6264e-03,  6.4038e-02, -2.7383e-02,  2.8862e-03, -7.7866e-02,\n",
      "          8.7589e-03,  8.7262e-02,  1.8487e-02,  9.9299e-02,  3.4823e-02,\n",
      "          1.0298e-01, -6.2137e-02,  5.3401e-02,  5.8671e-02,  5.3103e-03,\n",
      "          8.1868e-02, -8.9395e-02,  5.8225e-02, -7.3710e-02,  3.3786e-02,\n",
      "          5.6232e-02, -5.7026e-02,  4.6843e-02,  1.5710e-02,  3.5346e-02,\n",
      "         -1.8565e-02, -1.5504e-02,  8.3385e-02,  1.0202e-01, -8.9156e-02,\n",
      "         -9.3369e-03, -1.6691e-02,  5.5198e-02],\n",
      "        [ 9.4249e-02,  2.9273e-02,  1.4975e-02,  7.0207e-02, -6.6728e-02,\n",
      "         -5.1835e-02,  2.3897e-02, -7.8826e-02, -1.3375e-02, -2.1384e-02,\n",
      "          8.4187e-02,  7.9211e-02, -4.0759e-02,  3.4287e-02, -9.0641e-02,\n",
      "          1.0033e-01, -9.1819e-02,  4.3782e-02, -1.0126e-01, -4.1645e-02,\n",
      "         -6.0425e-02, -2.0494e-02,  9.3228e-02,  8.5527e-02, -9.1903e-02,\n",
      "         -1.1759e-02,  8.0987e-02,  7.4059e-02,  4.3113e-02,  2.2205e-03,\n",
      "          8.4796e-02,  7.9134e-02, -8.9258e-02, -1.4474e-02, -6.3652e-02,\n",
      "          4.6948e-02, -8.0525e-02,  5.9393e-02, -3.1408e-02, -2.9313e-02,\n",
      "          7.5299e-02, -3.8791e-02,  9.4284e-02, -6.9520e-02, -9.8028e-03,\n",
      "          7.6495e-02, -9.3436e-02, -5.0696e-02, -8.8998e-02, -1.0312e-01,\n",
      "          2.5498e-02,  4.2073e-02,  4.9984e-02,  7.5573e-02, -2.1876e-02,\n",
      "          6.2231e-02, -3.7881e-02, -2.7009e-03, -4.0804e-02,  5.8726e-02,\n",
      "         -6.8951e-02,  9.0344e-02, -9.9573e-02,  4.9253e-02,  3.8210e-02,\n",
      "          9.2924e-02, -3.2192e-02, -5.4290e-02, -4.3012e-02,  2.1101e-02,\n",
      "         -6.2457e-02,  8.6714e-02,  6.7653e-02,  1.0665e-02, -7.6930e-02,\n",
      "          2.5920e-02,  3.6780e-02, -4.6081e-02,  1.1601e-02,  8.1507e-02,\n",
      "          2.5423e-02, -4.0604e-02, -3.4185e-02,  1.0211e-01, -9.0160e-02,\n",
      "         -4.7658e-02, -2.6072e-02, -5.8134e-02,  8.2891e-02, -7.3389e-02,\n",
      "          7.0574e-02,  9.7549e-02, -7.8097e-02],\n",
      "        [ 6.8848e-04,  8.6725e-02,  1.5431e-02,  6.8492e-02, -4.2370e-02,\n",
      "         -2.7959e-02,  3.6896e-02,  3.8385e-02,  2.2148e-02,  3.7038e-02,\n",
      "         -5.1425e-02, -7.4412e-02, -3.5667e-02, -8.6932e-03,  5.7427e-02,\n",
      "          9.7534e-03,  7.4319e-03, -7.6682e-02,  1.0281e-01,  9.6108e-02,\n",
      "         -2.3353e-02,  9.9324e-02, -1.5689e-02,  8.8238e-02, -7.5899e-02,\n",
      "          6.9990e-02, -4.7799e-02, -5.4363e-02, -5.2250e-02,  4.4445e-02,\n",
      "          7.1648e-02, -9.5902e-02, -3.7278e-02, -3.2913e-02, -4.2520e-02,\n",
      "          9.1319e-02, -5.7546e-02, -3.2802e-02,  1.6848e-02, -9.0198e-02,\n",
      "         -4.2678e-02,  3.5732e-03, -8.9495e-02,  3.3193e-02, -4.1417e-02,\n",
      "          8.7879e-02,  7.7594e-02,  7.1210e-02, -1.2273e-03, -8.7123e-02,\n",
      "         -7.4139e-02,  1.0235e-01, -4.5623e-02,  8.8965e-02,  2.2227e-02,\n",
      "         -1.6311e-03,  2.7177e-02, -8.0395e-02,  7.3861e-02, -4.7953e-03,\n",
      "          9.5422e-02, -3.2361e-02, -8.5174e-02, -2.0138e-02, -1.0112e-01,\n",
      "          4.8209e-02,  6.0037e-02,  7.2693e-03, -8.8829e-02, -8.6868e-02,\n",
      "         -6.4478e-02, -5.5573e-02,  8.8252e-02, -6.1645e-02, -2.8863e-02,\n",
      "         -1.9619e-02,  7.6820e-02, -5.4269e-02,  9.4490e-03,  2.4142e-02,\n",
      "         -6.0240e-02,  8.2090e-02, -5.2282e-02, -3.4635e-02, -8.2962e-02,\n",
      "         -2.9004e-02,  6.9856e-02, -2.7624e-02,  7.7741e-02,  2.3109e-02,\n",
      "          5.7076e-02,  5.0892e-02, -4.4293e-02],\n",
      "        [ 4.1518e-03, -5.1185e-02, -1.2944e-02, -1.6053e-02, -7.2105e-03,\n",
      "         -4.0792e-02,  9.6747e-02,  2.2526e-02, -8.0109e-02,  9.9915e-02,\n",
      "         -1.0271e-01,  4.8196e-02, -5.4347e-02, -2.8997e-02, -4.6856e-02,\n",
      "          6.0026e-02, -8.2691e-02,  2.6448e-02, -4.8879e-02,  8.6009e-02,\n",
      "          2.0626e-02,  2.3064e-02, -5.5266e-02,  3.7548e-02,  1.0053e-01,\n",
      "         -5.0461e-03,  1.0181e-01, -1.0034e-01,  3.9989e-02, -6.8743e-02,\n",
      "          4.3710e-02,  2.7528e-03, -6.2015e-04,  7.6217e-02, -6.3758e-02,\n",
      "         -7.1909e-02, -1.0297e-01,  9.4266e-02,  3.4935e-02, -8.2228e-02,\n",
      "         -1.0971e-02, -4.1997e-02,  2.5049e-02, -7.2884e-02, -7.5691e-02,\n",
      "          6.2843e-02,  7.7950e-02, -2.1442e-02,  2.6812e-02,  4.7098e-02,\n",
      "          4.2860e-02, -6.4922e-02, -2.0607e-03, -9.3007e-02, -6.1647e-03,\n",
      "         -3.4150e-02, -4.6779e-02,  1.7209e-02,  2.4135e-02, -1.1209e-02,\n",
      "          9.0577e-02,  1.0142e-02,  1.5778e-02,  4.7040e-02,  9.3389e-02,\n",
      "         -3.4477e-02,  4.4937e-02, -2.7683e-02, -6.7558e-02, -2.9234e-02,\n",
      "         -8.6494e-02,  9.3945e-02, -3.4770e-02, -1.7052e-02,  3.5567e-02,\n",
      "         -9.7007e-02, -8.6889e-02, -2.0531e-02, -1.4194e-03,  8.4474e-03,\n",
      "         -8.3675e-02, -7.9334e-02, -4.7280e-02,  4.8190e-02, -1.1521e-02,\n",
      "         -6.9540e-03, -6.3149e-02,  6.1338e-02,  5.3061e-02,  5.1187e-02,\n",
      "         -7.2809e-02,  6.2717e-02,  4.3997e-02],\n",
      "        [ 5.8079e-03, -5.9216e-02, -1.0229e-01, -9.2193e-02,  5.3046e-02,\n",
      "          9.4260e-02,  1.0113e-01,  6.3741e-02,  6.1195e-02, -1.2586e-02,\n",
      "          4.0147e-02,  5.3993e-02,  1.5060e-02,  1.6279e-02, -6.8046e-02,\n",
      "          9.5417e-02, -6.3800e-02,  5.2263e-02, -7.7623e-02, -7.7735e-02,\n",
      "         -2.6784e-02, -1.0849e-02,  2.5568e-02,  4.5416e-02,  6.5948e-02,\n",
      "          1.0083e-01,  7.1627e-02,  8.8144e-02, -9.2494e-02, -6.5542e-02,\n",
      "          8.7221e-02, -5.3334e-02, -7.8623e-02, -5.8188e-02,  5.4068e-02,\n",
      "          4.6201e-03,  3.7066e-02, -6.2228e-02, -9.0697e-02,  5.2109e-03,\n",
      "          6.3862e-02,  3.9397e-02,  2.5733e-02, -9.6032e-02, -8.5757e-03,\n",
      "         -5.4795e-02, -9.1593e-02,  3.3908e-02,  4.9060e-02, -4.0384e-02,\n",
      "         -3.6434e-02, -7.1072e-02,  1.8698e-02,  7.8101e-02,  3.3344e-02,\n",
      "          3.7588e-02, -2.6681e-02, -3.9276e-02,  3.2009e-02,  3.3279e-02,\n",
      "         -1.4652e-03,  7.6452e-02, -2.3725e-02,  2.4082e-02, -1.4359e-02,\n",
      "         -9.8523e-02, -4.1673e-03,  2.8024e-02, -2.4003e-02, -8.6508e-02,\n",
      "          5.2783e-02, -8.6910e-02,  3.5767e-02,  3.3446e-03, -3.7806e-02,\n",
      "          4.4537e-02,  4.0143e-02, -5.3056e-02,  1.2664e-03,  4.8880e-02,\n",
      "          4.4140e-02, -2.3983e-02,  1.0317e-01,  1.0304e-01, -6.1477e-02,\n",
      "         -7.6293e-02, -7.1129e-02,  7.1338e-02,  3.4885e-02,  4.1599e-02,\n"
     ]
    },
    {
     "name": "stdout",
     "output_type": "stream",
     "text": [
      "          8.2187e-02,  9.5281e-02, -9.6548e-02]], requires_grad=True)\n",
      "\n",
      "edge_embed_lin1.bias Parameter containing:\n",
      "tensor([ 0.0688, -0.0518, -0.0066, -0.0218,  0.0649, -0.0604, -0.0170,  0.0343,\n",
      "         0.0757,  0.0550], requires_grad=True)\n",
      "\n",
      "edge_embed_mlp.1.weight Parameter containing:\n",
      "tensor([1., 1., 1., 1., 1., 1., 1., 1., 1., 1., 1., 1., 1., 1., 1., 1., 1., 1.,\n",
      "        1., 1.], requires_grad=True)\n",
      "\n",
      "edge_embed_mlp.1.bias Parameter containing:\n",
      "tensor([0., 0., 0., 0., 0., 0., 0., 0., 0., 0., 0., 0., 0., 0., 0., 0., 0., 0., 0., 0.],\n",
      "       requires_grad=True)\n",
      "\n",
      "edge_class_lin1.weight Parameter containing:\n",
      "tensor([[ 0.2230, -0.2954, -0.0107,  0.0222, -0.2885,  0.0094, -0.2086,  0.2803,\n",
      "          0.2172,  0.1677],\n",
      "        [ 0.0286,  0.2308,  0.0320, -0.2073,  0.2130, -0.0627, -0.0546,  0.0322,\n",
      "          0.0759, -0.1011]], requires_grad=True)\n",
      "\n",
      "edge_class_lin1.bias Parameter containing:\n",
      "tensor([-0.1946, -0.0809], requires_grad=True)\n",
      "\n"
     ]
    }
   ],
   "source": [
    "model = Net(node_features, edge_features)\n",
    "model.named_parameters\n",
    "for n, p in model.named_parameters():\n",
    "    print(n, p)\n",
    "    print('')"
   ]
  },
  {
   "cell_type": "code",
   "execution_count": null,
   "metadata": {},
   "outputs": [
    {
     "name": "stderr",
     "output_type": "stream",
     "text": [
      "C:\\Users\\andy.knapper\\AppData\\Local\\Continuum\\anaconda3\\lib\\site-packages\\ipykernel_launcher.py:3: UserWarning: nn.init.xavier_uniform is now deprecated in favor of nn.init.xavier_uniform_.\n",
      "  This is separate from the ipykernel package so we can avoid doing imports until\n"
     ]
    },
    {
     "name": "stdout",
     "output_type": "stream",
     "text": [
      "Let's use 1 GPU(s)!\n",
      "loss at iteration  0  is  tensor(0.5362, device='cuda:0', grad_fn=<NllLossBackward>)\n",
      "loss at iteration  1  is  tensor(0.0975, device='cuda:0', grad_fn=<NllLossBackward>)\n",
      "loss at iteration  2  is  tensor(0.0154, device='cuda:0', grad_fn=<NllLossBackward>)\n",
      "loss at iteration  3  is  tensor(0.0029, device='cuda:0', grad_fn=<NllLossBackward>)\n",
      "loss at iteration  4  is  tensor(0.0006, device='cuda:0', grad_fn=<NllLossBackward>)\n",
      "loss at iteration  5  is  tensor(0.0001, device='cuda:0', grad_fn=<NllLossBackward>)\n",
      "loss at iteration  6  is  tensor(2.9922e-05, device='cuda:0', grad_fn=<NllLossBackward>)\n",
      "loss at iteration  7  is  tensor(7.9870e-06, device='cuda:0', grad_fn=<NllLossBackward>)\n",
      "loss at iteration  8  is  tensor(2.3842e-06, device='cuda:0', grad_fn=<NllLossBackward>)\n",
      "loss at iteration  9  is  tensor(7.1526e-07, device='cuda:0', grad_fn=<NllLossBackward>)\n",
      "loss at iteration  10  is  tensor(0., device='cuda:0', grad_fn=<NllLossBackward>)\n",
      "loss at iteration  11  is  tensor(0., device='cuda:0', grad_fn=<NllLossBackward>)\n",
      "loss at iteration  12  is  tensor(0., device='cuda:0', grad_fn=<NllLossBackward>)\n",
      "loss at iteration  13  is  tensor(0., device='cuda:0', grad_fn=<NllLossBackward>)\n",
      "loss at iteration  14  is  tensor(0., device='cuda:0', grad_fn=<NllLossBackward>)\n",
      "loss at iteration  15  is  tensor(0., device='cuda:0', grad_fn=<NllLossBackward>)\n",
      "loss at iteration  16  is  tensor(0., device='cuda:0', grad_fn=<NllLossBackward>)\n",
      "loss at iteration  17  is  tensor(0., device='cuda:0', grad_fn=<NllLossBackward>)\n",
      "loss at iteration  18  is  tensor(0., device='cuda:0', grad_fn=<NllLossBackward>)\n",
      "loss at iteration  19  is  tensor(0., device='cuda:0', grad_fn=<NllLossBackward>)\n",
      "loss at iteration  20  is  tensor(0., device='cuda:0', grad_fn=<NllLossBackward>)\n",
      "loss at iteration  21  is  tensor(0., device='cuda:0', grad_fn=<NllLossBackward>)\n",
      "loss at iteration  22  is  tensor(0., device='cuda:0', grad_fn=<NllLossBackward>)\n",
      "loss at iteration  23  is  tensor(0., device='cuda:0', grad_fn=<NllLossBackward>)\n",
      "loss at iteration  24  is  tensor(0., device='cuda:0', grad_fn=<NllLossBackward>)\n",
      "loss at iteration  25  is  tensor(0., device='cuda:0', grad_fn=<NllLossBackward>)\n",
      "loss at iteration  26  is  tensor(0., device='cuda:0', grad_fn=<NllLossBackward>)\n",
      "loss at iteration  27  is  tensor(0., device='cuda:0', grad_fn=<NllLossBackward>)\n",
      "loss at iteration  28  is  tensor(0., device='cuda:0', grad_fn=<NllLossBackward>)\n",
      "loss at iteration  29  is  tensor(0., device='cuda:0', grad_fn=<NllLossBackward>)\n",
      "loss at iteration  30  is  tensor(0., device='cuda:0', grad_fn=<NllLossBackward>)\n",
      "loss at iteration  31  is  tensor(0., device='cuda:0', grad_fn=<NllLossBackward>)\n",
      "loss at iteration  32  is  tensor(0., device='cuda:0', grad_fn=<NllLossBackward>)\n",
      "loss at iteration  33  is  tensor(0., device='cuda:0', grad_fn=<NllLossBackward>)\n",
      "loss at iteration  34  is  tensor(0., device='cuda:0', grad_fn=<NllLossBackward>)\n",
      "loss at iteration  35  is  tensor(0., device='cuda:0', grad_fn=<NllLossBackward>)\n",
      "loss at iteration  36  is  tensor(0., device='cuda:0', grad_fn=<NllLossBackward>)\n",
      "loss at iteration  37  is  tensor(0., device='cuda:0', grad_fn=<NllLossBackward>)\n",
      "loss at iteration  38  is  tensor(0., device='cuda:0', grad_fn=<NllLossBackward>)\n",
      "loss at iteration  39  is  tensor(0., device='cuda:0', grad_fn=<NllLossBackward>)\n",
      "loss at iteration  40  is  tensor(0., device='cuda:0', grad_fn=<NllLossBackward>)\n",
      "loss at iteration  41  is  tensor(0., device='cuda:0', grad_fn=<NllLossBackward>)\n",
      "loss at iteration  42  is  tensor(0., device='cuda:0', grad_fn=<NllLossBackward>)\n",
      "loss at iteration  43  is  tensor(0., device='cuda:0', grad_fn=<NllLossBackward>)\n",
      "loss at iteration  44  is  tensor(0., device='cuda:0', grad_fn=<NllLossBackward>)\n",
      "loss at iteration  45  is  tensor(0., device='cuda:0', grad_fn=<NllLossBackward>)\n",
      "loss at iteration  46  is  tensor(0., device='cuda:0', grad_fn=<NllLossBackward>)\n",
      "loss at iteration  47  is  tensor(0., device='cuda:0', grad_fn=<NllLossBackward>)\n",
      "loss at iteration  48  is  tensor(0., device='cuda:0', grad_fn=<NllLossBackward>)\n",
      "loss at iteration  49  is  tensor(0., device='cuda:0', grad_fn=<NllLossBackward>)\n",
      "loss at iteration  50  is  tensor(0., device='cuda:0', grad_fn=<NllLossBackward>)\n",
      "loss at iteration  51  is  tensor(0., device='cuda:0', grad_fn=<NllLossBackward>)\n",
      "loss at iteration  52  is  tensor(0., device='cuda:0', grad_fn=<NllLossBackward>)\n",
      "loss at iteration  53  is  tensor(0., device='cuda:0', grad_fn=<NllLossBackward>)\n",
      "loss at iteration  54  is  tensor(0., device='cuda:0', grad_fn=<NllLossBackward>)\n",
      "loss at iteration  55  is  tensor(0., device='cuda:0', grad_fn=<NllLossBackward>)\n",
      "loss at iteration  56  is  tensor(0., device='cuda:0', grad_fn=<NllLossBackward>)\n",
      "loss at iteration  57  is  tensor(0., device='cuda:0', grad_fn=<NllLossBackward>)\n",
      "loss at iteration  58  is  tensor(0., device='cuda:0', grad_fn=<NllLossBackward>)\n",
      "loss at iteration  59  is  tensor(0., device='cuda:0', grad_fn=<NllLossBackward>)\n",
      "loss at iteration  60  is  tensor(0., device='cuda:0', grad_fn=<NllLossBackward>)\n",
      "loss at iteration  61  is  tensor(0., device='cuda:0', grad_fn=<NllLossBackward>)\n",
      "loss at iteration  62  is  tensor(0., device='cuda:0', grad_fn=<NllLossBackward>)\n",
      "loss at iteration  63  is  tensor(0., device='cuda:0', grad_fn=<NllLossBackward>)\n",
      "loss at iteration  64  is  tensor(0., device='cuda:0', grad_fn=<NllLossBackward>)\n",
      "loss at iteration  65  is  tensor(0., device='cuda:0', grad_fn=<NllLossBackward>)\n",
      "loss at iteration  66  is  tensor(0., device='cuda:0', grad_fn=<NllLossBackward>)\n",
      "loss at iteration  67  is  tensor(0., device='cuda:0', grad_fn=<NllLossBackward>)\n",
      "loss at iteration  68  is  tensor(0., device='cuda:0', grad_fn=<NllLossBackward>)\n",
      "loss at iteration  69  is  tensor(0., device='cuda:0', grad_fn=<NllLossBackward>)\n",
      "loss at iteration  70  is  tensor(0., device='cuda:0', grad_fn=<NllLossBackward>)\n",
      "loss at iteration  71  is  tensor(0., device='cuda:0', grad_fn=<NllLossBackward>)\n",
      "loss at iteration  72  is  tensor(0., device='cuda:0', grad_fn=<NllLossBackward>)\n",
      "loss at iteration  73  is  tensor(0., device='cuda:0', grad_fn=<NllLossBackward>)\n",
      "loss at iteration  74  is  tensor(0., device='cuda:0', grad_fn=<NllLossBackward>)\n",
      "loss at iteration  75  is  tensor(0., device='cuda:0', grad_fn=<NllLossBackward>)\n",
      "loss at iteration  76  is  tensor(0., device='cuda:0', grad_fn=<NllLossBackward>)\n",
      "loss at iteration  77  is  tensor(0., device='cuda:0', grad_fn=<NllLossBackward>)\n",
      "loss at iteration  78  is  tensor(0., device='cuda:0', grad_fn=<NllLossBackward>)\n",
      "loss at iteration  79  is  tensor(0., device='cuda:0', grad_fn=<NllLossBackward>)\n",
      "loss at iteration  80  is  tensor(0., device='cuda:0', grad_fn=<NllLossBackward>)\n",
      "loss at iteration  81  is  tensor(0., device='cuda:0', grad_fn=<NllLossBackward>)\n",
      "loss at iteration  82  is  tensor(0., device='cuda:0', grad_fn=<NllLossBackward>)\n",
      "loss at iteration  83  is  tensor(0., device='cuda:0', grad_fn=<NllLossBackward>)\n",
      "loss at iteration  84  is  tensor(0., device='cuda:0', grad_fn=<NllLossBackward>)\n",
      "loss at iteration  85  is  tensor(0., device='cuda:0', grad_fn=<NllLossBackward>)\n",
      "loss at iteration  86  is  tensor(0., device='cuda:0', grad_fn=<NllLossBackward>)\n",
      "loss at iteration  87  is  tensor(0., device='cuda:0', grad_fn=<NllLossBackward>)\n",
      "loss at iteration  88  is  tensor(0., device='cuda:0', grad_fn=<NllLossBackward>)\n",
      "loss at iteration  89  is  tensor(0., device='cuda:0', grad_fn=<NllLossBackward>)\n",
      "loss at iteration  90  is  tensor(0., device='cuda:0', grad_fn=<NllLossBackward>)\n",
      "loss at iteration  91  is  tensor(0., device='cuda:0', grad_fn=<NllLossBackward>)\n",
      "loss at iteration  92  is  tensor(0., device='cuda:0', grad_fn=<NllLossBackward>)\n",
      "loss at iteration  93  is  tensor(0., device='cuda:0', grad_fn=<NllLossBackward>)\n",
      "loss at iteration  94  is  tensor(0., device='cuda:0', grad_fn=<NllLossBackward>)\n",
      "loss at iteration  95  is  tensor(0., device='cuda:0', grad_fn=<NllLossBackward>)\n",
      "loss at iteration  96  is  tensor(0., device='cuda:0', grad_fn=<NllLossBackward>)\n",
      "loss at iteration  97  is  tensor(0., device='cuda:0', grad_fn=<NllLossBackward>)\n",
      "loss at iteration  98  is  tensor(0., device='cuda:0', grad_fn=<NllLossBackward>)\n"
     ]
    },
    {
     "name": "stdout",
     "output_type": "stream",
     "text": [
      "loss at iteration  99  is  tensor(0., device='cuda:0', grad_fn=<NllLossBackward>)\n",
      "loss at iteration  100  is  tensor(0., device='cuda:0', grad_fn=<NllLossBackward>)\n",
      "loss at iteration  101  is  tensor(0., device='cuda:0', grad_fn=<NllLossBackward>)\n",
      "loss at iteration  102  is  tensor(0., device='cuda:0', grad_fn=<NllLossBackward>)\n",
      "loss at iteration  103  is  tensor(0., device='cuda:0', grad_fn=<NllLossBackward>)\n",
      "loss at iteration  104  is  tensor(0., device='cuda:0', grad_fn=<NllLossBackward>)\n",
      "loss at iteration  105  is  tensor(0., device='cuda:0', grad_fn=<NllLossBackward>)\n",
      "loss at iteration  106  is  tensor(0., device='cuda:0', grad_fn=<NllLossBackward>)\n",
      "loss at iteration  107  is  tensor(0., device='cuda:0', grad_fn=<NllLossBackward>)\n",
      "loss at iteration  108  is  tensor(0., device='cuda:0', grad_fn=<NllLossBackward>)\n",
      "loss at iteration  109  is  tensor(0., device='cuda:0', grad_fn=<NllLossBackward>)\n",
      "loss at iteration  110  is  tensor(0., device='cuda:0', grad_fn=<NllLossBackward>)\n",
      "loss at iteration  111  is  tensor(0., device='cuda:0', grad_fn=<NllLossBackward>)\n",
      "loss at iteration  112  is  tensor(0., device='cuda:0', grad_fn=<NllLossBackward>)\n",
      "loss at iteration  113  is  tensor(0., device='cuda:0', grad_fn=<NllLossBackward>)\n",
      "loss at iteration  114  is  tensor(0., device='cuda:0', grad_fn=<NllLossBackward>)\n",
      "loss at iteration  115  is  tensor(0., device='cuda:0', grad_fn=<NllLossBackward>)\n",
      "loss at iteration  116  is  tensor(0., device='cuda:0', grad_fn=<NllLossBackward>)\n",
      "loss at iteration  117  is  tensor(0., device='cuda:0', grad_fn=<NllLossBackward>)\n",
      "loss at iteration  118  is  tensor(0., device='cuda:0', grad_fn=<NllLossBackward>)\n",
      "loss at iteration  119  is  tensor(0., device='cuda:0', grad_fn=<NllLossBackward>)\n",
      "loss at iteration  120  is  tensor(0., device='cuda:0', grad_fn=<NllLossBackward>)\n",
      "loss at iteration  121  is  tensor(0., device='cuda:0', grad_fn=<NllLossBackward>)\n",
      "loss at iteration  122  is  tensor(0., device='cuda:0', grad_fn=<NllLossBackward>)\n",
      "loss at iteration  123  is  tensor(0., device='cuda:0', grad_fn=<NllLossBackward>)\n",
      "loss at iteration  124  is  tensor(0., device='cuda:0', grad_fn=<NllLossBackward>)\n",
      "loss at iteration  125  is  tensor(0., device='cuda:0', grad_fn=<NllLossBackward>)\n",
      "loss at iteration  126  is  tensor(0., device='cuda:0', grad_fn=<NllLossBackward>)\n",
      "loss at iteration  127  is  tensor(0., device='cuda:0', grad_fn=<NllLossBackward>)\n",
      "loss at iteration  128  is  tensor(0., device='cuda:0', grad_fn=<NllLossBackward>)\n",
      "loss at iteration  129  is  tensor(0., device='cuda:0', grad_fn=<NllLossBackward>)\n",
      "loss at iteration  130  is  tensor(0., device='cuda:0', grad_fn=<NllLossBackward>)\n",
      "loss at iteration  131  is  tensor(0., device='cuda:0', grad_fn=<NllLossBackward>)\n",
      "loss at iteration  132  is  tensor(0., device='cuda:0', grad_fn=<NllLossBackward>)\n",
      "loss at iteration  133  is  tensor(0., device='cuda:0', grad_fn=<NllLossBackward>)\n",
      "loss at iteration  134  is  tensor(0., device='cuda:0', grad_fn=<NllLossBackward>)\n",
      "loss at iteration  135  is  tensor(0., device='cuda:0', grad_fn=<NllLossBackward>)\n",
      "loss at iteration  136  is  tensor(0., device='cuda:0', grad_fn=<NllLossBackward>)\n",
      "loss at iteration  137  is  tensor(0., device='cuda:0', grad_fn=<NllLossBackward>)\n",
      "loss at iteration  138  is  tensor(0., device='cuda:0', grad_fn=<NllLossBackward>)\n",
      "loss at iteration  139  is  tensor(0., device='cuda:0', grad_fn=<NllLossBackward>)\n",
      "loss at iteration  140  is  tensor(0., device='cuda:0', grad_fn=<NllLossBackward>)\n",
      "loss at iteration  141  is  tensor(0., device='cuda:0', grad_fn=<NllLossBackward>)\n",
      "loss at iteration  142  is  tensor(0., device='cuda:0', grad_fn=<NllLossBackward>)\n",
      "loss at iteration  143  is  tensor(0., device='cuda:0', grad_fn=<NllLossBackward>)\n",
      "loss at iteration  144  is  tensor(0., device='cuda:0', grad_fn=<NllLossBackward>)\n",
      "loss at iteration  145  is  tensor(0., device='cuda:0', grad_fn=<NllLossBackward>)\n",
      "loss at iteration  146  is  tensor(0., device='cuda:0', grad_fn=<NllLossBackward>)\n",
      "loss at iteration  147  is  tensor(0., device='cuda:0', grad_fn=<NllLossBackward>)\n",
      "loss at iteration  148  is  tensor(0., device='cuda:0', grad_fn=<NllLossBackward>)\n",
      "loss at iteration  149  is  tensor(0., device='cuda:0', grad_fn=<NllLossBackward>)\n",
      "loss at iteration  150  is  tensor(0., device='cuda:0', grad_fn=<NllLossBackward>)\n",
      "loss at iteration  151  is  tensor(0., device='cuda:0', grad_fn=<NllLossBackward>)\n",
      "loss at iteration  152  is  tensor(0., device='cuda:0', grad_fn=<NllLossBackward>)\n",
      "loss at iteration  153  is  tensor(0., device='cuda:0', grad_fn=<NllLossBackward>)\n",
      "loss at iteration  154  is  tensor(0., device='cuda:0', grad_fn=<NllLossBackward>)\n",
      "loss at iteration  155  is  tensor(0., device='cuda:0', grad_fn=<NllLossBackward>)\n",
      "loss at iteration  156  is  tensor(0., device='cuda:0', grad_fn=<NllLossBackward>)\n",
      "loss at iteration  157  is  tensor(0., device='cuda:0', grad_fn=<NllLossBackward>)\n",
      "loss at iteration  158  is  tensor(0., device='cuda:0', grad_fn=<NllLossBackward>)\n",
      "loss at iteration  159  is  tensor(0., device='cuda:0', grad_fn=<NllLossBackward>)\n",
      "loss at iteration  160  is  tensor(0., device='cuda:0', grad_fn=<NllLossBackward>)\n",
      "loss at iteration  161  is  tensor(0., device='cuda:0', grad_fn=<NllLossBackward>)\n",
      "loss at iteration  162  is  tensor(0., device='cuda:0', grad_fn=<NllLossBackward>)\n",
      "loss at iteration  163  is  tensor(0., device='cuda:0', grad_fn=<NllLossBackward>)\n",
      "loss at iteration  164  is  tensor(0., device='cuda:0', grad_fn=<NllLossBackward>)\n",
      "loss at iteration  165  is  tensor(0., device='cuda:0', grad_fn=<NllLossBackward>)\n",
      "loss at iteration  166  is  tensor(0., device='cuda:0', grad_fn=<NllLossBackward>)\n",
      "loss at iteration  167  is  tensor(0., device='cuda:0', grad_fn=<NllLossBackward>)\n",
      "loss at iteration  168  is  tensor(0., device='cuda:0', grad_fn=<NllLossBackward>)\n",
      "loss at iteration  169  is  tensor(0., device='cuda:0', grad_fn=<NllLossBackward>)\n",
      "loss at iteration  170  is  tensor(0., device='cuda:0', grad_fn=<NllLossBackward>)\n",
      "loss at iteration  171  is  tensor(0., device='cuda:0', grad_fn=<NllLossBackward>)\n",
      "loss at iteration  172  is  tensor(0., device='cuda:0', grad_fn=<NllLossBackward>)\n",
      "loss at iteration  173  is  tensor(0., device='cuda:0', grad_fn=<NllLossBackward>)\n",
      "loss at iteration  174  is  tensor(0., device='cuda:0', grad_fn=<NllLossBackward>)\n",
      "loss at iteration  175  is  tensor(0., device='cuda:0', grad_fn=<NllLossBackward>)\n",
      "loss at iteration  176  is  tensor(0., device='cuda:0', grad_fn=<NllLossBackward>)\n",
      "loss at iteration  177  is  tensor(0., device='cuda:0', grad_fn=<NllLossBackward>)\n",
      "loss at iteration  178  is  tensor(0., device='cuda:0', grad_fn=<NllLossBackward>)\n",
      "loss at iteration  179  is  tensor(0., device='cuda:0', grad_fn=<NllLossBackward>)\n",
      "loss at iteration  180  is  tensor(0., device='cuda:0', grad_fn=<NllLossBackward>)\n",
      "loss at iteration  181  is  tensor(0., device='cuda:0', grad_fn=<NllLossBackward>)\n",
      "loss at iteration  182  is  tensor(0., device='cuda:0', grad_fn=<NllLossBackward>)\n",
      "loss at iteration  183  is  tensor(0., device='cuda:0', grad_fn=<NllLossBackward>)\n",
      "loss at iteration  184  is  tensor(0., device='cuda:0', grad_fn=<NllLossBackward>)\n",
      "loss at iteration  185  is  tensor(0., device='cuda:0', grad_fn=<NllLossBackward>)\n",
      "loss at iteration  186  is  tensor(0., device='cuda:0', grad_fn=<NllLossBackward>)\n",
      "loss at iteration  "
     ]
    }
   ],
   "source": [
    "model = Net(node_features, edge_features)\n",
    "\n",
    "model.apply(init_weights)\n",
    "\n",
    "print('Let\\'s use', torch.cuda.device_count(), 'GPU(s)!')\n",
    "device = torch.device('cuda:0' if torch.cuda.is_available() else 'cpu')\n",
    "model = model.to(device)\n",
    "\n",
    "optimizer = torch.optim.Adam(model.parameters(), lr=0.1)\n",
    "\n",
    "data_list = [graph_constructors.make_pyg_graph(*np.array(synthetic_data.make_a_group())).to(device) for _ in range(1)]\n",
    "loader = DataLoader(data_list, batch_size=1)\n",
    "\n",
    "for j in range(500):\n",
    "    \n",
    "    for i, btch in enumerate(loader):\n",
    "\n",
    "        optimizer.zero_grad()\n",
    "        output = model(btch)\n",
    "\n",
    "#         print(torch.sum(btch.edge_attr))\n",
    "        \n",
    "#         y = btch.y_bi.to(output.device)\n",
    "        y = btch.y.to(output.device)\n",
    "        \n",
    "#         print(y)\n",
    "        \n",
    "        loss = F.nll_loss(output, y)\n",
    "        loss.backward()\n",
    "#         if i % 100 == 0:\n",
    "#             plot_grad_flow(model.named_parameters())\n",
    "        optimizer.step()\n",
    "    \n",
    "    print('loss at iteration ', j ,' is ', loss)"
   ]
  },
  {
   "cell_type": "code",
   "execution_count": null,
   "metadata": {},
   "outputs": [],
   "source": []
  },
  {
   "cell_type": "code",
   "execution_count": null,
   "metadata": {},
   "outputs": [],
   "source": []
  },
  {
   "cell_type": "code",
   "execution_count": null,
   "metadata": {},
   "outputs": [],
   "source": []
  },
  {
   "cell_type": "code",
   "execution_count": null,
   "metadata": {},
   "outputs": [],
   "source": []
  },
  {
   "cell_type": "code",
   "execution_count": null,
   "metadata": {},
   "outputs": [],
   "source": [
    "np.isscalar(np.array([5]))"
   ]
  },
  {
   "cell_type": "code",
   "execution_count": null,
   "metadata": {},
   "outputs": [],
   "source": [
    "np.expand_dims(5, axis = 0)"
   ]
  },
  {
   "cell_type": "code",
   "execution_count": null,
   "metadata": {},
   "outputs": [],
   "source": [
    "for _ in range(10000):\n",
    "    graph_constructors.make_pyg_graph(*np.array(synthetic_data.make_a_group()))"
   ]
  },
  {
   "cell_type": "code",
   "execution_count": null,
   "metadata": {},
   "outputs": [],
   "source": [
    "graph_constructors.make_pyg_graph(*np.array(synthetic_data.make_a_group()))"
   ]
  },
  {
   "cell_type": "code",
   "execution_count": null,
   "metadata": {},
   "outputs": [],
   "source": [
    "inp_norm_amt_arr = np.array([])\n",
    "sort_idx = np.argsort(inp_norm_amt_arr)\n",
    "sorted_norm_amt_arr = inp_norm_amt_arr[sort_idx]\n",
    "sorted_norm_amt_arr"
   ]
  },
  {
   "cell_type": "code",
   "execution_count": null,
   "metadata": {},
   "outputs": [],
   "source": [
    "inp_norm_amt_arr.shape"
   ]
  },
  {
   "cell_type": "code",
   "execution_count": null,
   "metadata": {},
   "outputs": [],
   "source": [
    "torch.tensor([1.2999]).long()"
   ]
  },
  {
   "cell_type": "markdown",
   "metadata": {},
   "source": [
    "### Instructive examples"
   ]
  },
  {
   "cell_type": "markdown",
   "metadata": {},
   "source": [
    "Below is an example of someone using a metalayer.  Take this example and apply it to a known data set to see how the edge model extracts the src and dest objects and what form they take.  We can then us this knowledge to create the edge_model that we want."
   ]
  },
  {
   "cell_type": "code",
   "execution_count": null,
   "metadata": {},
   "outputs": [],
   "source": [
    "from torch_geometric.datasets import MNISTSuperpixels\n",
    "\n",
    "dataset = MNISTSuperpixels('/data', 'MNIST')"
   ]
  },
  {
   "cell_type": "code",
   "execution_count": null,
   "metadata": {},
   "outputs": [],
   "source": [
    "dataset = MNISTSuperpixels('/data', 'MNIST', transform=T.Cartesian()).shuffle()"
   ]
  },
  {
   "cell_type": "code",
   "execution_count": null,
   "metadata": {},
   "outputs": [],
   "source": [
    "import os.path as osp\n",
    "\n",
    "import torch\n",
    "import torch.nn.functional as F\n",
    "from torch.nn import Sequential as Seq, Linear as Lin, ReLU\n",
    "from torch_geometric.datasets import MNISTSuperpixels\n",
    "from torch_geometric.data import DataListLoader\n",
    "import torch_geometric.transforms as T\n",
    "from torch_geometric.nn import SplineConv, global_mean_pool, DataParallel, MetaLayer\n",
    "\n",
    "# path = osp.join(osp.dirname(osp.realpath(__file__)), '../', 'data', 'MNIST')\n",
    "# dataset = MNISTSuperpixels(path, transform=T.Cartesian()).shuffle()\n",
    "loader = DataListLoader(dataset, batch_size=1, shuffle=False)\n",
    "\n",
    "class MyLayer(torch.nn.Module):\n",
    "    def __init__(self, number_of_node_features, number_of_edge_features):\n",
    "        super(MyLayer, self).__init__()\n",
    "\n",
    "        edge_mlp_channels_in = 2 * number_of_node_features + number_of_edge_features\n",
    "        self.edge_mlp = Seq(Lin(edge_mlp_channels_in, number_of_edge_features),\n",
    "                            ReLU())\n",
    "\n",
    "        def edge_model(src, dest, edge_attr, u, batch):\n",
    "            print('called edge_model')\n",
    "            print('src.shape', src.shape)            \n",
    "            print('src', src)\n",
    "            print(' ')\n",
    "            print('dest.shape', dest.shape)   \n",
    "            print('dest', dest)\n",
    "            edge_neighborhoods = torch.cat([src, dest, edge_attr], 1)\n",
    "            print('edge_neighborhoods.shape', edge_neighborhoods.shape)\n",
    "            \n",
    "            my_string = \"edge_neighborhoods.device\\n\" + str(edge_neighborhoods.device) + \"\\nself.edge_mlp[0].weight.device\\n\" + str(self.edge_mlp[0].weight.device)\n",
    "            print(my_string)\n",
    "\n",
    "            return self.edge_mlp(edge_neighborhoods)\n",
    "\n",
    "        self.op = MetaLayer(edge_model)\n",
    "\n",
    "    def forward(self, x, edge_index, edge_attr, u, batch):\n",
    "        return self.op(x, edge_index, edge_attr, u, batch)\n",
    "\n",
    "class Net(torch.nn.Module):\n",
    "    def __init__(self, number_of_node_features, number_of_edge_features):\n",
    "        super(Net, self).__init__()\n",
    "        self.meta_layer = MyLayer(number_of_node_features, number_of_edge_features)\n",
    "        self.conv1 = SplineConv(dataset.num_features, 32, dim=2, kernel_size=5)\n",
    "        self.conv2 = SplineConv(32, 64, dim=2, kernel_size=5)\n",
    "        self.lin1 = torch.nn.Linear(64, 128)\n",
    "        self.lin2 = torch.nn.Linear(128, dataset.num_classes)\n",
    "\n",
    "    def forward(self, data):\n",
    "        print('Inside Model:  num graphs: {}, device: {}'.format(\n",
    "            data.num_graphs, data.batch.device))\n",
    "\n",
    "        x, edge_index, edge_attr = data.x, data.edge_index, data.edge_attr\n",
    "        x, edge_attr, _ = self.meta_layer.forward(x, edge_index, edge_attr, u=None, batch=data.batch)\n",
    "        x = F.elu(self.conv1(x, edge_index, edge_attr))\n",
    "        x = F.elu(self.conv2(x, edge_index, edge_attr))\n",
    "        x = global_mean_pool(x, data.batch)\n",
    "        x = F.elu(self.lin1(x))\n",
    "        return F.log_softmax(self.lin2(x), dim=1)\n",
    "\n",
    "\n",
    "node_features = dataset[0].x.shape[-1]\n",
    "edge_features = dataset[0].edge_attr.shape[-1]\n",
    "model = Net(node_features, edge_features)\n",
    "print('Let\\'s use', torch.cuda.device_count(), 'GPUs!')\n",
    "model = DataParallel(model)\n",
    "device = torch.device('cuda:0' if torch.cuda.is_available() else 'cpu')\n",
    "model = model.to(device)\n",
    "optimizer = torch.optim.Adam(model.parameters(), lr=0.01)\n",
    "\n",
    "for i, data_list in enumerate(loader):\n",
    "    print('x.shape', data_list[0].x.shape)\n",
    "    print('x:', data_list[0].x)\n",
    "    print('')\n",
    "    print('edge_attr.shape', data_list[0].edge_attr.shape)    \n",
    "    print('edge_attr', data_list[0].edge_attr)\n",
    "    print('')    \n",
    "\n",
    "    optimizer.zero_grad()\n",
    "    output = model(data_list)\n",
    "    print('Outside Model: num graphs: {}'.format(output.size(0)))\n",
    "    print([data.y for data in data_list])\n",
    "    y = torch.cat([data.y for data in data_list]).to(output.device)\n",
    "    loss = F.nll_loss(output, y)\n",
    "    loss.backward()\n",
    "    optimizer.step()\n",
    "    if i > 0:\n",
    "        break \n",
    "    "
   ]
  },
  {
   "cell_type": "code",
   "execution_count": null,
   "metadata": {},
   "outputs": [],
   "source": [
    "loader = DataListLoader(dataset, batch_size=4, shuffle=False)\n",
    "len(loader)"
   ]
  },
  {
   "cell_type": "code",
   "execution_count": null,
   "metadata": {},
   "outputs": [],
   "source": [
    "node_features = data.x.shape[-1]\n",
    "edge_features = data.edge_attr.shape[-1]\n",
    "\n",
    "model = Net(node_features, edge_features)\n",
    "print('Let\\'s use', torch.cuda.device_count(), 'GPUs!')\n",
    "model = DataParallel(model)\n",
    "device = torch.device('cuda:0' if torch.cuda.is_available() else 'cpu')\n",
    "model = model.to(device)\n",
    "optimizer = torch.optim.Adam(model.parameters(), lr=0.01)\n",
    "\n",
    "for i, data_list in enumerate(loader):\n",
    "    if i > 0:\n",
    "        break\n",
    "    optimizer.zero_grad()\n",
    "    output = model(data_list)\n",
    "\n"
   ]
  },
  {
   "cell_type": "code",
   "execution_count": null,
   "metadata": {},
   "outputs": [],
   "source": [
    "MyLayer.forward(x=dataset[0].x, edge_index=dataset[0].edge_index, edge_attr=dataset[0].edge_attr, u = None, batch = None)"
   ]
  },
  {
   "cell_type": "code",
   "execution_count": null,
   "metadata": {},
   "outputs": [],
   "source": []
  },
  {
   "cell_type": "code",
   "execution_count": null,
   "metadata": {},
   "outputs": [],
   "source": [
    "data_list = [data, data]"
   ]
  },
  {
   "cell_type": "code",
   "execution_count": null,
   "metadata": {},
   "outputs": [],
   "source": [
    "class MyLayer(torch.nn.Module):\n",
    "    def __init__(self, number_of_node_features, number_of_edge_features):\n",
    "        super(MyLayer, self).__init__()\n",
    "\n",
    "        edge_mlp_channels_in = 2 * number_of_node_features + number_of_edge_features\n",
    "        self.edge_mlp = Seq(Lin(edge_mlp_channels_in, number_of_edge_features),\n",
    "                            ReLU())\n",
    "\n",
    "        def edge_model(src, dest, edge_attr, u, batch):\n",
    "            edge_neighborhoods = torch.cat([src, dest, edge_attr], 1)\n",
    "            my_string = \"edge_neighborhoods.device\\n\" + str(edge_neighborhoods.device) + \"\\nself.edge_mlp[0].weight.device\\n\" + str(self.edge_mlp[0].weight.device)\n",
    "            print(my_string)\n",
    "\n",
    "            return self.edge_mlp(edge_neighborhoods)\n",
    "\n",
    "        self.op = MetaLayer(edge_model)\n",
    "\n",
    "    def forward(self, x, edge_index, edge_attr, u, batch):\n",
    "        return self.op(x, edge_index, edge_attr, u, batch)\n",
    "\n",
    "class Net(torch.nn.Module):\n",
    "    def __init__(self, number_of_node_features, number_of_edge_features):\n",
    "        super(Net, self).__init__()\n",
    "        self.meta_layer = MyLayer(number_of_node_features, number_of_edge_features)\n",
    "        #self.conv1 = SplineConv(dataset.num_features, 32, dim=2, kernel_size=5)\n",
    "        self.conv1 = SplineConv(number_of_node_features, 32, dim=2, kernel_size=5)\n",
    "        self.conv2 = SplineConv(32, 64, dim=2, kernel_size=5)\n",
    "        self.lin1 = torch.nn.Linear(64, 128)\n",
    "        self.lin2 = torch.nn.Linear(128, 2)\n",
    "\n",
    "    def forward(self, data):\n",
    "#         print('Inside Model:  num graphs: {}, device: {}'.format(\n",
    "#             data.num_graphs, data.batch.device))\n",
    "\n",
    "        x, edge_index, edge_attr = data.x, data.edge_index, data.edge_attr\n",
    "        #x, edge_attr, _ = self.meta_layer.forward(x, edge_index, edge_attr, u=None, batch=data.batch)\n",
    "        x, edge_attr, _ = self.meta_layer.forward(x, edge_index, edge_attr, u=None, batch=[1])\n",
    "        x = F.elu(self.conv1(x, edge_index, edge_attr))\n",
    "        x = F.elu(self.conv2(x, edge_index, edge_attr))\n",
    "        x = global_mean_pool(x, data.batch)\n",
    "        x = F.elu(self.lin1(x))\n",
    "        return F.log_softmax(self.lin2(x), dim=1)"
   ]
  },
  {
   "cell_type": "code",
   "execution_count": null,
   "metadata": {},
   "outputs": [],
   "source": [
    "model = Net(node_features, edge_features)"
   ]
  },
  {
   "cell_type": "code",
   "execution_count": null,
   "metadata": {},
   "outputs": [],
   "source": [
    "model(data)"
   ]
  },
  {
   "cell_type": "code",
   "execution_count": null,
   "metadata": {},
   "outputs": [],
   "source": [
    "from torch_geometric.data import Data, DataLoader\n",
    "\n",
    "data_list = [data, data]\n",
    "loader = DataLoader(data_list, batch_size=2)"
   ]
  },
  {
   "cell_type": "code",
   "execution_count": null,
   "metadata": {},
   "outputs": [],
   "source": []
  },
  {
   "cell_type": "code",
   "execution_count": null,
   "metadata": {},
   "outputs": [],
   "source": []
  }
 ],
 "metadata": {
  "kernelspec": {
   "display_name": "Python 3",
   "language": "python",
   "name": "python3"
  },
  "language_info": {
   "codemirror_mode": {
    "name": "ipython",
    "version": 3
   },
   "file_extension": ".py",
   "mimetype": "text/x-python",
   "name": "python",
   "nbconvert_exporter": "python",
   "pygments_lexer": "ipython3",
   "version": "3.7.4"
  }
 },
 "nbformat": 4,
 "nbformat_minor": 2
}
