{
 "cells": [
  {
   "cell_type": "code",
   "execution_count": 3,
   "metadata": {},
   "outputs": [],
   "source": [
    "%matplotlib inline\n",
    "\n",
    "import matplotlib\n",
    "import matplotlib.pyplot as plt\n",
    "\n",
    "import numpy as np\n",
    "import timeit\n",
    "import statistics\n",
    "import time\n",
    "import torch\n",
    "# import torch_geometric\n",
    "import importlib\n",
    "\n",
    "from data_utils import synthetic_data\n",
    "# from data_utils import graph_constructors\n",
    "from data_utils import group_to_image_constructors\n",
    "\n",
    "import networkx as nx\n",
    "\n",
    "import importlib\n",
    "\n",
    "# from Unet import helper\n",
    "# from Unet import simulation\n",
    "\n",
    "from torch.utils.data import Dataset, DataLoader\n",
    "from torchvision import transforms, datasets, models"
   ]
  },
  {
   "cell_type": "code",
   "execution_count": 2,
   "metadata": {},
   "outputs": [],
   "source": [
    "# from collections import defaultdict\n",
    "# import torch.nn.functional as F\n",
    "# from Unet.loss import dice_loss\n",
    "\n",
    "# def calc_loss(pred, target, metrics, bce_weight=0.5):\n",
    "#     bce = F.binary_cross_entropy_with_logits(pred, target)\n",
    "\n",
    "#     pred = F.sigmoid(pred)\n",
    "#     dice = dice_loss(pred, target)\n",
    "\n",
    "#     loss = bce * bce_weight + dice * (1 - bce_weight)\n",
    "\n",
    "#     metrics['bce'] += bce.data.cpu().numpy() * target.size(0)\n",
    "#     metrics['dice'] += dice.data.cpu().numpy() * target.size(0)\n",
    "#     metrics['loss'] += loss.data.cpu().numpy() * target.size(0)"
   ]
  },
  {
   "cell_type": "code",
   "execution_count": 5,
   "metadata": {},
   "outputs": [],
   "source": [
    "def dice_loss(pred, target, smooth = 1.):\n",
    "    pred = pred.contiguous()\n",
    "    target = target.contiguous()    \n",
    "\n",
    "    intersection = (pred * target)\n",
    "    \n",
    "    loss = (1 - ((2. * intersection + smooth) / (pred + target + smooth)))\n",
    "    \n",
    "    return loss.mean()"
   ]
  },
  {
   "cell_type": "code",
   "execution_count": 8,
   "metadata": {},
   "outputs": [
    {
     "data": {
      "text/plain": [
       "tensor(0.2667)"
      ]
     },
     "execution_count": 8,
     "metadata": {},
     "output_type": "execute_result"
    }
   ],
   "source": [
    "pred = torch.tensor([0.5, 0.5])\n",
    "target = torch.tensor([1,0])\n",
    "\n",
    "dice_loss(pred, target)"
   ]
  },
  {
   "cell_type": "code",
   "execution_count": 4,
   "metadata": {},
   "outputs": [],
   "source": [
    "target = torch.tensor(np.random.randint(0,2, size = (4,2,224,224)))"
   ]
  },
  {
   "cell_type": "code",
   "execution_count": 5,
   "metadata": {},
   "outputs": [],
   "source": [
    "pred = torch.tensor(np.random.uniform(size = (4,2,224,224)))"
   ]
  },
  {
   "cell_type": "code",
   "execution_count": 8,
   "metadata": {
    "collapsed": true,
    "jupyter": {
     "outputs_hidden": true
    }
   },
   "outputs": [
    {
     "data": {
      "text/plain": [
       "tensor([[[[0.6756, 0.2125, 0.5895,  ..., 0.9198, 0.3196, 0.9708],\n",
       "          [0.0282, 0.1970, 0.8427,  ..., 0.3869, 0.5408, 0.8237],\n",
       "          [0.1669, 0.9908, 0.1743,  ..., 0.3190, 0.4256, 0.0457],\n",
       "          ...,\n",
       "          [0.1062, 0.0429, 0.6247,  ..., 0.8422, 0.8561, 0.0882],\n",
       "          [0.2740, 0.5896, 0.0653,  ..., 0.7692, 0.2280, 0.5653],\n",
       "          [0.6571, 0.7950, 0.8686,  ..., 0.9004, 0.2801, 0.6024]],\n",
       "\n",
       "         [[0.5923, 0.1424, 0.9117,  ..., 0.1168, 0.4346, 0.9234],\n",
       "          [0.5138, 0.4940, 0.6516,  ..., 0.6866, 0.4886, 0.2681],\n",
       "          [0.7835, 0.9696, 0.4186,  ..., 0.4028, 0.9711, 0.6176],\n",
       "          ...,\n",
       "          [0.5595, 0.7075, 0.3274,  ..., 0.8960, 0.0926, 0.6693],\n",
       "          [0.4136, 0.0322, 0.5911,  ..., 0.4943, 0.5439, 0.8181],\n",
       "          [0.7175, 0.5903, 0.4602,  ..., 0.0547, 0.5987, 0.9855]]],\n",
       "\n",
       "\n",
       "        [[[0.0546, 0.2808, 0.0985,  ..., 0.6476, 0.5078, 0.2566],\n",
       "          [0.8905, 0.9493, 0.5821,  ..., 1.0000, 0.9242, 0.5654],\n",
       "          [0.9745, 0.9318, 0.8083,  ..., 0.0700, 0.6521, 0.4998],\n",
       "          ...,\n",
       "          [0.6408, 0.1622, 0.7137,  ..., 0.4340, 0.4605, 0.4158],\n",
       "          [0.2192, 0.1963, 0.2086,  ..., 0.4030, 0.7892, 0.4634],\n",
       "          [0.3682, 0.9422, 0.9613,  ..., 0.6270, 0.7151, 0.8662]],\n",
       "\n",
       "         [[0.8838, 0.7155, 0.3088,  ..., 0.0402, 0.0607, 0.8607],\n",
       "          [0.2285, 0.3351, 0.9470,  ..., 0.3667, 0.5493, 0.9261],\n",
       "          [0.3962, 0.1679, 0.7324,  ..., 0.5498, 0.3845, 0.9347],\n",
       "          ...,\n",
       "          [0.0365, 0.9708, 0.1446,  ..., 0.8218, 0.7894, 0.2103],\n",
       "          [0.5046, 0.9059, 0.7503,  ..., 0.4798, 0.0167, 0.1375],\n",
       "          [0.4019, 0.2613, 0.7323,  ..., 0.0789, 0.7113, 0.6205]]],\n",
       "\n",
       "\n",
       "        [[[0.4402, 0.0150, 0.5861,  ..., 0.9336, 0.5521, 0.4365],\n",
       "          [0.4395, 0.6531, 0.3197,  ..., 0.2832, 0.1170, 0.0707],\n",
       "          [0.5873, 0.6350, 0.1952,  ..., 0.9075, 0.6726, 0.0858],\n",
       "          ...,\n",
       "          [0.8439, 0.0091, 0.6175,  ..., 0.9181, 0.6476, 0.4463],\n",
       "          [0.1366, 0.1466, 0.9670,  ..., 0.9702, 0.1691, 0.8683],\n",
       "          [0.9760, 0.6920, 0.0929,  ..., 0.0318, 0.4305, 0.9854]],\n",
       "\n",
       "         [[0.3672, 0.0886, 0.0021,  ..., 0.1437, 0.5186, 0.8109],\n",
       "          [0.7705, 0.1644, 0.8731,  ..., 0.9152, 0.7944, 0.8237],\n",
       "          [0.7092, 0.6367, 0.6771,  ..., 0.7364, 0.6590, 0.2741],\n",
       "          ...,\n",
       "          [0.7542, 0.8160, 0.9549,  ..., 0.3435, 0.0355, 0.8096],\n",
       "          [0.6327, 0.3145, 0.4674,  ..., 0.2274, 0.8182, 0.3506],\n",
       "          [0.6207, 0.2984, 0.4641,  ..., 0.6413, 0.6078, 0.4043]]],\n",
       "\n",
       "\n",
       "        [[[0.2276, 0.8806, 0.9155,  ..., 0.6837, 0.3674, 0.0858],\n",
       "          [0.2538, 0.9241, 0.2803,  ..., 0.6133, 0.8748, 0.6878],\n",
       "          [0.3231, 0.4222, 0.9372,  ..., 0.2001, 0.1626, 0.5811],\n",
       "          ...,\n",
       "          [0.4151, 0.3299, 0.9881,  ..., 0.7578, 0.8421, 0.0875],\n",
       "          [0.4130, 0.3926, 0.4172,  ..., 0.0492, 0.6517, 0.5856],\n",
       "          [0.9793, 0.1951, 0.2575,  ..., 0.8960, 0.4352, 0.6022]],\n",
       "\n",
       "         [[0.9403, 0.3646, 0.4176,  ..., 0.8719, 0.9453, 0.2296],\n",
       "          [0.0924, 0.7720, 0.3553,  ..., 0.1609, 0.5623, 0.1392],\n",
       "          [0.0619, 0.1930, 0.5585,  ..., 0.7292, 0.9484, 0.6304],\n",
       "          ...,\n",
       "          [0.6079, 0.8716, 0.5373,  ..., 0.4034, 0.4621, 0.1843],\n",
       "          [0.0083, 0.4978, 0.8519,  ..., 0.7691, 0.2041, 0.3368],\n",
       "          [0.3946, 0.1439, 0.9932,  ..., 0.9552, 0.2743, 0.5434]]]],\n",
       "       device='cuda:0', dtype=torch.float64)"
      ]
     },
     "execution_count": 8,
     "metadata": {},
     "output_type": "execute_result"
    }
   ],
   "source": [
    "device = torch.device('cuda' if torch.cuda.is_available() else 'cpu')\n",
    "device\n",
    "\n",
    "pred.to(device)"
   ]
  },
  {
   "cell_type": "code",
   "execution_count": 18,
   "metadata": {},
   "outputs": [],
   "source": [
    "def dice_loss(pred, target, smooth = 1.):\n",
    "    pred = pred.contiguous()\n",
    "    target = target.contiguous()    \n",
    "\n",
    "    print('pred.shape: ', pred.shape, ', target.shape: ', target.shape)\n",
    "\n",
    "    intersection = (pred * target).sum(dim=2).sum(dim=2)\n",
    "\n",
    "    print('intersection.shape: ', intersection.shape)\n",
    "    \n",
    "    loss = (1 - ((2. * intersection + smooth) / (pred.sum(dim=2).sum(dim=2) + target.sum(dim=2).sum(dim=2) + smooth)))\n",
    "    \n",
    "    return loss.mean()"
   ]
  },
  {
   "cell_type": "code",
   "execution_count": 19,
   "metadata": {},
   "outputs": [
    {
     "name": "stdout",
     "output_type": "stream",
     "text": [
      "pred.shape:  torch.Size([4, 2, 224, 224]) , target.shape:  torch.Size([4, 2, 224, 224])\n",
      "intersection.shape:  torch.Size([4, 2])\n"
     ]
    },
    {
     "data": {
      "text/plain": [
       "tensor(0.4999, dtype=torch.float64)"
      ]
     },
     "execution_count": 19,
     "metadata": {},
     "output_type": "execute_result"
    }
   ],
   "source": [
    "dice_loss(pred, target, smooth = 1.)"
   ]
  },
  {
   "cell_type": "code",
   "execution_count": 29,
   "metadata": {},
   "outputs": [
    {
     "name": "stdout",
     "output_type": "stream",
     "text": [
      "1.0\n"
     ]
    },
    {
     "name": "stderr",
     "output_type": "stream",
     "text": [
      "C:\\Users\\andy.knapper.BIZFITECH\\AppData\\Local\\Continuum\\anaconda3\\lib\\site-packages\\sklearn\\metrics\\cluster\\supervised.py:859: FutureWarning: The behavior of NMI will change in version 0.22. To match the behavior of 'v_measure_score', NMI will use average_method='arithmetic' by default.\n",
      "  FutureWarning)\n"
     ]
    },
    {
     "name": "stdout",
     "output_type": "stream",
     "text": [
      "1.0\n",
      "(1.0, 1.0, 1.0)\n"
     ]
    }
   ],
   "source": [
    "from sklearn import metrics\n",
    "labels_true = [0, 0, 0, 1, 3, 1]\n",
    "labels_pred = [0, 0, 0, 1, 2, 1]\n",
    "\n",
    "print(metrics.adjusted_rand_score(labels_true, labels_pred))\n",
    "print(metrics.normalized_mutual_info_score(labels_true, labels_pred))\n",
    "print(metrics.homogeneity_completeness_v_measure(labels_true, labels_pred))"
   ]
  },
  {
   "cell_type": "code",
   "execution_count": null,
   "metadata": {},
   "outputs": [],
   "source": []
  }
 ],
 "metadata": {
  "kernelspec": {
   "display_name": "Python 3",
   "language": "python",
   "name": "python3"
  },
  "language_info": {
   "codemirror_mode": {
    "name": "ipython",
    "version": 3
   },
   "file_extension": ".py",
   "mimetype": "text/x-python",
   "name": "python",
   "nbconvert_exporter": "python",
   "pygments_lexer": "ipython3",
   "version": "3.7.4"
  }
 },
 "nbformat": 4,
 "nbformat_minor": 4
}
