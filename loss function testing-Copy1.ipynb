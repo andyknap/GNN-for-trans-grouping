{
 "cells": [
  {
   "cell_type": "code",
   "execution_count": null,
   "metadata": {},
   "outputs": [],
   "source": []
  },
  {
   "cell_type": "code",
   "execution_count": 1,
   "metadata": {},
   "outputs": [
    {
     "name": "stdout",
     "output_type": "stream",
     "text": [
      "Downloading https://github.com/kimiyoung/planetoid/raw/master/data/ind.cora.x\n",
      "Downloading https://github.com/kimiyoung/planetoid/raw/master/data/ind.cora.tx\n",
      "Downloading https://github.com/kimiyoung/planetoid/raw/master/data/ind.cora.allx\n",
      "Downloading https://github.com/kimiyoung/planetoid/raw/master/data/ind.cora.y\n",
      "Downloading https://github.com/kimiyoung/planetoid/raw/master/data/ind.cora.ty\n",
      "Downloading https://github.com/kimiyoung/planetoid/raw/master/data/ind.cora.ally\n",
      "Downloading https://github.com/kimiyoung/planetoid/raw/master/data/ind.cora.graph\n",
      "Downloading https://github.com/kimiyoung/planetoid/raw/master/data/ind.cora.test.index\n",
      "Processing...\n",
      "Done!\n"
     ]
    }
   ],
   "source": [
    "from torch_geometric.datasets import Planetoid\n",
    "\n",
    "dataset = Planetoid(root='/tmp/Cora', name='Cora')"
   ]
  },
  {
   "cell_type": "code",
   "execution_count": 2,
   "metadata": {},
   "outputs": [],
   "source": [
    "import torch\n",
    "import torch.nn.functional as F\n",
    "from torch_geometric.nn import GCNConv\n",
    "\n",
    "class Net(torch.nn.Module):\n",
    "    def __init__(self):\n",
    "        super(Net, self).__init__()\n",
    "        self.conv1 = GCNConv(dataset.num_node_features, 16)\n",
    "        self.conv2 = GCNConv(16, dataset.num_classes)\n",
    "\n",
    "    def forward(self, data):\n",
    "        x, edge_index = data.x, data.edge_index\n",
    "\n",
    "        x = self.conv1(x, edge_index)\n",
    "        x = F.relu(x)\n",
    "        x = F.dropout(x, training=self.training)\n",
    "        x = self.conv2(x, edge_index)\n",
    "\n",
    "        return F.log_softmax(x, dim=1)"
   ]
  },
  {
   "cell_type": "code",
   "execution_count": 19,
   "metadata": {},
   "outputs": [
    {
     "name": "stdout",
     "output_type": "stream",
     "text": [
      "Number of nodes =  2708\n",
      "Number of features =  1433\n"
     ]
    }
   ],
   "source": [
    "data = dataset[0]\n",
    "data.edge_index\n",
    "data.x.shape[0]\n",
    "print('Number of nodes = ', data.x.shape[0])\n",
    "print('Number of features = ', data.x.shape[1])"
   ]
  },
  {
   "cell_type": "code",
   "execution_count": 36,
   "metadata": {},
   "outputs": [
    {
     "ename": "AttributeError",
     "evalue": "'NoneType' object has no attribute 'shape'",
     "output_type": "error",
     "traceback": [
      "\u001b[1;31m---------------------------------------------------------------------------\u001b[0m",
      "\u001b[1;31mAttributeError\u001b[0m                            Traceback (most recent call last)",
      "\u001b[1;32m<ipython-input-36-d89776741a23>\u001b[0m in \u001b[0;36m<module>\u001b[1;34m\u001b[0m\n\u001b[1;32m----> 1\u001b[1;33m \u001b[0mdata\u001b[0m\u001b[1;33m.\u001b[0m\u001b[0medge_attr\u001b[0m\u001b[1;33m.\u001b[0m\u001b[0mshape\u001b[0m\u001b[1;33m[\u001b[0m\u001b[1;33m-\u001b[0m\u001b[1;36m1\u001b[0m\u001b[1;33m]\u001b[0m\u001b[1;33m\u001b[0m\u001b[1;33m\u001b[0m\u001b[0m\n\u001b[0m",
      "\u001b[1;31mAttributeError\u001b[0m: 'NoneType' object has no attribute 'shape'"
     ]
    }
   ],
   "source": [
    "data.edge_attr.shape[-1]"
   ]
  },
  {
   "cell_type": "code",
   "execution_count": 35,
   "metadata": {},
   "outputs": [
    {
     "data": {
      "text/plain": [
       "{'x': tensor([[0., 0., 0.,  ..., 0., 0., 0.],\n",
       "         [0., 0., 0.,  ..., 0., 0., 0.],\n",
       "         [0., 0., 0.,  ..., 0., 0., 0.],\n",
       "         ...,\n",
       "         [0., 0., 0.,  ..., 0., 0., 0.],\n",
       "         [0., 0., 0.,  ..., 0., 0., 0.],\n",
       "         [0., 0., 0.,  ..., 0., 0., 0.]]),\n",
       " 'edge_index': tensor([[   0,    0,    0,  ..., 2707, 2707, 2707],\n",
       "         [ 633, 1862, 2582,  ...,  598, 1473, 2706]]),\n",
       " 'edge_attr': None,\n",
       " 'y': tensor([3, 4, 4,  ..., 3, 3, 3]),\n",
       " 'pos': None,\n",
       " 'norm': None,\n",
       " 'face': None,\n",
       " 'train_mask': tensor([ True,  True,  True,  ..., False, False, False]),\n",
       " 'val_mask': tensor([False, False, False,  ..., False, False, False]),\n",
       " 'test_mask': tensor([False, False, False,  ...,  True,  True,  True])}"
      ]
     },
     "execution_count": 35,
     "metadata": {},
     "output_type": "execute_result"
    }
   ],
   "source": [
    "data.__dict__"
   ]
  },
  {
   "cell_type": "code",
   "execution_count": 32,
   "metadata": {},
   "outputs": [],
   "source": [
    "conv1 = GCNConv(dataset.num_node_features, 16)\n",
    "conv2 = GCNConv(16, dataset.num_classes)"
   ]
  },
  {
   "cell_type": "code",
   "execution_count": 26,
   "metadata": {},
   "outputs": [],
   "source": [
    "x, edge_index = data.x, data.edge_index"
   ]
  },
  {
   "cell_type": "code",
   "execution_count": 34,
   "metadata": {},
   "outputs": [
    {
     "data": {
      "text/plain": [
       "torch.Size([2708, 7])"
      ]
     },
     "execution_count": 34,
     "metadata": {},
     "output_type": "execute_result"
    }
   ],
   "source": [
    "F.log_softmax(conv2(F.dropout(F.relu(conv1(x, edge_index))), edge_index), dim=1).shape"
   ]
  },
  {
   "cell_type": "code",
   "execution_count": 1,
   "metadata": {},
   "outputs": [],
   "source": [
    "import numpy as np\n"
   ]
  },
  {
   "cell_type": "code",
   "execution_count": 2,
   "metadata": {},
   "outputs": [],
   "source": [
    "def bin_array(num, m):\n",
    "    \"\"\"Convert a positive integer num into an m-bit bit vector\"\"\"\n",
    "    return np.array(list(np.binary_repr(num).zfill(m))).astype(np.int8)"
   ]
  },
  {
   "cell_type": "code",
   "execution_count": 5,
   "metadata": {},
   "outputs": [
    {
     "data": {
      "text/plain": [
       "array([1, 1], dtype=int8)"
      ]
     },
     "execution_count": 5,
     "metadata": {},
     "output_type": "execute_result"
    }
   ],
   "source": [
    "bin_array(3, 2)"
   ]
  },
  {
   "cell_type": "code",
   "execution_count": 11,
   "metadata": {},
   "outputs": [
    {
     "data": {
      "text/plain": [
       "array([[1, 1, 0],\n",
       "       [0, 1, 1],\n",
       "       [0, 1, 0],\n",
       "       [0, 1, 1],\n",
       "       [0, 0, 1],\n",
       "       [1, 1, 0],\n",
       "       [0, 1, 1],\n",
       "       [0, 0, 0],\n",
       "       [1, 0, 1],\n",
       "       [1, 0, 1]], dtype=int8)"
      ]
     },
     "execution_count": 11,
     "metadata": {},
     "output_type": "execute_result"
    }
   ],
   "source": [
    "np.array([bin_array(x, 3) for x in np.random.randint(7, size = (10))])"
   ]
  },
  {
   "cell_type": "code",
   "execution_count": 14,
   "metadata": {},
   "outputs": [
    {
     "data": {
      "text/plain": [
       "[11, 13, 33, 33, 38, 49, 94, 106, 120, 137]"
      ]
     },
     "execution_count": 14,
     "metadata": {},
     "output_type": "execute_result"
    }
   ],
   "source": [
    "d_arr = sorted(np.random.randint(140, size = (10)))\n",
    "d_arr"
   ]
  },
  {
   "cell_type": "code",
   "execution_count": 17,
   "metadata": {},
   "outputs": [
    {
     "data": {
      "text/plain": [
       "array([4, 6, 5, 5, 3, 0, 3, 1, 1, 4], dtype=int32)"
      ]
     },
     "execution_count": 17,
     "metadata": {},
     "output_type": "execute_result"
    }
   ],
   "source": [
    "d_of_the_week_arr = np.mod(d_arr,7)\n",
    "d_of_the_week_arr"
   ]
  },
  {
   "cell_type": "code",
   "execution_count": 25,
   "metadata": {},
   "outputs": [
    {
     "data": {
      "text/plain": [
       "array([[0, 0, 0, 0, 0, 0, 1, 0, 1, 1],\n",
       "       [0, 0, 0, 0, 0, 0, 1, 1, 0, 1],\n",
       "       [0, 0, 0, 0, 1, 0, 0, 0, 0, 1],\n",
       "       [0, 0, 0, 0, 1, 0, 0, 0, 0, 1],\n",
       "       [0, 0, 0, 0, 1, 0, 0, 1, 1, 0],\n",
       "       [0, 0, 0, 0, 1, 1, 0, 0, 0, 1],\n",
       "       [0, 0, 0, 1, 0, 1, 1, 1, 1, 0],\n",
       "       [0, 0, 0, 1, 1, 0, 1, 0, 1, 0],\n",
       "       [0, 0, 0, 1, 1, 1, 1, 0, 0, 0],\n",
       "       [0, 0, 1, 0, 0, 0, 1, 0, 0, 1]], dtype=int8)"
      ]
     },
     "execution_count": 25,
     "metadata": {},
     "output_type": "execute_result"
    }
   ],
   "source": [
    "d_arr_bin = np.array([bin_array(x, 10) for x in d_arr])\n",
    "d_arr_bin"
   ]
  },
  {
   "cell_type": "code",
   "execution_count": 26,
   "metadata": {},
   "outputs": [
    {
     "data": {
      "text/plain": [
       "array([[1, 0, 0],\n",
       "       [1, 1, 0],\n",
       "       [1, 0, 1],\n",
       "       [1, 0, 1],\n",
       "       [0, 1, 1],\n",
       "       [0, 0, 0],\n",
       "       [0, 1, 1],\n",
       "       [0, 0, 1],\n",
       "       [0, 0, 1],\n",
       "       [1, 0, 0]], dtype=int8)"
      ]
     },
     "execution_count": 26,
     "metadata": {},
     "output_type": "execute_result"
    }
   ],
   "source": [
    "d_of_the_week_arr_bin = np.array([bin_array(x, 3) for x in d_of_the_week_arr])\n",
    "d_of_the_week_arr_bin"
   ]
  },
  {
   "cell_type": "code",
   "execution_count": 27,
   "metadata": {},
   "outputs": [
    {
     "data": {
      "text/plain": [
       "array([[0, 0, 0, 0, 0, 0, 1, 0, 1, 1, 1, 0, 0],\n",
       "       [0, 0, 0, 0, 0, 0, 1, 1, 0, 1, 1, 1, 0],\n",
       "       [0, 0, 0, 0, 1, 0, 0, 0, 0, 1, 1, 0, 1],\n",
       "       [0, 0, 0, 0, 1, 0, 0, 0, 0, 1, 1, 0, 1],\n",
       "       [0, 0, 0, 0, 1, 0, 0, 1, 1, 0, 0, 1, 1],\n",
       "       [0, 0, 0, 0, 1, 1, 0, 0, 0, 1, 0, 0, 0],\n",
       "       [0, 0, 0, 1, 0, 1, 1, 1, 1, 0, 0, 1, 1],\n",
       "       [0, 0, 0, 1, 1, 0, 1, 0, 1, 0, 0, 0, 1],\n",
       "       [0, 0, 0, 1, 1, 1, 1, 0, 0, 0, 0, 0, 1],\n",
       "       [0, 0, 1, 0, 0, 0, 1, 0, 0, 1, 1, 0, 0]], dtype=int8)"
      ]
     },
     "execution_count": 27,
     "metadata": {},
     "output_type": "execute_result"
    }
   ],
   "source": [
    "np.hstack((d_arr_bin,d_of_the_week_arr_bin))"
   ]
  },
  {
   "cell_type": "code",
   "execution_count": 32,
   "metadata": {},
   "outputs": [],
   "source": [
    "c = ['ADOPTION PAY',\n",
    "'AGE RELATED PAY',\n",
    "'ATTENDANCE ALLOWANCE',\n",
    "'BEREAVEMENT ALLOWANCE',\n",
    "'BEREAVEMENT PAYMENT',\n",
    "'CARERS ALLOWANCE',\n",
    "'CHRISTMAS BONUS',\n",
    "'COLD WEATHER PAY',\n",
    "'CONTRIBUTORY ESA',\n",
    "'DISABILITY LIVING ALLOWANCE',\n",
    "'EESA',\n",
    "'ESA',\n",
    "'HOUSING BENEFIT',\n",
    "'INCAPACITY BENEFIT',\n",
    "'INCOME SUPPORT',\n",
    "'INDUSTRIAL INJURIES BENEFIT',\n",
    "'INDUSTRIAL INJURIES DISABLEMENT BENEFIT',\n",
    "'JSA',\n",
    "'MATERNITY ALLOWANCE',\n",
    "'MATERNITY PAY',\n",
    "'PATERNITY PAY',\n",
    "'PENSION CREDIT',\n",
    "'PERSONAL INDEPENDENCE PAYMENTS',\n",
    "'SHARED PARENTAL LEAVE PAYMENTS',\n",
    "'SICK PAY',\n",
    "'STATE PENSION',\n",
    "'TAX CREDITS',\n",
    "'UNIVERSAL CREDIT',\n",
    "'ADULTCARE',\n",
    "'AIRLINES',\n",
    "'BANK CHARGES',\n",
    "'BANK REWARDS',\n",
    "'BANK TRANSFERS',\n",
    "'BEAUTY',\n",
    "'BUILDING AND CONTENTS INSURANCE',\n",
    "'BURSERY',\n",
    "'BUSES',\n",
    "'CAR INSURANCE',\n",
    "'CAR PARKS',\n",
    "'CASH DEPOSIT',\n",
    "'CASH WITHDRAWAL',\n",
    "'CHARITY',\n",
    "'CHILD MAINTENANCE',\n",
    "'CHILDCARE',\n",
    "'COUNCIL TAX',\n",
    "'COURT FINES',\n",
    "'CREDIT CARD',\n",
    "'DCA',\n",
    "'DIVIDENDS',\n",
    "'ENERGY',\n",
    "'FUEL',\n",
    "'GAMBLING',\n",
    "'GROCERIES',\n",
    "'HEALTH INSURANCE',\n",
    "'HEALTHCARE',\n",
    "'HIRE PURCHASE',\n",
    "'HOME COMMUNICATIONS',\n",
    "'HOME REPAIRS',\n",
    "'INTEREST',\n",
    "'LIFE INSURANCE',\n",
    "'MECHANICS',\n",
    "'MOBILE PHONES',\n",
    "'MORTGAGE',\n",
    "'OTHER EXPENDITURE',\n",
    "'OTHER EXPENDITURE REFUNDS',\n",
    "'OTHER INCOME',\n",
    "'PETCARE',\n",
    "'PHARMACIES',\n",
    "'PRIVATE PENSION',\n",
    "'PUBS AND BARS',\n",
    "'RENT',\n",
    "'RESTAURANT AND CAFE',\n",
    "'RETAIL',\n",
    "'RETURNED CHEQUE OR DD',\n",
    "'ROAD TAX',\n",
    "'SALARY',\n",
    "'SAVINGS',\n",
    "'SECURED LOAN',\n",
    "'TAKE AWAY',\n",
    "'TAX',\n",
    "'TAXI',\n",
    "'TOLL ROADS',\n",
    "'TRAINS',\n",
    "'TV LICENCE',\n",
    "'UNSECURED LOAN',\n",
    "'WATER']\n",
    "\n",
    "from itertools import product\n",
    "import pandas as pd\n",
    "\n",
    "pd.DataFrame([list(x) for x in product(c,c) if x[0]> x[1]]).to_excel(\"output.xlsx\")\n"
   ]
  },
  {
   "cell_type": "code",
   "execution_count": 33,
   "metadata": {},
   "outputs": [],
   "source": [
    "out_list = []\n",
    "\n",
    "for i, c_i in enumerate(c):\n",
    "    for j in range(i+1, len(c)):\n",
    "        c_j = c[j]\n",
    "        \n",
    "        out_list = out_list +[[c_i, c_j]]"
   ]
  },
  {
   "cell_type": "code",
   "execution_count": 35,
   "metadata": {},
   "outputs": [],
   "source": [
    "pd.DataFrame(out_list).to_excel(\"output.xlsx\")"
   ]
  },
  {
   "cell_type": "code",
   "execution_count": 95,
   "metadata": {},
   "outputs": [],
   "source": [
    "target = np.random.randint(0,2,(4,214,214)).astype(np.float32)\n",
    "pred = np.random.uniform(size = (4,214,214))"
   ]
  },
  {
   "cell_type": "code",
   "execution_count": 96,
   "metadata": {},
   "outputs": [
    {
     "data": {
      "text/plain": [
       "(4, 214, 214)"
      ]
     },
     "execution_count": 96,
     "metadata": {},
     "output_type": "execute_result"
    }
   ],
   "source": [
    "target.shape"
   ]
  },
  {
   "cell_type": "code",
   "execution_count": 83,
   "metadata": {},
   "outputs": [
    {
     "data": {
      "text/plain": [
       "(4, 214, 214)"
      ]
     },
     "execution_count": 83,
     "metadata": {},
     "output_type": "execute_result"
    }
   ],
   "source": [
    "pred.shape"
   ]
  },
  {
   "cell_type": "markdown",
   "metadata": {},
   "source": [
    "### test new loss function"
   ]
  },
  {
   "cell_type": "code",
   "execution_count": 120,
   "metadata": {},
   "outputs": [],
   "source": [
    "import itertools\n",
    "\n",
    "#make fake data in np arrays\n",
    "target = np.random.randint(0,2,(4,214,214)).astype(np.float32)\n",
    "pred = np.random.uniform(size = (4,214,214))\n",
    "\n",
    "#permute the targets and broadcast the arrays\n",
    "perm_targets = np.array([target[np.array(x), :, :] for x in itertools.permutations([0,1,2,3])])\n",
    "broadcast_preds = np.array([pred for _ in range(24)])\n",
    "\n",
    "#turn into tensors\n",
    "broadcast_preds_ten = torch.tensor(broadcast_preds).type(torch.DoubleTensor)\n",
    "perm_targets_ten = torch.tensor(perm_targets).type(torch.float)"
   ]
  },
  {
   "cell_type": "code",
   "execution_count": 121,
   "metadata": {},
   "outputs": [
    {
     "data": {
      "text/plain": [
       "tensor(0.7332)"
      ]
     },
     "execution_count": 121,
     "metadata": {},
     "output_type": "execute_result"
    }
   ],
   "source": [
    "torch.min(torch.mean(F.binary_cross_entropy_with_logits(broadcast_preds_ten, perm_targets_ten, reduction = 'none'), dim = (1,2,3)))"
   ]
  },
  {
   "cell_type": "code",
   "execution_count": 128,
   "metadata": {},
   "outputs": [],
   "source": [
    "smooth = 1\n",
    "intersection = (broadcast_preds_ten*perm_targets_ten).sum(dim=2).sum(dim=2)\n",
    "loss = (1 - ((2. * intersection + smooth) / (broadcast_preds_ten.sum(dim=2).sum(dim=2) + perm_targets_ten.sum(dim=2).sum(dim=2) + smooth)))"
   ]
  },
  {
   "cell_type": "code",
   "execution_count": 132,
   "metadata": {},
   "outputs": [
    {
     "data": {
      "text/plain": [
       "tensor(0.4990, dtype=torch.float64)"
      ]
     },
     "execution_count": 132,
     "metadata": {},
     "output_type": "execute_result"
    }
   ],
   "source": [
    "torch.min(torch.mean(loss, dim = 1))"
   ]
  },
  {
   "cell_type": "code",
   "execution_count": 161,
   "metadata": {},
   "outputs": [
    {
     "data": {
      "text/plain": [
       "tensor(0.6161, dtype=torch.float64)"
      ]
     },
     "execution_count": 161,
     "metadata": {},
     "output_type": "execute_result"
    }
   ],
   "source": [
    "#make fake data in np arrays\n",
    "target = np.random.randint(0,2,(4,214,214)).astype(np.float32)\n",
    "pred = np.random.uniform(size = (4,214,214))\n",
    "\n",
    "#permute the targets and broadcast the arrays\n",
    "perm_targets = np.array([target[np.array(x), :, :] for x in itertools.permutations([0,1,2,3])])\n",
    "broadcast_preds = np.array([pred for _ in range(24)])\n",
    "\n",
    "#turn into tensors\n",
    "broadcast_preds_ten = torch.tensor(broadcast_preds).type(torch.DoubleTensor)\n",
    "perm_targets_ten = torch.tensor(perm_targets).type(torch.float)\n",
    "\n",
    "\n",
    "def calc_loss(pred, perm_targets, metrics, bce_weight=0.5):\n",
    "    \n",
    "    broadcast_preds = pred.unsqueeze(0).repeat(24,1,1,1)\n",
    "    \n",
    "    #bce loss\n",
    "    bce = torch.min(torch.mean(F.binary_cross_entropy_with_logits(broadcast_preds, perm_targets, reduction = 'none'), dim = (1,2,3)))\n",
    "   \n",
    "    #dice loss\n",
    "    pred = F.sigmoid(pred)    \n",
    "    smooth = 1\n",
    "    intersection = (broadcast_preds_ten*perm_targets_ten).sum(dim=2).sum(dim=2)\n",
    "    loss = (1 - ((2. * intersection + smooth) / (broadcast_preds_ten.sum(dim=2).sum(dim=2) + perm_targets_ten.sum(dim=2).sum(dim=2) + smooth)))\n",
    "    dice = torch.min(torch.mean(loss, dim = 1))\n",
    "\n",
    "    loss = bce * bce_weight + dice * (1 - bce_weight)\n",
    "\n",
    "#     metrics['bce'] += bce.data.cpu().numpy() * target.size(0)\n",
    "#     metrics['dice'] += dice.data.cpu().numpy() * target.size(0)\n",
    "#     metrics['loss'] += loss.data.cpu().numpy() * target.size(0)\n",
    "\n",
    "    return loss\n",
    "\n",
    "calc_loss(torch.tensor(pred).type(torch.DoubleTensor), perm_targets_ten, defaultdict(float), bce_weight=0.5)"
   ]
  },
  {
   "cell_type": "markdown",
   "metadata": {},
   "source": [
    "### Now do it with batches"
   ]
  },
  {
   "cell_type": "code",
   "execution_count": 181,
   "metadata": {},
   "outputs": [
    {
     "data": {
      "text/plain": [
       "torch.Size([8, 4, 214, 214])"
      ]
     },
     "execution_count": 181,
     "metadata": {},
     "output_type": "execute_result"
    }
   ],
   "source": [
    "batch_size = 8\n",
    "\n",
    "def get_a_target_arr():\n",
    "    return np.random.randint(0,2,(4,214,214)).astype(np.float32)\n",
    "\n",
    "batch_perm_targets_ten = torch.tensor(np.array([np.array([get_a_target_arr()[np.array(x), :, :] for x in itertools.permutations([0,1,2,3])]) for _ in range(num_batches)])).type(torch.float)\n",
    "\n",
    "batch_perm_targets_ten.shape #(batch_size, permutation_of_labels, labels, image_x, image_y)\n",
    "\n",
    "batch_pred = torch.tensor(np.random.uniform(size = (batch_size, 4,214,214))).type(torch.DoubleTensor)\n",
    "\n",
    "batch_pred.shape"
   ]
  },
  {
   "cell_type": "code",
   "execution_count": null,
   "metadata": {},
   "outputs": [],
   "source": [
    "broadcast_preds = batch_pred.unsqueeze(1).repeat(1,24,1,1,1)\n",
    "\n",
    "batch_mins, "
   ]
  },
  {
   "cell_type": "code",
   "execution_count": 207,
   "metadata": {},
   "outputs": [
    {
     "data": {
      "text/plain": [
       "tensor(0.7325)"
      ]
     },
     "execution_count": 207,
     "metadata": {},
     "output_type": "execute_result"
    }
   ],
   "source": [
    "broadcast_preds = batch_pred.unsqueeze(1).repeat(1,24,1,1,1)\n",
    "\n",
    "batch_mins, _ = torch.min(torch.mean(F.binary_cross_entropy_with_logits(broadcast_preds, batch_perm_targets_ten, reduction = 'none'), dim = (2,3,4)), dim = 1)\n",
    "bce = torch.mean(batch_mins)\n",
    "\n",
    "bce\n",
    "\n",
    "batch_pred = F.sigmoid(batch_pred)    \n",
    "smooth = 1\n",
    "\n",
    "# intersection = (broadcast_preds_ten*perm_targets_ten).sum(dim=2).sum(dim=2)\n",
    "# loss = (1 - ((2. * intersection + smooth) / (broadcast_preds_ten.sum(dim=2).sum(dim=2) + perm_targets_ten.sum(dim=2).sum(dim=2) + smooth)))\n",
    "# dice = torch.min(torch.mean(loss, dim = 1))"
   ]
  },
  {
   "cell_type": "code",
   "execution_count": 169,
   "metadata": {},
   "outputs": [
    {
     "data": {
      "text/plain": [
       "(1, 24, 4, 4, 214, 214)"
      ]
     },
     "execution_count": 169,
     "metadata": {},
     "output_type": "execute_result"
    }
   ],
   "source": [
    "np.array([[np.random.randint(0,2,(num_batches, 4,214,214))[np.array(x), :, :] for x in itertools.permutations([0,1,2,3])]]).shape"
   ]
  },
  {
   "cell_type": "code",
   "execution_count": 159,
   "metadata": {},
   "outputs": [
    {
     "data": {
      "text/plain": [
       "defaultdict(float, {})"
      ]
     },
     "execution_count": 159,
     "metadata": {},
     "output_type": "execute_result"
    }
   ],
   "source": [
    "from collections import defaultdict\n",
    "defaultdict(float)"
   ]
  },
  {
   "cell_type": "code",
   "execution_count": 146,
   "metadata": {},
   "outputs": [],
   "source": [
    "pred_ten = torch.tensor(pred).type(torch.DoubleTensor)"
   ]
  },
  {
   "cell_type": "code",
   "execution_count": 151,
   "metadata": {},
   "outputs": [],
   "source": [
    "broadcast_preds_ten = pred_ten.unsqueeze(0).repeat(24,1,1,1)"
   ]
  },
  {
   "cell_type": "code",
   "execution_count": 155,
   "metadata": {},
   "outputs": [
    {
     "name": "stdout",
     "output_type": "stream",
     "text": [
      "tensor(True)\n",
      "tensor(True)\n",
      "tensor(True)\n",
      "tensor(True)\n",
      "tensor(True)\n",
      "tensor(True)\n",
      "tensor(True)\n",
      "tensor(True)\n",
      "tensor(True)\n",
      "tensor(True)\n",
      "tensor(True)\n",
      "tensor(True)\n",
      "tensor(True)\n",
      "tensor(True)\n",
      "tensor(True)\n",
      "tensor(True)\n",
      "tensor(True)\n",
      "tensor(True)\n",
      "tensor(True)\n",
      "tensor(True)\n",
      "tensor(True)\n",
      "tensor(True)\n",
      "tensor(True)\n",
      "tensor(True)\n"
     ]
    }
   ],
   "source": []
  },
  {
   "cell_type": "code",
   "execution_count": null,
   "metadata": {},
   "outputs": [],
   "source": []
  },
  {
   "cell_type": "code",
   "execution_count": null,
   "metadata": {},
   "outputs": [],
   "source": []
  },
  {
   "cell_type": "code",
   "execution_count": null,
   "metadata": {},
   "outputs": [],
   "source": []
  },
  {
   "cell_type": "code",
   "execution_count": 125,
   "metadata": {},
   "outputs": [
    {
     "data": {
      "text/plain": [
       "torch.Size([24, 4])"
      ]
     },
     "execution_count": 125,
     "metadata": {},
     "output_type": "execute_result"
    }
   ],
   "source": [
    "broadcast_preds_ten.sum(dim=2).sum(dim=2).shape"
   ]
  },
  {
   "cell_type": "code",
   "execution_count": 126,
   "metadata": {},
   "outputs": [
    {
     "data": {
      "text/plain": [
       "torch.Size([24, 4, 214, 214])"
      ]
     },
     "execution_count": 126,
     "metadata": {},
     "output_type": "execute_result"
    }
   ],
   "source": [
    "broadcast_preds_ten.shape"
   ]
  },
  {
   "cell_type": "code",
   "execution_count": 127,
   "metadata": {},
   "outputs": [
    {
     "data": {
      "text/plain": [
       "torch.Size([24, 4, 214, 214])"
      ]
     },
     "execution_count": 127,
     "metadata": {},
     "output_type": "execute_result"
    }
   ],
   "source": [
    "intersection.shape"
   ]
  },
  {
   "cell_type": "code",
   "execution_count": null,
   "metadata": {},
   "outputs": [],
   "source": [
    "loss"
   ]
  },
  {
   "cell_type": "code",
   "execution_count": 75,
   "metadata": {},
   "outputs": [],
   "source": [
    "broadcast_preds = np.array([pred for _ in range(24)])"
   ]
  },
  {
   "cell_type": "code",
   "execution_count": 76,
   "metadata": {},
   "outputs": [
    {
     "data": {
      "text/plain": [
       "(24, 4, 214, 214)"
      ]
     },
     "execution_count": 76,
     "metadata": {},
     "output_type": "execute_result"
    }
   ],
   "source": [
    "broadcast_preds.shape"
   ]
  },
  {
   "cell_type": "code",
   "execution_count": 79,
   "metadata": {},
   "outputs": [
    {
     "data": {
      "text/plain": [
       "(24, 4, 214, 214)"
      ]
     },
     "execution_count": 79,
     "metadata": {},
     "output_type": "execute_result"
    }
   ],
   "source": [
    "perm_targets.shape"
   ]
  },
  {
   "cell_type": "code",
   "execution_count": 109,
   "metadata": {},
   "outputs": [
    {
     "data": {
      "text/plain": [
       "tensor(0.7338)"
      ]
     },
     "execution_count": 109,
     "metadata": {},
     "output_type": "execute_result"
    }
   ],
   "source": [
    "import torch\n",
    "import torch.nn.functional as F\n",
    "from Unet.loss import dice_loss\n",
    "\n",
    "unreduced_loss = F.binary_cross_entropy_with_logits(torch.tensor(pred).type(torch.DoubleTensor), torch.tensor(target).type(torch.float), reduction = 'none')\n",
    "torch.mean(unreduced_loss, dim = (0,1,2))\n"
   ]
  },
  {
   "cell_type": "code",
   "execution_count": 106,
   "metadata": {},
   "outputs": [
    {
     "data": {
      "text/plain": [
       "tensor(0.7338)"
      ]
     },
     "execution_count": 106,
     "metadata": {},
     "output_type": "execute_result"
    }
   ],
   "source": [
    "F.binary_cross_entropy_with_logits(torch.tensor(pred).type(torch.DoubleTensor), torch.tensor(target).type(torch.float), reduction = 'mean')"
   ]
  },
  {
   "cell_type": "code",
   "execution_count": 100,
   "metadata": {
    "collapsed": true
   },
   "outputs": [
    {
     "data": {
      "text/plain": [
       "tensor([[[1, 0, 0,  ..., 0, 0, 0],\n",
       "         [0, 0, 0,  ..., 1, 1, 0],\n",
       "         [1, 0, 0,  ..., 1, 0, 1],\n",
       "         ...,\n",
       "         [1, 0, 0,  ..., 1, 1, 0],\n",
       "         [0, 0, 1,  ..., 0, 1, 1],\n",
       "         [1, 1, 1,  ..., 0, 1, 1]],\n",
       "\n",
       "        [[0, 0, 0,  ..., 0, 0, 0],\n",
       "         [1, 1, 1,  ..., 0, 1, 0],\n",
       "         [1, 0, 0,  ..., 1, 1, 1],\n",
       "         ...,\n",
       "         [1, 0, 1,  ..., 1, 0, 0],\n",
       "         [0, 0, 0,  ..., 1, 0, 1],\n",
       "         [1, 0, 1,  ..., 1, 1, 1]],\n",
       "\n",
       "        [[0, 1, 0,  ..., 1, 1, 0],\n",
       "         [1, 0, 1,  ..., 0, 0, 0],\n",
       "         [1, 0, 0,  ..., 1, 0, 1],\n",
       "         ...,\n",
       "         [1, 0, 0,  ..., 1, 1, 0],\n",
       "         [1, 1, 1,  ..., 1, 0, 1],\n",
       "         [0, 0, 0,  ..., 1, 0, 1]],\n",
       "\n",
       "        [[1, 1, 1,  ..., 1, 1, 0],\n",
       "         [0, 1, 1,  ..., 0, 1, 1],\n",
       "         [1, 1, 0,  ..., 1, 1, 1],\n",
       "         ...,\n",
       "         [1, 1, 1,  ..., 0, 1, 0],\n",
       "         [1, 0, 1,  ..., 0, 1, 0],\n",
       "         [0, 1, 0,  ..., 0, 1, 1]]], dtype=torch.int32)"
      ]
     },
     "execution_count": 100,
     "metadata": {},
     "output_type": "execute_result"
    }
   ],
   "source": [
    "torch.tensor(target).type(torch.int)"
   ]
  },
  {
   "cell_type": "code",
   "execution_count": 99,
   "metadata": {
    "collapsed": true
   },
   "outputs": [
    {
     "data": {
      "text/plain": [
       "tensor([[[1.7174e-02, 9.4924e-01, 2.8111e-01,  ..., 4.6864e-02,\n",
       "          6.6449e-01, 1.0025e-01],\n",
       "         [6.0906e-01, 7.2659e-01, 5.8833e-01,  ..., 4.2880e-01,\n",
       "          8.3214e-01, 8.9257e-01],\n",
       "         [8.9081e-01, 4.7198e-01, 3.2546e-02,  ..., 9.7560e-01,\n",
       "          8.5477e-01, 4.0709e-01],\n",
       "         ...,\n",
       "         [8.7397e-02, 2.3085e-01, 8.3511e-01,  ..., 7.5738e-01,\n",
       "          7.3927e-01, 8.7057e-01],\n",
       "         [4.1357e-01, 2.0404e-01, 7.4593e-01,  ..., 2.5145e-01,\n",
       "          6.3137e-01, 5.5587e-01],\n",
       "         [4.1039e-01, 1.3681e-01, 7.7471e-05,  ..., 3.0337e-01,\n",
       "          9.2200e-01, 2.1884e-01]],\n",
       "\n",
       "        [[6.7311e-01, 8.3811e-01, 9.0856e-01,  ..., 3.4986e-02,\n",
       "          6.2916e-01, 4.3828e-01],\n",
       "         [7.8609e-01, 3.4771e-02, 1.9450e-01,  ..., 8.6038e-02,\n",
       "          6.1469e-02, 9.2251e-02],\n",
       "         [1.9180e-02, 3.9999e-01, 9.0191e-01,  ..., 3.8970e-01,\n",
       "          5.6312e-01, 9.5934e-01],\n",
       "         ...,\n",
       "         [7.6972e-01, 6.7038e-01, 6.5055e-01,  ..., 4.2093e-01,\n",
       "          1.2084e-01, 9.7818e-01],\n",
       "         [6.9807e-01, 3.8433e-01, 9.6545e-01,  ..., 4.4648e-01,\n",
       "          7.1210e-01, 5.8454e-01],\n",
       "         [1.3033e-01, 2.9507e-01, 3.5808e-01,  ..., 3.3810e-01,\n",
       "          5.8736e-01, 1.8107e-01]],\n",
       "\n",
       "        [[5.0761e-01, 8.5969e-01, 1.8847e-01,  ..., 9.0722e-01,\n",
       "          3.7021e-01, 3.5854e-01],\n",
       "         [4.5397e-01, 3.0917e-01, 1.6024e-01,  ..., 2.2494e-01,\n",
       "          9.0216e-01, 3.7162e-01],\n",
       "         [5.3615e-01, 9.8910e-01, 2.4370e-01,  ..., 9.4503e-02,\n",
       "          5.2304e-01, 6.8214e-01],\n",
       "         ...,\n",
       "         [7.9288e-01, 4.4992e-01, 2.3852e-01,  ..., 1.3256e-01,\n",
       "          7.2216e-01, 2.5475e-01],\n",
       "         [7.8732e-01, 9.5442e-01, 2.5761e-01,  ..., 3.7528e-01,\n",
       "          9.3009e-01, 8.1524e-01],\n",
       "         [6.2088e-01, 9.5192e-01, 1.0983e-01,  ..., 9.3403e-01,\n",
       "          1.4623e-01, 3.0369e-01]],\n",
       "\n",
       "        [[8.0603e-01, 8.5853e-01, 2.4529e-01,  ..., 8.7922e-01,\n",
       "          9.5985e-02, 4.7656e-02],\n",
       "         [1.9110e-01, 6.1126e-01, 8.7451e-01,  ..., 7.0572e-01,\n",
       "          6.4973e-02, 4.3712e-01],\n",
       "         [9.0105e-01, 9.5341e-01, 9.2953e-01,  ..., 6.1548e-01,\n",
       "          5.8864e-01, 2.9361e-01],\n",
       "         ...,\n",
       "         [8.1641e-01, 2.8038e-01, 3.2772e-01,  ..., 3.3756e-01,\n",
       "          9.9602e-01, 7.2493e-01],\n",
       "         [8.4083e-01, 9.4901e-01, 2.8596e-01,  ..., 1.3277e-01,\n",
       "          2.0655e-01, 1.8236e-01],\n",
       "         [1.1075e-01, 3.5402e-01, 9.5509e-01,  ..., 3.2648e-01,\n",
       "          8.4174e-01, 2.2809e-01]]], dtype=torch.float64)"
      ]
     },
     "execution_count": 99,
     "metadata": {},
     "output_type": "execute_result"
    }
   ],
   "source": [
    "torch.tensor(pred).type(torch.DoubleTensor)"
   ]
  },
  {
   "cell_type": "code",
   "execution_count": 112,
   "metadata": {},
   "outputs": [
    {
     "data": {
      "text/plain": [
       "tensor(0.7339)"
      ]
     },
     "execution_count": 112,
     "metadata": {},
     "output_type": "execute_result"
    }
   ],
   "source": [
    "torch.min(torch.mean(F.binary_cross_entropy_with_logits(torch.tensor(broadcast_preds).type(torch.DoubleTensor), torch.tensor(perm_targets).type(torch.float), reduction = 'none'), dim = (1,2,3)))"
   ]
  },
  {
   "cell_type": "code",
   "execution_count": null,
   "metadata": {},
   "outputs": [],
   "source": [
    "def calc_loss(pred, target, metrics, bce_weight=0.5):\n",
    "    bce = F.binary_cross_entropy_with_logits(pred, target)\n",
    "\n",
    "    pred = F.sigmoid(pred)\n",
    "    dice = dice_loss(pred, target)\n",
    "\n",
    "    loss = bce * bce_weight + dice * (1 - bce_weight)\n",
    "\n",
    "    metrics['bce'] += bce.data.cpu().numpy() * target.size(0)\n",
    "    metrics['dice'] += dice.data.cpu().numpy() * target.size(0)\n",
    "    metrics['loss'] += loss.data.cpu().numpy() * target.size(0)"
   ]
  },
  {
   "cell_type": "code",
   "execution_count": 117,
   "metadata": {},
   "outputs": [
    {
     "ename": "TypeError",
     "evalue": "_sum() got an unexpected keyword argument 'dim'",
     "output_type": "error",
     "traceback": [
      "\u001b[1;31m---------------------------------------------------------------------------\u001b[0m",
      "\u001b[1;31mTypeError\u001b[0m                                 Traceback (most recent call last)",
      "\u001b[1;32m<ipython-input-117-b457257ae151>\u001b[0m in \u001b[0;36m<module>\u001b[1;34m\u001b[0m\n\u001b[0;32m      1\u001b[0m \u001b[0msmooth\u001b[0m \u001b[1;33m=\u001b[0m \u001b[1;36m1\u001b[0m\u001b[1;33m\u001b[0m\u001b[1;33m\u001b[0m\u001b[0m\n\u001b[0;32m      2\u001b[0m \u001b[0mintersection\u001b[0m \u001b[1;33m=\u001b[0m \u001b[1;33m(\u001b[0m\u001b[0mtorch\u001b[0m\u001b[1;33m.\u001b[0m\u001b[0mtensor\u001b[0m\u001b[1;33m(\u001b[0m\u001b[0mbroadcast_preds\u001b[0m\u001b[1;33m)\u001b[0m\u001b[1;33m.\u001b[0m\u001b[0mtype\u001b[0m\u001b[1;33m(\u001b[0m\u001b[0mtorch\u001b[0m\u001b[1;33m.\u001b[0m\u001b[0mDoubleTensor\u001b[0m\u001b[1;33m)\u001b[0m\u001b[1;33m*\u001b[0m\u001b[0mtorch\u001b[0m\u001b[1;33m.\u001b[0m\u001b[0mtensor\u001b[0m\u001b[1;33m(\u001b[0m\u001b[0mperm_targets\u001b[0m\u001b[1;33m)\u001b[0m\u001b[1;33m.\u001b[0m\u001b[0mtype\u001b[0m\u001b[1;33m(\u001b[0m\u001b[0mtorch\u001b[0m\u001b[1;33m.\u001b[0m\u001b[0mfloat\u001b[0m\u001b[1;33m)\u001b[0m\u001b[1;33m)\u001b[0m\u001b[1;33m\u001b[0m\u001b[1;33m\u001b[0m\u001b[0m\n\u001b[1;32m----> 3\u001b[1;33m \u001b[0mloss\u001b[0m \u001b[1;33m=\u001b[0m \u001b[1;33m(\u001b[0m\u001b[1;36m1\u001b[0m \u001b[1;33m-\u001b[0m \u001b[1;33m(\u001b[0m\u001b[1;33m(\u001b[0m\u001b[1;36m2.\u001b[0m \u001b[1;33m*\u001b[0m \u001b[0mintersection\u001b[0m \u001b[1;33m+\u001b[0m \u001b[0msmooth\u001b[0m\u001b[1;33m)\u001b[0m \u001b[1;33m/\u001b[0m \u001b[1;33m(\u001b[0m\u001b[0mpred\u001b[0m\u001b[1;33m.\u001b[0m\u001b[0msum\u001b[0m\u001b[1;33m(\u001b[0m\u001b[0mdim\u001b[0m\u001b[1;33m=\u001b[0m\u001b[1;36m3\u001b[0m\u001b[1;33m)\u001b[0m\u001b[1;33m.\u001b[0m\u001b[0msum\u001b[0m\u001b[1;33m(\u001b[0m\u001b[0mdim\u001b[0m\u001b[1;33m=\u001b[0m\u001b[1;36m3\u001b[0m\u001b[1;33m)\u001b[0m \u001b[1;33m+\u001b[0m \u001b[0mtarget\u001b[0m\u001b[1;33m.\u001b[0m\u001b[0msum\u001b[0m\u001b[1;33m(\u001b[0m\u001b[0mdim\u001b[0m\u001b[1;33m=\u001b[0m\u001b[1;36m3\u001b[0m\u001b[1;33m)\u001b[0m\u001b[1;33m.\u001b[0m\u001b[0msum\u001b[0m\u001b[1;33m(\u001b[0m\u001b[0mdim\u001b[0m\u001b[1;33m=\u001b[0m\u001b[1;36m2\u001b[0m\u001b[1;33m)\u001b[0m \u001b[1;33m+\u001b[0m \u001b[0msmooth\u001b[0m\u001b[1;33m)\u001b[0m\u001b[1;33m)\u001b[0m\u001b[1;33m)\u001b[0m\u001b[1;33m\u001b[0m\u001b[1;33m\u001b[0m\u001b[0m\n\u001b[0m",
      "\u001b[1;31mTypeError\u001b[0m: _sum() got an unexpected keyword argument 'dim'"
     ]
    }
   ],
   "source": [
    "smooth = 1\n",
    "intersection = (torch.tensor(broadcast_preds).type(torch.DoubleTensor)*torch.tensor(perm_targets).type(torch.float)).sum(dim=2).sum(dim=2)\n",
    "loss = (1 - ((2. * intersection + smooth) / (pred.sum(dim=2).sum(dim=2) + target.sum(dim=2).sum(dim=2) + smooth)))"
   ]
  },
  {
   "cell_type": "code",
   "execution_count": null,
   "metadata": {},
   "outputs": [],
   "source": [
    "def dice_loss(pred, target, smooth = 1.):\n",
    "    pred = pred.contiguous()\n",
    "    target = target.contiguous()    \n",
    "\n",
    "    intersection = (pred * target).sum(dim=2).sum(dim=2)\n",
    "    \n",
    "    loss = (1 - ((2. * intersection + smooth) / (pred.sum(dim=2).sum(dim=2) + target.sum(dim=2).sum(dim=2) + smooth)))\n",
    "    \n",
    "    return loss.mean()"
   ]
  }
 ],
 "metadata": {
  "kernelspec": {
   "display_name": "Python 3",
   "language": "python",
   "name": "python3"
  },
  "language_info": {
   "codemirror_mode": {
    "name": "ipython",
    "version": 3
   },
   "file_extension": ".py",
   "mimetype": "text/x-python",
   "name": "python",
   "nbconvert_exporter": "python",
   "pygments_lexer": "ipython3",
   "version": "3.7.4"
  }
 },
 "nbformat": 4,
 "nbformat_minor": 2
}
